{
 "cells": [
  {
   "cell_type": "code",
   "execution_count": null,
   "id": "4557af37-e3fb-4f56-98c7-dd6d6ea4e233",
   "metadata": {},
   "outputs": [],
   "source": [
    "import seml"
   ]
  },
  {
   "cell_type": "code",
   "execution_count": null,
   "id": "ff04d1e5-4836-47a4-9990-01ddb4cc7709",
   "metadata": {},
   "outputs": [],
   "source": []
  }
 ],
 "metadata": {
  "kernelspec": {
   "display_name": "Python 3 (ipykernel)",
   "language": "python",
   "name": "python3"
  },
  "language_info": {
   "name": ""
  }
 },
 "nbformat": 4,
 "nbformat_minor": 5
}
