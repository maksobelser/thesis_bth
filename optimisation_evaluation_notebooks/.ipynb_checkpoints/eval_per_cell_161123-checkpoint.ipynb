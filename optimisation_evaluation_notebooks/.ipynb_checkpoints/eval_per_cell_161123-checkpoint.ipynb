{
 "cells": [
  {
   "cell_type": "code",
   "execution_count": null,
   "id": "739aa990-19a8-44bf-89b3-1ee3cfbf1d9f",
   "metadata": {},
   "outputs": [],
   "source": [
    "per_cell_"
   ]
  }
 ],
 "metadata": {
  "kernelspec": {
   "display_name": "Python 3 (ipykernel)",
   "language": "python",
   "name": "python3"
  },
  "language_info": {
   "name": ""
  }
 },
 "nbformat": 4,
 "nbformat_minor": 5
}
