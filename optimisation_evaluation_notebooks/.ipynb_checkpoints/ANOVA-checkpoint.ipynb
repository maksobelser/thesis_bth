{
 "cells": [
  {
   "cell_type": "code",
   "execution_count": null,
   "id": "920ad0d1-eeab-44af-99d6-2141dd18408c",
   "metadata": {
    "tags": []
   },
   "outputs": [],
   "source": [
    "import pandas as pd\n",
    "import numpy as np"
   ]
  },
  {
   "cell_type": "code",
   "execution_count": null,
   "id": "375e0399-7093-4303-9646-f500e8d50edd",
   "metadata": {
    "tags": []
   },
   "outputs": [],
   "source": [
    "top_performers_for_anova = {'result.r2_dbdb_healthy': {'extra_mouse_chem.h5ad': np.array([0.99455716, 0.99429556, 0.99526207]),\n",
    "  'extra_mouse_Embryonic.h5ad': np.array([0.99361177, 0.99383294, 0.99234884]),\n",
    "  'extra_mouse_T1D.h5ad': np.array([0.99492497, 0.99438503, 0.99360362]),\n",
    "  'extra_mouse_young.h5ad': np.array([0.99491306, 0.99212912, 0.99319578]),\n",
    "  'train_adata_baseline_top3000hvg.h5ad': np.array([0.99251673, 0.99331499, 0.99361177, 0.99383294, 0.99234884])},\n",
    " 'result.r2_dbdb_OOD': {'extra_mouse_chem.h5ad': np.array([0.86194461]),\n",
    "  'extra_mouse_Embryonic.h5ad': np.array([0.77028542, 0.77413606, 0.78884885]),\n",
    "  'extra_mouse_T1D.h5ad': np.array([0.85437402]),\n",
    "  'extra_mouse_young.h5ad': np.array([0.77155366, 0.77024666, 0.76926021]),\n",
    "  'train_adata_baseline_top3000hvg.h5ad': np.array([0.79873185, 0.79931434])},\n",
    " 'result.r2_mSTZ_healthy': {'extra_mouse_chem.h5ad': np.array([0.97355678]),\n",
    "  'extra_mouse_Embryonic.h5ad': np.array([0.98974275]),\n",
    "  'extra_mouse_T1D.h5ad': np.array([0.972287]),\n",
    "  'extra_mouse_young.h5ad': np.array([0.96677723, 0.96171342, 0.97228828]),\n",
    "  'train_adata_baseline_top3000hvg.h5ad': np.array([0.98974275])},\n",
    " 'result.r2_mSTZ_OOD': {'extra_mouse_chem.h5ad': np.array([0.8680649 , 0.94848754, 0.90506495]),\n",
    "  'extra_mouse_Embryonic.h5ad': np.array([0.86447686, 0.92092105, 0.87786575]),\n",
    "  'extra_mouse_T1D.h5ad': np.array([0.88246886]),\n",
    "  'extra_mouse_young.h5ad': np.array([0.87197639, 0.90344952, 0.90129425]),\n",
    "  'train_adata_baseline_top3000hvg.h5ad': np.array([0.91252919])}}"
   ]
  },
  {
   "cell_type": "code",
   "execution_count": null,
   "id": "40bf2a64-445a-4a2d-8360-408de5385807",
   "metadata": {
    "tags": []
   },
   "outputs": [],
   "source": [
    "# Step 2: Running ANOVA for each test dataset\n",
    "import statsmodels.api as sm\n",
    "from statsmodels.formula.api import ols\n",
    "from statsmodels.stats.multicomp import pairwise_tukeyhsd\n",
    "\n",
    "for column, performances in top_performers_for_anova.items():\n",
    "    try:\n",
    "        df_for_anova = pd.DataFrame([(k, v) for k, values in performances.items() for v in values], columns=[\"dataset_train\", column])\n",
    "\n",
    "        new_column_name = column.replace(\".\", \"_\")\n",
    "        df_for_anova = df_for_anova.rename(columns={column: new_column_name})\n",
    "\n",
    "        formula = f\"{new_column_name} ~ C(dataset_train)\"\n",
    "        model = ols(formula, data=df_for_anova).fit()\n",
    "        anova_table = sm.stats.anova_lm(model, typ=2)\n",
    "        \n",
    "        print(f\"ANOVA results for {new_column_name}:\\n\\n\", anova_table)\n",
    "        \n",
    "        # Tukey HSD\n",
    "        tukey_results = pairwise_tukeyhsd(df_for_anova[new_column_name], df_for_anova['dataset_train'])\n",
    "        print(\"\\nTukey HSD results:\\n\", tukey_results)\n",
    "        \n",
    "    except:\n",
    "        print(f\"Anova or Tukey HSD can't be performed for {new_column_name}\\n\\n\")\n",
    "        print(\"----------------------------------------------------------------------\")\n"
   ]
  },
  {
   "cell_type": "code",
   "execution_count": null,
   "id": "e04ddea7-863e-4a94-ae9d-82c679e663a8",
   "metadata": {},
   "outputs": [],
   "source": [
    "import matplotlib.pyplot as plt\n",
    "\n",
    "# Tukey HSD results for result_r2_dbdb_OOD\n",
    "comparisons = [\n",
    "    \"extra_mouse_Embryonic vs extra_mouse_T1D\", \n",
    "    \"extra_mouse_Embryonic vs extra_mouse_chem\",\n",
    "    \"extra_mouse_Embryonic vs extra_mouse_young\",\n",
    "    \"extra_mouse_Embryonic vs train_adata_baseline_top3000hvg\",\n",
    "    \"extra_mouse_T1D vs extra_mouse_chem\",\n",
    "    \"extra_mouse_T1D vs extra_mouse_young\",\n",
    "    \"extra_mouse_T1D vs train_adata_baseline_top3000hvg\",\n",
    "    \"extra_mouse_chem vs extra_mouse_young\",\n",
    "    \"extra_mouse_chem vs train_adata_baseline_top3000hvg\",\n",
    "    \"extra_mouse_young vs train_adata_baseline_top3000hvg\"\n",
    "]\n",
    "mean_diff = [0.0766, 0.0842, -0.0074, 0.0213, 0.0076, -0.084, -0.0554, -0.0916, -0.0629, 0.0287]\n",
    "reject = [True, True, False, False, False, True, True, True, True, True]\n",
    "\n",
    "plt.figure(figsize=(12,6))\n",
    "bars = plt.bar(comparisons, mean_diff, color=['red' if r else 'blue' for r in reject])\n",
    "plt.axhline(0, color='black',linewidth=0.5)\n",
    "plt.ylabel('Mean Difference')\n",
    "plt.title('Mean Difference with Tukey HSD results for result_r2_dbdb_OOD')\n",
    "plt.xticks(rotation=90)\n",
    "\n",
    "# Add asterisk for significant results\n",
    "for bar, r in zip(bars, reject):\n",
    "    if r:\n",
    "        plt.text(bar.get_x() + bar.get_width() / 2 - 0.15, bar.get_height(), '*', ha='center', color='black', fontsize=15)\n",
    "\n",
    "plt.tight_layout()\n",
    "plt.show()\n"
   ]
  }
 ],
 "metadata": {
  "kernelspec": {
   "display_name": "ANOVA env",
   "language": "python",
   "name": "anova"
  },
  "language_info": {
   "codemirror_mode": {
    "name": "ipython",
    "version": 3
   },
   "file_extension": ".py",
   "mimetype": "text/x-python",
   "name": "python",
   "nbconvert_exporter": "python",
   "pygments_lexer": "ipython3",
   "version": "3.10.13"
  }
 },
 "nbformat": 4,
 "nbformat_minor": 5
}
