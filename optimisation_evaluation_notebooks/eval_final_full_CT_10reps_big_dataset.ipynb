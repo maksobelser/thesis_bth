{
 "cells": [
  {
   "cell_type": "code",
   "execution_count": 1,
   "id": "4557af37-e3fb-4f56-98c7-dd6d6ea4e233",
   "metadata": {
    "tags": []
   },
   "outputs": [],
   "source": [
    "import seml"
   ]
  },
  {
   "cell_type": "code",
   "execution_count": 2,
   "id": "ff04d1e5-4836-47a4-9990-01ddb4cc7709",
   "metadata": {
    "tags": []
   },
   "outputs": [
    {
     "data": {
      "application/vnd.jupyter.widget-view+json": {
       "model_id": "a187ff53769d4c82b43e66d3623dc064",
       "version_major": 2,
       "version_minor": 0
      },
      "text/plain": [
       "  0%|          | 0/5 [00:00<?, ?it/s]"
      ]
     },
     "metadata": {},
     "output_type": "display_data"
    },
    {
     "data": {
      "application/vnd.jupyter.widget-view+json": {
       "model_id": "dd0cb0fa517b49c8ad5852d63b3e9937",
       "version_major": 2,
       "version_minor": 0
      },
      "text/plain": [
       "  0%|          | 0/5 [00:00<?, ?it/s]"
      ]
     },
     "metadata": {},
     "output_type": "display_data"
    }
   ],
   "source": [
    "results = seml.get_results('big_dataset_train_full_CT_10rep', to_data_frame=True)"
   ]
  },
  {
   "cell_type": "code",
   "execution_count": 7,
   "id": "646434f6-d518-42c9-b8f7-ad8f0650cbd7",
   "metadata": {
    "tags": []
   },
   "outputs": [
    {
     "data": {
      "text/plain": [
       "0    0.907848\n",
       "1    0.907396\n",
       "2    0.902149\n",
       "3    0.902510\n",
       "4    0.898431\n",
       "Name: result.r2_dbdb_OOD, dtype: float64"
      ]
     },
     "execution_count": 7,
     "metadata": {},
     "output_type": "execute_result"
    }
   ],
   "source": [
    "results[\"result.r2_dbdb_OOD\"]"
   ]
  },
  {
   "cell_type": "code",
   "execution_count": 8,
   "id": "bbf8e0ae-baa6-42f1-9f2d-fe212a342b74",
   "metadata": {
    "tags": []
   },
   "outputs": [
    {
     "data": {
      "text/plain": [
       "0    0.925417\n",
       "1    0.913003\n",
       "2    0.914307\n",
       "3    0.905883\n",
       "4    0.913785\n",
       "Name: result.r2_mSTZ_OOD, dtype: float64"
      ]
     },
     "execution_count": 8,
     "metadata": {},
     "output_type": "execute_result"
    }
   ],
   "source": [
    "results[\"result.r2_mSTZ_OOD\"]"
   ]
  },
  {
   "cell_type": "code",
   "execution_count": null,
   "id": "898a9e9c-27f0-4eb2-92e3-8dd266aec498",
   "metadata": {},
   "outputs": [],
   "source": []
  }
 ],
 "metadata": {
  "kernelspec": {
   "display_name": "Python 3 (ipykernel)",
   "language": "python",
   "name": "python3"
  },
  "language_info": {
   "codemirror_mode": {
    "name": "ipython",
    "version": 3
   },
   "file_extension": ".py",
   "mimetype": "text/x-python",
   "name": "python",
   "nbconvert_exporter": "python",
   "pygments_lexer": "ipython3",
   "version": "3.10.9"
  }
 },
 "nbformat": 4,
 "nbformat_minor": 5
}
