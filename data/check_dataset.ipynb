{
 "cells": [
  {
   "cell_type": "code",
   "execution_count": 1,
   "id": "1e5c36ac-db60-426e-9caf-085fb743b86a",
   "metadata": {
    "tags": []
   },
   "outputs": [],
   "source": [
    "import scanpy as sc\n",
    "import pandas as pd"
   ]
  },
  {
   "cell_type": "code",
   "execution_count": 12,
   "id": "372eac2d-aafa-4752-919c-de9f8dd052fb",
   "metadata": {
    "tags": []
   },
   "outputs": [],
   "source": [
    "wang = sc.read_h5ad(\"./wang_to_predict.h5ad\")"
   ]
  },
  {
   "cell_type": "code",
   "execution_count": 20,
   "id": "290da82e-5031-44e7-bee8-c20b56a94a55",
   "metadata": {
    "tags": []
   },
   "outputs": [
    {
     "data": {
      "text/plain": [
       "AnnData object with n_obs × n_vars = 77255 × 16173\n",
       "    obs: 'disease', 'cell_type', 'organism', 'dataset', 'n_counts'\n",
       "    uns: 'log1p'"
      ]
     },
     "execution_count": 20,
     "metadata": {},
     "output_type": "execute_result"
    }
   ],
   "source": [
    "wang"
   ]
  },
  {
   "cell_type": "code",
   "execution_count": null,
   "id": "3716cfbd-06f8-4916-a340-d436d57fe95f",
   "metadata": {},
   "outputs": [],
   "source": []
  }
 ],
 "metadata": {
  "kernelspec": {
   "display_name": "Python 3 (ipykernel)",
   "language": "python",
   "name": "python3"
  },
  "language_info": {
   "codemirror_mode": {
    "name": "ipython",
    "version": 3
   },
   "file_extension": ".py",
   "mimetype": "text/x-python",
   "name": "python",
   "nbconvert_exporter": "python",
   "pygments_lexer": "ipython3",
   "version": "3.10.9"
  }
 },
 "nbformat": 4,
 "nbformat_minor": 5
}
