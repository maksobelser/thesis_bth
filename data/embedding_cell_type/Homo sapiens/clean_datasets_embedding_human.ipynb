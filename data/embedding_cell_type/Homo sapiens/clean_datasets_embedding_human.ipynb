{
 "cells": [
  {
   "cell_type": "code",
   "execution_count": 36,
   "id": "07c6a124-7772-4477-b5ec-d3886aa206b0",
   "metadata": {
    "tags": []
   },
   "outputs": [],
   "source": [
    "import scanpy as sc\n",
    "import pandas as pd"
   ]
  },
  {
   "cell_type": "markdown",
   "id": "89d1c6b6-e2a3-4aec-8b47-13c8334a56ff",
   "metadata": {},
   "source": [
    "### split 30 HUMAN"
   ]
  },
  {
   "cell_type": "code",
   "execution_count": 7,
   "id": "45e2c9bc-cbb4-423a-b7c0-31535ab20b77",
   "metadata": {
    "tags": []
   },
   "outputs": [],
   "source": [
    "split = 30"
   ]
  },
  {
   "cell_type": "code",
   "execution_count": 8,
   "id": "20ec021c-b7fa-4380-a3a5-79e7260c9d95",
   "metadata": {
    "tags": []
   },
   "outputs": [],
   "source": [
    "adata = sc.read_h5ad(f\"homo_sapiens_census_top{split}_embedding.h5ad\")"
   ]
  },
  {
   "cell_type": "code",
   "execution_count": 9,
   "id": "21b19054-6f1c-4b6d-99ba-304caf7ef6b5",
   "metadata": {
    "tags": []
   },
   "outputs": [],
   "source": [
    "adata.obs = adata.obs[['dataset_id', 'cell_type', 'disease']]"
   ]
  },
  {
   "cell_type": "code",
   "execution_count": 10,
   "id": "33497415-d4b5-4ea6-a546-4779e9fdd265",
   "metadata": {
    "tags": []
   },
   "outputs": [],
   "source": [
    "adata.obs[\"organism\"] = \"Homo sapiens\""
   ]
  },
  {
   "cell_type": "code",
   "execution_count": 13,
   "id": "92577497-7553-4fa7-9151-fe4f903a069b",
   "metadata": {
    "tags": []
   },
   "outputs": [],
   "source": [
    "adata.obs.rename({\"dataset_id\":\"dataset\"}, axis = 1, inplace = True)"
   ]
  },
  {
   "cell_type": "code",
   "execution_count": 16,
   "id": "14902638-44f3-4084-901b-960ece2b44c3",
   "metadata": {
    "tags": []
   },
   "outputs": [
    {
     "data": {
      "text/html": [
       "<div>\n",
       "<style scoped>\n",
       "    .dataframe tbody tr th:only-of-type {\n",
       "        vertical-align: middle;\n",
       "    }\n",
       "\n",
       "    .dataframe tbody tr th {\n",
       "        vertical-align: top;\n",
       "    }\n",
       "\n",
       "    .dataframe thead th {\n",
       "        text-align: right;\n",
       "    }\n",
       "</style>\n",
       "<table border=\"1\" class=\"dataframe\">\n",
       "  <thead>\n",
       "    <tr style=\"text-align: right;\">\n",
       "      <th></th>\n",
       "      <th>soma_joinid</th>\n",
       "      <th>feature_id</th>\n",
       "      <th>feature_name</th>\n",
       "      <th>feature_length</th>\n",
       "    </tr>\n",
       "  </thead>\n",
       "  <tbody>\n",
       "    <tr>\n",
       "      <th>0</th>\n",
       "      <td>0</td>\n",
       "      <td>ENSG00000121410</td>\n",
       "      <td>A1BG</td>\n",
       "      <td>3999</td>\n",
       "    </tr>\n",
       "    <tr>\n",
       "      <th>1</th>\n",
       "      <td>1</td>\n",
       "      <td>ENSG00000268895</td>\n",
       "      <td>A1BG-AS1</td>\n",
       "      <td>3374</td>\n",
       "    </tr>\n",
       "    <tr>\n",
       "      <th>2</th>\n",
       "      <td>2</td>\n",
       "      <td>ENSG00000148584</td>\n",
       "      <td>A1CF</td>\n",
       "      <td>9603</td>\n",
       "    </tr>\n",
       "    <tr>\n",
       "      <th>3</th>\n",
       "      <td>3</td>\n",
       "      <td>ENSG00000175899</td>\n",
       "      <td>A2M</td>\n",
       "      <td>6318</td>\n",
       "    </tr>\n",
       "    <tr>\n",
       "      <th>4</th>\n",
       "      <td>4</td>\n",
       "      <td>ENSG00000245105</td>\n",
       "      <td>A2M-AS1</td>\n",
       "      <td>2948</td>\n",
       "    </tr>\n",
       "    <tr>\n",
       "      <th>...</th>\n",
       "      <td>...</td>\n",
       "      <td>...</td>\n",
       "      <td>...</td>\n",
       "      <td>...</td>\n",
       "    </tr>\n",
       "    <tr>\n",
       "      <th>60659</th>\n",
       "      <td>60659</td>\n",
       "      <td>ENSG00000288719</td>\n",
       "      <td>RP4-669P10.21</td>\n",
       "      <td>4252</td>\n",
       "    </tr>\n",
       "    <tr>\n",
       "      <th>60660</th>\n",
       "      <td>60660</td>\n",
       "      <td>ENSG00000288720</td>\n",
       "      <td>RP11-852E15.3</td>\n",
       "      <td>7007</td>\n",
       "    </tr>\n",
       "    <tr>\n",
       "      <th>60661</th>\n",
       "      <td>60661</td>\n",
       "      <td>ENSG00000288721</td>\n",
       "      <td>RP5-973N23.5</td>\n",
       "      <td>7765</td>\n",
       "    </tr>\n",
       "    <tr>\n",
       "      <th>60662</th>\n",
       "      <td>60662</td>\n",
       "      <td>ENSG00000288723</td>\n",
       "      <td>RP11-553N16.6</td>\n",
       "      <td>1015</td>\n",
       "    </tr>\n",
       "    <tr>\n",
       "      <th>60663</th>\n",
       "      <td>60663</td>\n",
       "      <td>ENSG00000288724</td>\n",
       "      <td>RP13-546I2.2</td>\n",
       "      <td>625</td>\n",
       "    </tr>\n",
       "  </tbody>\n",
       "</table>\n",
       "<p>60664 rows × 4 columns</p>\n",
       "</div>"
      ],
      "text/plain": [
       "       soma_joinid       feature_id   feature_name  feature_length\n",
       "0                0  ENSG00000121410           A1BG            3999\n",
       "1                1  ENSG00000268895       A1BG-AS1            3374\n",
       "2                2  ENSG00000148584           A1CF            9603\n",
       "3                3  ENSG00000175899            A2M            6318\n",
       "4                4  ENSG00000245105        A2M-AS1            2948\n",
       "...            ...              ...            ...             ...\n",
       "60659        60659  ENSG00000288719  RP4-669P10.21            4252\n",
       "60660        60660  ENSG00000288720  RP11-852E15.3            7007\n",
       "60661        60661  ENSG00000288721   RP5-973N23.5            7765\n",
       "60662        60662  ENSG00000288723  RP11-553N16.6            1015\n",
       "60663        60663  ENSG00000288724   RP13-546I2.2             625\n",
       "\n",
       "[60664 rows x 4 columns]"
      ]
     },
     "execution_count": 16,
     "metadata": {},
     "output_type": "execute_result"
    }
   ],
   "source": [
    "adata.var"
   ]
  },
  {
   "cell_type": "markdown",
   "id": "b8e1ec2a-7cd9-4a98-a5cf-16b333d71918",
   "metadata": {},
   "source": [
    "#### Getting orth"
   ]
  },
  {
   "cell_type": "code",
   "execution_count": 17,
   "id": "706da9f0-fc06-4e56-a186-7b30016bb93c",
   "metadata": {
    "tags": []
   },
   "outputs": [],
   "source": [
    "# Save to a .txt file\n",
    "with open(f\"genes/genes_in_the_dataset_top{split}_actual.txt\", \"w\") as file:\n",
    "    for item in adata.var.feature_id.to_list():\n",
    "        file.write(\"%s , \" % item)"
   ]
  },
  {
   "cell_type": "code",
   "execution_count": 38,
   "id": "0d52bcb5-b291-4839-b721-6656c025a53a",
   "metadata": {
    "tags": []
   },
   "outputs": [],
   "source": [
    "genes30 = pd.read_table(\"genes/genes_in_the_dataset_top30_orth.txt\")"
   ]
  },
  {
   "cell_type": "code",
   "execution_count": 39,
   "id": "bac0984d-cfdf-4236-9db1-05f399d2cd4b",
   "metadata": {
    "tags": []
   },
   "outputs": [
    {
     "data": {
      "text/plain": [
       "Index(['Gene stable ID', 'Mouse gene stable ID', 'Mouse homology type'], dtype='object')"
      ]
     },
     "execution_count": 39,
     "metadata": {},
     "output_type": "execute_result"
    }
   ],
   "source": [
    "genes30.columns"
   ]
  },
  {
   "cell_type": "code",
   "execution_count": 41,
   "id": "537b34b3-a25b-4146-8210-769e6c2b30de",
   "metadata": {
    "tags": []
   },
   "outputs": [
    {
     "data": {
      "text/plain": [
       "Index(['soma_joinid', 'feature_id', 'feature_name', 'feature_length'], dtype='object')"
      ]
     },
     "execution_count": 41,
     "metadata": {},
     "output_type": "execute_result"
    }
   ],
   "source": [
    "adata.var.columns"
   ]
  },
  {
   "cell_type": "code",
   "execution_count": 48,
   "id": "1311f9d4-138f-4fbb-8834-067a7376cf6b",
   "metadata": {
    "tags": []
   },
   "outputs": [],
   "source": [
    "adata.var.index = adata.var[\"feature_id\"]"
   ]
  },
  {
   "cell_type": "code",
   "execution_count": 49,
   "id": "fba186cf-cd42-4bfd-8af0-807a02b9ddd6",
   "metadata": {
    "tags": []
   },
   "outputs": [
    {
     "data": {
      "text/plain": [
       "0"
      ]
     },
     "execution_count": 49,
     "metadata": {},
     "output_type": "execute_result"
    }
   ],
   "source": [
    "sum(adata.var.index.duplicated())"
   ]
  },
  {
   "cell_type": "code",
   "execution_count": 51,
   "id": "5ee5badb-45b9-4775-bf7e-e71775f84d1f",
   "metadata": {
    "tags": []
   },
   "outputs": [
    {
     "data": {
      "text/plain": [
       "5950"
      ]
     },
     "execution_count": 51,
     "metadata": {},
     "output_type": "execute_result"
    }
   ],
   "source": [
    "sum(genes30['Gene stable ID'].duplicated())"
   ]
  },
  {
   "cell_type": "code",
   "execution_count": 55,
   "id": "cf757ed2-af51-48e7-800d-366a03233197",
   "metadata": {
    "tags": []
   },
   "outputs": [],
   "source": [
    "genes30_unique = genes30.drop_duplicates(subset='Gene stable ID', keep=False)"
   ]
  },
  {
   "cell_type": "code",
   "execution_count": 56,
   "id": "228ea8a3-dca1-4bb7-bd90-c97d9418c835",
   "metadata": {
    "tags": []
   },
   "outputs": [
    {
     "data": {
      "text/plain": [
       "0"
      ]
     },
     "execution_count": 56,
     "metadata": {},
     "output_type": "execute_result"
    }
   ],
   "source": [
    "sum(genes30_unique['Gene stable ID'].duplicated())"
   ]
  },
  {
   "cell_type": "code",
   "execution_count": 60,
   "id": "870c8fed-df74-4511-b11f-2af18ca2dc69",
   "metadata": {
    "tags": []
   },
   "outputs": [],
   "source": [
    "var = adata.var.merge(genes30_unique, left_index=True, right_on=\"Gene stable ID\", how = \"left\")\n",
    "var.index = var[\"feature_id\"]"
   ]
  },
  {
   "cell_type": "code",
   "execution_count": 61,
   "id": "7d30b7de-4276-44f2-af22-c06f6ecb8caf",
   "metadata": {
    "tags": []
   },
   "outputs": [],
   "source": [
    "adata.var = var"
   ]
  },
  {
   "cell_type": "code",
   "execution_count": 66,
   "id": "e931d672-fd85-41b8-aee4-50549527c622",
   "metadata": {
    "tags": []
   },
   "outputs": [],
   "source": [
    "adata = adata[:,adata.var[\"Mouse homology type\"] == \"ortholog_one2one\"]"
   ]
  },
  {
   "cell_type": "code",
   "execution_count": 69,
   "id": "e20f4837-7811-4c0d-89c9-bacaef847951",
   "metadata": {
    "tags": []
   },
   "outputs": [],
   "source": [
    "var = pd.DataFrame(index = adata.var[\"Mouse gene stable ID\"].rename(\"EID\"))"
   ]
  },
  {
   "cell_type": "code",
   "execution_count": 71,
   "id": "3ee0220e-bb53-4129-b5fc-4ab286beef20",
   "metadata": {
    "tags": []
   },
   "outputs": [],
   "source": [
    "adata.var = var"
   ]
  },
  {
   "cell_type": "code",
   "execution_count": 74,
   "id": "ff340ce9-a6db-4558-96f5-4f1975d7bda4",
   "metadata": {
    "tags": []
   },
   "outputs": [],
   "source": [
    "sc.pp.normalize_per_cell(adata)\n",
    "sc.pp.log1p(adata)"
   ]
  },
  {
   "cell_type": "code",
   "execution_count": 75,
   "id": "3ff72f27-3978-42ad-b752-ace34b4aa46d",
   "metadata": {
    "tags": []
   },
   "outputs": [],
   "source": [
    "adata.write_h5ad(f\"homo_sapiens_census_top{split}_embedding_norm_log1p_orth.h5ad\")"
   ]
  },
  {
   "cell_type": "code",
   "execution_count": null,
   "id": "1857d7c3-ca86-4e2d-a0ea-dc424fb4f4fa",
   "metadata": {},
   "outputs": [],
   "source": []
  },
  {
   "cell_type": "markdown",
   "id": "be45a31a-e9cf-4493-b412-73879492bd20",
   "metadata": {},
   "source": [
    "### split 50 HUMAN"
   ]
  },
  {
   "cell_type": "code",
   "execution_count": 76,
   "id": "59bedeac-3842-4a84-a6fb-50ff5dcd065c",
   "metadata": {
    "tags": []
   },
   "outputs": [],
   "source": [
    "split = 50"
   ]
  },
  {
   "cell_type": "code",
   "execution_count": 77,
   "id": "3657e447-14dd-479a-a399-f5ba15614bfc",
   "metadata": {
    "tags": []
   },
   "outputs": [],
   "source": [
    "adata = sc.read_h5ad(f\"homo_sapiens_census_top{split}_embedding.h5ad\")"
   ]
  },
  {
   "cell_type": "code",
   "execution_count": 78,
   "id": "2a777834-2d48-4e9c-993b-42cc7293b91b",
   "metadata": {
    "tags": []
   },
   "outputs": [],
   "source": [
    "adata.obs = adata.obs[['dataset_id', 'cell_type', 'disease']]"
   ]
  },
  {
   "cell_type": "code",
   "execution_count": 79,
   "id": "d4c456da-e29e-42eb-a7e5-3aaeaaa44b37",
   "metadata": {
    "tags": []
   },
   "outputs": [],
   "source": [
    "adata.obs[\"organism\"] = \"Homo sapiens\""
   ]
  },
  {
   "cell_type": "code",
   "execution_count": 80,
   "id": "bded6019-b71c-4545-91b5-ace8048587a8",
   "metadata": {
    "tags": []
   },
   "outputs": [],
   "source": [
    "adata.obs.rename({\"dataset_id\":\"dataset\"}, axis = 1, inplace = True)"
   ]
  },
  {
   "cell_type": "code",
   "execution_count": 81,
   "id": "fc033005-5f2e-4e4e-ade4-f21ecde9620d",
   "metadata": {
    "tags": []
   },
   "outputs": [
    {
     "data": {
      "text/html": [
       "<div>\n",
       "<style scoped>\n",
       "    .dataframe tbody tr th:only-of-type {\n",
       "        vertical-align: middle;\n",
       "    }\n",
       "\n",
       "    .dataframe tbody tr th {\n",
       "        vertical-align: top;\n",
       "    }\n",
       "\n",
       "    .dataframe thead th {\n",
       "        text-align: right;\n",
       "    }\n",
       "</style>\n",
       "<table border=\"1\" class=\"dataframe\">\n",
       "  <thead>\n",
       "    <tr style=\"text-align: right;\">\n",
       "      <th></th>\n",
       "      <th>dataset</th>\n",
       "      <th>cell_type</th>\n",
       "      <th>disease</th>\n",
       "      <th>organism</th>\n",
       "    </tr>\n",
       "  </thead>\n",
       "  <tbody>\n",
       "    <tr>\n",
       "      <th>0</th>\n",
       "      <td>74cff64f-9da9-4b2a-9b3b-8a04a1598040</td>\n",
       "      <td>uterine smooth muscle cell</td>\n",
       "      <td>normal</td>\n",
       "      <td>Homo sapiens</td>\n",
       "    </tr>\n",
       "    <tr>\n",
       "      <th>1</th>\n",
       "      <td>74cff64f-9da9-4b2a-9b3b-8a04a1598040</td>\n",
       "      <td>uterine smooth muscle cell</td>\n",
       "      <td>normal</td>\n",
       "      <td>Homo sapiens</td>\n",
       "    </tr>\n",
       "    <tr>\n",
       "      <th>2</th>\n",
       "      <td>74cff64f-9da9-4b2a-9b3b-8a04a1598040</td>\n",
       "      <td>embryonic fibroblast</td>\n",
       "      <td>normal</td>\n",
       "      <td>Homo sapiens</td>\n",
       "    </tr>\n",
       "    <tr>\n",
       "      <th>3</th>\n",
       "      <td>74cff64f-9da9-4b2a-9b3b-8a04a1598040</td>\n",
       "      <td>epithelial cell</td>\n",
       "      <td>normal</td>\n",
       "      <td>Homo sapiens</td>\n",
       "    </tr>\n",
       "    <tr>\n",
       "      <th>4</th>\n",
       "      <td>74cff64f-9da9-4b2a-9b3b-8a04a1598040</td>\n",
       "      <td>epithelial cell</td>\n",
       "      <td>normal</td>\n",
       "      <td>Homo sapiens</td>\n",
       "    </tr>\n",
       "    <tr>\n",
       "      <th>...</th>\n",
       "      <td>...</td>\n",
       "      <td>...</td>\n",
       "      <td>...</td>\n",
       "      <td>...</td>\n",
       "    </tr>\n",
       "    <tr>\n",
       "      <th>308299</th>\n",
       "      <td>8c42cfd0-0b0a-46d5-910c-fc833d83c45e</td>\n",
       "      <td>bronchial smooth muscle cell</td>\n",
       "      <td>normal</td>\n",
       "      <td>Homo sapiens</td>\n",
       "    </tr>\n",
       "    <tr>\n",
       "      <th>308300</th>\n",
       "      <td>8c42cfd0-0b0a-46d5-910c-fc833d83c45e</td>\n",
       "      <td>bronchial smooth muscle cell</td>\n",
       "      <td>normal</td>\n",
       "      <td>Homo sapiens</td>\n",
       "    </tr>\n",
       "    <tr>\n",
       "      <th>308301</th>\n",
       "      <td>8c42cfd0-0b0a-46d5-910c-fc833d83c45e</td>\n",
       "      <td>bronchial smooth muscle cell</td>\n",
       "      <td>normal</td>\n",
       "      <td>Homo sapiens</td>\n",
       "    </tr>\n",
       "    <tr>\n",
       "      <th>308302</th>\n",
       "      <td>8c42cfd0-0b0a-46d5-910c-fc833d83c45e</td>\n",
       "      <td>bronchial smooth muscle cell</td>\n",
       "      <td>normal</td>\n",
       "      <td>Homo sapiens</td>\n",
       "    </tr>\n",
       "    <tr>\n",
       "      <th>308303</th>\n",
       "      <td>8c42cfd0-0b0a-46d5-910c-fc833d83c45e</td>\n",
       "      <td>bronchial smooth muscle cell</td>\n",
       "      <td>normal</td>\n",
       "      <td>Homo sapiens</td>\n",
       "    </tr>\n",
       "  </tbody>\n",
       "</table>\n",
       "<p>308304 rows × 4 columns</p>\n",
       "</div>"
      ],
      "text/plain": [
       "                                     dataset                     cell_type  \\\n",
       "0       74cff64f-9da9-4b2a-9b3b-8a04a1598040    uterine smooth muscle cell   \n",
       "1       74cff64f-9da9-4b2a-9b3b-8a04a1598040    uterine smooth muscle cell   \n",
       "2       74cff64f-9da9-4b2a-9b3b-8a04a1598040          embryonic fibroblast   \n",
       "3       74cff64f-9da9-4b2a-9b3b-8a04a1598040               epithelial cell   \n",
       "4       74cff64f-9da9-4b2a-9b3b-8a04a1598040               epithelial cell   \n",
       "...                                      ...                           ...   \n",
       "308299  8c42cfd0-0b0a-46d5-910c-fc833d83c45e  bronchial smooth muscle cell   \n",
       "308300  8c42cfd0-0b0a-46d5-910c-fc833d83c45e  bronchial smooth muscle cell   \n",
       "308301  8c42cfd0-0b0a-46d5-910c-fc833d83c45e  bronchial smooth muscle cell   \n",
       "308302  8c42cfd0-0b0a-46d5-910c-fc833d83c45e  bronchial smooth muscle cell   \n",
       "308303  8c42cfd0-0b0a-46d5-910c-fc833d83c45e  bronchial smooth muscle cell   \n",
       "\n",
       "       disease      organism  \n",
       "0       normal  Homo sapiens  \n",
       "1       normal  Homo sapiens  \n",
       "2       normal  Homo sapiens  \n",
       "3       normal  Homo sapiens  \n",
       "4       normal  Homo sapiens  \n",
       "...        ...           ...  \n",
       "308299  normal  Homo sapiens  \n",
       "308300  normal  Homo sapiens  \n",
       "308301  normal  Homo sapiens  \n",
       "308302  normal  Homo sapiens  \n",
       "308303  normal  Homo sapiens  \n",
       "\n",
       "[308304 rows x 4 columns]"
      ]
     },
     "execution_count": 81,
     "metadata": {},
     "output_type": "execute_result"
    }
   ],
   "source": [
    "adata.obs"
   ]
  },
  {
   "cell_type": "code",
   "execution_count": 82,
   "id": "1de939bf-f480-4a49-9d8b-61384a220322",
   "metadata": {
    "tags": []
   },
   "outputs": [
    {
     "data": {
      "text/html": [
       "<div>\n",
       "<style scoped>\n",
       "    .dataframe tbody tr th:only-of-type {\n",
       "        vertical-align: middle;\n",
       "    }\n",
       "\n",
       "    .dataframe tbody tr th {\n",
       "        vertical-align: top;\n",
       "    }\n",
       "\n",
       "    .dataframe thead th {\n",
       "        text-align: right;\n",
       "    }\n",
       "</style>\n",
       "<table border=\"1\" class=\"dataframe\">\n",
       "  <thead>\n",
       "    <tr style=\"text-align: right;\">\n",
       "      <th></th>\n",
       "      <th>soma_joinid</th>\n",
       "      <th>feature_id</th>\n",
       "      <th>feature_name</th>\n",
       "      <th>feature_length</th>\n",
       "    </tr>\n",
       "  </thead>\n",
       "  <tbody>\n",
       "    <tr>\n",
       "      <th>0</th>\n",
       "      <td>0</td>\n",
       "      <td>ENSG00000121410</td>\n",
       "      <td>A1BG</td>\n",
       "      <td>3999</td>\n",
       "    </tr>\n",
       "    <tr>\n",
       "      <th>1</th>\n",
       "      <td>1</td>\n",
       "      <td>ENSG00000268895</td>\n",
       "      <td>A1BG-AS1</td>\n",
       "      <td>3374</td>\n",
       "    </tr>\n",
       "    <tr>\n",
       "      <th>2</th>\n",
       "      <td>2</td>\n",
       "      <td>ENSG00000148584</td>\n",
       "      <td>A1CF</td>\n",
       "      <td>9603</td>\n",
       "    </tr>\n",
       "    <tr>\n",
       "      <th>3</th>\n",
       "      <td>3</td>\n",
       "      <td>ENSG00000175899</td>\n",
       "      <td>A2M</td>\n",
       "      <td>6318</td>\n",
       "    </tr>\n",
       "    <tr>\n",
       "      <th>4</th>\n",
       "      <td>4</td>\n",
       "      <td>ENSG00000245105</td>\n",
       "      <td>A2M-AS1</td>\n",
       "      <td>2948</td>\n",
       "    </tr>\n",
       "    <tr>\n",
       "      <th>...</th>\n",
       "      <td>...</td>\n",
       "      <td>...</td>\n",
       "      <td>...</td>\n",
       "      <td>...</td>\n",
       "    </tr>\n",
       "    <tr>\n",
       "      <th>60659</th>\n",
       "      <td>60659</td>\n",
       "      <td>ENSG00000288719</td>\n",
       "      <td>RP4-669P10.21</td>\n",
       "      <td>4252</td>\n",
       "    </tr>\n",
       "    <tr>\n",
       "      <th>60660</th>\n",
       "      <td>60660</td>\n",
       "      <td>ENSG00000288720</td>\n",
       "      <td>RP11-852E15.3</td>\n",
       "      <td>7007</td>\n",
       "    </tr>\n",
       "    <tr>\n",
       "      <th>60661</th>\n",
       "      <td>60661</td>\n",
       "      <td>ENSG00000288721</td>\n",
       "      <td>RP5-973N23.5</td>\n",
       "      <td>7765</td>\n",
       "    </tr>\n",
       "    <tr>\n",
       "      <th>60662</th>\n",
       "      <td>60662</td>\n",
       "      <td>ENSG00000288723</td>\n",
       "      <td>RP11-553N16.6</td>\n",
       "      <td>1015</td>\n",
       "    </tr>\n",
       "    <tr>\n",
       "      <th>60663</th>\n",
       "      <td>60663</td>\n",
       "      <td>ENSG00000288724</td>\n",
       "      <td>RP13-546I2.2</td>\n",
       "      <td>625</td>\n",
       "    </tr>\n",
       "  </tbody>\n",
       "</table>\n",
       "<p>60664 rows × 4 columns</p>\n",
       "</div>"
      ],
      "text/plain": [
       "       soma_joinid       feature_id   feature_name  feature_length\n",
       "0                0  ENSG00000121410           A1BG            3999\n",
       "1                1  ENSG00000268895       A1BG-AS1            3374\n",
       "2                2  ENSG00000148584           A1CF            9603\n",
       "3                3  ENSG00000175899            A2M            6318\n",
       "4                4  ENSG00000245105        A2M-AS1            2948\n",
       "...            ...              ...            ...             ...\n",
       "60659        60659  ENSG00000288719  RP4-669P10.21            4252\n",
       "60660        60660  ENSG00000288720  RP11-852E15.3            7007\n",
       "60661        60661  ENSG00000288721   RP5-973N23.5            7765\n",
       "60662        60662  ENSG00000288723  RP11-553N16.6            1015\n",
       "60663        60663  ENSG00000288724   RP13-546I2.2             625\n",
       "\n",
       "[60664 rows x 4 columns]"
      ]
     },
     "execution_count": 82,
     "metadata": {},
     "output_type": "execute_result"
    }
   ],
   "source": [
    "adata.var"
   ]
  },
  {
   "cell_type": "markdown",
   "id": "b64ebad1-5bfa-4fa9-aeb6-8b25c9114f76",
   "metadata": {},
   "source": [
    "#### Getting orth"
   ]
  },
  {
   "cell_type": "code",
   "execution_count": 83,
   "id": "a6ba6c7c-89a9-4481-b8dd-ed7f3af63f06",
   "metadata": {
    "tags": []
   },
   "outputs": [],
   "source": [
    "# Save to a .txt file\n",
    "with open(f\"genes/genes_in_the_dataset_top{split}_actual.txt\", \"w\") as file:\n",
    "    for item in adata.var.feature_id.to_list():\n",
    "        file.write(\"%s , \" % item)"
   ]
  },
  {
   "cell_type": "code",
   "execution_count": 84,
   "id": "e286f7cc-9fb2-4167-b865-ec405e9ed6be",
   "metadata": {
    "tags": []
   },
   "outputs": [],
   "source": [
    "genes = pd.read_table(f\"genes/genes_in_the_dataset_top{split}_orth.txt\")"
   ]
  },
  {
   "cell_type": "code",
   "execution_count": 85,
   "id": "a4a4d19e-276a-4c49-8a1e-e39b5b5b2b34",
   "metadata": {
    "tags": []
   },
   "outputs": [
    {
     "data": {
      "text/plain": [
       "Index(['Gene stable ID', 'Mouse gene stable ID', 'Mouse homology type'], dtype='object')"
      ]
     },
     "execution_count": 85,
     "metadata": {},
     "output_type": "execute_result"
    }
   ],
   "source": [
    "genes.columns"
   ]
  },
  {
   "cell_type": "code",
   "execution_count": 86,
   "id": "4a872483-c928-4f46-8619-e9f8300e8d59",
   "metadata": {
    "tags": []
   },
   "outputs": [
    {
     "data": {
      "text/plain": [
       "Index(['soma_joinid', 'feature_id', 'feature_name', 'feature_length'], dtype='object')"
      ]
     },
     "execution_count": 86,
     "metadata": {},
     "output_type": "execute_result"
    }
   ],
   "source": [
    "adata.var.columns"
   ]
  },
  {
   "cell_type": "code",
   "execution_count": 87,
   "id": "1f397085-bf29-4c98-a51b-569b33068cbf",
   "metadata": {
    "tags": []
   },
   "outputs": [],
   "source": [
    "adata.var.index = adata.var[\"feature_id\"]"
   ]
  },
  {
   "cell_type": "code",
   "execution_count": 88,
   "id": "a6bf06b9-1559-4670-8528-108bf6633ff5",
   "metadata": {
    "tags": []
   },
   "outputs": [
    {
     "data": {
      "text/plain": [
       "0"
      ]
     },
     "execution_count": 88,
     "metadata": {},
     "output_type": "execute_result"
    }
   ],
   "source": [
    "sum(adata.var.index.duplicated())"
   ]
  },
  {
   "cell_type": "code",
   "execution_count": 89,
   "id": "91cbf9d8-0bff-482e-b648-fbd43cb31e92",
   "metadata": {
    "tags": []
   },
   "outputs": [
    {
     "data": {
      "text/plain": [
       "5943"
      ]
     },
     "execution_count": 89,
     "metadata": {},
     "output_type": "execute_result"
    }
   ],
   "source": [
    "sum(genes['Gene stable ID'].duplicated())"
   ]
  },
  {
   "cell_type": "code",
   "execution_count": 90,
   "id": "c6f46012-9c92-4d26-8cd1-0f150115802e",
   "metadata": {
    "tags": []
   },
   "outputs": [],
   "source": [
    "genes = genes.drop_duplicates(subset='Gene stable ID', keep=False)"
   ]
  },
  {
   "cell_type": "code",
   "execution_count": 91,
   "id": "f02e48ef-dbfb-42be-8b17-459796ce4809",
   "metadata": {
    "tags": []
   },
   "outputs": [
    {
     "data": {
      "text/plain": [
       "0"
      ]
     },
     "execution_count": 91,
     "metadata": {},
     "output_type": "execute_result"
    }
   ],
   "source": [
    "sum(genes['Gene stable ID'].duplicated())"
   ]
  },
  {
   "cell_type": "code",
   "execution_count": 92,
   "id": "e4fda801-b520-4a9c-b3f5-ce74fc10e7ea",
   "metadata": {
    "tags": []
   },
   "outputs": [],
   "source": [
    "var = adata.var.merge(genes, left_index=True, right_on=\"Gene stable ID\", how = \"left\")\n",
    "var.index = var[\"feature_id\"]"
   ]
  },
  {
   "cell_type": "code",
   "execution_count": 93,
   "id": "b4dc84b9-a007-4871-ba44-00bd07fd496d",
   "metadata": {
    "tags": []
   },
   "outputs": [],
   "source": [
    "adata.var = var"
   ]
  },
  {
   "cell_type": "code",
   "execution_count": 94,
   "id": "03bb4eb3-46fb-4c1c-bd60-3cff271fa150",
   "metadata": {
    "tags": []
   },
   "outputs": [],
   "source": [
    "adata = adata[:,adata.var[\"Mouse homology type\"] == \"ortholog_one2one\"]"
   ]
  },
  {
   "cell_type": "code",
   "execution_count": 95,
   "id": "38f6a927-1237-48ce-8d49-ad31545bb1c4",
   "metadata": {
    "tags": []
   },
   "outputs": [],
   "source": [
    "var = pd.DataFrame(index = adata.var[\"Mouse gene stable ID\"].rename(\"EID\"))"
   ]
  },
  {
   "cell_type": "code",
   "execution_count": 96,
   "id": "85a8a45e-4460-4af0-9013-c2da7c799304",
   "metadata": {
    "tags": []
   },
   "outputs": [],
   "source": [
    "adata.var = var"
   ]
  },
  {
   "cell_type": "code",
   "execution_count": 97,
   "id": "dfa4b9d3-35a9-4aad-8a8e-661a3fbb3b95",
   "metadata": {
    "tags": []
   },
   "outputs": [],
   "source": [
    "sc.pp.normalize_per_cell(adata)\n",
    "sc.pp.log1p(adata)"
   ]
  },
  {
   "cell_type": "code",
   "execution_count": 101,
   "id": "d6655608-3e80-43d4-83c5-ca52c321e358",
   "metadata": {
    "tags": []
   },
   "outputs": [],
   "source": [
    "adata.write_h5ad(f\"homo_sapiens_census_top{split}_embedding_norm_log1p_orth.h5ad\")"
   ]
  },
  {
   "cell_type": "markdown",
   "id": "0d582f9c-2902-43a7-8afe-dd2c9e0aad3c",
   "metadata": {},
   "source": [
    "### split 50 HUMAN"
   ]
  },
  {
   "cell_type": "code",
   "execution_count": 102,
   "id": "5aa7480e-2faf-499f-94b3-e6c0730e99a5",
   "metadata": {
    "tags": []
   },
   "outputs": [],
   "source": [
    "split = 70"
   ]
  },
  {
   "cell_type": "code",
   "execution_count": 103,
   "id": "ac078bc6-386f-44cf-99cb-f87be6399743",
   "metadata": {
    "tags": []
   },
   "outputs": [],
   "source": [
    "adata = sc.read_h5ad(f\"homo_sapiens_census_top{split}_embedding.h5ad\")"
   ]
  },
  {
   "cell_type": "code",
   "execution_count": 104,
   "id": "e9479300-43e7-4283-b2b6-3f15a69efa92",
   "metadata": {
    "tags": []
   },
   "outputs": [],
   "source": [
    "adata.obs = adata.obs[['dataset_id', 'cell_type', 'disease']]"
   ]
  },
  {
   "cell_type": "code",
   "execution_count": 105,
   "id": "beb6387f-eef2-4a1a-993a-223894953837",
   "metadata": {
    "tags": []
   },
   "outputs": [],
   "source": [
    "adata.obs[\"organism\"] = \"Homo sapiens\""
   ]
  },
  {
   "cell_type": "code",
   "execution_count": 106,
   "id": "8bc2a04d-529c-4de8-be63-62c487c1a2b7",
   "metadata": {
    "tags": []
   },
   "outputs": [],
   "source": [
    "adata.obs.rename({\"dataset_id\":\"dataset\"}, axis = 1, inplace = True)"
   ]
  },
  {
   "cell_type": "code",
   "execution_count": 107,
   "id": "0d16d652-8c9e-4fcb-b240-1f13a8758043",
   "metadata": {
    "tags": []
   },
   "outputs": [
    {
     "data": {
      "text/html": [
       "<div>\n",
       "<style scoped>\n",
       "    .dataframe tbody tr th:only-of-type {\n",
       "        vertical-align: middle;\n",
       "    }\n",
       "\n",
       "    .dataframe tbody tr th {\n",
       "        vertical-align: top;\n",
       "    }\n",
       "\n",
       "    .dataframe thead th {\n",
       "        text-align: right;\n",
       "    }\n",
       "</style>\n",
       "<table border=\"1\" class=\"dataframe\">\n",
       "  <thead>\n",
       "    <tr style=\"text-align: right;\">\n",
       "      <th></th>\n",
       "      <th>dataset</th>\n",
       "      <th>cell_type</th>\n",
       "      <th>disease</th>\n",
       "      <th>organism</th>\n",
       "    </tr>\n",
       "  </thead>\n",
       "  <tbody>\n",
       "    <tr>\n",
       "      <th>0</th>\n",
       "      <td>74cff64f-9da9-4b2a-9b3b-8a04a1598040</td>\n",
       "      <td>stromal cell</td>\n",
       "      <td>normal</td>\n",
       "      <td>Homo sapiens</td>\n",
       "    </tr>\n",
       "    <tr>\n",
       "      <th>1</th>\n",
       "      <td>74cff64f-9da9-4b2a-9b3b-8a04a1598040</td>\n",
       "      <td>stromal cell</td>\n",
       "      <td>normal</td>\n",
       "      <td>Homo sapiens</td>\n",
       "    </tr>\n",
       "    <tr>\n",
       "      <th>2</th>\n",
       "      <td>74cff64f-9da9-4b2a-9b3b-8a04a1598040</td>\n",
       "      <td>stromal cell</td>\n",
       "      <td>normal</td>\n",
       "      <td>Homo sapiens</td>\n",
       "    </tr>\n",
       "    <tr>\n",
       "      <th>3</th>\n",
       "      <td>74cff64f-9da9-4b2a-9b3b-8a04a1598040</td>\n",
       "      <td>stromal cell</td>\n",
       "      <td>normal</td>\n",
       "      <td>Homo sapiens</td>\n",
       "    </tr>\n",
       "    <tr>\n",
       "      <th>4</th>\n",
       "      <td>74cff64f-9da9-4b2a-9b3b-8a04a1598040</td>\n",
       "      <td>stromal cell</td>\n",
       "      <td>normal</td>\n",
       "      <td>Homo sapiens</td>\n",
       "    </tr>\n",
       "    <tr>\n",
       "      <th>...</th>\n",
       "      <td>...</td>\n",
       "      <td>...</td>\n",
       "      <td>...</td>\n",
       "      <td>...</td>\n",
       "    </tr>\n",
       "    <tr>\n",
       "      <th>445577</th>\n",
       "      <td>8c42cfd0-0b0a-46d5-910c-fc833d83c45e</td>\n",
       "      <td>pericyte</td>\n",
       "      <td>normal</td>\n",
       "      <td>Homo sapiens</td>\n",
       "    </tr>\n",
       "    <tr>\n",
       "      <th>445578</th>\n",
       "      <td>8c42cfd0-0b0a-46d5-910c-fc833d83c45e</td>\n",
       "      <td>pericyte</td>\n",
       "      <td>normal</td>\n",
       "      <td>Homo sapiens</td>\n",
       "    </tr>\n",
       "    <tr>\n",
       "      <th>445579</th>\n",
       "      <td>8c42cfd0-0b0a-46d5-910c-fc833d83c45e</td>\n",
       "      <td>pericyte</td>\n",
       "      <td>normal</td>\n",
       "      <td>Homo sapiens</td>\n",
       "    </tr>\n",
       "    <tr>\n",
       "      <th>445580</th>\n",
       "      <td>8c42cfd0-0b0a-46d5-910c-fc833d83c45e</td>\n",
       "      <td>pericyte</td>\n",
       "      <td>normal</td>\n",
       "      <td>Homo sapiens</td>\n",
       "    </tr>\n",
       "    <tr>\n",
       "      <th>445581</th>\n",
       "      <td>8c42cfd0-0b0a-46d5-910c-fc833d83c45e</td>\n",
       "      <td>pericyte</td>\n",
       "      <td>normal</td>\n",
       "      <td>Homo sapiens</td>\n",
       "    </tr>\n",
       "  </tbody>\n",
       "</table>\n",
       "<p>445582 rows × 4 columns</p>\n",
       "</div>"
      ],
      "text/plain": [
       "                                     dataset     cell_type disease  \\\n",
       "0       74cff64f-9da9-4b2a-9b3b-8a04a1598040  stromal cell  normal   \n",
       "1       74cff64f-9da9-4b2a-9b3b-8a04a1598040  stromal cell  normal   \n",
       "2       74cff64f-9da9-4b2a-9b3b-8a04a1598040  stromal cell  normal   \n",
       "3       74cff64f-9da9-4b2a-9b3b-8a04a1598040  stromal cell  normal   \n",
       "4       74cff64f-9da9-4b2a-9b3b-8a04a1598040  stromal cell  normal   \n",
       "...                                      ...           ...     ...   \n",
       "445577  8c42cfd0-0b0a-46d5-910c-fc833d83c45e      pericyte  normal   \n",
       "445578  8c42cfd0-0b0a-46d5-910c-fc833d83c45e      pericyte  normal   \n",
       "445579  8c42cfd0-0b0a-46d5-910c-fc833d83c45e      pericyte  normal   \n",
       "445580  8c42cfd0-0b0a-46d5-910c-fc833d83c45e      pericyte  normal   \n",
       "445581  8c42cfd0-0b0a-46d5-910c-fc833d83c45e      pericyte  normal   \n",
       "\n",
       "            organism  \n",
       "0       Homo sapiens  \n",
       "1       Homo sapiens  \n",
       "2       Homo sapiens  \n",
       "3       Homo sapiens  \n",
       "4       Homo sapiens  \n",
       "...              ...  \n",
       "445577  Homo sapiens  \n",
       "445578  Homo sapiens  \n",
       "445579  Homo sapiens  \n",
       "445580  Homo sapiens  \n",
       "445581  Homo sapiens  \n",
       "\n",
       "[445582 rows x 4 columns]"
      ]
     },
     "execution_count": 107,
     "metadata": {},
     "output_type": "execute_result"
    }
   ],
   "source": [
    "adata.obs"
   ]
  },
  {
   "cell_type": "code",
   "execution_count": 108,
   "id": "1525585e-0d08-4107-be1b-ee4754fcb145",
   "metadata": {
    "tags": []
   },
   "outputs": [
    {
     "data": {
      "text/html": [
       "<div>\n",
       "<style scoped>\n",
       "    .dataframe tbody tr th:only-of-type {\n",
       "        vertical-align: middle;\n",
       "    }\n",
       "\n",
       "    .dataframe tbody tr th {\n",
       "        vertical-align: top;\n",
       "    }\n",
       "\n",
       "    .dataframe thead th {\n",
       "        text-align: right;\n",
       "    }\n",
       "</style>\n",
       "<table border=\"1\" class=\"dataframe\">\n",
       "  <thead>\n",
       "    <tr style=\"text-align: right;\">\n",
       "      <th></th>\n",
       "      <th>soma_joinid</th>\n",
       "      <th>feature_id</th>\n",
       "      <th>feature_name</th>\n",
       "      <th>feature_length</th>\n",
       "    </tr>\n",
       "  </thead>\n",
       "  <tbody>\n",
       "    <tr>\n",
       "      <th>0</th>\n",
       "      <td>0</td>\n",
       "      <td>ENSG00000121410</td>\n",
       "      <td>A1BG</td>\n",
       "      <td>3999</td>\n",
       "    </tr>\n",
       "    <tr>\n",
       "      <th>1</th>\n",
       "      <td>1</td>\n",
       "      <td>ENSG00000268895</td>\n",
       "      <td>A1BG-AS1</td>\n",
       "      <td>3374</td>\n",
       "    </tr>\n",
       "    <tr>\n",
       "      <th>2</th>\n",
       "      <td>2</td>\n",
       "      <td>ENSG00000148584</td>\n",
       "      <td>A1CF</td>\n",
       "      <td>9603</td>\n",
       "    </tr>\n",
       "    <tr>\n",
       "      <th>3</th>\n",
       "      <td>3</td>\n",
       "      <td>ENSG00000175899</td>\n",
       "      <td>A2M</td>\n",
       "      <td>6318</td>\n",
       "    </tr>\n",
       "    <tr>\n",
       "      <th>4</th>\n",
       "      <td>4</td>\n",
       "      <td>ENSG00000245105</td>\n",
       "      <td>A2M-AS1</td>\n",
       "      <td>2948</td>\n",
       "    </tr>\n",
       "    <tr>\n",
       "      <th>...</th>\n",
       "      <td>...</td>\n",
       "      <td>...</td>\n",
       "      <td>...</td>\n",
       "      <td>...</td>\n",
       "    </tr>\n",
       "    <tr>\n",
       "      <th>60659</th>\n",
       "      <td>60659</td>\n",
       "      <td>ENSG00000288719</td>\n",
       "      <td>RP4-669P10.21</td>\n",
       "      <td>4252</td>\n",
       "    </tr>\n",
       "    <tr>\n",
       "      <th>60660</th>\n",
       "      <td>60660</td>\n",
       "      <td>ENSG00000288720</td>\n",
       "      <td>RP11-852E15.3</td>\n",
       "      <td>7007</td>\n",
       "    </tr>\n",
       "    <tr>\n",
       "      <th>60661</th>\n",
       "      <td>60661</td>\n",
       "      <td>ENSG00000288721</td>\n",
       "      <td>RP5-973N23.5</td>\n",
       "      <td>7765</td>\n",
       "    </tr>\n",
       "    <tr>\n",
       "      <th>60662</th>\n",
       "      <td>60662</td>\n",
       "      <td>ENSG00000288723</td>\n",
       "      <td>RP11-553N16.6</td>\n",
       "      <td>1015</td>\n",
       "    </tr>\n",
       "    <tr>\n",
       "      <th>60663</th>\n",
       "      <td>60663</td>\n",
       "      <td>ENSG00000288724</td>\n",
       "      <td>RP13-546I2.2</td>\n",
       "      <td>625</td>\n",
       "    </tr>\n",
       "  </tbody>\n",
       "</table>\n",
       "<p>60664 rows × 4 columns</p>\n",
       "</div>"
      ],
      "text/plain": [
       "       soma_joinid       feature_id   feature_name  feature_length\n",
       "0                0  ENSG00000121410           A1BG            3999\n",
       "1                1  ENSG00000268895       A1BG-AS1            3374\n",
       "2                2  ENSG00000148584           A1CF            9603\n",
       "3                3  ENSG00000175899            A2M            6318\n",
       "4                4  ENSG00000245105        A2M-AS1            2948\n",
       "...            ...              ...            ...             ...\n",
       "60659        60659  ENSG00000288719  RP4-669P10.21            4252\n",
       "60660        60660  ENSG00000288720  RP11-852E15.3            7007\n",
       "60661        60661  ENSG00000288721   RP5-973N23.5            7765\n",
       "60662        60662  ENSG00000288723  RP11-553N16.6            1015\n",
       "60663        60663  ENSG00000288724   RP13-546I2.2             625\n",
       "\n",
       "[60664 rows x 4 columns]"
      ]
     },
     "execution_count": 108,
     "metadata": {},
     "output_type": "execute_result"
    }
   ],
   "source": [
    "adata.var"
   ]
  },
  {
   "cell_type": "markdown",
   "id": "07acb27b-1b37-41b5-8eb0-67a3a2242dac",
   "metadata": {},
   "source": [
    "#### Getting orth"
   ]
  },
  {
   "cell_type": "code",
   "execution_count": 109,
   "id": "aac29a48-4865-4917-ae0b-68c17fbfaf80",
   "metadata": {
    "tags": []
   },
   "outputs": [],
   "source": [
    "# Save to a .txt file\n",
    "with open(f\"genes/genes_in_the_dataset_top{split}_actual.txt\", \"w\") as file:\n",
    "    for item in adata.var.feature_id.to_list():\n",
    "        file.write(\"%s , \" % item)"
   ]
  },
  {
   "cell_type": "code",
   "execution_count": 110,
   "id": "50d21276-33ca-448d-a9a2-064fc2576b37",
   "metadata": {
    "tags": []
   },
   "outputs": [],
   "source": [
    "genes = pd.read_table(f\"genes/genes_in_the_dataset_top{split}_orth.txt\")"
   ]
  },
  {
   "cell_type": "code",
   "execution_count": 111,
   "id": "ecb46244-4e48-45ea-8047-56aecc7ad860",
   "metadata": {
    "tags": []
   },
   "outputs": [
    {
     "data": {
      "text/plain": [
       "Index(['Gene stable ID', 'Mouse gene stable ID', 'Mouse homology type'], dtype='object')"
      ]
     },
     "execution_count": 111,
     "metadata": {},
     "output_type": "execute_result"
    }
   ],
   "source": [
    "genes.columns"
   ]
  },
  {
   "cell_type": "code",
   "execution_count": 112,
   "id": "14dc0513-ab2f-4de8-ac47-3ff8e04f8170",
   "metadata": {
    "tags": []
   },
   "outputs": [
    {
     "data": {
      "text/plain": [
       "Index(['soma_joinid', 'feature_id', 'feature_name', 'feature_length'], dtype='object')"
      ]
     },
     "execution_count": 112,
     "metadata": {},
     "output_type": "execute_result"
    }
   ],
   "source": [
    "adata.var.columns"
   ]
  },
  {
   "cell_type": "code",
   "execution_count": 113,
   "id": "7d93df97-b5b9-44f7-92d1-750bfbfa1769",
   "metadata": {
    "tags": []
   },
   "outputs": [],
   "source": [
    "adata.var.index = adata.var[\"feature_id\"]"
   ]
  },
  {
   "cell_type": "code",
   "execution_count": 114,
   "id": "73266142-1f29-4d17-bf82-3f6fdcf8bc48",
   "metadata": {
    "tags": []
   },
   "outputs": [
    {
     "data": {
      "text/plain": [
       "0"
      ]
     },
     "execution_count": 114,
     "metadata": {},
     "output_type": "execute_result"
    }
   ],
   "source": [
    "sum(adata.var.index.duplicated())"
   ]
  },
  {
   "cell_type": "code",
   "execution_count": 115,
   "id": "5a143a20-b5f3-4a28-a45a-2751236c645b",
   "metadata": {
    "tags": []
   },
   "outputs": [
    {
     "data": {
      "text/plain": [
       "5943"
      ]
     },
     "execution_count": 115,
     "metadata": {},
     "output_type": "execute_result"
    }
   ],
   "source": [
    "sum(genes['Gene stable ID'].duplicated())"
   ]
  },
  {
   "cell_type": "code",
   "execution_count": 116,
   "id": "fe964cf2-fdec-4524-b0f5-4403141b6875",
   "metadata": {
    "tags": []
   },
   "outputs": [],
   "source": [
    "genes = genes.drop_duplicates(subset='Gene stable ID', keep=False)"
   ]
  },
  {
   "cell_type": "code",
   "execution_count": 117,
   "id": "03a9722d-1aab-4383-a242-d101ae3f2e8f",
   "metadata": {
    "tags": []
   },
   "outputs": [
    {
     "data": {
      "text/plain": [
       "0"
      ]
     },
     "execution_count": 117,
     "metadata": {},
     "output_type": "execute_result"
    }
   ],
   "source": [
    "sum(genes['Gene stable ID'].duplicated())"
   ]
  },
  {
   "cell_type": "code",
   "execution_count": 118,
   "id": "bb2cc002-ce7f-4a84-af1b-e0250009e49a",
   "metadata": {
    "tags": []
   },
   "outputs": [],
   "source": [
    "var = adata.var.merge(genes, left_index=True, right_on=\"Gene stable ID\", how = \"left\")\n",
    "var.index = var[\"feature_id\"]"
   ]
  },
  {
   "cell_type": "code",
   "execution_count": 119,
   "id": "b7a1e0c4-48a6-44ac-b3a6-b8662641bc2f",
   "metadata": {
    "tags": []
   },
   "outputs": [],
   "source": [
    "adata.var = var"
   ]
  },
  {
   "cell_type": "code",
   "execution_count": 120,
   "id": "9ba90f6f-e7d7-41a9-9a8c-a09e86d2c458",
   "metadata": {
    "tags": []
   },
   "outputs": [],
   "source": [
    "adata = adata[:,adata.var[\"Mouse homology type\"] == \"ortholog_one2one\"]"
   ]
  },
  {
   "cell_type": "code",
   "execution_count": 121,
   "id": "324719e6-9b75-4deb-875f-95908627b4fd",
   "metadata": {
    "tags": []
   },
   "outputs": [],
   "source": [
    "var = pd.DataFrame(index = adata.var[\"Mouse gene stable ID\"].rename(\"EID\"))"
   ]
  },
  {
   "cell_type": "code",
   "execution_count": 122,
   "id": "14b22db8-ad2f-4caa-8301-070bdaf9d53a",
   "metadata": {
    "tags": []
   },
   "outputs": [],
   "source": [
    "adata.var = var"
   ]
  },
  {
   "cell_type": "code",
   "execution_count": 123,
   "id": "f0376225-439c-4941-9319-d826dd65b9ef",
   "metadata": {
    "tags": []
   },
   "outputs": [],
   "source": [
    "sc.pp.normalize_per_cell(adata)\n",
    "sc.pp.log1p(adata)"
   ]
  },
  {
   "cell_type": "code",
   "execution_count": 124,
   "id": "12664dc8-96b5-4576-bf31-5a8c914eca6d",
   "metadata": {
    "tags": []
   },
   "outputs": [],
   "source": [
    "adata.write_h5ad(f\"homo_sapiens_census_top{split}_embedding_norm_log1p_orth.h5ad\")"
   ]
  },
  {
   "cell_type": "code",
   "execution_count": null,
   "id": "6c86a112-5f7f-41ff-bc0c-6db1e7352d3d",
   "metadata": {},
   "outputs": [],
   "source": []
  }
 ],
 "metadata": {
  "kernelspec": {
   "display_name": "Python 3 (ipykernel)",
   "language": "python",
   "name": "python3"
  },
  "language_info": {
   "codemirror_mode": {
    "name": "ipython",
    "version": 3
   },
   "file_extension": ".py",
   "mimetype": "text/x-python",
   "name": "python",
   "nbconvert_exporter": "python",
   "pygments_lexer": "ipython3",
   "version": "3.10.9"
  }
 },
 "nbformat": 4,
 "nbformat_minor": 5
}
