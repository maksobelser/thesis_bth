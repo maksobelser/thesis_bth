{
 "cells": [
  {
   "cell_type": "code",
   "execution_count": 1,
   "id": "5aca49ef-5bb6-41cd-8cd9-0eae61bc3bf5",
   "metadata": {
    "tags": []
   },
   "outputs": [],
   "source": [
    "import scanpy as sc\n",
    "\n",
    "for dataset in [f\"homo_sapiens_census_top{num_cells}_embedding.h5ad\" for num_cells in [30, 50, 70]]:\n",
    "    adata_30 = sc.read_h5ad(f\"./{dataset}\")\n",
    "    print(dataset + \": \" + str(adata_30.obs.dataset_id.nunique()))"
   ]
  }
 ],
 "metadata": {
  "kernelspec": {
   "display_name": "Python 3 (ipykernel)",
   "language": "python",
   "name": "python3"
  },
  "language_info": {
   "codemirror_mode": {
    "name": "ipython",
    "version": 3
   },
   "file_extension": ".py",
   "mimetype": "text/x-python",
   "name": "python",
   "nbconvert_exporter": "python",
   "pygments_lexer": "ipython3",
   "version": "3.10.9"
  }
 },
 "nbformat": 4,
 "nbformat_minor": 5
}
