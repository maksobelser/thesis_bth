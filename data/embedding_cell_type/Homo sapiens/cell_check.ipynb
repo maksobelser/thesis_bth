{
 "cells": [
  {
   "cell_type": "code",
   "execution_count": 1,
   "id": "3454a3da-d47a-4b75-9654-11ef085c4d52",
   "metadata": {
    "tags": []
   },
   "outputs": [],
   "source": [
    "import scanpy as sc"
   ]
  },
  {
   "cell_type": "code",
   "execution_count": 18,
   "id": "5b1612fe-d8bb-4320-899f-4cc9545bae13",
   "metadata": {
    "tags": []
   },
   "outputs": [],
   "source": [
    "top_n = 70"
   ]
  },
  {
   "cell_type": "code",
   "execution_count": 19,
   "id": "1e83490c-40d1-4e68-b18d-bf36a270f4e9",
   "metadata": {
    "tags": []
   },
   "outputs": [],
   "source": [
    "adata = sc.read_h5ad(f\"homo_sapiens_census_top{top_n}_embedding.h5ad\")"
   ]
  },
  {
   "cell_type": "code",
   "execution_count": 20,
   "id": "9dbd9d0b-2792-4541-bcac-5ee83ab82729",
   "metadata": {
    "tags": []
   },
   "outputs": [
    {
     "data": {
      "text/plain": [
       "AnnData object with n_obs × n_vars = 445582 × 60664\n",
       "    obs: 'soma_joinid', 'dataset_id', 'assay', 'assay_ontology_term_id', 'cell_type', 'cell_type_ontology_term_id', 'disease', 'disease_ontology_term_id', 'donor_id', 'is_primary_data', 'suspension_type', 'tissue', 'tissue_ontology_term_id', 'tissue_general', 'tissue_general_ontology_term_id'\n",
       "    var: 'soma_joinid', 'feature_id', 'feature_name', 'feature_length'"
      ]
     },
     "execution_count": 20,
     "metadata": {},
     "output_type": "execute_result"
    }
   ],
   "source": [
    "adata"
   ]
  },
  {
   "cell_type": "code",
   "execution_count": 21,
   "id": "975164b2-63e5-4a53-b50a-f6af482bae42",
   "metadata": {
    "tags": []
   },
   "outputs": [
    {
     "data": {
      "text/plain": [
       "445582"
      ]
     },
     "execution_count": 21,
     "metadata": {},
     "output_type": "execute_result"
    }
   ],
   "source": [
    "adata.shape[0]"
   ]
  },
  {
   "cell_type": "code",
   "execution_count": 22,
   "id": "6ceea388-5077-4e69-8296-326f53906ce2",
   "metadata": {
    "tags": []
   },
   "outputs": [
    {
     "name": "stdout",
     "output_type": "stream",
     "text": [
      "lung 16.26 %\n",
      "eye 14.49 %\n",
      "small intestine 7.86 %\n",
      "heart 6.08 %\n",
      "kidney 5.9 %\n",
      "colon 4.65 %\n",
      "liver 4.27 %\n",
      "prostate gland 3.83 %\n",
      "breast 3.27 %\n",
      "pancreas 3.03 %\n",
      "respiratory system 2.63 %\n",
      "skin of body 2.28 %\n",
      "fallopian tube 2.1 %\n",
      "large intestine 1.96 %\n",
      "bone marrow 1.71 %\n",
      "nose 1.67 %\n",
      "reproductive system 1.65 %\n",
      "stomach 1.61 %\n",
      "esophagus 1.55 %\n",
      "placenta 1.52 %\n",
      "uterus 1.38 %\n",
      "blood 1.34 %\n",
      "brain 1.25 %\n",
      "adipose tissue 1.12 %\n",
      "endocrine gland 1.11 %\n",
      "musculature 1.05 %\n",
      "exocrine gland 0.83 %\n",
      "ovary 0.67 %\n",
      "mucosa 0.36 %\n",
      "pleura 0.28 %\n",
      "adrenal gland 0.27 %\n",
      "spleen 0.26 %\n",
      "bladder organ 0.26 %\n",
      "yolk sac 0.26 %\n",
      "saliva 0.21 %\n",
      "vasculature 0.19 %\n",
      "intestine 0.18 %\n",
      "lymph node 0.18 %\n",
      "tongue 0.07 %\n",
      "gallbladder 0.06 %\n",
      "skeletal system 0.06 %\n",
      "testis 0.05 %\n",
      "spinal cord 0.04 %\n",
      "omentum 0.04 %\n",
      "axilla 0.03 %\n",
      "pleural fluid 0.03 %\n",
      "digestive system 0.02 %\n",
      "embryo 0.02 %\n",
      "esophagogastric junction 0.01 %\n",
      "blood clot 0.01 %\n",
      "ureter 0.01 %\n"
     ]
    }
   ],
   "source": [
    "data = round(adata.obs.tissue_general.value_counts()/adata.shape[0]*100, 2)\n",
    "index = data.index\n",
    "for name, percent in zip(index, data):\n",
    "    print(name, percent, \"%\")"
   ]
  }
 ],
 "metadata": {
  "kernelspec": {
   "display_name": "Python 3 (ipykernel)",
   "language": "python",
   "name": "python3"
  },
  "language_info": {
   "codemirror_mode": {
    "name": "ipython",
    "version": 3
   },
   "file_extension": ".py",
   "mimetype": "text/x-python",
   "name": "python",
   "nbconvert_exporter": "python",
   "pygments_lexer": "ipython3",
   "version": "3.10.9"
  }
 },
 "nbformat": 4,
 "nbformat_minor": 5
}
