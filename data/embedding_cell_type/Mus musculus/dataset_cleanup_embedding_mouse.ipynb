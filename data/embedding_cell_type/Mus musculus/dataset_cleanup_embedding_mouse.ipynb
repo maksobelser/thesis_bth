{
 "cells": [
  {
   "cell_type": "code",
   "execution_count": 30,
   "id": "1f1edfd1-9773-4753-8fda-578e04dc0a7a",
   "metadata": {
    "tags": []
   },
   "outputs": [],
   "source": [
    "import scanpy as sc\n",
    "import pandas as pd"
   ]
  },
  {
   "cell_type": "markdown",
   "id": "1357b257-2426-4e82-8f95-3cd18b01fcb6",
   "metadata": {},
   "source": [
    "### top 30 MOUSE"
   ]
  },
  {
   "cell_type": "code",
   "execution_count": 2,
   "id": "a13fc1c8-680d-4021-8ea4-64f04c20b18d",
   "metadata": {
    "tags": []
   },
   "outputs": [],
   "source": [
    "top30 = sc.read_h5ad(\"mus_musculus_census_top30_embedding.h5ad\")"
   ]
  },
  {
   "cell_type": "code",
   "execution_count": 7,
   "id": "231845a9-45a6-47cb-aa73-efaafc30a0c1",
   "metadata": {
    "tags": []
   },
   "outputs": [],
   "source": [
    "top30.obs = top30.obs[['dataset_id', 'cell_type', 'disease']]"
   ]
  },
  {
   "cell_type": "code",
   "execution_count": 21,
   "id": "33170c27-e076-4bee-ace3-a7c0f59c068f",
   "metadata": {
    "tags": []
   },
   "outputs": [],
   "source": [
    "top30.obs[\"organism\"] = \"Mus musculus\""
   ]
  },
  {
   "cell_type": "code",
   "execution_count": 26,
   "id": "3298bb72-c95b-4391-9fff-26b0d98b0314",
   "metadata": {
    "tags": []
   },
   "outputs": [],
   "source": [
    "top30.var.index = top30.var.feature_id.rename(\"EID\")"
   ]
  },
  {
   "cell_type": "code",
   "execution_count": 32,
   "id": "3dbd3204-ff0f-4e98-b9c9-b455b2ca643b",
   "metadata": {
    "tags": []
   },
   "outputs": [],
   "source": [
    "var = pd.DataFrame(index = top30.var.index)"
   ]
  },
  {
   "cell_type": "code",
   "execution_count": 33,
   "id": "43dba6bb-59d2-4b77-9a42-ce9861f5d54e",
   "metadata": {
    "tags": []
   },
   "outputs": [],
   "source": [
    "top30.var = var"
   ]
  },
  {
   "cell_type": "code",
   "execution_count": 37,
   "id": "b33344ed-b0a5-439f-b10f-b958d77d1cdc",
   "metadata": {
    "tags": []
   },
   "outputs": [],
   "source": [
    "top30.obs.rename({'dataset_id':'dataset'}, axis=1, inplace=True)"
   ]
  },
  {
   "cell_type": "code",
   "execution_count": 48,
   "id": "c8e4c3e3-dea7-4e99-8b7d-c8f1ad5c6081",
   "metadata": {
    "tags": []
   },
   "outputs": [],
   "source": [
    "sc.pp.normalize_per_cell(top30)\n",
    "sc.pp.log1p(top30)"
   ]
  },
  {
   "cell_type": "code",
   "execution_count": 50,
   "id": "d49c9707-ada7-4ecf-80d4-b98a5aa71570",
   "metadata": {
    "tags": []
   },
   "outputs": [],
   "source": [
    "top30.write_h5ad(\"mus_musculus_census_top30_embedding_norm_log1p_clean.h5ad\")"
   ]
  },
  {
   "cell_type": "markdown",
   "id": "3d8aab4c-1cf6-4c64-a2b0-feb69ddde6ea",
   "metadata": {},
   "source": [
    "### top 50 MOUSE"
   ]
  },
  {
   "cell_type": "code",
   "execution_count": 40,
   "id": "562f7d6f-bd2c-44f2-a421-cee16562904e",
   "metadata": {
    "tags": []
   },
   "outputs": [],
   "source": [
    "adata = sc.read_h5ad(\"mus_musculus_census_top50_embedding.h5ad\")"
   ]
  },
  {
   "cell_type": "code",
   "execution_count": 41,
   "id": "73b4d486-070f-4f8a-90a5-b70c4837e0d9",
   "metadata": {
    "tags": []
   },
   "outputs": [],
   "source": [
    "adata.obs = adata.obs[['dataset_id', 'cell_type', 'disease']]"
   ]
  },
  {
   "cell_type": "code",
   "execution_count": 42,
   "id": "0ce59cc5-e5cc-42a5-bff8-e4a113bbc030",
   "metadata": {
    "tags": []
   },
   "outputs": [],
   "source": [
    "adata.obs[\"organism\"] = \"Mus musculus\""
   ]
  },
  {
   "cell_type": "code",
   "execution_count": 43,
   "id": "11c6b19f-6b21-4a4b-b577-dca6d6bbbbb5",
   "metadata": {
    "tags": []
   },
   "outputs": [],
   "source": [
    "adata.var.index = adata.var.feature_id.rename(\"EID\")"
   ]
  },
  {
   "cell_type": "code",
   "execution_count": 44,
   "id": "d9c5dd31-d02b-4cc3-bf28-bfe22030b513",
   "metadata": {
    "tags": []
   },
   "outputs": [],
   "source": [
    "var = pd.DataFrame(index = adata.var.index)"
   ]
  },
  {
   "cell_type": "code",
   "execution_count": 45,
   "id": "77e9c448-6866-4f4d-b566-9cf737b3c838",
   "metadata": {
    "tags": []
   },
   "outputs": [],
   "source": [
    "adata.var = var"
   ]
  },
  {
   "cell_type": "code",
   "execution_count": 46,
   "id": "95fbe485-5145-49ce-aede-8cf0efc98cb1",
   "metadata": {
    "tags": []
   },
   "outputs": [],
   "source": [
    "adata.obs.rename({'dataset_id':'dataset'}, axis=1, inplace=True)"
   ]
  },
  {
   "cell_type": "code",
   "execution_count": 51,
   "id": "255c219f-f82d-49a5-b836-1810ad36e04a",
   "metadata": {
    "tags": []
   },
   "outputs": [],
   "source": [
    "sc.pp.normalize_per_cell(adata)\n",
    "sc.pp.log1p(adata)"
   ]
  },
  {
   "cell_type": "code",
   "execution_count": 52,
   "id": "20ba003c-7ebd-4b53-a8f6-42663dce1333",
   "metadata": {
    "tags": []
   },
   "outputs": [],
   "source": [
    "adata.write_h5ad(\"mus_musculus_census_top50_embedding_norm_log1p_clean.h5ad\")"
   ]
  },
  {
   "cell_type": "markdown",
   "id": "45caf163-38de-41e8-965a-b3d374c2c4dc",
   "metadata": {},
   "source": [
    "### top 70 MOUSE"
   ]
  },
  {
   "cell_type": "code",
   "execution_count": 54,
   "id": "2aa9e930-f69b-4798-9ada-253e674ef4a8",
   "metadata": {
    "tags": []
   },
   "outputs": [],
   "source": [
    "split = 70"
   ]
  },
  {
   "cell_type": "code",
   "execution_count": 55,
   "id": "36e9c32c-78e9-4b18-9eb2-040fe1d60772",
   "metadata": {
    "tags": []
   },
   "outputs": [],
   "source": [
    "adata = sc.read_h5ad(f\"mus_musculus_census_top{split}_embedding.h5ad\")"
   ]
  },
  {
   "cell_type": "code",
   "execution_count": 56,
   "id": "adb24211-6550-4455-ab50-0c4f24fcf4b5",
   "metadata": {
    "tags": []
   },
   "outputs": [],
   "source": [
    "adata.obs = adata.obs[['dataset_id', 'cell_type', 'disease']]"
   ]
  },
  {
   "cell_type": "code",
   "execution_count": 57,
   "id": "ce3c12d9-c7e5-4817-8cf6-4ac37c1a0be4",
   "metadata": {
    "tags": []
   },
   "outputs": [],
   "source": [
    "adata.obs[\"organism\"] = \"Mus musculus\""
   ]
  },
  {
   "cell_type": "code",
   "execution_count": 58,
   "id": "64223087-b6d1-4d81-8879-b93624cb5211",
   "metadata": {
    "tags": []
   },
   "outputs": [],
   "source": [
    "adata.var.index = adata.var.feature_id.rename(\"EID\")"
   ]
  },
  {
   "cell_type": "code",
   "execution_count": 59,
   "id": "ae20fb11-c112-44a8-84c6-2eaa240cc525",
   "metadata": {
    "tags": []
   },
   "outputs": [],
   "source": [
    "var = pd.DataFrame(index = adata.var.index)"
   ]
  },
  {
   "cell_type": "code",
   "execution_count": 60,
   "id": "b18d89cf-89c1-4aa1-a74a-ae65f4f0f34b",
   "metadata": {
    "tags": []
   },
   "outputs": [],
   "source": [
    "adata.var = var"
   ]
  },
  {
   "cell_type": "code",
   "execution_count": 61,
   "id": "143ae3b2-a70c-4f29-b02b-31a9838a3bd9",
   "metadata": {
    "tags": []
   },
   "outputs": [],
   "source": [
    "adata.obs.rename({'dataset_id':'dataset'}, axis=1, inplace=True)"
   ]
  },
  {
   "cell_type": "code",
   "execution_count": 62,
   "id": "94a0318f-83a5-4df3-82d1-226ce26f8050",
   "metadata": {
    "tags": []
   },
   "outputs": [],
   "source": [
    "sc.pp.normalize_per_cell(adata)\n",
    "sc.pp.log1p(adata)"
   ]
  },
  {
   "cell_type": "code",
   "execution_count": 63,
   "id": "3e3c8cf5-171a-43af-9135-8fd58859636f",
   "metadata": {
    "tags": []
   },
   "outputs": [],
   "source": [
    "adata.write_h5ad(f\"mus_musculus_census_top{split}_embedding_norm_log1p_clean.h5ad\")"
   ]
  },
  {
   "cell_type": "markdown",
   "id": "bf4b403b-58f0-496f-8fcf-969fb431d493",
   "metadata": {},
   "source": [
    "### top 100 MOUSE"
   ]
  },
  {
   "cell_type": "code",
   "execution_count": 64,
   "id": "4cdc4bbe-b114-4838-a030-beb0dfaef325",
   "metadata": {
    "tags": []
   },
   "outputs": [],
   "source": [
    "split = 100"
   ]
  },
  {
   "cell_type": "code",
   "execution_count": 65,
   "id": "063dbec7-7a5c-4296-a7bb-7112c5b8bca1",
   "metadata": {
    "tags": []
   },
   "outputs": [],
   "source": [
    "adata = sc.read_h5ad(f\"mus_musculus_census_top{split}_embedding.h5ad\")"
   ]
  },
  {
   "cell_type": "code",
   "execution_count": 66,
   "id": "7044f32c-71df-4736-871c-a68838bc024c",
   "metadata": {
    "tags": []
   },
   "outputs": [],
   "source": [
    "adata.obs = adata.obs[['dataset_id', 'cell_type', 'disease']]"
   ]
  },
  {
   "cell_type": "code",
   "execution_count": 67,
   "id": "ba2fcadd-5309-4eb9-9ea8-97b9df423454",
   "metadata": {
    "tags": []
   },
   "outputs": [],
   "source": [
    "adata.obs[\"organism\"] = \"Mus musculus\""
   ]
  },
  {
   "cell_type": "code",
   "execution_count": 68,
   "id": "164f9b21-84ad-4339-9a31-cb5c37782379",
   "metadata": {
    "tags": []
   },
   "outputs": [],
   "source": [
    "adata.var.index = adata.var.feature_id.rename(\"EID\")"
   ]
  },
  {
   "cell_type": "code",
   "execution_count": 69,
   "id": "27823f28-9d25-41f4-9ab5-644010925d1c",
   "metadata": {
    "tags": []
   },
   "outputs": [],
   "source": [
    "var = pd.DataFrame(index = adata.var.index)"
   ]
  },
  {
   "cell_type": "code",
   "execution_count": 70,
   "id": "54e70b18-6e52-47fb-aba5-73acc5476744",
   "metadata": {
    "tags": []
   },
   "outputs": [],
   "source": [
    "adata.var = var"
   ]
  },
  {
   "cell_type": "code",
   "execution_count": 71,
   "id": "9048f8ed-a5a8-43c5-8d30-5a7e33db9bd6",
   "metadata": {
    "tags": []
   },
   "outputs": [],
   "source": [
    "adata.obs.rename({'dataset_id':'dataset'}, axis=1, inplace=True)"
   ]
  },
  {
   "cell_type": "code",
   "execution_count": 72,
   "id": "28191e28-7c96-480e-a4c4-2df32d13d971",
   "metadata": {
    "tags": []
   },
   "outputs": [],
   "source": [
    "sc.pp.normalize_per_cell(adata)\n",
    "sc.pp.log1p(adata)"
   ]
  },
  {
   "cell_type": "code",
   "execution_count": 73,
   "id": "e45cf5a6-8f35-4c36-beba-503bf4644cb4",
   "metadata": {
    "tags": []
   },
   "outputs": [],
   "source": [
    "adata.write_h5ad(f\"mus_musculus_census_top{split}_embedding_norm_log1p_clean.h5ad\")"
   ]
  }
 ],
 "metadata": {
  "kernelspec": {
   "display_name": "Python 3 (ipykernel)",
   "language": "python",
   "name": "python3"
  },
  "language_info": {
   "codemirror_mode": {
    "name": "ipython",
    "version": 3
   },
   "file_extension": ".py",
   "mimetype": "text/x-python",
   "name": "python",
   "nbconvert_exporter": "python",
   "pygments_lexer": "ipython3",
   "version": "3.10.9"
  }
 },
 "nbformat": 4,
 "nbformat_minor": 5
}
