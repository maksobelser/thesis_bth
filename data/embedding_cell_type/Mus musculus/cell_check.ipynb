{
 "cells": [
  {
   "cell_type": "code",
   "execution_count": 1,
   "id": "d4cfc091-4006-4c21-85e8-42d235ce8795",
   "metadata": {
    "tags": []
   },
   "outputs": [],
   "source": [
    "import scanpy as sc"
   ]
  },
  {
   "cell_type": "code",
   "execution_count": 2,
   "id": "acb2b723-0dc9-4eaa-81b8-3a3dfa243718",
   "metadata": {
    "tags": []
   },
   "outputs": [
    {
     "name": "stdout",
     "output_type": "stream",
     "text": [
      "------------- top 30 ----------------\n",
      "Number of cells 96312\n",
      "bone marrow 16.6 %\n",
      "brain 10.8 %\n",
      "kidney 10.8 %\n",
      "lung 7.7 %\n",
      "central nervous system 5.7 %\n",
      "urinary bladder 4.4 %\n",
      "reproductive system 4.3 %\n",
      "heart 4.0 %\n",
      "pancreas 4.0 %\n",
      "respiratory system 3.7 %\n",
      "tongue 3.7 %\n",
      "adipose tissue 3.5 %\n",
      "spleen 3.3 %\n",
      "musculature 2.8 %\n",
      "liver 2.8 %\n",
      "prostate gland 2.2 %\n",
      "skin of body 2.2 %\n",
      "exocrine gland 1.8 %\n",
      "urethra 1.6 %\n",
      "endocrine gland 1.4 %\n",
      "large intestine 1.2 %\n",
      "skeletal system 1.0 %\n",
      "vasculature 0.3 %\n",
      "------------- top 50 ----------------\n",
      "Number of cells 129429\n",
      "bone marrow 16.7 %\n",
      "brain 12.6 %\n",
      "kidney 10.7 %\n",
      "lung 8.8 %\n",
      "central nervous system 4.9 %\n",
      "adipose tissue 4.7 %\n",
      "reproductive system 4.4 %\n",
      "endocrine gland 4.2 %\n",
      "respiratory system 4.0 %\n",
      "urinary bladder 3.3 %\n",
      "pancreas 3.0 %\n",
      "heart 3.0 %\n",
      "spleen 2.9 %\n",
      "skin of body 2.8 %\n",
      "musculature 2.8 %\n",
      "tongue 2.7 %\n",
      "liver 2.1 %\n",
      "prostate gland 1.7 %\n",
      "exocrine gland 1.4 %\n",
      "urethra 1.3 %\n",
      "large intestine 0.9 %\n",
      "skeletal system 0.8 %\n",
      "vasculature 0.2 %\n",
      "------------- top 70 ----------------\n",
      "Number of cells 149729\n",
      "bone marrow 14.8 %\n",
      "brain 11.9 %\n",
      "kidney 10.6 %\n",
      "lung 10.5 %\n",
      "endocrine gland 5.0 %\n",
      "central nervous system 4.6 %\n",
      "reproductive system 4.5 %\n",
      "adipose tissue 4.4 %\n",
      "exocrine gland 3.8 %\n",
      "pancreas 3.7 %\n",
      "respiratory system 3.5 %\n",
      "spleen 3.3 %\n",
      "heart 3.1 %\n",
      "urinary bladder 2.9 %\n",
      "skin of body 2.4 %\n",
      "musculature 2.4 %\n",
      "tongue 2.4 %\n",
      "liver 2.0 %\n",
      "prostate gland 1.5 %\n",
      "urethra 1.2 %\n",
      "large intestine 0.9 %\n",
      "skeletal system 0.7 %\n",
      "vasculature 0.2 %\n",
      "------------- top 100 ----------------\n",
      "Number of cells 196452\n",
      "brain 20.3 %\n",
      "bone marrow 11.6 %\n",
      "kidney 11.0 %\n",
      "lung 10.0 %\n",
      "central nervous system 3.8 %\n",
      "endocrine gland 3.8 %\n",
      "heart 3.6 %\n",
      "reproductive system 3.4 %\n",
      "adipose tissue 3.4 %\n",
      "musculature 3.2 %\n",
      "liver 3.0 %\n",
      "exocrine gland 2.9 %\n",
      "pancreas 2.8 %\n",
      "respiratory system 2.7 %\n",
      "spleen 2.7 %\n",
      "urinary bladder 2.2 %\n",
      "large intestine 2.0 %\n",
      "skin of body 1.9 %\n",
      "tongue 1.8 %\n",
      "prostate gland 1.6 %\n",
      "urethra 1.3 %\n",
      "skeletal system 0.6 %\n",
      "vasculature 0.4 %\n"
     ]
    }
   ],
   "source": [
    "top_n_list = [30, 50, 70, 100]\n",
    "\n",
    "for top_n in top_n_list:\n",
    "    adata = sc.read_h5ad(f\"mus_musculus_census_top{top_n}_embedding.h5ad\")\n",
    "    print(f\"------------- top {top_n} ----------------\")\n",
    "    print(\"Number of cells\", adata.shape[0])\n",
    "    data = round(adata.obs.tissue_general.value_counts()/adata.shape[0]*100, 1)\n",
    "    index = data.index\n",
    "    for name, percent in zip(index, data):\n",
    "        print(name, percent, \"%\")"
   ]
  },
  {
   "cell_type": "code",
   "execution_count": 9,
   "id": "835bbfa2-1948-4e43-b089-04ef2caca841",
   "metadata": {
    "tags": []
   },
   "outputs": [],
   "source": [
    "top_n_list = [30, 50, 70, 100]\n",
    "used_datasets = []\n",
    "\n",
    "for top_n in top_n_list:\n",
    "    adata = sc.read_h5ad(f\"mus_musculus_census_top{top_n}_embedding.h5ad\")\n",
    "    used_datasets.extend(adata.obs.dataset_id.unique().tolist())"
   ]
  },
  {
   "cell_type": "code",
   "execution_count": 17,
   "id": "ce71f471-40c7-432b-bfd4-282704e0f98b",
   "metadata": {
    "tags": []
   },
   "outputs": [],
   "source": [
    "import pandas as pd\n",
    "list_ = list(set(used_datasets))\n",
    "pd.DataFrame(list_, columns = [\"dataset_ids\"]).to_csv(\"/d/hpc/projects/FRI/DL/mo6643/MSC/data/data_update_slack/data_splits/random_datasets/used_datasets_cellxgene_muouse.csv\",\n",
    "                                                                      index = False)"
   ]
  }
 ],
 "metadata": {
  "kernelspec": {
   "display_name": "Python 3 (ipykernel)",
   "language": "python",
   "name": "python3"
  },
  "language_info": {
   "codemirror_mode": {
    "name": "ipython",
    "version": 3
   },
   "file_extension": ".py",
   "mimetype": "text/x-python",
   "name": "python",
   "nbconvert_exporter": "python",
   "pygments_lexer": "ipython3",
   "version": "3.10.9"
  }
 },
 "nbformat": 4,
 "nbformat_minor": 5
}
