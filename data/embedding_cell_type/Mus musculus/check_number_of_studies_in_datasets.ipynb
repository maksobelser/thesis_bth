{
 "cells": [
  {
   "cell_type": "code",
   "execution_count": 1,
   "id": "93dae6c1-3f32-4d22-b0ef-2966eaed9e27",
   "metadata": {
    "tags": []
   },
   "outputs": [
    {
     "name": "stdout",
     "output_type": "stream",
     "text": [
      "mus_musculus_census_top30_embedding.h5ad: 14\n",
      "mus_musculus_census_top50_embedding.h5ad: 15\n",
      "mus_musculus_census_top70_embedding.h5ad: 15\n",
      "mus_musculus_census_top100_embedding.h5ad: 18\n"
     ]
    }
   ],
   "source": [
    "import scanpy as sc\n",
    "\n",
    "for dataset in [f\"mus_musculus_census_top{num_cells}_embedding.h5ad\" for num_cells in [30, 50, 70, 100]]:\n",
    "    adata_30 = sc.read_h5ad(f\"./{dataset}\")\n",
    "    print(dataset + \": \" + str(adata_30.obs.dataset_id.nunique()))"
   ]
  }
 ],
 "metadata": {
  "kernelspec": {
   "display_name": "Python 3 (ipykernel)",
   "language": "python",
   "name": "python3"
  },
  "language_info": {
   "codemirror_mode": {
    "name": "ipython",
    "version": 3
   },
   "file_extension": ".py",
   "mimetype": "text/x-python",
   "name": "python",
   "nbconvert_exporter": "python",
   "pygments_lexer": "ipython3",
   "version": "3.10.9"
  }
 },
 "nbformat": 4,
 "nbformat_minor": 5
}
