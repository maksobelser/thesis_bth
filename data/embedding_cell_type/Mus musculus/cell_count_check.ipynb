{
 "cells": [
  {
   "cell_type": "code",
   "execution_count": 1,
   "id": "c4617ebf-b795-4a7d-a710-287868d3af35",
   "metadata": {
    "tags": []
   },
   "outputs": [],
   "source": [
    "import scanpy as sc"
   ]
  },
  {
   "cell_type": "code",
   "execution_count": 2,
   "id": "3dc4402e-df23-4e73-9ac2-f159f7061d66",
   "metadata": {
    "tags": []
   },
   "outputs": [],
   "source": [
    "adata = sc.read_h5ad(\"mus_musculus_census_top100_embedding.h5ad\")"
   ]
  },
  {
   "cell_type": "code",
   "execution_count": 3,
   "id": "bc512401-0b89-4b4b-96b0-b7b8b97d6064",
   "metadata": {
    "tags": []
   },
   "outputs": [
    {
     "data": {
      "text/plain": [
       "matrix([[4.1585597e-01, 1.9575126e-04, 1.5319663e-04, ..., 0.0000000e+00,\n",
       "         0.0000000e+00, 0.0000000e+00]], dtype=float32)"
      ]
     },
     "execution_count": 3,
     "metadata": {},
     "output_type": "execute_result"
    }
   ],
   "source": [
    "adata.X.mean(axis = 0)"
   ]
  },
  {
   "cell_type": "code",
   "execution_count": 4,
   "id": "492df43a-625b-49c5-bdb0-b24ed0e9205c",
   "metadata": {
    "tags": []
   },
   "outputs": [
    {
     "data": {
      "text/plain": [
       "matrix([[0.25183234],\n",
       "        [0.11996107],\n",
       "        [0.100836  ],\n",
       "        ...,\n",
       "        [0.0289548 ],\n",
       "        [0.04888151],\n",
       "        [0.03139792]], dtype=float32)"
      ]
     },
     "execution_count": 4,
     "metadata": {},
     "output_type": "execute_result"
    }
   ],
   "source": [
    "adata.X.mean(axis = 1)"
   ]
  },
  {
   "cell_type": "code",
   "execution_count": 7,
   "id": "118c0ee8-efba-4e0a-b6e0-d1b442fdf28a",
   "metadata": {
    "tags": []
   },
   "outputs": [],
   "source": [
    "adata1 = sc.read_h5ad(\"mus_musculus_census_top30_embedding.h5ad\")"
   ]
  },
  {
   "cell_type": "code",
   "execution_count": 13,
   "id": "07fb1393-fded-4dc1-9b8a-dd3e1afa2794",
   "metadata": {
    "tags": []
   },
   "outputs": [
    {
     "data": {
      "text/plain": [
       "matrix([[7.603e+04, 1.800e+01, 1.600e+01, ..., 0.000e+00, 0.000e+00,\n",
       "         0.000e+00]], dtype=float32)"
      ]
     },
     "execution_count": 13,
     "metadata": {},
     "output_type": "execute_result"
    }
   ],
   "source": [
    "adata1.X.sum(axis = 0)"
   ]
  },
  {
   "cell_type": "code",
   "execution_count": 14,
   "id": "a53bac7f-4bce-49ac-9e31-3a02d41bfaa6",
   "metadata": {
    "tags": []
   },
   "outputs": [
    {
     "data": {
      "text/plain": [
       "matrix([[13194.],\n",
       "        [ 6285.],\n",
       "        [ 5283.],\n",
       "        ...,\n",
       "        [ 5996.],\n",
       "        [ 2684.],\n",
       "        [ 5373.]], dtype=float32)"
      ]
     },
     "execution_count": 14,
     "metadata": {},
     "output_type": "execute_result"
    }
   ],
   "source": [
    "adata1.X.sum(axis = 1)"
   ]
  },
  {
   "cell_type": "code",
   "execution_count": 12,
   "id": "82179a65-ea40-4834-b16b-051f0d00c0c8",
   "metadata": {
    "tags": []
   },
   "outputs": [
    {
     "ename": "AttributeError",
     "evalue": "'NoneType' object has no attribute 'X'",
     "output_type": "error",
     "traceback": [
      "\u001b[0;31m---------------------------------------------------------------------------\u001b[0m",
      "\u001b[0;31mAttributeError\u001b[0m                            Traceback (most recent call last)",
      "Cell \u001b[0;32mIn[12], line 1\u001b[0m\n\u001b[0;32m----> 1\u001b[0m \u001b[43madata\u001b[49m\u001b[38;5;241;43m.\u001b[39;49m\u001b[43mraw\u001b[49m\u001b[38;5;241;43m.\u001b[39;49m\u001b[43mX\u001b[49m\n",
      "\u001b[0;31mAttributeError\u001b[0m: 'NoneType' object has no attribute 'X'"
     ]
    }
   ],
   "source": [
    "adata.raw.X"
   ]
  },
  {
   "cell_type": "code",
   "execution_count": 15,
   "id": "423a6dfe-60f2-4f50-904e-599df99cc0fd",
   "metadata": {
    "tags": []
   },
   "outputs": [
    {
     "data": {
      "text/html": [
       "<div>\n",
       "<style scoped>\n",
       "    .dataframe tbody tr th:only-of-type {\n",
       "        vertical-align: middle;\n",
       "    }\n",
       "\n",
       "    .dataframe tbody tr th {\n",
       "        vertical-align: top;\n",
       "    }\n",
       "\n",
       "    .dataframe thead th {\n",
       "        text-align: right;\n",
       "    }\n",
       "</style>\n",
       "<table border=\"1\" class=\"dataframe\">\n",
       "  <thead>\n",
       "    <tr style=\"text-align: right;\">\n",
       "      <th></th>\n",
       "      <th>dataset_id</th>\n",
       "      <th>assay</th>\n",
       "      <th>cell_type</th>\n",
       "      <th>cell_type_ontology_term_id</th>\n",
       "      <th>development_stage</th>\n",
       "      <th>development_stage_ontology_term_id</th>\n",
       "      <th>disease</th>\n",
       "      <th>disease_ontology_term_id</th>\n",
       "      <th>donor_id</th>\n",
       "      <th>sex</th>\n",
       "      <th>tissue</th>\n",
       "      <th>tissue_general</th>\n",
       "      <th>is_primary_data</th>\n",
       "    </tr>\n",
       "  </thead>\n",
       "  <tbody>\n",
       "    <tr>\n",
       "      <th>491042</th>\n",
       "      <td>047d57f2-4d14-45de-aa98-336c6f583750</td>\n",
       "      <td>10x 3' v2</td>\n",
       "      <td>club cell</td>\n",
       "      <td>CL:0000158</td>\n",
       "      <td>Theiler stage 21</td>\n",
       "      <td>MmusDv:0000028</td>\n",
       "      <td>normal</td>\n",
       "      <td>PATO:0000461</td>\n",
       "      <td>pooled</td>\n",
       "      <td>unknown</td>\n",
       "      <td>lung</td>\n",
       "      <td>lung</td>\n",
       "      <td>True</td>\n",
       "    </tr>\n",
       "    <tr>\n",
       "      <th>491045</th>\n",
       "      <td>047d57f2-4d14-45de-aa98-336c6f583750</td>\n",
       "      <td>10x 3' v2</td>\n",
       "      <td>club cell</td>\n",
       "      <td>CL:0000158</td>\n",
       "      <td>Theiler stage 21</td>\n",
       "      <td>MmusDv:0000028</td>\n",
       "      <td>normal</td>\n",
       "      <td>PATO:0000461</td>\n",
       "      <td>pooled</td>\n",
       "      <td>unknown</td>\n",
       "      <td>lung</td>\n",
       "      <td>lung</td>\n",
       "      <td>True</td>\n",
       "    </tr>\n",
       "    <tr>\n",
       "      <th>491046</th>\n",
       "      <td>047d57f2-4d14-45de-aa98-336c6f583750</td>\n",
       "      <td>10x 3' v2</td>\n",
       "      <td>club cell</td>\n",
       "      <td>CL:0000158</td>\n",
       "      <td>Theiler stage 21</td>\n",
       "      <td>MmusDv:0000028</td>\n",
       "      <td>normal</td>\n",
       "      <td>PATO:0000461</td>\n",
       "      <td>pooled</td>\n",
       "      <td>unknown</td>\n",
       "      <td>lung</td>\n",
       "      <td>lung</td>\n",
       "      <td>True</td>\n",
       "    </tr>\n",
       "    <tr>\n",
       "      <th>491048</th>\n",
       "      <td>047d57f2-4d14-45de-aa98-336c6f583750</td>\n",
       "      <td>10x 3' v2</td>\n",
       "      <td>club cell</td>\n",
       "      <td>CL:0000158</td>\n",
       "      <td>Theiler stage 21</td>\n",
       "      <td>MmusDv:0000028</td>\n",
       "      <td>normal</td>\n",
       "      <td>PATO:0000461</td>\n",
       "      <td>pooled</td>\n",
       "      <td>unknown</td>\n",
       "      <td>lung</td>\n",
       "      <td>lung</td>\n",
       "      <td>True</td>\n",
       "    </tr>\n",
       "    <tr>\n",
       "      <th>491053</th>\n",
       "      <td>047d57f2-4d14-45de-aa98-336c6f583750</td>\n",
       "      <td>10x 3' v2</td>\n",
       "      <td>club cell</td>\n",
       "      <td>CL:0000158</td>\n",
       "      <td>Theiler stage 21</td>\n",
       "      <td>MmusDv:0000028</td>\n",
       "      <td>normal</td>\n",
       "      <td>PATO:0000461</td>\n",
       "      <td>pooled</td>\n",
       "      <td>unknown</td>\n",
       "      <td>lung</td>\n",
       "      <td>lung</td>\n",
       "      <td>True</td>\n",
       "    </tr>\n",
       "    <tr>\n",
       "      <th>...</th>\n",
       "      <td>...</td>\n",
       "      <td>...</td>\n",
       "      <td>...</td>\n",
       "      <td>...</td>\n",
       "      <td>...</td>\n",
       "      <td>...</td>\n",
       "      <td>...</td>\n",
       "      <td>...</td>\n",
       "      <td>...</td>\n",
       "      <td>...</td>\n",
       "      <td>...</td>\n",
       "      <td>...</td>\n",
       "      <td>...</td>\n",
       "    </tr>\n",
       "    <tr>\n",
       "      <th>462391</th>\n",
       "      <td>dbb4e1ed-d820-4e83-981f-88ef7eb55a35</td>\n",
       "      <td>10x 3' v3</td>\n",
       "      <td>neuron</td>\n",
       "      <td>CL:0000540</td>\n",
       "      <td>2 month-old stage</td>\n",
       "      <td>MmusDv:0000062</td>\n",
       "      <td>normal</td>\n",
       "      <td>PATO:0000461</td>\n",
       "      <td>pooled</td>\n",
       "      <td>male</td>\n",
       "      <td>hypothalamus</td>\n",
       "      <td>brain</td>\n",
       "      <td>True</td>\n",
       "    </tr>\n",
       "    <tr>\n",
       "      <th>305958</th>\n",
       "      <td>dbb4e1ed-d820-4e83-981f-88ef7eb55a35</td>\n",
       "      <td>10x 3' v3</td>\n",
       "      <td>neuron</td>\n",
       "      <td>CL:0000540</td>\n",
       "      <td>2 month-old stage</td>\n",
       "      <td>MmusDv:0000062</td>\n",
       "      <td>normal</td>\n",
       "      <td>PATO:0000461</td>\n",
       "      <td>pooled</td>\n",
       "      <td>male</td>\n",
       "      <td>hypothalamus</td>\n",
       "      <td>brain</td>\n",
       "      <td>True</td>\n",
       "    </tr>\n",
       "    <tr>\n",
       "      <th>409286</th>\n",
       "      <td>dbb4e1ed-d820-4e83-981f-88ef7eb55a35</td>\n",
       "      <td>10x 3' v2</td>\n",
       "      <td>neuron</td>\n",
       "      <td>CL:0000540</td>\n",
       "      <td>4 weeks</td>\n",
       "      <td>MmusDv:0000048</td>\n",
       "      <td>normal</td>\n",
       "      <td>PATO:0000461</td>\n",
       "      <td>pooled</td>\n",
       "      <td>unknown</td>\n",
       "      <td>hypothalamus</td>\n",
       "      <td>brain</td>\n",
       "      <td>True</td>\n",
       "    </tr>\n",
       "    <tr>\n",
       "      <th>450834</th>\n",
       "      <td>dbb4e1ed-d820-4e83-981f-88ef7eb55a35</td>\n",
       "      <td>10x 3' v3</td>\n",
       "      <td>neuron</td>\n",
       "      <td>CL:0000540</td>\n",
       "      <td>2 month-old stage</td>\n",
       "      <td>MmusDv:0000062</td>\n",
       "      <td>normal</td>\n",
       "      <td>PATO:0000461</td>\n",
       "      <td>pooled</td>\n",
       "      <td>female</td>\n",
       "      <td>hypothalamus</td>\n",
       "      <td>brain</td>\n",
       "      <td>True</td>\n",
       "    </tr>\n",
       "    <tr>\n",
       "      <th>469391</th>\n",
       "      <td>dbb4e1ed-d820-4e83-981f-88ef7eb55a35</td>\n",
       "      <td>10x 3' v2</td>\n",
       "      <td>neuron</td>\n",
       "      <td>CL:0000540</td>\n",
       "      <td>2 month-old stage</td>\n",
       "      <td>MmusDv:0000062</td>\n",
       "      <td>normal</td>\n",
       "      <td>PATO:0000461</td>\n",
       "      <td>pooled</td>\n",
       "      <td>male</td>\n",
       "      <td>hypothalamus</td>\n",
       "      <td>brain</td>\n",
       "      <td>True</td>\n",
       "    </tr>\n",
       "  </tbody>\n",
       "</table>\n",
       "<p>74549 rows × 13 columns</p>\n",
       "</div>"
      ],
      "text/plain": [
       "                                  dataset_id      assay  cell_type  \\\n",
       "491042  047d57f2-4d14-45de-aa98-336c6f583750  10x 3' v2  club cell   \n",
       "491045  047d57f2-4d14-45de-aa98-336c6f583750  10x 3' v2  club cell   \n",
       "491046  047d57f2-4d14-45de-aa98-336c6f583750  10x 3' v2  club cell   \n",
       "491048  047d57f2-4d14-45de-aa98-336c6f583750  10x 3' v2  club cell   \n",
       "491053  047d57f2-4d14-45de-aa98-336c6f583750  10x 3' v2  club cell   \n",
       "...                                      ...        ...        ...   \n",
       "462391  dbb4e1ed-d820-4e83-981f-88ef7eb55a35  10x 3' v3     neuron   \n",
       "305958  dbb4e1ed-d820-4e83-981f-88ef7eb55a35  10x 3' v3     neuron   \n",
       "409286  dbb4e1ed-d820-4e83-981f-88ef7eb55a35  10x 3' v2     neuron   \n",
       "450834  dbb4e1ed-d820-4e83-981f-88ef7eb55a35  10x 3' v3     neuron   \n",
       "469391  dbb4e1ed-d820-4e83-981f-88ef7eb55a35  10x 3' v2     neuron   \n",
       "\n",
       "       cell_type_ontology_term_id  development_stage  \\\n",
       "491042                 CL:0000158   Theiler stage 21   \n",
       "491045                 CL:0000158   Theiler stage 21   \n",
       "491046                 CL:0000158   Theiler stage 21   \n",
       "491048                 CL:0000158   Theiler stage 21   \n",
       "491053                 CL:0000158   Theiler stage 21   \n",
       "...                           ...                ...   \n",
       "462391                 CL:0000540  2 month-old stage   \n",
       "305958                 CL:0000540  2 month-old stage   \n",
       "409286                 CL:0000540            4 weeks   \n",
       "450834                 CL:0000540  2 month-old stage   \n",
       "469391                 CL:0000540  2 month-old stage   \n",
       "\n",
       "       development_stage_ontology_term_id disease disease_ontology_term_id  \\\n",
       "491042                     MmusDv:0000028  normal             PATO:0000461   \n",
       "491045                     MmusDv:0000028  normal             PATO:0000461   \n",
       "491046                     MmusDv:0000028  normal             PATO:0000461   \n",
       "491048                     MmusDv:0000028  normal             PATO:0000461   \n",
       "491053                     MmusDv:0000028  normal             PATO:0000461   \n",
       "...                                   ...     ...                      ...   \n",
       "462391                     MmusDv:0000062  normal             PATO:0000461   \n",
       "305958                     MmusDv:0000062  normal             PATO:0000461   \n",
       "409286                     MmusDv:0000048  normal             PATO:0000461   \n",
       "450834                     MmusDv:0000062  normal             PATO:0000461   \n",
       "469391                     MmusDv:0000062  normal             PATO:0000461   \n",
       "\n",
       "       donor_id      sex        tissue tissue_general  is_primary_data  \n",
       "491042   pooled  unknown          lung           lung             True  \n",
       "491045   pooled  unknown          lung           lung             True  \n",
       "491046   pooled  unknown          lung           lung             True  \n",
       "491048   pooled  unknown          lung           lung             True  \n",
       "491053   pooled  unknown          lung           lung             True  \n",
       "...         ...      ...           ...            ...              ...  \n",
       "462391   pooled     male  hypothalamus          brain             True  \n",
       "305958   pooled     male  hypothalamus          brain             True  \n",
       "409286   pooled  unknown  hypothalamus          brain             True  \n",
       "450834   pooled   female  hypothalamus          brain             True  \n",
       "469391   pooled     male  hypothalamus          brain             True  \n",
       "\n",
       "[74549 rows x 13 columns]"
      ]
     },
     "execution_count": 15,
     "metadata": {},
     "output_type": "execute_result"
    }
   ],
   "source": [
    "adata1.obs"
   ]
  },
  {
   "cell_type": "code",
   "execution_count": null,
   "id": "6af55cff-a38c-4c0b-a02e-cb8028f8d8d0",
   "metadata": {},
   "outputs": [],
   "source": []
  }
 ],
 "metadata": {
  "kernelspec": {
   "display_name": "Python 3 (ipykernel)",
   "language": "python",
   "name": "python3"
  },
  "language_info": {
   "codemirror_mode": {
    "name": "ipython",
    "version": 3
   },
   "file_extension": ".py",
   "mimetype": "text/x-python",
   "name": "python",
   "nbconvert_exporter": "python",
   "pygments_lexer": "ipython3",
   "version": "3.10.9"
  }
 },
 "nbformat": 4,
 "nbformat_minor": 5
}
