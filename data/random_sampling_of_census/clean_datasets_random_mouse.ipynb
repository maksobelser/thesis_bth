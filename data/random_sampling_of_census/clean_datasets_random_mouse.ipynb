{
 "cells": [
  {
   "cell_type": "code",
   "execution_count": 1,
   "id": "546a99e2-0449-4aaa-910c-b43186b9b133",
   "metadata": {
    "tags": []
   },
   "outputs": [],
   "source": [
    "import scanpy as sc\n",
    "import pandas as pd"
   ]
  },
  {
   "cell_type": "markdown",
   "id": "8b49c985-0075-4d67-948c-08ff22973079",
   "metadata": {},
   "source": [
    "### seed 42 MOUSE"
   ]
  },
  {
   "cell_type": "code",
   "execution_count": 4,
   "id": "9bfa9b62-1193-4a64-86a6-a6c3a00efd03",
   "metadata": {
    "tags": []
   },
   "outputs": [],
   "source": [
    "seed = 42"
   ]
  },
  {
   "cell_type": "code",
   "execution_count": 5,
   "id": "f11f73e9-8dc6-4949-8027-a3d256a7aa8c",
   "metadata": {
    "tags": []
   },
   "outputs": [],
   "source": [
    "adata = sc.read_h5ad(f\"mus_musculus_random_datasets_sample_seed_{seed}.h5ad\")"
   ]
  },
  {
   "cell_type": "code",
   "execution_count": 6,
   "id": "71438fb9-0501-4ae8-aeca-bcb30a8affe5",
   "metadata": {
    "tags": []
   },
   "outputs": [],
   "source": [
    "adata.obs = adata.obs[['dataset_id', 'cell_type', 'disease']]"
   ]
  },
  {
   "cell_type": "code",
   "execution_count": 7,
   "id": "d4bb9858-0cd8-4da9-9d3a-07f6b399c07a",
   "metadata": {
    "tags": []
   },
   "outputs": [],
   "source": [
    "adata.obs[\"organism\"] = \"Mus musculus\""
   ]
  },
  {
   "cell_type": "code",
   "execution_count": 8,
   "id": "23209760-9db6-4be4-8d7d-e790fce61e08",
   "metadata": {
    "tags": []
   },
   "outputs": [],
   "source": [
    "adata.obs.rename({\"dataset_id\":\"dataset\"}, axis = 1, inplace = True)"
   ]
  },
  {
   "cell_type": "code",
   "execution_count": 9,
   "id": "8348eef3-aea2-4828-9569-1c7bf8c8f6b3",
   "metadata": {
    "tags": []
   },
   "outputs": [
    {
     "data": {
      "text/html": [
       "<div>\n",
       "<style scoped>\n",
       "    .dataframe tbody tr th:only-of-type {\n",
       "        vertical-align: middle;\n",
       "    }\n",
       "\n",
       "    .dataframe tbody tr th {\n",
       "        vertical-align: top;\n",
       "    }\n",
       "\n",
       "    .dataframe thead th {\n",
       "        text-align: right;\n",
       "    }\n",
       "</style>\n",
       "<table border=\"1\" class=\"dataframe\">\n",
       "  <thead>\n",
       "    <tr style=\"text-align: right;\">\n",
       "      <th></th>\n",
       "      <th>soma_joinid</th>\n",
       "      <th>feature_id</th>\n",
       "      <th>feature_name</th>\n",
       "      <th>feature_length</th>\n",
       "    </tr>\n",
       "  </thead>\n",
       "  <tbody>\n",
       "    <tr>\n",
       "      <th>0</th>\n",
       "      <td>0</td>\n",
       "      <td>ENSMUSG00000051951</td>\n",
       "      <td>Xkr4</td>\n",
       "      <td>6094</td>\n",
       "    </tr>\n",
       "    <tr>\n",
       "      <th>1</th>\n",
       "      <td>1</td>\n",
       "      <td>ENSMUSG00000089699</td>\n",
       "      <td>Gm1992</td>\n",
       "      <td>250</td>\n",
       "    </tr>\n",
       "    <tr>\n",
       "      <th>2</th>\n",
       "      <td>2</td>\n",
       "      <td>ENSMUSG00000102343</td>\n",
       "      <td>Gm37381</td>\n",
       "      <td>1364</td>\n",
       "    </tr>\n",
       "    <tr>\n",
       "      <th>3</th>\n",
       "      <td>3</td>\n",
       "      <td>ENSMUSG00000025900</td>\n",
       "      <td>Rp1</td>\n",
       "      <td>12311</td>\n",
       "    </tr>\n",
       "    <tr>\n",
       "      <th>4</th>\n",
       "      <td>4</td>\n",
       "      <td>ENSMUSG00000025902</td>\n",
       "      <td>Sox17</td>\n",
       "      <td>4772</td>\n",
       "    </tr>\n",
       "    <tr>\n",
       "      <th>...</th>\n",
       "      <td>...</td>\n",
       "      <td>...</td>\n",
       "      <td>...</td>\n",
       "      <td>...</td>\n",
       "    </tr>\n",
       "    <tr>\n",
       "      <th>52387</th>\n",
       "      <td>52387</td>\n",
       "      <td>ENSMUSG00000081591</td>\n",
       "      <td>Btf3-ps9</td>\n",
       "      <td>496</td>\n",
       "    </tr>\n",
       "    <tr>\n",
       "      <th>52388</th>\n",
       "      <td>52388</td>\n",
       "      <td>ENSMUSG00000118710</td>\n",
       "      <td>mmu-mir-467a-3_ENSMUSG00000118710</td>\n",
       "      <td>83</td>\n",
       "    </tr>\n",
       "    <tr>\n",
       "      <th>52389</th>\n",
       "      <td>52389</td>\n",
       "      <td>ENSMUSG00000119584</td>\n",
       "      <td>Rn18s</td>\n",
       "      <td>1849</td>\n",
       "    </tr>\n",
       "    <tr>\n",
       "      <th>52390</th>\n",
       "      <td>52390</td>\n",
       "      <td>ENSMUSG00000118538</td>\n",
       "      <td>Gm18218</td>\n",
       "      <td>970</td>\n",
       "    </tr>\n",
       "    <tr>\n",
       "      <th>52391</th>\n",
       "      <td>52391</td>\n",
       "      <td>ENSMUSG00000084217</td>\n",
       "      <td>Setd9-ps</td>\n",
       "      <td>670</td>\n",
       "    </tr>\n",
       "  </tbody>\n",
       "</table>\n",
       "<p>52392 rows × 4 columns</p>\n",
       "</div>"
      ],
      "text/plain": [
       "       soma_joinid          feature_id                       feature_name  \\\n",
       "0                0  ENSMUSG00000051951                               Xkr4   \n",
       "1                1  ENSMUSG00000089699                             Gm1992   \n",
       "2                2  ENSMUSG00000102343                            Gm37381   \n",
       "3                3  ENSMUSG00000025900                                Rp1   \n",
       "4                4  ENSMUSG00000025902                              Sox17   \n",
       "...            ...                 ...                                ...   \n",
       "52387        52387  ENSMUSG00000081591                           Btf3-ps9   \n",
       "52388        52388  ENSMUSG00000118710  mmu-mir-467a-3_ENSMUSG00000118710   \n",
       "52389        52389  ENSMUSG00000119584                              Rn18s   \n",
       "52390        52390  ENSMUSG00000118538                            Gm18218   \n",
       "52391        52391  ENSMUSG00000084217                           Setd9-ps   \n",
       "\n",
       "       feature_length  \n",
       "0                6094  \n",
       "1                 250  \n",
       "2                1364  \n",
       "3               12311  \n",
       "4                4772  \n",
       "...               ...  \n",
       "52387             496  \n",
       "52388              83  \n",
       "52389            1849  \n",
       "52390             970  \n",
       "52391             670  \n",
       "\n",
       "[52392 rows x 4 columns]"
      ]
     },
     "execution_count": 9,
     "metadata": {},
     "output_type": "execute_result"
    }
   ],
   "source": [
    "adata.var"
   ]
  },
  {
   "cell_type": "markdown",
   "id": "8d281821-51d9-4016-9ce1-de3f7677956e",
   "metadata": {},
   "source": [
    "#### Getting orth"
   ]
  },
  {
   "cell_type": "code",
   "execution_count": 17,
   "id": "2c24ed85-9cc6-4969-8fab-18c83883070c",
   "metadata": {
    "tags": []
   },
   "outputs": [],
   "source": [
    "var = pd.DataFrame(index = adata.var.feature_id.rename(\"EID\"))"
   ]
  },
  {
   "cell_type": "code",
   "execution_count": 18,
   "id": "ed813408-a1e9-48ae-80a8-b6e11f804d54",
   "metadata": {
    "tags": []
   },
   "outputs": [
    {
     "data": {
      "text/html": [
       "<div>\n",
       "<style scoped>\n",
       "    .dataframe tbody tr th:only-of-type {\n",
       "        vertical-align: middle;\n",
       "    }\n",
       "\n",
       "    .dataframe tbody tr th {\n",
       "        vertical-align: top;\n",
       "    }\n",
       "\n",
       "    .dataframe thead th {\n",
       "        text-align: right;\n",
       "    }\n",
       "</style>\n",
       "<table border=\"1\" class=\"dataframe\">\n",
       "  <thead>\n",
       "    <tr style=\"text-align: right;\">\n",
       "      <th></th>\n",
       "    </tr>\n",
       "    <tr>\n",
       "      <th>EID</th>\n",
       "    </tr>\n",
       "  </thead>\n",
       "  <tbody>\n",
       "    <tr>\n",
       "      <th>ENSMUSG00000051951</th>\n",
       "    </tr>\n",
       "    <tr>\n",
       "      <th>ENSMUSG00000089699</th>\n",
       "    </tr>\n",
       "    <tr>\n",
       "      <th>ENSMUSG00000102343</th>\n",
       "    </tr>\n",
       "    <tr>\n",
       "      <th>ENSMUSG00000025900</th>\n",
       "    </tr>\n",
       "    <tr>\n",
       "      <th>ENSMUSG00000025902</th>\n",
       "    </tr>\n",
       "    <tr>\n",
       "      <th>...</th>\n",
       "    </tr>\n",
       "    <tr>\n",
       "      <th>ENSMUSG00000081591</th>\n",
       "    </tr>\n",
       "    <tr>\n",
       "      <th>ENSMUSG00000118710</th>\n",
       "    </tr>\n",
       "    <tr>\n",
       "      <th>ENSMUSG00000119584</th>\n",
       "    </tr>\n",
       "    <tr>\n",
       "      <th>ENSMUSG00000118538</th>\n",
       "    </tr>\n",
       "    <tr>\n",
       "      <th>ENSMUSG00000084217</th>\n",
       "    </tr>\n",
       "  </tbody>\n",
       "</table>\n",
       "<p>52392 rows × 0 columns</p>\n",
       "</div>"
      ],
      "text/plain": [
       "Empty DataFrame\n",
       "Columns: []\n",
       "Index: [ENSMUSG00000051951, ENSMUSG00000089699, ENSMUSG00000102343, ENSMUSG00000025900, ENSMUSG00000025902, ENSMUSG00000104328, ENSMUSG00000033845, ENSMUSG00000025903, ENSMUSG00000104217, ENSMUSG00000033813, ENSMUSG00000002459, ENSMUSG00000085623, ENSMUSG00000033793, ENSMUSG00000025905, ENSMUSG00000033774, ENSMUSG00000025907, ENSMUSG00000090031, ENSMUSG00000087247, ENSMUSG00000033740, ENSMUSG00000051285, ENSMUSG00000097797, ENSMUSG00000103067, ENSMUSG00000025909, ENSMUSG00000061024, ENSMUSG00000025911, ENSMUSG00000067879, ENSMUSG00000099827, ENSMUSG00000025912, ENSMUSG00000045210, ENSMUSG00000097893, ENSMUSG00000025915, ENSMUSG00000046101, ENSMUSG00000098234, ENSMUSG00000099032, ENSMUSG00000025916, ENSMUSG00000087199, ENSMUSG00000025917, ENSMUSG00000056763, ENSMUSG00000067851, ENSMUSG00000042501, ENSMUSG00000048960, ENSMUSG00000057715, ENSMUSG00000097171, ENSMUSG00000101314, ENSMUSG00000016918, ENSMUSG00000025938, ENSMUSG00000099498, ENSMUSG00000042414, ENSMUSG00000005886, ENSMUSG00000101476, ENSMUSG00000025935, ENSMUSG00000025937, ENSMUSG00000067813, ENSMUSG00000025932, ENSMUSG00000054493, ENSMUSG00000025930, ENSMUSG00000032769, ENSMUSG00000092083, ENSMUSG00000025925, ENSMUSG00000032719, ENSMUSG00000067795, ENSMUSG00000043716, ENSMUSG00000025921, ENSMUSG00000100868, ENSMUSG00000025920, ENSMUSG00000089982, ENSMUSG00000025939, ENSMUSG00000079658, ENSMUSG00000097744, ENSMUSG00000025940, ENSMUSG00000025779, ENSMUSG00000101640, ENSMUSG00000042686, ENSMUSG00000100110, ENSMUSG00000025777, ENSMUSG00000099899, ENSMUSG00000067780, ENSMUSG00000100053, ENSMUSG00000085125, ENSMUSG00000025776, ENSMUSG00000099895, ENSMUSG00000025774, ENSMUSG00000073735, ENSMUSG00000067773, ENSMUSG00000089787, ENSMUSG00000042596, ENSMUSG00000025927, ENSMUSG00000100538, ENSMUSG00000043760, ENSMUSG00000089914, ENSMUSG00000099906, ENSMUSG00000025929, ENSMUSG00000041872, ENSMUSG00000041859, ENSMUSG00000102121, ENSMUSG00000097934, ENSMUSG00000025931, ENSMUSG00000041809, ENSMUSG00000041779, ENSMUSG00000099971, ...]\n",
       "\n",
       "[52392 rows x 0 columns]"
      ]
     },
     "execution_count": 18,
     "metadata": {},
     "output_type": "execute_result"
    }
   ],
   "source": [
    "var"
   ]
  },
  {
   "cell_type": "code",
   "execution_count": 19,
   "id": "aee5bdaa-53b0-40cd-bfaa-cb03168b6a23",
   "metadata": {
    "tags": []
   },
   "outputs": [],
   "source": [
    "adata.var = var"
   ]
  },
  {
   "cell_type": "code",
   "execution_count": 22,
   "id": "6495a04e-dd27-41a1-b4a0-be6fdc5c8715",
   "metadata": {
    "tags": []
   },
   "outputs": [],
   "source": [
    "sc.pp.normalize_per_cell(adata)\n",
    "sc.pp.log1p(adata)"
   ]
  },
  {
   "cell_type": "code",
   "execution_count": 23,
   "id": "a49cfe92-c560-4c24-a2e7-6b61b4197c77",
   "metadata": {
    "tags": []
   },
   "outputs": [],
   "source": [
    "adata.write_h5ad(f\"Clean_datasets/mus_musculus_random_datasets_sample_seed_{seed}_norm_log1p.h5ad\")"
   ]
  },
  {
   "cell_type": "markdown",
   "id": "413ff001-7ea8-44c8-8c46-bd393d7d4a5f",
   "metadata": {},
   "source": [
    "### seed 43 MOUSE"
   ]
  },
  {
   "cell_type": "code",
   "execution_count": 34,
   "id": "ebf59cfb-b8ff-461d-89db-d65d15c8ac40",
   "metadata": {
    "tags": []
   },
   "outputs": [],
   "source": [
    "seed = 43"
   ]
  },
  {
   "cell_type": "code",
   "execution_count": 35,
   "id": "c19bcf7e-0493-468d-a22b-5bbe9b874afe",
   "metadata": {
    "tags": []
   },
   "outputs": [],
   "source": [
    "adata = sc.read_h5ad(f\"mus_musculus_random_datasets_sample_seed_{seed}.h5ad\")"
   ]
  },
  {
   "cell_type": "code",
   "execution_count": 36,
   "id": "384b1652-0f91-4f19-80a2-ae9b0d11839c",
   "metadata": {
    "tags": []
   },
   "outputs": [],
   "source": [
    "adata.obs = adata.obs[['dataset_id', 'cell_type', 'disease']]"
   ]
  },
  {
   "cell_type": "code",
   "execution_count": 37,
   "id": "3fb968df-4630-40a3-8f4b-280b8c6600b1",
   "metadata": {
    "tags": []
   },
   "outputs": [],
   "source": [
    "adata.obs[\"organism\"] = \"Mus musculus\""
   ]
  },
  {
   "cell_type": "code",
   "execution_count": 38,
   "id": "b497e72f-e799-4107-9a29-8a20c5d94289",
   "metadata": {
    "tags": []
   },
   "outputs": [],
   "source": [
    "adata.obs.rename({\"dataset_id\":\"dataset\"}, axis = 1, inplace = True)"
   ]
  },
  {
   "cell_type": "code",
   "execution_count": 39,
   "id": "c7fec7bd-1ba3-4417-9960-c63dd1f54ccf",
   "metadata": {
    "tags": []
   },
   "outputs": [
    {
     "data": {
      "text/html": [
       "<div>\n",
       "<style scoped>\n",
       "    .dataframe tbody tr th:only-of-type {\n",
       "        vertical-align: middle;\n",
       "    }\n",
       "\n",
       "    .dataframe tbody tr th {\n",
       "        vertical-align: top;\n",
       "    }\n",
       "\n",
       "    .dataframe thead th {\n",
       "        text-align: right;\n",
       "    }\n",
       "</style>\n",
       "<table border=\"1\" class=\"dataframe\">\n",
       "  <thead>\n",
       "    <tr style=\"text-align: right;\">\n",
       "      <th></th>\n",
       "      <th>soma_joinid</th>\n",
       "      <th>feature_id</th>\n",
       "      <th>feature_name</th>\n",
       "      <th>feature_length</th>\n",
       "    </tr>\n",
       "  </thead>\n",
       "  <tbody>\n",
       "    <tr>\n",
       "      <th>0</th>\n",
       "      <td>0</td>\n",
       "      <td>ENSMUSG00000051951</td>\n",
       "      <td>Xkr4</td>\n",
       "      <td>6094</td>\n",
       "    </tr>\n",
       "    <tr>\n",
       "      <th>1</th>\n",
       "      <td>1</td>\n",
       "      <td>ENSMUSG00000089699</td>\n",
       "      <td>Gm1992</td>\n",
       "      <td>250</td>\n",
       "    </tr>\n",
       "    <tr>\n",
       "      <th>2</th>\n",
       "      <td>2</td>\n",
       "      <td>ENSMUSG00000102343</td>\n",
       "      <td>Gm37381</td>\n",
       "      <td>1364</td>\n",
       "    </tr>\n",
       "    <tr>\n",
       "      <th>3</th>\n",
       "      <td>3</td>\n",
       "      <td>ENSMUSG00000025900</td>\n",
       "      <td>Rp1</td>\n",
       "      <td>12311</td>\n",
       "    </tr>\n",
       "    <tr>\n",
       "      <th>4</th>\n",
       "      <td>4</td>\n",
       "      <td>ENSMUSG00000025902</td>\n",
       "      <td>Sox17</td>\n",
       "      <td>4772</td>\n",
       "    </tr>\n",
       "    <tr>\n",
       "      <th>...</th>\n",
       "      <td>...</td>\n",
       "      <td>...</td>\n",
       "      <td>...</td>\n",
       "      <td>...</td>\n",
       "    </tr>\n",
       "    <tr>\n",
       "      <th>52387</th>\n",
       "      <td>52387</td>\n",
       "      <td>ENSMUSG00000081591</td>\n",
       "      <td>Btf3-ps9</td>\n",
       "      <td>496</td>\n",
       "    </tr>\n",
       "    <tr>\n",
       "      <th>52388</th>\n",
       "      <td>52388</td>\n",
       "      <td>ENSMUSG00000118710</td>\n",
       "      <td>mmu-mir-467a-3_ENSMUSG00000118710</td>\n",
       "      <td>83</td>\n",
       "    </tr>\n",
       "    <tr>\n",
       "      <th>52389</th>\n",
       "      <td>52389</td>\n",
       "      <td>ENSMUSG00000119584</td>\n",
       "      <td>Rn18s</td>\n",
       "      <td>1849</td>\n",
       "    </tr>\n",
       "    <tr>\n",
       "      <th>52390</th>\n",
       "      <td>52390</td>\n",
       "      <td>ENSMUSG00000118538</td>\n",
       "      <td>Gm18218</td>\n",
       "      <td>970</td>\n",
       "    </tr>\n",
       "    <tr>\n",
       "      <th>52391</th>\n",
       "      <td>52391</td>\n",
       "      <td>ENSMUSG00000084217</td>\n",
       "      <td>Setd9-ps</td>\n",
       "      <td>670</td>\n",
       "    </tr>\n",
       "  </tbody>\n",
       "</table>\n",
       "<p>52392 rows × 4 columns</p>\n",
       "</div>"
      ],
      "text/plain": [
       "       soma_joinid          feature_id                       feature_name  \\\n",
       "0                0  ENSMUSG00000051951                               Xkr4   \n",
       "1                1  ENSMUSG00000089699                             Gm1992   \n",
       "2                2  ENSMUSG00000102343                            Gm37381   \n",
       "3                3  ENSMUSG00000025900                                Rp1   \n",
       "4                4  ENSMUSG00000025902                              Sox17   \n",
       "...            ...                 ...                                ...   \n",
       "52387        52387  ENSMUSG00000081591                           Btf3-ps9   \n",
       "52388        52388  ENSMUSG00000118710  mmu-mir-467a-3_ENSMUSG00000118710   \n",
       "52389        52389  ENSMUSG00000119584                              Rn18s   \n",
       "52390        52390  ENSMUSG00000118538                            Gm18218   \n",
       "52391        52391  ENSMUSG00000084217                           Setd9-ps   \n",
       "\n",
       "       feature_length  \n",
       "0                6094  \n",
       "1                 250  \n",
       "2                1364  \n",
       "3               12311  \n",
       "4                4772  \n",
       "...               ...  \n",
       "52387             496  \n",
       "52388              83  \n",
       "52389            1849  \n",
       "52390             970  \n",
       "52391             670  \n",
       "\n",
       "[52392 rows x 4 columns]"
      ]
     },
     "execution_count": 39,
     "metadata": {},
     "output_type": "execute_result"
    }
   ],
   "source": [
    "adata.var"
   ]
  },
  {
   "cell_type": "code",
   "execution_count": 40,
   "id": "193b1169-fba4-4534-9cee-eb8d4b465ff4",
   "metadata": {
    "tags": []
   },
   "outputs": [],
   "source": [
    "var = pd.DataFrame(index = adata.var.feature_id.rename(\"EID\"))"
   ]
  },
  {
   "cell_type": "code",
   "execution_count": 41,
   "id": "07fdbc10-9e79-4a7b-9845-521c663daf6a",
   "metadata": {
    "tags": []
   },
   "outputs": [],
   "source": [
    "adata.var = var"
   ]
  },
  {
   "cell_type": "code",
   "execution_count": 42,
   "id": "9b90be1a-da65-47a3-8757-7c6ad2988fc4",
   "metadata": {
    "tags": []
   },
   "outputs": [],
   "source": [
    "sc.pp.normalize_per_cell(adata)\n",
    "sc.pp.log1p(adata)"
   ]
  },
  {
   "cell_type": "code",
   "execution_count": 43,
   "id": "48f8ee5f-cfc3-454f-8037-f189c1506165",
   "metadata": {
    "tags": []
   },
   "outputs": [],
   "source": [
    "adata.write_h5ad(f\"Clean_datasets/mus_musculus_random_datasets_sample_seed_{seed}_norm_log1p.h5ad\")"
   ]
  }
 ],
 "metadata": {
  "kernelspec": {
   "display_name": "Python 3 (ipykernel)",
   "language": "python",
   "name": "python3"
  },
  "language_info": {
   "codemirror_mode": {
    "name": "ipython",
    "version": 3
   },
   "file_extension": ".py",
   "mimetype": "text/x-python",
   "name": "python",
   "nbconvert_exporter": "python",
   "pygments_lexer": "ipython3",
   "version": "3.10.9"
  }
 },
 "nbformat": 4,
 "nbformat_minor": 5
}
