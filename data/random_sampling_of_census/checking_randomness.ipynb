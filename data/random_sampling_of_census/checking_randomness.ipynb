{
 "cells": [
  {
   "cell_type": "code",
   "execution_count": 3,
   "id": "51e010a3-8c7d-47c6-a9c6-8b91928c570c",
   "metadata": {
    "tags": []
   },
   "outputs": [],
   "source": [
    "import scanpy as sc"
   ]
  },
  {
   "cell_type": "code",
   "execution_count": 4,
   "id": "db8a633f-acd3-4283-ad6b-1477654adaff",
   "metadata": {
    "tags": []
   },
   "outputs": [],
   "source": [
    "adata = sc.read_h5ad(\"homo_sapiens_random_datasets_sample_seed_42.h5ad\")"
   ]
  },
  {
   "cell_type": "code",
   "execution_count": 5,
   "id": "4d014af0-7c44-4a25-98e3-eb40560dbffe",
   "metadata": {
    "tags": []
   },
   "outputs": [],
   "source": [
    "obs = adata.obs.groupby(\"dataset_id\")"
   ]
  },
  {
   "cell_type": "code",
   "execution_count": 12,
   "id": "98212f7f-7875-4413-a9c7-e2515df65466",
   "metadata": {
    "tags": []
   },
   "outputs": [
    {
     "name": "stdout",
     "output_type": "stream",
     "text": [
      " ----------------------------- 1b9d8702-5af8-4142-85ed-020eb06ec4f6  -----------------------------\n",
      "lymph node         6955\n",
      "spleen             6407\n",
      "bone marrow        5018\n",
      "lung               3644\n",
      "lamina propria     2487\n",
      "blood              1957\n",
      "small intestine    1853\n",
      "liver              1742\n",
      "colon               159\n",
      "musculature          90\n",
      "omentum              60\n",
      "endocrine gland      51\n",
      "Name: tissue_general, dtype: int64\n",
      " ----------------------------- 1c739a3e-c3f5-49d5-98e0-73975e751201  -----------------------------\n",
      "heart    10242\n",
      "Name: tissue_general, dtype: int64\n",
      " ----------------------------- 2adb1f8a-a6b1-4909-8ee8-484814e2d4bf  -----------------------------\n",
      "kidney                3744\n",
      "lung                  3209\n",
      "blood                 3184\n",
      "brain                 2964\n",
      "pancreas              2963\n",
      "stomach               2323\n",
      "adrenal gland         2084\n",
      "liver                 1875\n",
      "musculature           1783\n",
      "testis                1708\n",
      "endocrine gland       1456\n",
      "pleura                1364\n",
      "heart                 1302\n",
      "skeletal system       1163\n",
      "respiratory system    1053\n",
      "esophagus             1009\n",
      "colon                  832\n",
      "uterus                 706\n",
      "spleen                 679\n",
      "small intestine        645\n",
      "bone marrow            645\n",
      "prostate gland         615\n",
      "large intestine        599\n",
      "intestine              585\n",
      "ovary                  505\n",
      "fallopian tube         453\n",
      "bladder organ          442\n",
      "spinal cord            432\n",
      "gallbladder            353\n",
      "omentum                287\n",
      "vasculature            286\n",
      "skin of body           265\n",
      "embryo                 220\n",
      "placenta               214\n",
      "eye                    122\n",
      "adipose tissue          29\n",
      "ureter                  27\n",
      "Name: tissue_general, dtype: int64\n",
      " ----------------------------- 4ed927e9-c099-49af-b8ce-a2652d069333  -----------------------------\n",
      "mucosa            6153\n",
      "esophagus         5680\n",
      "prostate gland    5568\n",
      "heart             4960\n",
      "musculature       4665\n",
      "lung              4481\n",
      "skin of body      3091\n",
      "breast            3015\n",
      "Name: tissue_general, dtype: int64\n",
      " ----------------------------- 5af90777-6760-4003-9dba-8f945fec6fdf  -----------------------------\n",
      "kidney            21496\n",
      "blood              8793\n",
      "adrenal gland      1418\n",
      "blood clot          671\n",
      "adipose tissue      506\n",
      "Name: tissue_general, dtype: int64\n",
      " ----------------------------- 6c600df6-ddca-4628-a8bb-1d6de1e3f9b4  -----------------------------\n",
      "brain    7000\n",
      "Name: tissue_general, dtype: int64\n",
      " ----------------------------- 6cf3634d-e911-44ad-bf52-c747a9af3c01  -----------------------------\n",
      "colon    5693\n",
      "Name: tissue_general, dtype: int64\n",
      " ----------------------------- 53d208b0-2cfd-4366-9866-c3c6114081bc  -----------------------------\n",
      "endocrine gland       9032\n",
      "lung                  7817\n",
      "lymph node            7220\n",
      "exocrine gland        6598\n",
      "eye                   5607\n",
      "blood                 5574\n",
      "musculature           4813\n",
      "spleen                4684\n",
      "large intestine       4162\n",
      "prostate gland        3841\n",
      "small intestine       3775\n",
      "pancreas              3713\n",
      "heart                 3388\n",
      "bone marrow           3253\n",
      "bladder organ         3214\n",
      "tongue                2858\n",
      "skin of body          2691\n",
      "respiratory system    1664\n",
      "adipose tissue        1374\n",
      "liver                 1241\n",
      "kidney                1083\n",
      "vasculature           1015\n",
      "uterus                1014\n",
      "Name: tissue_general, dtype: int64\n",
      " ----------------------------- 5500c673-1610-40a0-86d9-64d987ae50e6  -----------------------------\n",
      "heart    14357\n",
      "Name: tissue_general, dtype: int64\n",
      " ----------------------------- 07854d9c-5375-4a9b-ac34-fa919d3c3686  -----------------------------\n",
      "kidney    14385\n",
      "Name: tissue_general, dtype: int64\n",
      " ----------------------------- b693123e-95e6-4331-8b50-f367489a767e  -----------------------------\n",
      "fallopian tube    11846\n",
      "Name: tissue_general, dtype: int64\n",
      " ----------------------------- c05e6940-729c-47bd-a2a6-6ce3730c4919  -----------------------------\n",
      "spinal cord               4539\n",
      "central nervous system    3571\n",
      "brain                     2668\n",
      "Name: tissue_general, dtype: int64\n",
      " ----------------------------- ccfdcad0-7104-46b9-addf-fd66a2a15907  -----------------------------\n",
      "eye    10139\n",
      "Name: tissue_general, dtype: int64\n",
      " ----------------------------- d4e69e01-3ba2-4d6b-a15d-e7048f78f22e  -----------------------------\n",
      "heart    26286\n",
      "Name: tissue_general, dtype: int64\n",
      " ----------------------------- f512b8b6-369d-4a85-a695-116e0806857f  -----------------------------\n",
      "skin of body    6971\n",
      "Name: tissue_general, dtype: int64\n",
      " ----------------------------- fd072bc3-2dfb-46f8-b4e3-467cb3223182  -----------------------------\n",
      "spleen             15044\n",
      "skin of body       13463\n",
      "liver               6967\n",
      "yolk sac            2470\n",
      "endocrine gland     2337\n",
      "kidney              1144\n",
      "Name: tissue_general, dtype: int64\n"
     ]
    }
   ],
   "source": [
    "for name, group in obs:\n",
    "    print(\" -----------------------------\", name, \" -----------------------------\")\n",
    "    print(group[\"tissue_general\"].value_counts()[group[\"tissue_general\"].value_counts() != 0])"
   ]
  },
  {
   "cell_type": "code",
   "execution_count": null,
   "id": "c504151e-6ad6-4409-9f36-fc220fea3202",
   "metadata": {},
   "outputs": [],
   "source": []
  }
 ],
 "metadata": {
  "kernelspec": {
   "display_name": "Python 3 (ipykernel)",
   "language": "python",
   "name": "python3"
  },
  "language_info": {
   "codemirror_mode": {
    "name": "ipython",
    "version": 3
   },
   "file_extension": ".py",
   "mimetype": "text/x-python",
   "name": "python",
   "nbconvert_exporter": "python",
   "pygments_lexer": "ipython3",
   "version": "3.10.9"
  }
 },
 "nbformat": 4,
 "nbformat_minor": 5
}
