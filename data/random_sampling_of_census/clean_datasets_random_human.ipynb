{
 "cells": [
  {
   "cell_type": "code",
   "execution_count": 11,
   "id": "c94db95a-d76e-40fe-b02b-6fe93d35881b",
   "metadata": {
    "tags": []
   },
   "outputs": [],
   "source": [
    "import scanpy as sc\n",
    "import pandas as pd"
   ]
  },
  {
   "cell_type": "markdown",
   "id": "8e03fd6f-ac18-46df-84f0-b102b06eaca3",
   "metadata": {},
   "source": [
    "### seed 42 HUMAN"
   ]
  },
  {
   "cell_type": "code",
   "execution_count": 1,
   "id": "458d53a1-6196-469c-ae7c-139e6f68600b",
   "metadata": {
    "tags": []
   },
   "outputs": [],
   "source": [
    "seed = 42"
   ]
  },
  {
   "cell_type": "code",
   "execution_count": 4,
   "id": "7867f538-c371-46a5-ad6d-10226571d466",
   "metadata": {
    "tags": []
   },
   "outputs": [],
   "source": [
    "adata = sc.read_h5ad(f\"homo_sapiens_random_datasets_sample_seed_{seed}.h5ad\")"
   ]
  },
  {
   "cell_type": "code",
   "execution_count": 5,
   "id": "039ed55f-cb84-4ec7-bf60-0af14290d7fb",
   "metadata": {
    "tags": []
   },
   "outputs": [],
   "source": [
    "adata.obs = adata.obs[['dataset_id', 'cell_type', 'disease']]"
   ]
  },
  {
   "cell_type": "code",
   "execution_count": 6,
   "id": "57dbbaed-1be8-43a7-83a9-f1fc567ab37e",
   "metadata": {
    "tags": []
   },
   "outputs": [],
   "source": [
    "adata.obs[\"organism\"] = \"Homo sapiens\""
   ]
  },
  {
   "cell_type": "code",
   "execution_count": 7,
   "id": "197b2028-f3a9-49cd-8147-29e764a58529",
   "metadata": {
    "tags": []
   },
   "outputs": [],
   "source": [
    "adata.obs.rename({\"dataset_id\":\"dataset\"}, axis = 1, inplace = True)"
   ]
  },
  {
   "cell_type": "code",
   "execution_count": 8,
   "id": "941d377d-b254-4746-868d-7785cb121eb5",
   "metadata": {
    "tags": []
   },
   "outputs": [
    {
     "data": {
      "text/html": [
       "<div>\n",
       "<style scoped>\n",
       "    .dataframe tbody tr th:only-of-type {\n",
       "        vertical-align: middle;\n",
       "    }\n",
       "\n",
       "    .dataframe tbody tr th {\n",
       "        vertical-align: top;\n",
       "    }\n",
       "\n",
       "    .dataframe thead th {\n",
       "        text-align: right;\n",
       "    }\n",
       "</style>\n",
       "<table border=\"1\" class=\"dataframe\">\n",
       "  <thead>\n",
       "    <tr style=\"text-align: right;\">\n",
       "      <th></th>\n",
       "      <th>soma_joinid</th>\n",
       "      <th>feature_id</th>\n",
       "      <th>feature_name</th>\n",
       "      <th>feature_length</th>\n",
       "    </tr>\n",
       "  </thead>\n",
       "  <tbody>\n",
       "    <tr>\n",
       "      <th>0</th>\n",
       "      <td>0</td>\n",
       "      <td>ENSG00000121410</td>\n",
       "      <td>A1BG</td>\n",
       "      <td>3999</td>\n",
       "    </tr>\n",
       "    <tr>\n",
       "      <th>1</th>\n",
       "      <td>1</td>\n",
       "      <td>ENSG00000268895</td>\n",
       "      <td>A1BG-AS1</td>\n",
       "      <td>3374</td>\n",
       "    </tr>\n",
       "    <tr>\n",
       "      <th>2</th>\n",
       "      <td>2</td>\n",
       "      <td>ENSG00000148584</td>\n",
       "      <td>A1CF</td>\n",
       "      <td>9603</td>\n",
       "    </tr>\n",
       "    <tr>\n",
       "      <th>3</th>\n",
       "      <td>3</td>\n",
       "      <td>ENSG00000175899</td>\n",
       "      <td>A2M</td>\n",
       "      <td>6318</td>\n",
       "    </tr>\n",
       "    <tr>\n",
       "      <th>4</th>\n",
       "      <td>4</td>\n",
       "      <td>ENSG00000245105</td>\n",
       "      <td>A2M-AS1</td>\n",
       "      <td>2948</td>\n",
       "    </tr>\n",
       "    <tr>\n",
       "      <th>...</th>\n",
       "      <td>...</td>\n",
       "      <td>...</td>\n",
       "      <td>...</td>\n",
       "      <td>...</td>\n",
       "    </tr>\n",
       "    <tr>\n",
       "      <th>60659</th>\n",
       "      <td>60659</td>\n",
       "      <td>ENSG00000288719</td>\n",
       "      <td>RP4-669P10.21</td>\n",
       "      <td>4252</td>\n",
       "    </tr>\n",
       "    <tr>\n",
       "      <th>60660</th>\n",
       "      <td>60660</td>\n",
       "      <td>ENSG00000288720</td>\n",
       "      <td>RP11-852E15.3</td>\n",
       "      <td>7007</td>\n",
       "    </tr>\n",
       "    <tr>\n",
       "      <th>60661</th>\n",
       "      <td>60661</td>\n",
       "      <td>ENSG00000288721</td>\n",
       "      <td>RP5-973N23.5</td>\n",
       "      <td>7765</td>\n",
       "    </tr>\n",
       "    <tr>\n",
       "      <th>60662</th>\n",
       "      <td>60662</td>\n",
       "      <td>ENSG00000288723</td>\n",
       "      <td>RP11-553N16.6</td>\n",
       "      <td>1015</td>\n",
       "    </tr>\n",
       "    <tr>\n",
       "      <th>60663</th>\n",
       "      <td>60663</td>\n",
       "      <td>ENSG00000288724</td>\n",
       "      <td>RP13-546I2.2</td>\n",
       "      <td>625</td>\n",
       "    </tr>\n",
       "  </tbody>\n",
       "</table>\n",
       "<p>60664 rows × 4 columns</p>\n",
       "</div>"
      ],
      "text/plain": [
       "       soma_joinid       feature_id   feature_name  feature_length\n",
       "0                0  ENSG00000121410           A1BG            3999\n",
       "1                1  ENSG00000268895       A1BG-AS1            3374\n",
       "2                2  ENSG00000148584           A1CF            9603\n",
       "3                3  ENSG00000175899            A2M            6318\n",
       "4                4  ENSG00000245105        A2M-AS1            2948\n",
       "...            ...              ...            ...             ...\n",
       "60659        60659  ENSG00000288719  RP4-669P10.21            4252\n",
       "60660        60660  ENSG00000288720  RP11-852E15.3            7007\n",
       "60661        60661  ENSG00000288721   RP5-973N23.5            7765\n",
       "60662        60662  ENSG00000288723  RP11-553N16.6            1015\n",
       "60663        60663  ENSG00000288724   RP13-546I2.2             625\n",
       "\n",
       "[60664 rows x 4 columns]"
      ]
     },
     "execution_count": 8,
     "metadata": {},
     "output_type": "execute_result"
    }
   ],
   "source": [
    "adata.var"
   ]
  },
  {
   "cell_type": "markdown",
   "id": "577911a9-25f6-4e8a-8f91-ef4e99a8451c",
   "metadata": {},
   "source": [
    "#### Getting orth"
   ]
  },
  {
   "cell_type": "code",
   "execution_count": 9,
   "id": "67173783-e2ff-44c1-a7f9-9f98a8762774",
   "metadata": {
    "tags": []
   },
   "outputs": [],
   "source": [
    "# Save to a .txt file\n",
    "with open(f\"genes/random_human_dataset_seed_{seed}_actual.txt\", \"w\") as file:\n",
    "    for item in adata.var.feature_id.to_list():\n",
    "        file.write(\"%s , \" % item)"
   ]
  },
  {
   "cell_type": "code",
   "execution_count": 12,
   "id": "3011348f-2b6f-470e-93ae-f591815351dc",
   "metadata": {
    "tags": []
   },
   "outputs": [],
   "source": [
    "genes = pd.read_table(f\"genes/random_human_dataset_seed_{seed}_orth.txt\")"
   ]
  },
  {
   "cell_type": "code",
   "execution_count": 13,
   "id": "11a83cb1-8254-4e83-9dde-3a76bc1b733b",
   "metadata": {
    "tags": []
   },
   "outputs": [
    {
     "data": {
      "text/plain": [
       "Index(['Gene stable ID', 'Mouse gene stable ID', 'Mouse homology type'], dtype='object')"
      ]
     },
     "execution_count": 13,
     "metadata": {},
     "output_type": "execute_result"
    }
   ],
   "source": [
    "genes.columns"
   ]
  },
  {
   "cell_type": "code",
   "execution_count": 14,
   "id": "7739bee8-429c-4e9f-8891-d0475b5f2fbb",
   "metadata": {
    "tags": []
   },
   "outputs": [
    {
     "data": {
      "text/plain": [
       "Index(['soma_joinid', 'feature_id', 'feature_name', 'feature_length'], dtype='object')"
      ]
     },
     "execution_count": 14,
     "metadata": {},
     "output_type": "execute_result"
    }
   ],
   "source": [
    "adata.var.columns"
   ]
  },
  {
   "cell_type": "code",
   "execution_count": 15,
   "id": "c086860b-9810-46f1-8360-5aa125e57f56",
   "metadata": {
    "tags": []
   },
   "outputs": [],
   "source": [
    "adata.var.index = adata.var[\"feature_id\"]"
   ]
  },
  {
   "cell_type": "code",
   "execution_count": 16,
   "id": "32a0757b-1fb2-4577-abb7-4dcfebe39acc",
   "metadata": {
    "tags": []
   },
   "outputs": [
    {
     "data": {
      "text/plain": [
       "0"
      ]
     },
     "execution_count": 16,
     "metadata": {},
     "output_type": "execute_result"
    }
   ],
   "source": [
    "sum(adata.var.index.duplicated())"
   ]
  },
  {
   "cell_type": "code",
   "execution_count": 18,
   "id": "feaea2fd-6a1c-4afd-8a3e-c451a8134448",
   "metadata": {
    "tags": []
   },
   "outputs": [
    {
     "data": {
      "text/plain": [
       "5943"
      ]
     },
     "execution_count": 18,
     "metadata": {},
     "output_type": "execute_result"
    }
   ],
   "source": [
    "sum(genes['Gene stable ID'].duplicated())"
   ]
  },
  {
   "cell_type": "code",
   "execution_count": 20,
   "id": "061bd958-d9cd-4335-acc5-a4b3c7a61c0c",
   "metadata": {
    "tags": []
   },
   "outputs": [],
   "source": [
    "genes30_unique = genes.drop_duplicates(subset='Gene stable ID', keep=False)"
   ]
  },
  {
   "cell_type": "code",
   "execution_count": 21,
   "id": "322bfa1e-fc10-4f1d-839d-e156572fc564",
   "metadata": {
    "tags": []
   },
   "outputs": [
    {
     "data": {
      "text/plain": [
       "0"
      ]
     },
     "execution_count": 21,
     "metadata": {},
     "output_type": "execute_result"
    }
   ],
   "source": [
    "sum(genes30_unique['Gene stable ID'].duplicated())"
   ]
  },
  {
   "cell_type": "code",
   "execution_count": 22,
   "id": "7b631232-a7a5-43f2-8118-bb5f28ac658d",
   "metadata": {
    "tags": []
   },
   "outputs": [],
   "source": [
    "var = adata.var.merge(genes30_unique, left_index=True, right_on=\"Gene stable ID\", how = \"left\")\n",
    "var.index = var[\"feature_id\"]"
   ]
  },
  {
   "cell_type": "code",
   "execution_count": 23,
   "id": "989035ad-d6a0-40b9-87f5-31b13d6c0c9a",
   "metadata": {
    "tags": []
   },
   "outputs": [],
   "source": [
    "adata.var = var"
   ]
  },
  {
   "cell_type": "code",
   "execution_count": 24,
   "id": "1f05c3f8-8e88-46aa-80d8-eb7e7e6d3379",
   "metadata": {
    "tags": []
   },
   "outputs": [],
   "source": [
    "adata = adata[:,adata.var[\"Mouse homology type\"] == \"ortholog_one2one\"]"
   ]
  },
  {
   "cell_type": "code",
   "execution_count": 25,
   "id": "b222bf52-d3b2-483b-8220-b34d709d31de",
   "metadata": {
    "tags": []
   },
   "outputs": [],
   "source": [
    "var = pd.DataFrame(index = adata.var[\"Mouse gene stable ID\"].rename(\"EID\"))"
   ]
  },
  {
   "cell_type": "code",
   "execution_count": 26,
   "id": "d1551149-732a-47a4-9e0e-2b0c69b490ea",
   "metadata": {
    "tags": []
   },
   "outputs": [],
   "source": [
    "adata.var = var"
   ]
  },
  {
   "cell_type": "code",
   "execution_count": 27,
   "id": "790e3edb-8a18-4f4a-84e8-08023b7a78d0",
   "metadata": {
    "tags": []
   },
   "outputs": [],
   "source": [
    "sc.pp.normalize_per_cell(adata)\n",
    "sc.pp.log1p(adata)"
   ]
  },
  {
   "cell_type": "code",
   "execution_count": 28,
   "id": "6e2cb23f-4cda-4416-87d6-f6ace09f4ef2",
   "metadata": {
    "tags": []
   },
   "outputs": [],
   "source": [
    "adata.write_h5ad(f\"Clean_datasets/homo_sapiens_random_datasets_sample_seed_{seed}_norm_log1p.h5ad\")"
   ]
  },
  {
   "cell_type": "markdown",
   "id": "5ef40790-6fa9-4100-8285-8b148f6a3c74",
   "metadata": {},
   "source": [
    "### seed 43 HUMAN"
   ]
  },
  {
   "cell_type": "code",
   "execution_count": 29,
   "id": "4747734b-9c46-41b5-a07d-eea450128b94",
   "metadata": {
    "tags": []
   },
   "outputs": [],
   "source": [
    "seed = 43"
   ]
  },
  {
   "cell_type": "code",
   "execution_count": 30,
   "id": "731edf72-7233-418e-be17-6fcc6d27385e",
   "metadata": {
    "tags": []
   },
   "outputs": [],
   "source": [
    "adata = sc.read_h5ad(f\"homo_sapiens_random_datasets_sample_seed_{seed}.h5ad\")"
   ]
  },
  {
   "cell_type": "code",
   "execution_count": 31,
   "id": "c234560b-913a-41a0-b282-97596f5c300c",
   "metadata": {
    "tags": []
   },
   "outputs": [],
   "source": [
    "adata.obs = adata.obs[['dataset_id', 'cell_type', 'disease']]"
   ]
  },
  {
   "cell_type": "code",
   "execution_count": 32,
   "id": "b8c61e74-b4ed-4b0b-99b6-f1504f911a57",
   "metadata": {
    "tags": []
   },
   "outputs": [],
   "source": [
    "adata.obs[\"organism\"] = \"Homo sapiens\""
   ]
  },
  {
   "cell_type": "code",
   "execution_count": 33,
   "id": "3d9024be-85c9-4a02-a5c1-07fb3ae48fca",
   "metadata": {
    "tags": []
   },
   "outputs": [],
   "source": [
    "adata.obs.rename({\"dataset_id\":\"dataset\"}, axis = 1, inplace = True)"
   ]
  },
  {
   "cell_type": "code",
   "execution_count": 34,
   "id": "1d0ef379-a67d-42c4-81f7-7fc5e1a77daa",
   "metadata": {
    "tags": []
   },
   "outputs": [
    {
     "data": {
      "text/html": [
       "<div>\n",
       "<style scoped>\n",
       "    .dataframe tbody tr th:only-of-type {\n",
       "        vertical-align: middle;\n",
       "    }\n",
       "\n",
       "    .dataframe tbody tr th {\n",
       "        vertical-align: top;\n",
       "    }\n",
       "\n",
       "    .dataframe thead th {\n",
       "        text-align: right;\n",
       "    }\n",
       "</style>\n",
       "<table border=\"1\" class=\"dataframe\">\n",
       "  <thead>\n",
       "    <tr style=\"text-align: right;\">\n",
       "      <th></th>\n",
       "      <th>soma_joinid</th>\n",
       "      <th>feature_id</th>\n",
       "      <th>feature_name</th>\n",
       "      <th>feature_length</th>\n",
       "    </tr>\n",
       "  </thead>\n",
       "  <tbody>\n",
       "    <tr>\n",
       "      <th>0</th>\n",
       "      <td>0</td>\n",
       "      <td>ENSG00000121410</td>\n",
       "      <td>A1BG</td>\n",
       "      <td>3999</td>\n",
       "    </tr>\n",
       "    <tr>\n",
       "      <th>1</th>\n",
       "      <td>1</td>\n",
       "      <td>ENSG00000268895</td>\n",
       "      <td>A1BG-AS1</td>\n",
       "      <td>3374</td>\n",
       "    </tr>\n",
       "    <tr>\n",
       "      <th>2</th>\n",
       "      <td>2</td>\n",
       "      <td>ENSG00000148584</td>\n",
       "      <td>A1CF</td>\n",
       "      <td>9603</td>\n",
       "    </tr>\n",
       "    <tr>\n",
       "      <th>3</th>\n",
       "      <td>3</td>\n",
       "      <td>ENSG00000175899</td>\n",
       "      <td>A2M</td>\n",
       "      <td>6318</td>\n",
       "    </tr>\n",
       "    <tr>\n",
       "      <th>4</th>\n",
       "      <td>4</td>\n",
       "      <td>ENSG00000245105</td>\n",
       "      <td>A2M-AS1</td>\n",
       "      <td>2948</td>\n",
       "    </tr>\n",
       "    <tr>\n",
       "      <th>...</th>\n",
       "      <td>...</td>\n",
       "      <td>...</td>\n",
       "      <td>...</td>\n",
       "      <td>...</td>\n",
       "    </tr>\n",
       "    <tr>\n",
       "      <th>60659</th>\n",
       "      <td>60659</td>\n",
       "      <td>ENSG00000288719</td>\n",
       "      <td>RP4-669P10.21</td>\n",
       "      <td>4252</td>\n",
       "    </tr>\n",
       "    <tr>\n",
       "      <th>60660</th>\n",
       "      <td>60660</td>\n",
       "      <td>ENSG00000288720</td>\n",
       "      <td>RP11-852E15.3</td>\n",
       "      <td>7007</td>\n",
       "    </tr>\n",
       "    <tr>\n",
       "      <th>60661</th>\n",
       "      <td>60661</td>\n",
       "      <td>ENSG00000288721</td>\n",
       "      <td>RP5-973N23.5</td>\n",
       "      <td>7765</td>\n",
       "    </tr>\n",
       "    <tr>\n",
       "      <th>60662</th>\n",
       "      <td>60662</td>\n",
       "      <td>ENSG00000288723</td>\n",
       "      <td>RP11-553N16.6</td>\n",
       "      <td>1015</td>\n",
       "    </tr>\n",
       "    <tr>\n",
       "      <th>60663</th>\n",
       "      <td>60663</td>\n",
       "      <td>ENSG00000288724</td>\n",
       "      <td>RP13-546I2.2</td>\n",
       "      <td>625</td>\n",
       "    </tr>\n",
       "  </tbody>\n",
       "</table>\n",
       "<p>60664 rows × 4 columns</p>\n",
       "</div>"
      ],
      "text/plain": [
       "       soma_joinid       feature_id   feature_name  feature_length\n",
       "0                0  ENSG00000121410           A1BG            3999\n",
       "1                1  ENSG00000268895       A1BG-AS1            3374\n",
       "2                2  ENSG00000148584           A1CF            9603\n",
       "3                3  ENSG00000175899            A2M            6318\n",
       "4                4  ENSG00000245105        A2M-AS1            2948\n",
       "...            ...              ...            ...             ...\n",
       "60659        60659  ENSG00000288719  RP4-669P10.21            4252\n",
       "60660        60660  ENSG00000288720  RP11-852E15.3            7007\n",
       "60661        60661  ENSG00000288721   RP5-973N23.5            7765\n",
       "60662        60662  ENSG00000288723  RP11-553N16.6            1015\n",
       "60663        60663  ENSG00000288724   RP13-546I2.2             625\n",
       "\n",
       "[60664 rows x 4 columns]"
      ]
     },
     "execution_count": 34,
     "metadata": {},
     "output_type": "execute_result"
    }
   ],
   "source": [
    "adata.var"
   ]
  },
  {
   "cell_type": "markdown",
   "id": "15ec79a9-f359-4007-91d1-62bb86b1cbfe",
   "metadata": {},
   "source": [
    "#### Getting orth"
   ]
  },
  {
   "cell_type": "code",
   "execution_count": 35,
   "id": "34ff2fcb-5437-4c91-92a6-096a28dfba74",
   "metadata": {
    "tags": []
   },
   "outputs": [
    {
     "data": {
      "text/plain": [
       "Index(['Gene stable ID', 'Mouse gene stable ID', 'Mouse homology type'], dtype='object')"
      ]
     },
     "execution_count": 35,
     "metadata": {},
     "output_type": "execute_result"
    }
   ],
   "source": [
    "genes.columns"
   ]
  },
  {
   "cell_type": "code",
   "execution_count": 36,
   "id": "5b7c1dbe-e888-4a79-990e-29e3acbfb9d6",
   "metadata": {
    "tags": []
   },
   "outputs": [
    {
     "data": {
      "text/plain": [
       "Index(['soma_joinid', 'feature_id', 'feature_name', 'feature_length'], dtype='object')"
      ]
     },
     "execution_count": 36,
     "metadata": {},
     "output_type": "execute_result"
    }
   ],
   "source": [
    "adata.var.columns"
   ]
  },
  {
   "cell_type": "code",
   "execution_count": 37,
   "id": "3074bc42-4d69-4cba-913e-1c297a210b98",
   "metadata": {
    "tags": []
   },
   "outputs": [],
   "source": [
    "adata.var.index = adata.var[\"feature_id\"]"
   ]
  },
  {
   "cell_type": "code",
   "execution_count": 38,
   "id": "95b02301-7181-45b7-b861-347ed0a9fb24",
   "metadata": {
    "tags": []
   },
   "outputs": [
    {
     "data": {
      "text/plain": [
       "0"
      ]
     },
     "execution_count": 38,
     "metadata": {},
     "output_type": "execute_result"
    }
   ],
   "source": [
    "sum(adata.var.index.duplicated())"
   ]
  },
  {
   "cell_type": "code",
   "execution_count": 39,
   "id": "78c1489d-36c6-4b87-8e2c-34ae700ac0cf",
   "metadata": {
    "tags": []
   },
   "outputs": [
    {
     "data": {
      "text/plain": [
       "5943"
      ]
     },
     "execution_count": 39,
     "metadata": {},
     "output_type": "execute_result"
    }
   ],
   "source": [
    "sum(genes['Gene stable ID'].duplicated())"
   ]
  },
  {
   "cell_type": "code",
   "execution_count": 40,
   "id": "3e1c3d68-ea2f-4522-9982-38f2b1957f1c",
   "metadata": {
    "tags": []
   },
   "outputs": [],
   "source": [
    "genes30_unique = genes.drop_duplicates(subset='Gene stable ID', keep=False)"
   ]
  },
  {
   "cell_type": "code",
   "execution_count": 41,
   "id": "5fb5b7b8-2d3b-4497-8f78-3bf8a39c9fa9",
   "metadata": {
    "tags": []
   },
   "outputs": [
    {
     "data": {
      "text/plain": [
       "0"
      ]
     },
     "execution_count": 41,
     "metadata": {},
     "output_type": "execute_result"
    }
   ],
   "source": [
    "sum(genes30_unique['Gene stable ID'].duplicated())"
   ]
  },
  {
   "cell_type": "code",
   "execution_count": 42,
   "id": "4a82d73c-7abc-40b8-8bef-b8db1e1ce462",
   "metadata": {
    "tags": []
   },
   "outputs": [],
   "source": [
    "var = adata.var.merge(genes30_unique, left_index=True, right_on=\"Gene stable ID\", how = \"left\")\n",
    "var.index = var[\"feature_id\"]"
   ]
  },
  {
   "cell_type": "code",
   "execution_count": 43,
   "id": "63008d54-9746-4527-81c1-3fbd188ef64c",
   "metadata": {
    "tags": []
   },
   "outputs": [],
   "source": [
    "adata.var = var"
   ]
  },
  {
   "cell_type": "code",
   "execution_count": 44,
   "id": "96745e74-b26e-490f-aaa3-099ee491e68d",
   "metadata": {
    "tags": []
   },
   "outputs": [],
   "source": [
    "adata = adata[:,adata.var[\"Mouse homology type\"] == \"ortholog_one2one\"]"
   ]
  },
  {
   "cell_type": "code",
   "execution_count": 45,
   "id": "9ae8e4de-2230-461c-91e6-38700e7ea4d1",
   "metadata": {
    "tags": []
   },
   "outputs": [],
   "source": [
    "var = pd.DataFrame(index = adata.var[\"Mouse gene stable ID\"].rename(\"EID\"))"
   ]
  },
  {
   "cell_type": "code",
   "execution_count": 46,
   "id": "05357dbf-e35c-4798-a1a7-51c244310ba5",
   "metadata": {
    "tags": []
   },
   "outputs": [],
   "source": [
    "adata.var = var"
   ]
  },
  {
   "cell_type": "code",
   "execution_count": 47,
   "id": "bc1d96c4-c150-41a0-b6bb-abb8ff2d90cf",
   "metadata": {
    "tags": []
   },
   "outputs": [],
   "source": [
    "sc.pp.normalize_per_cell(adata)\n",
    "sc.pp.log1p(adata)"
   ]
  },
  {
   "cell_type": "code",
   "execution_count": 48,
   "id": "b82eac35-0911-46dc-8cb1-3a7713b521c5",
   "metadata": {
    "tags": []
   },
   "outputs": [],
   "source": [
    "adata.write_h5ad(f\"Clean_datasets/homo_sapiens_random_datasets_sample_seed_{seed}_norm_log1p.h5ad\")"
   ]
  },
  {
   "cell_type": "markdown",
   "id": "1879f71e-98bb-4f68-9b68-855079fc54f1",
   "metadata": {},
   "source": [
    "## Mouse random datasets"
   ]
  },
  {
   "cell_type": "code",
   "execution_count": null,
   "id": "b4721bb8-a25c-4fea-a600-40ef5b7e2fa6",
   "metadata": {},
   "outputs": [],
   "source": []
  }
 ],
 "metadata": {
  "kernelspec": {
   "display_name": "Python 3 (ipykernel)",
   "language": "python",
   "name": "python3"
  },
  "language_info": {
   "codemirror_mode": {
    "name": "ipython",
    "version": 3
   },
   "file_extension": ".py",
   "mimetype": "text/x-python",
   "name": "python",
   "nbconvert_exporter": "python",
   "pygments_lexer": "ipython3",
   "version": "3.10.9"
  }
 },
 "nbformat": 4,
 "nbformat_minor": 5
}
