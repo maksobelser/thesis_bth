{
 "cells": [
  {
   "cell_type": "code",
   "execution_count": 2,
   "id": "3b6db69a-4acd-409c-9095-071c9eb39190",
   "metadata": {
    "tags": []
   },
   "outputs": [],
   "source": [
    "import scanpy as sc"
   ]
  },
  {
   "cell_type": "code",
   "execution_count": 9,
   "id": "de6d6457-1a27-4744-a321-5cf872746597",
   "metadata": {
    "tags": []
   },
   "outputs": [
    {
     "name": "stdout",
     "output_type": "stream",
     "text": [
      "homo_sapiens_random_datasets_sample_seed_42.h5ad: has 25 datasets, 81089 cells\n",
      "homo_sapiens_random_datasets_sample_seed_43.h5ad: has 25 datasets, 57887 cells\n"
     ]
    }
   ],
   "source": [
    "for dataset in [f\"homo_sapiens_random_datasets_sample_seed_{seed}.h5ad\" for seed in [42, 43]]:\n",
    "    adata = sc.read_h5ad(dataset)\n",
    "    print(f\"{dataset}: has {adata.obs.dataset_id.nunique()} datasets, {adata.n_obs} cells\")"
   ]
  },
  {
   "cell_type": "code",
   "execution_count": 10,
   "id": "1484a6a4-6d76-4665-88fd-44a544bdca26",
   "metadata": {
    "tags": []
   },
   "outputs": [],
   "source": [
    "adata1 = sc.read_h5ad(\"homo_sapiens_random_datasets_sample_seed_42.h5ad\")"
   ]
  },
  {
   "cell_type": "code",
   "execution_count": 11,
   "id": "69f0ffd5-ab50-4d21-8d29-2a6e918a1608",
   "metadata": {
    "tags": []
   },
   "outputs": [],
   "source": [
    "adata2 = sc.read_h5ad(\"homo_sapiens_random_datasets_sample_seed_43.h5ad\")"
   ]
  },
  {
   "cell_type": "code",
   "execution_count": 16,
   "id": "c93b4aab-c747-42c8-8cf3-ac7461bf02bc",
   "metadata": {
    "tags": []
   },
   "outputs": [],
   "source": [
    "adata1_studies = set(adata1.obs.dataset_id.unique().tolist())"
   ]
  },
  {
   "cell_type": "code",
   "execution_count": 17,
   "id": "7ebc7082-f6e3-464f-94af-8adf2b8a3b7a",
   "metadata": {
    "tags": []
   },
   "outputs": [],
   "source": [
    "adata2_studies = set(adata2.obs.dataset_id.unique().tolist())"
   ]
  },
  {
   "cell_type": "code",
   "execution_count": 20,
   "id": "946ca3bb-3c99-42b3-b9f9-362ff79ef4c1",
   "metadata": {
    "tags": []
   },
   "outputs": [
    {
     "data": {
      "text/plain": [
       "25"
      ]
     },
     "execution_count": 20,
     "metadata": {},
     "output_type": "execute_result"
    }
   ],
   "source": [
    "len(adata1_studies)"
   ]
  },
  {
   "cell_type": "code",
   "execution_count": 21,
   "id": "76a48e2a-0cb3-4111-911f-24073136287e",
   "metadata": {
    "tags": []
   },
   "outputs": [
    {
     "data": {
      "text/plain": [
       "25"
      ]
     },
     "execution_count": 21,
     "metadata": {},
     "output_type": "execute_result"
    }
   ],
   "source": [
    "len(adata2_studies)"
   ]
  },
  {
   "cell_type": "code",
   "execution_count": 22,
   "id": "71a65d5a-4864-4645-ae02-9efdf26688b1",
   "metadata": {
    "tags": []
   },
   "outputs": [
    {
     "data": {
      "text/plain": [
       "10"
      ]
     },
     "execution_count": 22,
     "metadata": {},
     "output_type": "execute_result"
    }
   ],
   "source": [
    "len(adata1_studies.intersection(adata2_studies))"
   ]
  },
  {
   "cell_type": "markdown",
   "id": "91047d1a-28e7-4a62-bec6-acc25ce8f1cd",
   "metadata": {},
   "source": [
    "### Mouse"
   ]
  },
  {
   "cell_type": "code",
   "execution_count": null,
   "id": "8e730cd0-5b47-4049-8f2f-272201770a31",
   "metadata": {
    "tags": []
   },
   "outputs": [],
   "source": [
    "for dataset in [f\"mus_musculus_random_datasets_sample_seed_{seed}.h5ad\" for seed in [42, 43]]:\n",
    "    adata = sc.read_h5ad(dataset)\n",
    "    print(f\"{dataset}: has {adata.obs.dataset_id.nunique()} datasets, {adata.n_obs} cells\")"
   ]
  },
  {
   "cell_type": "code",
   "execution_count": 3,
   "id": "80afb086-c246-40c4-8dcd-162d7b3ae84b",
   "metadata": {
    "tags": []
   },
   "outputs": [],
   "source": [
    "adata1 = sc.read_h5ad(\"mus_musculus_random_datasets_sample_seed_42.h5ad\")"
   ]
  },
  {
   "cell_type": "code",
   "execution_count": 4,
   "id": "c73d632b-0b72-4e61-b096-22b7ca9bb1b2",
   "metadata": {
    "tags": []
   },
   "outputs": [],
   "source": [
    "adata2 = sc.read_h5ad(\"mus_musculus_random_datasets_sample_seed_43.h5ad\")"
   ]
  },
  {
   "cell_type": "code",
   "execution_count": null,
   "id": "e01a08c2-f4a3-4c49-b083-0f9ff4cd3eb4",
   "metadata": {
    "tags": []
   },
   "outputs": [],
   "source": [
    "adata1_studies = set(adata1.obs.dataset_id.unique().tolist())"
   ]
  },
  {
   "cell_type": "code",
   "execution_count": null,
   "id": "4c8f0be0-7593-4aae-b2bb-a29cd62affe4",
   "metadata": {
    "tags": []
   },
   "outputs": [],
   "source": [
    "adata2_studies = set(adata2.obs.dataset_id.unique().tolist())"
   ]
  },
  {
   "cell_type": "code",
   "execution_count": null,
   "id": "ef004fc1-b39e-4656-83d8-034066cfe2e8",
   "metadata": {
    "tags": []
   },
   "outputs": [],
   "source": [
    "len(adata1_studies)"
   ]
  },
  {
   "cell_type": "code",
   "execution_count": null,
   "id": "0c162144-6d64-439f-846d-95ccf66936b6",
   "metadata": {
    "tags": []
   },
   "outputs": [],
   "source": [
    "len(adata2_studies)"
   ]
  },
  {
   "cell_type": "code",
   "execution_count": null,
   "id": "a010b2e3-8b60-4816-92ae-3f57db6c4ad0",
   "metadata": {
    "tags": []
   },
   "outputs": [],
   "source": [
    "len(adata1_studies.intersection(adata2_studies))"
   ]
  },
  {
   "cell_type": "code",
   "execution_count": 8,
   "id": "d818bb19-5b6a-4578-9433-a6ec0bfad894",
   "metadata": {
    "tags": []
   },
   "outputs": [
    {
     "data": {
      "text/plain": [
       "57160"
      ]
     },
     "execution_count": 8,
     "metadata": {},
     "output_type": "execute_result"
    }
   ],
   "source": [
    "adata2.n_obs"
   ]
  },
  {
   "cell_type": "code",
   "execution_count": 9,
   "id": "9e4ed2af-a6b7-43c7-b2fc-65e58889b5ca",
   "metadata": {
    "tags": []
   },
   "outputs": [
    {
     "data": {
      "text/plain": [
       "55484"
      ]
     },
     "execution_count": 9,
     "metadata": {},
     "output_type": "execute_result"
    }
   ],
   "source": [
    "adata1.n_obs"
   ]
  }
 ],
 "metadata": {
  "kernelspec": {
   "display_name": "Python 3 (ipykernel)",
   "language": "python",
   "name": "python3"
  },
  "language_info": {
   "codemirror_mode": {
    "name": "ipython",
    "version": 3
   },
   "file_extension": ".py",
   "mimetype": "text/x-python",
   "name": "python",
   "nbconvert_exporter": "python",
   "pygments_lexer": "ipython3",
   "version": "3.10.9"
  }
 },
 "nbformat": 4,
 "nbformat_minor": 5
}
