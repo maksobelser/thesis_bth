{
 "cells": [
  {
   "cell_type": "code",
   "execution_count": 22,
   "id": "2d252ee1-57d1-4819-b532-e6b01beb16b5",
   "metadata": {},
   "outputs": [],
   "source": [
    "def get_shared_eids(csv_files):    \n",
    "    # Initialize a list to store sets of EIDs from each CSV\n",
    "    eid_sets = []\n",
    "\n",
    "    # This will keep track of the current intersection of gene IDs\n",
    "    current_shared_eids = None\n",
    "\n",
    "    for csv_file in csv_files:\n",
    "        df = pd.read_csv(os.path.join(directory_path, csv_file))\n",
    "        \n",
    "        if 'EID' in df.columns:\n",
    "            eids = set(df['EID'])\n",
    "        elif 'feature_id' in df.columns:\n",
    "            eids = set(df['feature_id'])\n",
    "        elif 'Mouse gene stable ID' in df.columns:\n",
    "            eids = set(df['Mouse gene stable ID'])\n",
    "        else:\n",
    "            raise ValueError(f\"{csv_file} has different column name than thought\")\n",
    "\n",
    "        # If this is the first dataset, initialize the current_shared_eids set\n",
    "        if current_shared_eids is None:\n",
    "            current_shared_eids = eids\n",
    "        else:\n",
    "            # Update the intersection\n",
    "            current_shared_eids &= eids\n",
    "\n",
    "        print(f\"{csv_file} has {len(eids)} genes\")\n",
    "        print(f\"After processing {csv_file}, shared gene count is {len(current_shared_eids)}\")\n",
    "        \n",
    "        # If at any point the intersection becomes empty, it can be useful to stop and check\n",
    "        if not current_shared_eids:\n",
    "            print(f\"No shared genes found after processing {csv_file}.\")\n",
    "            break\n",
    "\n",
    "    return current_shared_eids\n"
   ]
  },
  {
   "cell_type": "code",
   "execution_count": 29,
   "id": "87c207bb-1b54-450c-8b98-bbe31541f81b",
   "metadata": {
    "tags": []
   },
   "outputs": [],
   "source": [
    "csv_files = [f for f in os.listdir(directory_path) if f.endswith('.csv')]"
   ]
  },
  {
   "cell_type": "code",
   "execution_count": 30,
   "id": "7d8414e9-93d3-49e5-b782-bdd17569c3a8",
   "metadata": {
    "tags": []
   },
   "outputs": [
    {
     "name": "stdout",
     "output_type": "stream",
     "text": [
      "embedding_top50_human_gene_names.csv has 17154 genes\n",
      "After processing embedding_top50_human_gene_names.csv, shared gene count is 17154\n",
      "baseline_gene_names.csv has 15457 genes\n",
      "After processing baseline_gene_names.csv, shared gene count is 15402\n",
      "genes_homo_sapiens_random_datasets_sample_seed_43_norm_log1p.csv has 17154 genes\n",
      "After processing genes_homo_sapiens_random_datasets_sample_seed_43_norm_log1p.csv, shared gene count is 15402\n",
      "genes_homo_sapiens_random_datasets_sample_seed_42_norm_log1p.csv has 17154 genes\n",
      "After processing genes_homo_sapiens_random_datasets_sample_seed_42_norm_log1p.csv, shared gene count is 15402\n",
      "chem_human_gene_names.csv has 15115 genes\n",
      "After processing chem_human_gene_names.csv, shared gene count is 14979\n",
      "embedding_top70_mouse_gene_names.csv has 52392 genes\n",
      "After processing embedding_top70_mouse_gene_names.csv, shared gene count is 14979\n",
      "embedding_top50_mouse_gene_names.csv has 52392 genes\n",
      "After processing embedding_top50_mouse_gene_names.csv, shared gene count is 14979\n",
      "embedding_top30_mouse_gene_names.csv has 17154 genes\n",
      "After processing embedding_top30_mouse_gene_names.csv, shared gene count is 14979\n",
      "genes_mus_musculus_random_datasets_sample_seed_43_norm_log1p.csv has 52392 genes\n",
      "After processing genes_mus_musculus_random_datasets_sample_seed_43_norm_log1p.csv, shared gene count is 14979\n",
      "embedding_top100_mouse_gene_names.csv has 52392 genes\n",
      "After processing embedding_top100_mouse_gene_names.csv, shared gene count is 14979\n",
      "embedding_top30_human_gene_names.csv has 17154 genes\n",
      "After processing embedding_top30_human_gene_names.csv, shared gene count is 14979\n",
      "neonatal_gene_names.csv has 13347 genes\n",
      "After processing neonatal_gene_names.csv, shared gene count is 13237\n",
      "genes_mus_musculus_random_datasets_sample_seed_42_norm_log1p.csv has 52392 genes\n",
      "After processing genes_mus_musculus_random_datasets_sample_seed_42_norm_log1p.csv, shared gene count is 13237\n",
      "embedding_top70_human_gene_names.csv has 17154 genes\n",
      "After processing embedding_top70_human_gene_names.csv, shared gene count is 13237\n",
      "MIA_gene_names.csv has 31334 genes\n",
      "After processing MIA_gene_names.csv, shared gene count is 13237\n"
     ]
    }
   ],
   "source": [
    "shared_genes = get_shared_eids(csv_files)"
   ]
  },
  {
   "cell_type": "code",
   "execution_count": 33,
   "id": "4db92e55-b9cb-4997-9f5a-9d7300f287ea",
   "metadata": {
    "tags": []
   },
   "outputs": [
    {
     "data": {
      "text/plain": [
       "13237"
      ]
     },
     "execution_count": 33,
     "metadata": {},
     "output_type": "execute_result"
    }
   ],
   "source": [
    "len(shared_genes)"
   ]
  },
  {
   "cell_type": "code",
   "execution_count": 35,
   "id": "bcbea70c-f153-45c5-a0ec-37cf312031fb",
   "metadata": {
    "tags": []
   },
   "outputs": [],
   "source": [
    "pd.DataFrame(shared_genes, columns = [\"genes_shared_across_datasets\"]).to_csv(\"genes_shared_across_datasets\", index = False)"
   ]
  }
 ],
 "metadata": {
  "kernelspec": {
   "display_name": "Python 3 (ipykernel)",
   "language": "python",
   "name": "python3"
  },
  "language_info": {
   "codemirror_mode": {
    "name": "ipython",
    "version": 3
   },
   "file_extension": ".py",
   "mimetype": "text/x-python",
   "name": "python",
   "nbconvert_exporter": "python",
   "pygments_lexer": "ipython3",
   "version": "3.10.9"
  }
 },
 "nbformat": 4,
 "nbformat_minor": 5
}
