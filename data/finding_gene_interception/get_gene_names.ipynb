{
 "cells": [
  {
   "cell_type": "code",
   "execution_count": 1,
   "id": "28f51069-f2d4-4ed4-9962-1e5b2ba5fe90",
   "metadata": {
    "tags": []
   },
   "outputs": [],
   "source": [
    "import scanpy as sc\n",
    "import pandas as pd"
   ]
  },
  {
   "cell_type": "markdown",
   "id": "44e386fb-a2b1-4204-949f-f388b43cf6e3",
   "metadata": {},
   "source": [
    "### Baseline"
   ]
  },
  {
   "cell_type": "code",
   "execution_count": 2,
   "id": "29409c94-fce9-4314-8e9d-3a4341812249",
   "metadata": {
    "tags": []
   },
   "outputs": [],
   "source": [
    "baseline = sc.read_h5ad(\"../train_data/train_adata_baseline_deduplicated.h5ad\")"
   ]
  },
  {
   "cell_type": "code",
   "execution_count": 9,
   "id": "30bb6427-4f6f-45ca-b5c2-3dc9a6ecc044",
   "metadata": {
    "tags": []
   },
   "outputs": [],
   "source": [
    "pd.DataFrame(baseline.var.index).to_csv(\"gene_names_csvs/baseline_gene_names.csv\")"
   ]
  },
  {
   "cell_type": "markdown",
   "id": "9fc6948f-a353-42dd-93bb-bdea5e2d47c5",
   "metadata": {},
   "source": [
    "### MIA gene_names"
   ]
  },
  {
   "cell_type": "code",
   "execution_count": 10,
   "id": "145714cd-23a5-4ce8-bddc-3fc754ef037c",
   "metadata": {
    "tags": []
   },
   "outputs": [],
   "source": [
    "mouse_atlas = sc.read_h5ad(\"/d/hpc/projects/FRI/DL/mo6643/MSC/data/data_update_slack/data_splits/mouse_pancreatic_atlas/mouse_atlas_hrovatin.h5ad\")"
   ]
  },
  {
   "cell_type": "code",
   "execution_count": 11,
   "id": "2e3fadfa-76c4-4172-b9dc-ce33dffce858",
   "metadata": {
    "tags": []
   },
   "outputs": [],
   "source": [
    "pd.DataFrame(mouse_atlas.var.index).to_csv(\"gene_names_csvs/MIA_gene_names.csv\")"
   ]
  },
  {
   "cell_type": "markdown",
   "id": "85d6fd0d-8a1d-49b6-85db-5cb15cc9e494",
   "metadata": {},
   "source": [
    "### Neonatal gene names"
   ]
  },
  {
   "cell_type": "code",
   "execution_count": 13,
   "id": "5157532d-ad7c-4f5e-a1e7-c96343c92da5",
   "metadata": {
    "tags": []
   },
   "outputs": [],
   "source": [
    "neonatal = sc.read_h5ad(\"/d/hpc/projects/FRI/DL/mo6643/MSC/data/data_update_slack/data_splits/extra_human_datasets/neonatal_pancreas/neonatal_human_normal_per_cell_log_trans_orth.h5ad\")"
   ]
  },
  {
   "cell_type": "code",
   "execution_count": 16,
   "id": "aff6541c-6570-4391-be42-07828e68cfd1",
   "metadata": {
    "tags": []
   },
   "outputs": [],
   "source": [
    "pd.DataFrame(neonatal.var.index).to_csv(\"gene_names_csvs/neonatal_gene_names.csv\")"
   ]
  },
  {
   "cell_type": "markdown",
   "id": "cfdbfc50-d695-4b6e-8aab-42101c0aa1e8",
   "metadata": {},
   "source": [
    "### Human chem"
   ]
  },
  {
   "cell_type": "code",
   "execution_count": 25,
   "id": "327a9a30-a97e-4ef9-84d2-99268b50d93b",
   "metadata": {
    "tags": []
   },
   "outputs": [],
   "source": [
    "chem = sc.read_h5ad(\"/d/hpc/projects/FRI/DL/mo6643/MSC/data/data_update_slack/data_splits/extra_human_datasets/chemical_treatment/chemical_treatment_annotated_norm_log1p_orth.h5ad\")"
   ]
  },
  {
   "cell_type": "code",
   "execution_count": 29,
   "id": "9ce33378-0935-4e25-8913-79f3685e1d87",
   "metadata": {
    "tags": []
   },
   "outputs": [],
   "source": [
    "pd.DataFrame(chem.var.index).to_csv(\"gene_names_csvs/chem_human_gene_names.csv\")"
   ]
  },
  {
   "cell_type": "markdown",
   "id": "3a65f8d2-b66e-4b24-8f85-0f681a246bf8",
   "metadata": {},
   "source": [
    "### Embedding datasets"
   ]
  },
  {
   "cell_type": "markdown",
   "id": "7c0690cc-3585-408b-882a-8f3ef18acdb2",
   "metadata": {},
   "source": [
    "#### Mouse"
   ]
  },
  {
   "cell_type": "markdown",
   "id": "e603d979-cdad-4d0c-b185-3d4dee2d0bc0",
   "metadata": {},
   "source": [
    "top 30"
   ]
  },
  {
   "cell_type": "code",
   "execution_count": 45,
   "id": "29bbe949-d6c6-42bb-b8c3-7726944acb45",
   "metadata": {
    "tags": []
   },
   "outputs": [],
   "source": [
    "top30_mouse = sc.read_h5ad(\"/d/hpc/projects/FRI/DL/mo6643/MSC/data/data_update_slack/data_splits/embedding_cell_type/Mus_musculus/mus_musculus_census_top30_embedding_norm_log1p_clean.h5ad\")"
   ]
  },
  {
   "cell_type": "code",
   "execution_count": 47,
   "id": "272c73c2-c406-4a1d-a42c-3fec93eb3ebf",
   "metadata": {
    "tags": []
   },
   "outputs": [],
   "source": [
    "pd.DataFrame(top30.var.index).to_csv(\"gene_names_csvs/embedding_top30_mouse_gene_names.csv\")"
   ]
  },
  {
   "cell_type": "markdown",
   "id": "b251e03d-aa7c-4927-8234-632c5a7bca16",
   "metadata": {},
   "source": [
    "top 50"
   ]
  },
  {
   "cell_type": "code",
   "execution_count": 48,
   "id": "62b7c636-18cf-45a2-958e-f3ed4a736427",
   "metadata": {
    "tags": []
   },
   "outputs": [],
   "source": [
    "top50_mouse = sc.read_h5ad(\"/d/hpc/projects/FRI/DL/mo6643/MSC/data/data_update_slack/data_splits/embedding_cell_type/Mus_musculus/mus_musculus_census_top50_embedding_norm_log1p_clean.h5ad\")\n"
   ]
  },
  {
   "cell_type": "code",
   "execution_count": 54,
   "id": "3fef1b47-a2c7-4b08-89eb-1d6a8556e857",
   "metadata": {
    "tags": []
   },
   "outputs": [],
   "source": [
    "pd.DataFrame(top50_mouse.var.index).to_csv(\"gene_names_csvs/embedding_top50_mouse_gene_names.csv\")"
   ]
  },
  {
   "cell_type": "markdown",
   "id": "03518b14-daa9-40df-83cb-d67dd1d4a864",
   "metadata": {},
   "source": [
    "top 70"
   ]
  },
  {
   "cell_type": "code",
   "execution_count": 50,
   "id": "0d3a509b-2035-4efc-a1e7-f73c6651cdc2",
   "metadata": {
    "tags": []
   },
   "outputs": [],
   "source": [
    "top70_mouse = sc.read_h5ad(\"/d/hpc/projects/FRI/DL/mo6643/MSC/data/data_update_slack/data_splits/embedding_cell_type/Mus_musculus/mus_musculus_census_top70_embedding_norm_log1p_clean.h5ad\")\n"
   ]
  },
  {
   "cell_type": "code",
   "execution_count": 55,
   "id": "5a0106ba-2531-4592-860e-8c0f8f05798b",
   "metadata": {
    "tags": []
   },
   "outputs": [],
   "source": [
    "pd.DataFrame(top70_mouse.var.index).to_csv(\"gene_names_csvs/embedding_top70_mouse_gene_names.csv\")"
   ]
  },
  {
   "cell_type": "markdown",
   "id": "e767c31c-b261-40bd-9afe-93c5b42e05fc",
   "metadata": {},
   "source": [
    "top 100"
   ]
  },
  {
   "cell_type": "code",
   "execution_count": 52,
   "id": "aa8d1ffc-5f97-43db-acba-08a792e7c548",
   "metadata": {
    "tags": []
   },
   "outputs": [],
   "source": [
    "top100_mouse = sc.read_h5ad(\"/d/hpc/projects/FRI/DL/mo6643/MSC/data/data_update_slack/data_splits/embedding_cell_type/Mus_musculus/mus_musculus_census_top100_embedding_norm_log1p_clean.h5ad\")\n"
   ]
  },
  {
   "cell_type": "code",
   "execution_count": 56,
   "id": "68096fb5-6199-4654-aea1-6904d8fdb154",
   "metadata": {
    "tags": []
   },
   "outputs": [],
   "source": [
    "pd.DataFrame(top100_mouse.var.index).to_csv(\"gene_names_csvs/embedding_top100_mouse_gene_names.csv\")"
   ]
  },
  {
   "cell_type": "markdown",
   "id": "387b253c-3006-4f84-907c-3b3a5df41401",
   "metadata": {},
   "source": [
    "#### Human"
   ]
  },
  {
   "cell_type": "markdown",
   "id": "096b37e4-cb61-49c8-97b6-7b7045164700",
   "metadata": {},
   "source": [
    "Top 30"
   ]
  },
  {
   "cell_type": "code",
   "execution_count": 35,
   "id": "5ca7977c-cd10-476e-b4d5-d5b0d2a49439",
   "metadata": {
    "tags": []
   },
   "outputs": [],
   "source": [
    "top30 = sc.read_h5ad(\"/d/hpc/projects/FRI/DL/mo6643/MSC/data/data_update_slack/data_splits/embedding_cell_type/Homo_sapiens/homo_sapiens_census_top30_embedding_norm_log1p_orth.h5ad\")"
   ]
  },
  {
   "cell_type": "code",
   "execution_count": 36,
   "id": "4121fccd-0d68-407b-b487-5340652b287f",
   "metadata": {
    "tags": []
   },
   "outputs": [],
   "source": [
    "pd.DataFrame(top30.var.index).to_csv(\"gene_names_csvs/embedding_top30_human_gene_names.csv\")"
   ]
  },
  {
   "cell_type": "markdown",
   "id": "42091586-c60b-4c99-bf6b-629c356ed0d1",
   "metadata": {},
   "source": [
    "Top 50"
   ]
  },
  {
   "cell_type": "code",
   "execution_count": 37,
   "id": "84687f96-5fff-4f09-b349-82e71664da88",
   "metadata": {
    "tags": []
   },
   "outputs": [],
   "source": [
    "top50 = sc.read_h5ad(\"/d/hpc/projects/FRI/DL/mo6643/MSC/data/data_update_slack/data_splits/embedding_cell_type/Homo_sapiens/homo_sapiens_census_top50_embedding_norm_log1p_orth.h5ad\")"
   ]
  },
  {
   "cell_type": "code",
   "execution_count": 38,
   "id": "bbbe55f0-d0cf-45f9-8fe5-315433a19eb6",
   "metadata": {
    "tags": []
   },
   "outputs": [],
   "source": [
    "pd.DataFrame(top50.var.index).to_csv(\"gene_names_csvs/embedding_top50_human_gene_names.csv\")"
   ]
  },
  {
   "cell_type": "markdown",
   "id": "896a155e-ce30-4f81-89a1-8e052350639a",
   "metadata": {},
   "source": [
    "Top 70"
   ]
  },
  {
   "cell_type": "code",
   "execution_count": 40,
   "id": "35215f9d-9230-429d-b9ed-483293c7eb16",
   "metadata": {
    "tags": []
   },
   "outputs": [],
   "source": [
    "top70 = sc.read_h5ad(\"/d/hpc/projects/FRI/DL/mo6643/MSC/data/data_update_slack/data_splits/embedding_cell_type/Homo_sapiens/homo_sapiens_census_top70_embedding_norm_log1p_orth.h5ad\")"
   ]
  },
  {
   "cell_type": "code",
   "execution_count": 41,
   "id": "8ef87e7e-3aa5-46d2-8b2a-fa0a438e4e0b",
   "metadata": {
    "tags": []
   },
   "outputs": [],
   "source": [
    "pd.DataFrame(top70.var.index).to_csv(\"gene_names_csvs/embedding_top70_human_gene_names.csv\")"
   ]
  },
  {
   "cell_type": "markdown",
   "id": "d63268cc-40b0-47ff-ba54-ee27d86a4e86",
   "metadata": {},
   "source": [
    "### Random datasets"
   ]
  },
  {
   "cell_type": "code",
   "execution_count": 2,
   "id": "0f567787-7651-4f6a-ac63-c29a948ec9bb",
   "metadata": {
    "tags": []
   },
   "outputs": [],
   "source": [
    "data_dir = \"/d/hpc/projects/FRI/DL/mo6643/MSC/data/data_update_slack/data_splits/random_datasets/Clean_datasets/\""
   ]
  },
  {
   "cell_type": "code",
   "execution_count": 6,
   "id": "d8de48ed-5e89-4186-a6f2-d32867258d3e",
   "metadata": {
    "tags": []
   },
   "outputs": [],
   "source": [
    "import os\n",
    "datasets = os.listdir(data_dir)"
   ]
  },
  {
   "cell_type": "code",
   "execution_count": 8,
   "id": "1c5df3fc-03c3-401f-bab5-9534ab05afad",
   "metadata": {
    "tags": []
   },
   "outputs": [],
   "source": [
    "for dataset in datasets:\n",
    "    tmp_adata = sc.read_h5ad(os.path.join(data_dir, dataset))\n",
    "    name = dataset.split(\".\")[0]\n",
    "    pd.DataFrame(tmp_adata.var.index).to_csv(f\"gene_names_csvs/genes_{name}.csv\", index = False)"
   ]
  },
  {
   "cell_type": "code",
   "execution_count": 1,
   "id": "72c3573e-c237-42a3-8dfb-5fe7242b4790",
   "metadata": {
    "tags": []
   },
   "outputs": [],
   "source": [
    "import pandas as pd"
   ]
  },
  {
   "cell_type": "code",
   "execution_count": 2,
   "id": "10b94b20-cd73-4ac1-b90b-f27c5928130b",
   "metadata": {
    "tags": []
   },
   "outputs": [],
   "source": [
    "genes = pd.read_table(\"genes_shared_across_datasets.txt\")"
   ]
  },
  {
   "cell_type": "code",
   "execution_count": 3,
   "id": "7c958b5b-d716-4519-b740-1aa7c3d5eb70",
   "metadata": {
    "tags": []
   },
   "outputs": [
    {
     "data": {
      "text/html": [
       "<div>\n",
       "<style scoped>\n",
       "    .dataframe tbody tr th:only-of-type {\n",
       "        vertical-align: middle;\n",
       "    }\n",
       "\n",
       "    .dataframe tbody tr th {\n",
       "        vertical-align: top;\n",
       "    }\n",
       "\n",
       "    .dataframe thead th {\n",
       "        text-align: right;\n",
       "    }\n",
       "</style>\n",
       "<table border=\"1\" class=\"dataframe\">\n",
       "  <thead>\n",
       "    <tr style=\"text-align: right;\">\n",
       "      <th></th>\n",
       "      <th>genes_shared_across_datasets</th>\n",
       "    </tr>\n",
       "  </thead>\n",
       "  <tbody>\n",
       "    <tr>\n",
       "      <th>0</th>\n",
       "      <td>ENSMUSG00000035873</td>\n",
       "    </tr>\n",
       "    <tr>\n",
       "      <th>1</th>\n",
       "      <td>ENSMUSG00000030492</td>\n",
       "    </tr>\n",
       "    <tr>\n",
       "      <th>2</th>\n",
       "      <td>ENSMUSG00000024855</td>\n",
       "    </tr>\n",
       "    <tr>\n",
       "      <th>3</th>\n",
       "      <td>ENSMUSG00000001946</td>\n",
       "    </tr>\n",
       "    <tr>\n",
       "      <th>4</th>\n",
       "      <td>ENSMUSG00000051048</td>\n",
       "    </tr>\n",
       "    <tr>\n",
       "      <th>...</th>\n",
       "      <td>...</td>\n",
       "    </tr>\n",
       "    <tr>\n",
       "      <th>13232</th>\n",
       "      <td>ENSMUSG00000054770</td>\n",
       "    </tr>\n",
       "    <tr>\n",
       "      <th>13233</th>\n",
       "      <td>ENSMUSG00000024842</td>\n",
       "    </tr>\n",
       "    <tr>\n",
       "      <th>13234</th>\n",
       "      <td>ENSMUSG00000006235</td>\n",
       "    </tr>\n",
       "    <tr>\n",
       "      <th>13235</th>\n",
       "      <td>ENSMUSG00000016510</td>\n",
       "    </tr>\n",
       "    <tr>\n",
       "      <th>13236</th>\n",
       "      <td>ENSMUSG00000020185</td>\n",
       "    </tr>\n",
       "  </tbody>\n",
       "</table>\n",
       "<p>13237 rows × 1 columns</p>\n",
       "</div>"
      ],
      "text/plain": [
       "      genes_shared_across_datasets\n",
       "0               ENSMUSG00000035873\n",
       "1               ENSMUSG00000030492\n",
       "2               ENSMUSG00000024855\n",
       "3               ENSMUSG00000001946\n",
       "4               ENSMUSG00000051048\n",
       "...                            ...\n",
       "13232           ENSMUSG00000054770\n",
       "13233           ENSMUSG00000024842\n",
       "13234           ENSMUSG00000006235\n",
       "13235           ENSMUSG00000016510\n",
       "13236           ENSMUSG00000020185\n",
       "\n",
       "[13237 rows x 1 columns]"
      ]
     },
     "execution_count": 3,
     "metadata": {},
     "output_type": "execute_result"
    }
   ],
   "source": [
    "genes"
   ]
  }
 ],
 "metadata": {
  "kernelspec": {
   "display_name": "Python 3 (ipykernel)",
   "language": "python",
   "name": "python3"
  },
  "language_info": {
   "codemirror_mode": {
    "name": "ipython",
    "version": 3
   },
   "file_extension": ".py",
   "mimetype": "text/x-python",
   "name": "python",
   "nbconvert_exporter": "python",
   "pygments_lexer": "ipython3",
   "version": "3.10.9"
  }
 },
 "nbformat": 4,
 "nbformat_minor": 5
}
