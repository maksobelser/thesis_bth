{
 "cells": [
  {
   "cell_type": "code",
   "execution_count": 16,
   "id": "ace4bedf-9037-4e33-9e8c-87f6bd57e447",
   "metadata": {
    "tags": []
   },
   "outputs": [],
   "source": [
    "import scanpy as sc"
   ]
  },
  {
   "cell_type": "code",
   "execution_count": 17,
   "id": "b3a74403-d851-4e17-9e2c-1fa9e579ae7f",
   "metadata": {
    "tags": []
   },
   "outputs": [],
   "source": [
    "mSTZ = sc.read_h5ad(\"mSTZ_ground_truth_baseline3000hvg.h5ad\")"
   ]
  },
  {
   "cell_type": "code",
   "execution_count": 18,
   "id": "8bbffa25-9941-4bfe-9a68-f0bedd9dee34",
   "metadata": {
    "tags": []
   },
   "outputs": [],
   "source": [
    "dbdb = sc.read_h5ad(\"dbdb_ground_truth_baseline3000hvg.h5ad\")"
   ]
  },
  {
   "cell_type": "code",
   "execution_count": 19,
   "id": "645cd956-b7a3-4579-959f-a4c3e6110eb6",
   "metadata": {
    "tags": []
   },
   "outputs": [],
   "source": [
    "ct_to_consider = [\"pancreatic D cell\", \"type B pancreatic cell\", \"pancreatic A cell\"]"
   ]
  },
  {
   "cell_type": "code",
   "execution_count": 20,
   "id": "e3909bd5-ca38-459f-90ef-5551c5ee750d",
   "metadata": {
    "tags": []
   },
   "outputs": [],
   "source": [
    "dbdb = dbdb[dbdb.obs.cell_type.isin(ct_to_consider)]"
   ]
  },
  {
   "cell_type": "code",
   "execution_count": 21,
   "id": "027ea495-95f2-40f8-b590-4f9bd4deca91",
   "metadata": {
    "tags": []
   },
   "outputs": [
    {
     "data": {
      "text/plain": [
       "type B pancreatic cell    31983\n",
       "pancreatic A cell          6587\n",
       "pancreatic D cell          4641\n",
       "Name: cell_type, dtype: int64"
      ]
     },
     "execution_count": 21,
     "metadata": {},
     "output_type": "execute_result"
    }
   ],
   "source": [
    "dbdb.obs.cell_type.value_counts()"
   ]
  },
  {
   "cell_type": "code",
   "execution_count": 22,
   "id": "764b6d0c-9690-49cc-8e24-e5d06babd33e",
   "metadata": {
    "tags": []
   },
   "outputs": [],
   "source": [
    "mSTZ = mSTZ[mSTZ.obs.cell_type.isin(ct_to_consider)]"
   ]
  },
  {
   "cell_type": "code",
   "execution_count": 23,
   "id": "26b869cd-acf8-4a05-a7fa-2dbf02e91fe2",
   "metadata": {
    "tags": []
   },
   "outputs": [
    {
     "data": {
      "text/plain": [
       "type B pancreatic cell    14329\n",
       "pancreatic A cell         11654\n",
       "pancreatic D cell          7577\n",
       "Name: cell_type, dtype: int64"
      ]
     },
     "execution_count": 23,
     "metadata": {},
     "output_type": "execute_result"
    }
   ],
   "source": [
    "mSTZ.obs.cell_type.value_counts()"
   ]
  },
  {
   "cell_type": "code",
   "execution_count": 24,
   "id": "abdc0311-101b-4cd0-9281-aeb9c5d7b556",
   "metadata": {
    "tags": []
   },
   "outputs": [],
   "source": [
    "mSTZ.write_h5ad(\"mSTZ_ground_truth_3000hvg_CT.h5ad\")"
   ]
  },
  {
   "cell_type": "code",
   "execution_count": 25,
   "id": "ec925427-dbd4-424b-abaf-25beaa6b0f94",
   "metadata": {
    "tags": []
   },
   "outputs": [],
   "source": [
    "dbdb.write_h5ad(\"dbdb_ground_truth_3000hvg_CT.h5ad\")"
   ]
  }
 ],
 "metadata": {
  "kernelspec": {
   "display_name": "Python 3 (ipykernel)",
   "language": "python",
   "name": "python3"
  },
  "language_info": {
   "codemirror_mode": {
    "name": "ipython",
    "version": 3
   },
   "file_extension": ".py",
   "mimetype": "text/x-python",
   "name": "python",
   "nbconvert_exporter": "python",
   "pygments_lexer": "ipython3",
   "version": "3.10.9"
  }
 },
 "nbformat": 4,
 "nbformat_minor": 5
}
