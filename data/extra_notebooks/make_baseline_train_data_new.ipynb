{
 "cells": [
  {
   "cell_type": "code",
   "execution_count": 1,
   "id": "1aeea5a9-3bb0-41db-a566-3661991185cf",
   "metadata": {
    "tags": []
   },
   "outputs": [],
   "source": [
    "import scanpy as sc\n",
    "import pandas as pd"
   ]
  },
  {
   "cell_type": "code",
   "execution_count": 2,
   "id": "6aa6c243-e109-4419-9c1e-695a5b3c8416",
   "metadata": {
    "tags": []
   },
   "outputs": [],
   "source": [
    "Wang_h_adult_and_T2D = sc.read_h5ad(\"/d/hpc/projects/FRI/DL/mo6643/MSC/data/data_update_slack/data_splits/human_diabetic_dataset_Wang2023/Wang_h_adult_and_T2D.h5ad\")"
   ]
  },
  {
   "cell_type": "code",
   "execution_count": 3,
   "id": "446ec92c-be0c-4f14-84f7-1e6340f8df11",
   "metadata": {},
   "outputs": [],
   "source": [
    "mouse_atlas_healthy_adult = sc.read_h5ad(\"/d/hpc/projects/FRI/DL/mo6643/MSC/data/data_update_slack/data_splits/mouse_pancreatic_atlas/mouse_atlas_healthy_adult.h5ad\")"
   ]
  },
  {
   "cell_type": "code",
   "execution_count": 6,
   "id": "d11456ac-8275-41b2-aad9-7070baf79af6",
   "metadata": {
    "tags": []
   },
   "outputs": [],
   "source": [
    "Elgmal_h_adult_and_diabetic = sc.read_h5ad(\"/d/hpc/projects/FRI/DL/mo6643/MSC/data/data_update_slack/data_splits/extra_human_datasets/Elgamal/Elgmal_h_adult_and_diabetic.h5ad\")"
   ]
  },
  {
   "cell_type": "code",
   "execution_count": 4,
   "id": "455c3079-7a2b-4d72-9e13-8bfaf095cc87",
   "metadata": {
    "tags": []
   },
   "outputs": [],
   "source": [
    "orth = pd.read_table(\"/d/hpc/projects/FRI/DL/mo6643/MSC/data/data_update_slack/mouse_human_homology.tsv\")"
   ]
  },
  {
   "cell_type": "code",
   "execution_count": 5,
   "id": "4a6d7cd5-3817-41af-9419-6b5c5a33af8d",
   "metadata": {
    "tags": []
   },
   "outputs": [
    {
     "data": {
      "text/html": [
       "<div>\n",
       "<style scoped>\n",
       "    .dataframe tbody tr th:only-of-type {\n",
       "        vertical-align: middle;\n",
       "    }\n",
       "\n",
       "    .dataframe tbody tr th {\n",
       "        vertical-align: top;\n",
       "    }\n",
       "\n",
       "    .dataframe thead th {\n",
       "        text-align: right;\n",
       "    }\n",
       "</style>\n",
       "<table border=\"1\" class=\"dataframe\">\n",
       "  <thead>\n",
       "    <tr style=\"text-align: right;\">\n",
       "      <th></th>\n",
       "      <th>disease</th>\n",
       "      <th>cell_type</th>\n",
       "      <th>organism</th>\n",
       "      <th>dataset</th>\n",
       "    </tr>\n",
       "  </thead>\n",
       "  <tbody>\n",
       "    <tr>\n",
       "      <th>A0011_AAACAGCCACAGCCTG-1</th>\n",
       "      <td>Pre-T2D</td>\n",
       "      <td>alpha</td>\n",
       "      <td>Homo sapiens</td>\n",
       "      <td>Wang</td>\n",
       "    </tr>\n",
       "    <tr>\n",
       "      <th>A0011_AAACAGCCACTAGGTC-1</th>\n",
       "      <td>Pre-T2D</td>\n",
       "      <td>beta</td>\n",
       "      <td>Homo sapiens</td>\n",
       "      <td>Wang</td>\n",
       "    </tr>\n",
       "    <tr>\n",
       "      <th>A0011_AAACCAACAAATTGCT-1</th>\n",
       "      <td>Pre-T2D</td>\n",
       "      <td>beta</td>\n",
       "      <td>Homo sapiens</td>\n",
       "      <td>Wang</td>\n",
       "    </tr>\n",
       "    <tr>\n",
       "      <th>A0011_AAACCGAAGCAGGTGG-1</th>\n",
       "      <td>Pre-T2D</td>\n",
       "      <td>beta</td>\n",
       "      <td>Homo sapiens</td>\n",
       "      <td>Wang</td>\n",
       "    </tr>\n",
       "    <tr>\n",
       "      <th>A0011_AAACCGAAGTGAAGTG-1</th>\n",
       "      <td>Pre-T2D</td>\n",
       "      <td>alpha</td>\n",
       "      <td>Homo sapiens</td>\n",
       "      <td>Wang</td>\n",
       "    </tr>\n",
       "    <tr>\n",
       "      <th>...</th>\n",
       "      <td>...</td>\n",
       "      <td>...</td>\n",
       "      <td>...</td>\n",
       "      <td>...</td>\n",
       "    </tr>\n",
       "    <tr>\n",
       "      <th>C0027_TTTGTTGGTGAGGTAG-1</th>\n",
       "      <td>healthy</td>\n",
       "      <td>alpha</td>\n",
       "      <td>Homo sapiens</td>\n",
       "      <td>Wang</td>\n",
       "    </tr>\n",
       "    <tr>\n",
       "      <th>C0027_TTTGTTGGTGCTCCGT-1</th>\n",
       "      <td>healthy</td>\n",
       "      <td>beta</td>\n",
       "      <td>Homo sapiens</td>\n",
       "      <td>Wang</td>\n",
       "    </tr>\n",
       "    <tr>\n",
       "      <th>C0027_TTTGTTGGTGTGTCCC-1</th>\n",
       "      <td>healthy</td>\n",
       "      <td>beta</td>\n",
       "      <td>Homo sapiens</td>\n",
       "      <td>Wang</td>\n",
       "    </tr>\n",
       "    <tr>\n",
       "      <th>C0027_TTTGTTGGTTTCGCGC-1</th>\n",
       "      <td>healthy</td>\n",
       "      <td>beta</td>\n",
       "      <td>Homo sapiens</td>\n",
       "      <td>Wang</td>\n",
       "    </tr>\n",
       "    <tr>\n",
       "      <th>C0027_TTTGTTGGTTTGACCT-1</th>\n",
       "      <td>healthy</td>\n",
       "      <td>beta</td>\n",
       "      <td>Homo sapiens</td>\n",
       "      <td>Wang</td>\n",
       "    </tr>\n",
       "  </tbody>\n",
       "</table>\n",
       "<p>77255 rows × 4 columns</p>\n",
       "</div>"
      ],
      "text/plain": [
       "                          disease cell_type      organism dataset\n",
       "A0011_AAACAGCCACAGCCTG-1  Pre-T2D     alpha  Homo sapiens    Wang\n",
       "A0011_AAACAGCCACTAGGTC-1  Pre-T2D      beta  Homo sapiens    Wang\n",
       "A0011_AAACCAACAAATTGCT-1  Pre-T2D      beta  Homo sapiens    Wang\n",
       "A0011_AAACCGAAGCAGGTGG-1  Pre-T2D      beta  Homo sapiens    Wang\n",
       "A0011_AAACCGAAGTGAAGTG-1  Pre-T2D     alpha  Homo sapiens    Wang\n",
       "...                           ...       ...           ...     ...\n",
       "C0027_TTTGTTGGTGAGGTAG-1  healthy     alpha  Homo sapiens    Wang\n",
       "C0027_TTTGTTGGTGCTCCGT-1  healthy      beta  Homo sapiens    Wang\n",
       "C0027_TTTGTTGGTGTGTCCC-1  healthy      beta  Homo sapiens    Wang\n",
       "C0027_TTTGTTGGTTTCGCGC-1  healthy      beta  Homo sapiens    Wang\n",
       "C0027_TTTGTTGGTTTGACCT-1  healthy      beta  Homo sapiens    Wang\n",
       "\n",
       "[77255 rows x 4 columns]"
      ]
     },
     "execution_count": 5,
     "metadata": {},
     "output_type": "execute_result"
    }
   ],
   "source": [
    "Wang_h_adult_and_T2D.obs"
   ]
  },
  {
   "cell_type": "code",
   "execution_count": 8,
   "id": "5e40d814-3eb7-4bb5-a789-600a2d92ff9e",
   "metadata": {
    "tags": []
   },
   "outputs": [],
   "source": [
    "Wang_var = Wang_h_adult_and_T2D.var\n",
    "Wang_var = Wang_var.copy()\n",
    "Wang_var[\"name\"] = Wang_var.index"
   ]
  },
  {
   "cell_type": "code",
   "execution_count": 9,
   "id": "cd0668db-a74d-4b15-88ba-635d871b8383",
   "metadata": {
    "tags": []
   },
   "outputs": [],
   "source": [
    "duplicates = orth[orth.duplicated(subset=\"Human gene name\", keep=False)]"
   ]
  },
  {
   "cell_type": "code",
   "execution_count": 10,
   "id": "719169a1-dc06-4b54-91f6-0bce6591eb18",
   "metadata": {
    "tags": []
   },
   "outputs": [],
   "source": [
    "unique_ids_per_group = duplicates.groupby(\"Human gene name\")[\"Gene stable ID\"].nunique()\n",
    "groups_with_multiple_ids = unique_ids_per_group[unique_ids_per_group > 1]\n",
    "genes_with_multiple_ids = unique_ids_per_group[unique_ids_per_group > 1].index.tolist()"
   ]
  },
  {
   "cell_type": "code",
   "execution_count": 11,
   "id": "94654d41-ad42-4eb2-8a22-7d912a6f32ce",
   "metadata": {
    "tags": []
   },
   "outputs": [],
   "source": [
    "filtered_orth = orth[~orth[\"Human gene name\"].isin(genes_with_multiple_ids)]"
   ]
  },
  {
   "cell_type": "code",
   "execution_count": 12,
   "id": "ae78aa57-294f-456e-9470-4fe5842ef714",
   "metadata": {
    "tags": []
   },
   "outputs": [],
   "source": [
    "orth_deduplicated = filtered_orth.drop_duplicates(subset=\"Human gene name\", keep=\"first\")"
   ]
  },
  {
   "cell_type": "code",
   "execution_count": 13,
   "id": "f0c5e4b4-1d10-463b-9933-66317e5f28b5",
   "metadata": {
    "tags": []
   },
   "outputs": [],
   "source": [
    "merged_df = Wang_var.merge(right=orth_deduplicated, left_on=\"name\", right_on=\"Human gene name\", how=\"left\")\n",
    "merged_df.index = merged_df[\"name\"]\n",
    "merged_df.index = merged_df.index.rename(\"EID\")"
   ]
  },
  {
   "cell_type": "code",
   "execution_count": 14,
   "id": "8c44e569-5d6e-4584-a265-217d5a5e1cdf",
   "metadata": {
    "tags": []
   },
   "outputs": [
    {
     "name": "stderr",
     "output_type": "stream",
     "text": [
      "/d/hpc/home/mo6643/miniconda3/envs/msc1/lib/python3.10/site-packages/anndata/_core/anndata.py:1830: UserWarning: Variable names are not unique. To make them unique, call `.var_names_make_unique`.\n",
      "  utils.warn_names_duplicates(\"var\")\n"
     ]
    }
   ],
   "source": [
    "Wang_h_adult_and_T2D.var = merged_df\n",
    "Wang_h_adult_and_T2D_orth = Wang_h_adult_and_T2D[:,~Wang_h_adult_and_T2D.var['Gene stable ID'].isna()]\n",
    "\n",
    "Wang_h_adult_and_T2D_orth.var.index = Wang_h_adult_and_T2D_orth.var[\"Gene stable ID\"]\n",
    "\n",
    "Wang_h_adult_and_T2D_orth.var.index = Wang_h_adult_and_T2D_orth.var.index.rename(\"EID\")\n",
    "Wang_h_adult_and_T2D_orth.var = Wang_h_adult_and_T2D_orth.var.copy()\n",
    "\n",
    "Wang_h_adult_and_T2D_orth = Wang_h_adult_and_T2D_orth[:,Wang_h_adult_and_T2D_orth.var[\"Human homology type\"] == \"ortholog_one2one\"]"
   ]
  },
  {
   "cell_type": "code",
   "execution_count": 15,
   "id": "5b7a55fe-68ea-4676-a6e4-623f5cdbb618",
   "metadata": {
    "tags": []
   },
   "outputs": [],
   "source": [
    "Elgmal_h_adult_and_diabetic_obs = Elgmal_h_adult_and_diabetic.obs"
   ]
  },
  {
   "cell_type": "code",
   "execution_count": 16,
   "id": "34509496-b632-4800-a7fe-b33b71d7d698",
   "metadata": {
    "tags": []
   },
   "outputs": [],
   "source": [
    "Elgmal_h_adult_and_diabetic_obs[\"Diabetes Status\"] = Elgmal_h_adult_and_diabetic_obs[\"Diabetes Status\"].replace(\"ND\", \"healthy\")\n",
    "Elgmal_h_adult_and_diabetic_obs[\"disease\"] = Elgmal_h_adult_and_diabetic_obs[\"Diabetes Status\"]"
   ]
  },
  {
   "cell_type": "code",
   "execution_count": 17,
   "id": "aeee6919-57d8-4998-9fbf-38d7bd294723",
   "metadata": {
    "tags": []
   },
   "outputs": [],
   "source": [
    "Elgmal_h_adult_and_diabetic_obs.rename({\"Cell Type\":\"cell_type\"}, axis = 1, inplace = True)"
   ]
  },
  {
   "cell_type": "code",
   "execution_count": 18,
   "id": "5ec62b25-41e2-4bf4-92be-b0ca58a26f0d",
   "metadata": {
    "tags": []
   },
   "outputs": [],
   "source": [
    "Elgmal_h_adult_and_diabetic_obs = Elgmal_h_adult_and_diabetic.obs\n",
    "Elgmal_h_adult_and_diabetic_obs[\"dataset\"] = \"Elgmal\"\n",
    "Elgmal_h_adult_and_diabetic_obs[\"organism\"] = \"Homo sapiens\"\n",
    "Elgmal_h_adult_and_diabetic_obs = Elgmal_h_adult_and_diabetic_obs[[\"disease\", \"dataset\", \"organism\", \"cell_type\"]]"
   ]
  },
  {
   "cell_type": "code",
   "execution_count": 19,
   "id": "250be81c-3fb9-4eb3-99c9-d779b4475813",
   "metadata": {
    "tags": []
   },
   "outputs": [],
   "source": [
    "Elgamal_var = Elgmal_h_adult_and_diabetic.var\n",
    "Elgamal_var = Elgamal_var.copy()\n",
    "Elgamal_var[\"name\"] = Elgamal_var.index\n",
    "Elgamal_var.index = Elgamal_var.index.rename(\"EID\")"
   ]
  },
  {
   "cell_type": "code",
   "execution_count": 20,
   "id": "da0cfc2c-5b2f-46a9-ba79-f52e328e38ea",
   "metadata": {
    "tags": []
   },
   "outputs": [
    {
     "name": "stdout",
     "output_type": "stream",
     "text": [
      "0\n",
      "86226\n"
     ]
    }
   ],
   "source": [
    "# Check for duplicate keys in both dataframes\n",
    "print(Elgamal_var[\"name\"].duplicated().sum())  # In Wang_var\n",
    "print(orth[\"Human gene name\"].duplicated().sum())  # In orth\n",
    "merged_df.index = merged_df[\"name\"]"
   ]
  },
  {
   "cell_type": "code",
   "execution_count": 21,
   "id": "bc42b42b-aec3-47fa-8258-81f75c04f4df",
   "metadata": {
    "tags": []
   },
   "outputs": [],
   "source": [
    "orth_deduplicated.index = orth_deduplicated[\"Human gene name\"]\n",
    "orth_deduplicated.index = orth_deduplicated.index.rename(\"EID\")"
   ]
  },
  {
   "cell_type": "code",
   "execution_count": 22,
   "id": "3f142e07-bfcc-4fb1-9208-b9ac770c77c8",
   "metadata": {
    "tags": []
   },
   "outputs": [],
   "source": [
    "merged_df = Elgamal_var.merge(right=orth_deduplicated, left_on=\"name\", right_on=\"Human gene name\", how=\"left\")\n",
    "merged_df.index = merged_df[\"Gene stable ID\"].rename(\"EID\")"
   ]
  },
  {
   "cell_type": "code",
   "execution_count": 23,
   "id": "5f589278-5b67-4fe5-9ae7-63dca0e42794",
   "metadata": {
    "tags": []
   },
   "outputs": [],
   "source": [
    "Elgmal_h_adult_and_diabetic.var = merged_df\n",
    "#Elgmal_h_adult_and_diabetic.var[\"Transcript stable ID\"]"
   ]
  },
  {
   "cell_type": "code",
   "execution_count": 24,
   "id": "38519c0b-7418-4b3b-a4d0-c6f597021ae0",
   "metadata": {
    "tags": []
   },
   "outputs": [
    {
     "name": "stderr",
     "output_type": "stream",
     "text": [
      "/d/hpc/home/mo6643/miniconda3/envs/msc1/lib/python3.10/site-packages/anndata/_core/anndata.py:1830: UserWarning: Variable names are not unique. To make them unique, call `.var_names_make_unique`.\n",
      "  utils.warn_names_duplicates(\"var\")\n"
     ]
    }
   ],
   "source": [
    "Elgmal_h_adult_and_diabetic = Elgmal_h_adult_and_diabetic[:,~Elgmal_h_adult_and_diabetic.var['Gene stable ID'].isna()]\n",
    "\n",
    "Elgmal_h_adult_and_diabetic.var = Elgmal_h_adult_and_diabetic.var.copy()\n",
    "Elgmal_h_adult_and_diabetic = Elgmal_h_adult_and_diabetic[:,Elgmal_h_adult_and_diabetic.var[\"Human homology type\"] == \"ortholog_one2one\"]"
   ]
  },
  {
   "cell_type": "code",
   "execution_count": 25,
   "id": "910f0336-3133-4c8b-b282-81e8dd368a2a",
   "metadata": {
    "tags": []
   },
   "outputs": [],
   "source": [
    "Elgmal_h_adult_and_diabetic.obs = Elgmal_h_adult_and_diabetic_obs"
   ]
  },
  {
   "cell_type": "code",
   "execution_count": 26,
   "id": "e13410f3-a0c9-494c-b9e5-6c4bacfcd998",
   "metadata": {
    "tags": []
   },
   "outputs": [],
   "source": [
    "mouse_atlas_healthy_adult_obs = mouse_atlas_healthy_adult.obs"
   ]
  },
  {
   "cell_type": "code",
   "execution_count": 27,
   "id": "fdf2fc71-01f8-403f-abbf-2f3694da4b8a",
   "metadata": {
    "tags": []
   },
   "outputs": [],
   "source": [
    "mouse_atlas_healthy_adult_obs[\"disease\"] = \"healthy\""
   ]
  },
  {
   "cell_type": "code",
   "execution_count": 28,
   "id": "564878fc-ee14-4509-a67f-99918ac08ea2",
   "metadata": {
    "tags": []
   },
   "outputs": [],
   "source": [
    "mouse_atlas_healthy_adult.obs = mouse_atlas_healthy_adult_obs[[\"disease\", \"dataset\", \"organism\", \"cell_type\"]]"
   ]
  },
  {
   "cell_type": "code",
   "execution_count": 29,
   "id": "c921ed47-ffb3-4b69-8c53-8be219c0ec66",
   "metadata": {
    "tags": []
   },
   "outputs": [],
   "source": [
    "mouse_atlas_healthy_adult.X = mouse_atlas_healthy_adult.raw.X"
   ]
  },
  {
   "cell_type": "markdown",
   "id": "afa142bd-de67-4056-891d-fc73e57fb528",
   "metadata": {},
   "source": [
    "Preprocessing of datasets"
   ]
  },
  {
   "cell_type": "code",
   "execution_count": 30,
   "id": "6b9b2ba5-6620-403d-9ed7-12fb380e963d",
   "metadata": {
    "tags": []
   },
   "outputs": [
    {
     "name": "stderr",
     "output_type": "stream",
     "text": [
      "/d/hpc/home/mo6643/miniconda3/envs/msc1/lib/python3.10/site-packages/scanpy/preprocessing/_simple.py:524: SettingWithCopyWarning: \n",
      "A value is trying to be set on a copy of a slice from a DataFrame.\n",
      "Try using .loc[row_indexer,col_indexer] = value instead\n",
      "\n",
      "See the caveats in the documentation: https://pandas.pydata.org/pandas-docs/stable/user_guide/indexing.html#returning-a-view-versus-a-copy\n",
      "  adata.obs[key_n_counts] = counts_per_cell\n"
     ]
    }
   ],
   "source": [
    "sc.pp.normalize_per_cell(mouse_atlas_healthy_adult)"
   ]
  },
  {
   "cell_type": "code",
   "execution_count": 31,
   "id": "92412d6a-c70f-4c41-9592-2c0495986b4e",
   "metadata": {
    "tags": []
   },
   "outputs": [],
   "source": [
    "sc.pp.log1p(mouse_atlas_healthy_adult)"
   ]
  },
  {
   "cell_type": "code",
   "execution_count": 32,
   "id": "fef8307d-f650-4490-bdf8-4e9e61369fa2",
   "metadata": {
    "tags": []
   },
   "outputs": [
    {
     "name": "stderr",
     "output_type": "stream",
     "text": [
      "/d/hpc/home/mo6643/miniconda3/envs/msc1/lib/python3.10/site-packages/scanpy/preprocessing/_simple.py:524: ImplicitModificationWarning: Trying to modify attribute `.obs` of view, initializing view as actual.\n",
      "  adata.obs[key_n_counts] = counts_per_cell\n"
     ]
    }
   ],
   "source": [
    "sc.pp.normalize_per_cell(Wang_h_adult_and_T2D_orth)"
   ]
  },
  {
   "cell_type": "code",
   "execution_count": 33,
   "id": "5bda08fe-f52d-4360-92f0-b1bf4fd541fd",
   "metadata": {
    "tags": []
   },
   "outputs": [],
   "source": [
    "sc.pp.log1p(Wang_h_adult_and_T2D_orth)"
   ]
  },
  {
   "cell_type": "code",
   "execution_count": 34,
   "id": "6631a084-c49e-4227-afc4-09a2e38e13b7",
   "metadata": {
    "tags": []
   },
   "outputs": [],
   "source": [
    "var = pd.DataFrame(index = Wang_h_adult_and_T2D_orth.var.index)"
   ]
  },
  {
   "cell_type": "code",
   "execution_count": 35,
   "id": "ed8ee7d9-2e47-4c92-bdf2-2343480186e0",
   "metadata": {
    "tags": []
   },
   "outputs": [],
   "source": [
    "Wang_h_adult_and_T2D_orth.var = var"
   ]
  },
  {
   "cell_type": "code",
   "execution_count": 36,
   "id": "cb98fc18-7e6e-42a6-9775-1ee6906c78ba",
   "metadata": {
    "tags": []
   },
   "outputs": [],
   "source": [
    "Wang_h_adult_and_T2D_orth = Wang_h_adult_and_T2D_orth[Wang_h_adult_and_T2D_orth.obs.disease != \"Pre-T2D\"]"
   ]
  },
  {
   "cell_type": "code",
   "execution_count": 38,
   "id": "d11c0969-1ad8-493c-bc23-19ef32c80d9b",
   "metadata": {
    "tags": []
   },
   "outputs": [
    {
     "name": "stderr",
     "output_type": "stream",
     "text": [
      "/d/hpc/home/mo6643/miniconda3/envs/msc1/lib/python3.10/site-packages/scanpy/preprocessing/_simple.py:524: SettingWithCopyWarning: \n",
      "A value is trying to be set on a copy of a slice from a DataFrame.\n",
      "Try using .loc[row_indexer,col_indexer] = value instead\n",
      "\n",
      "See the caveats in the documentation: https://pandas.pydata.org/pandas-docs/stable/user_guide/indexing.html#returning-a-view-versus-a-copy\n",
      "  adata.obs[key_n_counts] = counts_per_cell\n"
     ]
    }
   ],
   "source": [
    "sc.pp.normalize_per_cell(Elgmal_h_adult_and_diabetic)"
   ]
  },
  {
   "cell_type": "code",
   "execution_count": 39,
   "id": "73019542-ad70-4f7a-b410-2ad0d28450db",
   "metadata": {
    "tags": []
   },
   "outputs": [],
   "source": [
    "sc.pp.log1p(Elgmal_h_adult_and_diabetic)"
   ]
  },
  {
   "cell_type": "code",
   "execution_count": 22,
   "id": "d2ca7b92-0004-4ac9-ab09-39bfeadc0c2a",
   "metadata": {
    "tags": []
   },
   "outputs": [],
   "source": [
    "Wang_h_adult_and_T2D_orth.write_h5ad(\"/d/hpc/projects/FRI/DL/mo6643/MSC/data/data_update_slack/data_splits/data_splits_train_merge/data_to_predict/wang_to_predict.h5ad\")"
   ]
  },
  {
   "cell_type": "code",
   "execution_count": 40,
   "id": "b36c7272-82c6-4113-8881-86458a5d9fdf",
   "metadata": {
    "tags": []
   },
   "outputs": [
    {
     "name": "stderr",
     "output_type": "stream",
     "text": [
      "/d/hpc/home/mo6643/miniconda3/envs/msc1/lib/python3.10/site-packages/anndata/_core/merge.py:942: UserWarning: Only some AnnData objects have `.raw` attribute, not concatenating `.raw` attributes.\n",
      "  warn(\n"
     ]
    }
   ],
   "source": [
    "adata_concat = sc.concat([mouse_atlas_healthy_adult, Elgmal_h_adult_and_diabetic, Wang_h_adult_and_T2D_orth], join=\"inner\")"
   ]
  },
  {
   "cell_type": "code",
   "execution_count": 41,
   "id": "2a5a6f33-dc29-4e4f-9b7f-4368ce1f81de",
   "metadata": {
    "tags": []
   },
   "outputs": [],
   "source": [
    "adata_extra_preT2diseaseadata_concat[adata_concat.obs.disease == \"Pre-T2D\"]"
   ]
  },
  {
   "cell_type": "code",
   "execution_count": 42,
   "id": "8f7109a0-6869-448e-a3fc-984aa180f9e6",
   "metadata": {
    "tags": []
   },
   "outputs": [
    {
     "data": {
      "text/plain": [
       "View of AnnData object with n_obs × n_vars = 0 × 15457\n",
       "    obs: 'disease', 'dataset', 'organism', 'cell_type', 'n_counts'"
      ]
     },
     "execution_count": 42,
     "metadata": {},
     "output_type": "execute_result"
    }
   ],
   "source": [
    "adata_extra_preT2D"
   ]
  },
  {
   "cell_type": "code",
   "execution_count": 101,
   "id": "b106bb4f-63bd-42ef-a68c-6644e652545a",
   "metadata": {
    "tags": []
   },
   "outputs": [],
   "source": [
    "adata_extra_preT2D.write_h5ad(\"./train_data/extra_human_preT2D_new.h5ad\")"
   ]
  },
  {
   "cell_type": "code",
   "execution_count": 88,
   "id": "8c869492-ab7d-440e-9903-0c49ca8d9c78",
   "metadata": {
    "tags": []
   },
   "outputs": [],
   "source": [
    "ind = [not elm for elm in adata_concat.obs.disease == \"Pre-T2D\"]"
   ]
  },
  {
   "cell_type": "code",
   "execution_count": 50,
   "id": "f648088c-8ffa-42a1-950c-609d9b1491e3",
   "metadata": {
    "tags": []
   },
   "outputs": [],
   "source": [
    "adata_train_baseline = adata_concat"
   ]
  },
  {
   "cell_type": "code",
   "execution_count": 51,
   "id": "2b93818e-632d-45d0-843b-528e6aed611a",
   "metadata": {
    "tags": []
   },
   "outputs": [],
   "source": [
    "adata_train_baseline.obs.disease.replace({\"healthy\":\"normal\"}, inplace = True)"
   ]
  },
  {
   "cell_type": "code",
   "execution_count": 52,
   "id": "34cbdef7-7223-47ac-a3ab-d233e6fb190b",
   "metadata": {
    "tags": []
   },
   "outputs": [
    {
     "data": {
      "text/plain": [
       "array(['normal', 'T2D'], dtype=object)"
      ]
     },
     "execution_count": 52,
     "metadata": {},
     "output_type": "execute_result"
    }
   ],
   "source": [
    "adata_train_baseline.obs.disease.unique()"
   ]
  },
  {
   "cell_type": "code",
   "execution_count": 54,
   "id": "ce083768-6821-4cb7-bcf5-52842b1d0f77",
   "metadata": {
    "tags": []
   },
   "outputs": [
    {
     "data": {
      "text/plain": [
       "AnnData object with n_obs × n_vars = 204754 × 15457\n",
       "    obs: 'disease', 'dataset', 'organism', 'cell_type', 'n_counts'"
      ]
     },
     "execution_count": 54,
     "metadata": {},
     "output_type": "execute_result"
    }
   ],
   "source": [
    "adata_train_baseline"
   ]
  },
  {
   "cell_type": "code",
   "execution_count": 55,
   "id": "34e0aa33-baf6-4f82-b190-39b72864aeab",
   "metadata": {
    "tags": []
   },
   "outputs": [],
   "source": [
    "adata_train_baseline.write_h5ad(\"./train_data/full_datasets/train_adata_baseline.h5ad\")"
   ]
  },
  {
   "cell_type": "code",
   "execution_count": 49,
   "id": "2000ae7b-b880-46d6-8079-26455b037e22",
   "metadata": {
    "tags": []
   },
   "outputs": [],
   "source": [
    "adata_concat.write_h5ad(\"./train_data/train_adata_baseline_deduplicated.h5ad\")"
   ]
  },
  {
   "cell_type": "code",
   "execution_count": 35,
   "id": "b760bfd4-d542-40bc-a265-aef8d6fba095",
   "metadata": {
    "tags": []
   },
   "outputs": [],
   "source": [
    "sc.pp.highly_variable_genes(adata_concat, n_top_genes=3000)"
   ]
  },
  {
   "cell_type": "code",
   "execution_count": 36,
   "id": "65aec6a9-5c02-451a-8c74-61ae7af4aa98",
   "metadata": {
    "tags": []
   },
   "outputs": [],
   "source": [
    "adata_concat_highly_variable = adata_concat[:,adata_concat.var.highly_variable]"
   ]
  },
  {
   "cell_type": "code",
   "execution_count": 38,
   "id": "d8b45db2-6c32-41c1-af62-45baf91fad98",
   "metadata": {
    "tags": []
   },
   "outputs": [],
   "source": [
    "adata_concat_highly_variable.write_h5ad(\"./train_data/train_adata_baseline_top3000hvg_deduplicated.h5ad\")"
   ]
  },
  {
   "cell_type": "code",
   "execution_count": 39,
   "id": "fb47e8d3-3b8f-4088-8049-e6a9ddd6fbd1",
   "metadata": {
    "tags": []
   },
   "outputs": [],
   "source": [
    "Wang_h_adult_and_T2D_orth_concat = Wang_h_adult_and_T2D_orth[:,Wang_h_adult_and_T2D_orth.var.index.isin(adata_concat.var.index)]"
   ]
  },
  {
   "cell_type": "code",
   "execution_count": 40,
   "id": "ec67c9f2-9cba-4f94-988b-944189d6e086",
   "metadata": {
    "tags": []
   },
   "outputs": [],
   "source": [
    "Wang_h_adult_and_T2D_orth_concat.var = pd.DataFrame(Wang_h_adult_and_T2D_orth_concat.var.index)"
   ]
  },
  {
   "cell_type": "code",
   "execution_count": 41,
   "id": "81b996c2-2261-421f-9531-3c373b2d66c7",
   "metadata": {
    "tags": []
   },
   "outputs": [],
   "source": [
    "Wang_h_adult_and_T2D_orth_concat.var.index = Wang_h_adult_and_T2D_orth_concat.var[\"EID\"]"
   ]
  },
  {
   "cell_type": "code",
   "execution_count": 42,
   "id": "8f76e43f-c8da-43d5-9228-f2d86f36e166",
   "metadata": {
    "tags": []
   },
   "outputs": [],
   "source": [
    "Wang_h_adult_and_T2D_orth_concat.var = Wang_h_adult_and_T2D_orth_concat.var.drop(\"EID\", axis=1)"
   ]
  },
  {
   "cell_type": "code",
   "execution_count": 43,
   "id": "c0cb0a17-c23f-48a6-b752-e9660d4878f1",
   "metadata": {
    "tags": []
   },
   "outputs": [],
   "source": [
    "delattr(Wang_h_adult_and_T2D_orth_concat, \"uns\")"
   ]
  },
  {
   "cell_type": "code",
   "execution_count": 44,
   "id": "6dd3fc90-2298-436f-8054-4bef7bedd824",
   "metadata": {
    "tags": []
   },
   "outputs": [],
   "source": [
    "Wang_h_adult_and_T2D_orth_concat.obs = Wang_h_adult_and_T2D_orth_concat.obs.drop(\"n_counts\", axis=1)"
   ]
  },
  {
   "cell_type": "code",
   "execution_count": 45,
   "id": "5d73a307-8804-41af-999f-09caf763595d",
   "metadata": {
    "tags": []
   },
   "outputs": [],
   "source": [
    "Wang_h_adult_and_T2D_orth_concat.write_h5ad(\"./data_to_predict/Wang_to_predict.h5ad\")"
   ]
  },
  {
   "cell_type": "markdown",
   "id": "367644b7-4dd8-4b35-9008-b54c37bbf553",
   "metadata": {},
   "source": [
    "### deduplication test"
   ]
  },
  {
   "cell_type": "code",
   "execution_count": 46,
   "id": "8229467a-182a-430e-affc-aec2aa3f07af",
   "metadata": {
    "tags": []
   },
   "outputs": [],
   "source": [
    "import pandas as pd"
   ]
  },
  {
   "cell_type": "code",
   "execution_count": 47,
   "id": "bbf5bcbb-2efb-4cba-99e2-02199dd5d9cc",
   "metadata": {
    "tags": []
   },
   "outputs": [],
   "source": [
    "genes_original = pd.read_csv(\"./top3000_hvg_baseline_train_data.csv\")"
   ]
  },
  {
   "cell_type": "code",
   "execution_count": 51,
   "id": "3b7c82a8-0439-487f-8f46-8d6fce9e0be5",
   "metadata": {
    "tags": []
   },
   "outputs": [],
   "source": [
    "genes_deduplicated = pd.DataFrame(index = adata_concat_highly_variable.var.index)"
   ]
  },
  {
   "cell_type": "code",
   "execution_count": 52,
   "id": "7c70257b-b492-4819-b9a2-89f2d61640ca",
   "metadata": {
    "tags": []
   },
   "outputs": [
    {
     "data": {
      "text/plain": [
       "3000"
      ]
     },
     "execution_count": 52,
     "metadata": {},
     "output_type": "execute_result"
    }
   ],
   "source": [
    "sum(genes_original.EID.isin(adata_concat_highly_variable.var.index))"
   ]
  },
  {
   "cell_type": "code",
   "execution_count": 53,
   "id": "6a28fd7e-aca2-48cf-ad34-405e1c9f771c",
   "metadata": {
    "tags": []
   },
   "outputs": [
    {
     "data": {
      "text/plain": [
       "100.0"
      ]
     },
     "execution_count": 53,
     "metadata": {},
     "output_type": "execute_result"
    }
   ],
   "source": [
    "sum(genes_original.EID.isin(genes_deduplicated.index))/len(adata_concat_highly_variable.var)*100"
   ]
  },
  {
   "cell_type": "markdown",
   "id": "7cb7b1c5-8bb2-4d69-860b-a6af8d2d6c6f",
   "metadata": {
    "tags": []
   },
   "source": [
    "### Ground truth dataset"
   ]
  },
  {
   "cell_type": "code",
   "execution_count": 51,
   "id": "c6b4059e-7b04-4419-ae26-ff7e1e8b28dd",
   "metadata": {
    "tags": []
   },
   "outputs": [],
   "source": [
    "mouse_atlas = sc.read_h5ad(\"/d/hpc/projects/FRI/DL/mo6643/MSC/data/data_update_slack/data_splits/mouse_pancreatic_atlas/mouse_atlas_hrovatin.h5ad\")"
   ]
  },
  {
   "cell_type": "markdown",
   "id": "78d7ac69-a4c7-4157-91d4-411a4dafcec6",
   "metadata": {},
   "source": [
    "#### dbdb"
   ]
  },
  {
   "cell_type": "code",
   "execution_count": 52,
   "id": "f88918c1-3e2d-4a8b-a6b7-a0892945d971",
   "metadata": {
    "tags": []
   },
   "outputs": [],
   "source": [
    "dbdb = mouse_atlas[mouse_atlas.obs.dataset == \"db/db\"]"
   ]
  },
  {
   "cell_type": "code",
   "execution_count": 53,
   "id": "cd8e3c3f-9f73-4a6c-8dd3-3e9c9c1b10fb",
   "metadata": {
    "tags": []
   },
   "outputs": [
    {
     "data": {
      "text/plain": [
       "index\n",
       "CTTCCTTGTACCCAGC-1-MUC13640-VSG    type 2 diabetes mellitus\n",
       "GTGCTTCCATTGCCTC-1-MUC13631-VSG    type 2 diabetes mellitus\n",
       "ATAGGCTCATGCAGCC-1-MUC13639-VSG    type 2 diabetes mellitus\n",
       "TACCTGCAGGAAAGGT-1-MUC13640-VSG    type 2 diabetes mellitus\n",
       "TCGGATAGTAACCCGC-1-MUC13641-VSG    type 2 diabetes mellitus\n",
       "                                             ...           \n",
       "CCCTTAGTCGGAATGG-1-MUC13640-VSG    type 2 diabetes mellitus\n",
       "CCCTTAGAGACAACAT-1-MUC13642-VSG    type 2 diabetes mellitus\n",
       "AAATGGATCACCTCGT-1-MUC13631-VSG    type 2 diabetes mellitus\n",
       "GTAGAAAAGACGGTCA-1-MUC13632-VSG    type 2 diabetes mellitus\n",
       "ATGAGGGCATTCCTCG-1-MUC13632-VSG    type 2 diabetes mellitus\n",
       "Name: disease, Length: 69745, dtype: category\n",
       "Categories (2, object): ['type 2 diabetes mellitus', 'normal']"
      ]
     },
     "execution_count": 53,
     "metadata": {},
     "output_type": "execute_result"
    }
   ],
   "source": [
    "dbdb.obs.disease"
   ]
  },
  {
   "cell_type": "code",
   "execution_count": 54,
   "id": "0b2771d1-756f-45be-ad24-84de3108a317",
   "metadata": {
    "tags": []
   },
   "outputs": [
    {
     "name": "stderr",
     "output_type": "stream",
     "text": [
      "/d/hpc/home/mo6643/miniconda3/envs/msc1/lib/python3.10/site-packages/pandas/core/generic.py:5931: ImplicitModificationWarning: Trying to modify attribute `.obs` of view, initializing view as actual.\n",
      "  self[name] = value\n"
     ]
    }
   ],
   "source": [
    "replace_dict = {\n",
    "    \"normal\": \"healthy\",\n",
    "    \"type 2 diabetes mellitus\": \"T2D\"\n",
    "}\n",
    "\n",
    "dbdb.obs.disease = dbdb.obs.disease.replace(replace_dict)"
   ]
  },
  {
   "cell_type": "code",
   "execution_count": 55,
   "id": "92183952-b8a3-4ff1-a8e3-39de26bc96d5",
   "metadata": {
    "tags": []
   },
   "outputs": [],
   "source": [
    "dbdb.obs = dbdb.obs[[\"disease\", \"dataset\", \"organism\", \"cell_type\"]]"
   ]
  },
  {
   "cell_type": "code",
   "execution_count": 56,
   "id": "1d8ac593-e8eb-48c7-ad36-daf5014cd834",
   "metadata": {
    "tags": []
   },
   "outputs": [],
   "source": [
    "dbdb.var = pd.DataFrame(index=dbdb.var.index)"
   ]
  },
  {
   "cell_type": "code",
   "execution_count": 57,
   "id": "04ae8883-584c-4032-824a-a6687e73c54e",
   "metadata": {
    "tags": []
   },
   "outputs": [],
   "source": [
    "delattr(dbdb, \"obsm\")"
   ]
  },
  {
   "cell_type": "code",
   "execution_count": 58,
   "id": "0618dfe4-55c5-4c06-9f07-1e820e446af5",
   "metadata": {
    "tags": []
   },
   "outputs": [],
   "source": [
    "delattr(dbdb, \"uns\")"
   ]
  },
  {
   "cell_type": "code",
   "execution_count": 61,
   "id": "dae1e5d0-eb05-446c-9b3b-7328c5af1de7",
   "metadata": {
    "tags": []
   },
   "outputs": [],
   "source": [
    "dbdb.write_h5ad(\"./ground_truth/dbdb_ground_truth.h5ad\")"
   ]
  },
  {
   "cell_type": "code",
   "execution_count": 63,
   "id": "bce2a658-0aca-4cd2-9f31-8f71748e25a4",
   "metadata": {
    "tags": []
   },
   "outputs": [],
   "source": [
    "pd.DataFrame(index = adata_concat_highly_variable.var.index).to_csv(\"../top3000_hvg_baseline_train_data_deduplicated.h5ad\")"
   ]
  },
  {
   "cell_type": "code",
   "execution_count": 64,
   "id": "de355aba-2c72-4c6d-ad75-166cc4077efe",
   "metadata": {
    "tags": []
   },
   "outputs": [],
   "source": [
    "dbd_top3000_baseline_hvg = dbdb[:,dbdb.var.index.isin(adata_concat_highly_variable.var.index)]"
   ]
  },
  {
   "cell_type": "code",
   "execution_count": 65,
   "id": "e2def398-18a3-4c58-9af1-86e3f3cd734f",
   "metadata": {
    "tags": []
   },
   "outputs": [],
   "source": [
    "dbd_top3000_baseline_hvg.write_h5ad(\"./ground_truth/dbdb_ground_truth_top3000_baseline_hvg_deduplicated.h5ad\")"
   ]
  },
  {
   "cell_type": "markdown",
   "id": "2eb7c1a7-caaa-428d-ae46-42dcd603db51",
   "metadata": {},
   "source": [
    "#### mSTZ"
   ]
  },
  {
   "cell_type": "code",
   "execution_count": 62,
   "id": "97d5584a-2a66-42d6-afeb-d7ee5c87e0d8",
   "metadata": {
    "tags": []
   },
   "outputs": [],
   "source": [
    "mSTZ = mouse_atlas[mouse_atlas.obs.dataset == \"mSTZ\"]"
   ]
  },
  {
   "cell_type": "code",
   "execution_count": 63,
   "id": "1079306e-3369-488d-8919-9aebf58fbc3b",
   "metadata": {
    "tags": []
   },
   "outputs": [
    {
     "name": "stderr",
     "output_type": "stream",
     "text": [
      "/d/hpc/home/mo6643/miniconda3/envs/msc1/lib/python3.10/site-packages/pandas/core/generic.py:5931: ImplicitModificationWarning: Trying to modify attribute `.obs` of view, initializing view as actual.\n",
      "  self[name] = value\n"
     ]
    }
   ],
   "source": [
    "replace_dict = {\n",
    "    \"normal\": \"healthy\",\n",
    "    \"type 2 diabetes mellitus\": \"T2D\"\n",
    "}\n",
    "\n",
    "mSTZ.obs.disease = mSTZ.obs.disease.replace(replace_dict)"
   ]
  },
  {
   "cell_type": "code",
   "execution_count": 64,
   "id": "dcf15551-5ce9-4cc6-a722-1f007f6dcb3d",
   "metadata": {
    "tags": []
   },
   "outputs": [],
   "source": [
    "mSTZ.obs = mSTZ.obs[[\"disease\", \"dataset\", \"organism\", \"cell_type\"]]"
   ]
  },
  {
   "cell_type": "code",
   "execution_count": 65,
   "id": "e691407b-2e1e-44ba-9167-d813c1e76ea7",
   "metadata": {
    "tags": []
   },
   "outputs": [],
   "source": [
    "mSTZ.var = pd.DataFrame(index=mSTZ.var.index)"
   ]
  },
  {
   "cell_type": "code",
   "execution_count": 66,
   "id": "9b78df2d-e6fd-48a2-b1b9-8d787487e059",
   "metadata": {
    "tags": []
   },
   "outputs": [],
   "source": [
    "delattr(mSTZ, \"obsm\")"
   ]
  },
  {
   "cell_type": "code",
   "execution_count": 67,
   "id": "4e701e7a-29ea-4c23-bfb5-a6611b807e75",
   "metadata": {
    "tags": []
   },
   "outputs": [],
   "source": [
    "delattr(mSTZ, \"uns\")"
   ]
  },
  {
   "cell_type": "code",
   "execution_count": 68,
   "id": "a222b330-432b-451c-9d7e-bdd6fba61593",
   "metadata": {
    "tags": []
   },
   "outputs": [],
   "source": [
    "mSTZ.write_h5ad(\"./ground_truth/mSTZ_ground_truth.h5ad\")"
   ]
  },
  {
   "cell_type": "code",
   "execution_count": 72,
   "id": "545eee36-4d97-4d9a-a04e-3d7a93ad92f9",
   "metadata": {
    "tags": []
   },
   "outputs": [
    {
     "data": {
      "text/plain": [
       "AnnData object with n_obs × n_vars = 49545 × 31334\n",
       "    obs: 'disease', 'dataset', 'organism', 'cell_type'"
      ]
     },
     "execution_count": 72,
     "metadata": {},
     "output_type": "execute_result"
    }
   ],
   "source": [
    "mSTZ"
   ]
  },
  {
   "cell_type": "code",
   "execution_count": 73,
   "id": "af681775-c01f-490b-bb56-5b3675ba507c",
   "metadata": {
    "tags": []
   },
   "outputs": [],
   "source": [
    "mSTZ_top3000_baseline_hvg = mSTZ[:,mSTZ.var.index.isin(adata_concat_highly_variable.var.index)]"
   ]
  },
  {
   "cell_type": "code",
   "execution_count": 74,
   "id": "8188701b-9fdb-4fbc-98fa-1f15c53b9cab",
   "metadata": {
    "tags": []
   },
   "outputs": [],
   "source": [
    "mSTZ_top3000_baseline_hvg.write_h5ad(\"./ground_truth/mSTZ_ground_truth_top3000_baseline_hvg_deduplicated.h5ad\")"
   ]
  },
  {
   "cell_type": "markdown",
   "id": "62ca6f9b-6676-4be0-af69-cadbeaa42e07",
   "metadata": {},
   "source": [
    "### Wnag to predict"
   ]
  },
  {
   "cell_type": "code",
   "execution_count": 75,
   "id": "84cb6586-8209-4bad-88f6-ca71b8a07d22",
   "metadata": {
    "tags": []
   },
   "outputs": [],
   "source": [
    "Wang_h_adult_and_T2D_orth_concat[:,Wang_h_adult_and_T2D_orth_concat.var.index.isin(adata_concat_highly_variable.var.index)].write_h5ad(\"./data_to_predict/Wang_to_predict_top3000_baseline_hvg_deduplicated.h5ad\")"
   ]
  },
  {
   "cell_type": "code",
   "execution_count": null,
   "id": "459775b8-8bc3-4226-8eb0-5f978dd4595b",
   "metadata": {},
   "outputs": [],
   "source": []
  }
 ],
 "metadata": {
  "kernelspec": {
   "display_name": "Python 3 (ipykernel)",
   "language": "python",
   "name": "python3"
  },
  "language_info": {
   "codemirror_mode": {
    "name": "ipython",
    "version": 3
   },
   "file_extension": ".py",
   "mimetype": "text/x-python",
   "name": "python",
   "nbconvert_exporter": "python",
   "pygments_lexer": "ipython3",
   "version": "3.10.9"
  }
 },
 "nbformat": 4,
 "nbformat_minor": 5
}
