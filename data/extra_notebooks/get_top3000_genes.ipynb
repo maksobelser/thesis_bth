{
 "cells": [
  {
   "cell_type": "code",
   "execution_count": 1,
   "id": "66ccfcaa-237c-45be-bd34-9d9a8ebf1044",
   "metadata": {
    "tags": []
   },
   "outputs": [],
   "source": [
    "import scanpy as sc\n",
    "import pandas as pd"
   ]
  },
  {
   "cell_type": "code",
   "execution_count": 4,
   "id": "e7a19f5e-088f-4d45-9126-663466c4279f",
   "metadata": {
    "tags": []
   },
   "outputs": [],
   "source": [
    "baseline_data = sc.read_h5ad(\"./train_data/train_adata_baseline_deduplicated.h5ad\")"
   ]
  },
  {
   "cell_type": "code",
   "execution_count": 6,
   "id": "e561c469-f8e6-4da6-8e65-f153fd3389db",
   "metadata": {
    "tags": []
   },
   "outputs": [],
   "source": [
    "ground_truth1 =sc.read_h5ad(\"./ground_truth/dbdb_ground_truth_deduplicated.h5ad\")"
   ]
  },
  {
   "cell_type": "code",
   "execution_count": 5,
   "id": "527cdd8d-890e-4993-a379-52a23776a259",
   "metadata": {
    "tags": []
   },
   "outputs": [],
   "source": [
    "ground_truth2 =sc.read_h5ad(\"./ground_truth/mSTZ_ground_truth_deduplicated.h5ad\")"
   ]
  },
  {
   "cell_type": "code",
   "execution_count": 8,
   "id": "be7fc8a0-7c25-44ad-9057-f005b024c7b7",
   "metadata": {
    "tags": []
   },
   "outputs": [],
   "source": [
    "shared_genes = pd.read_table(\"./make_big_dataset/genes_shared_across_datasets.txt\")"
   ]
  },
  {
   "cell_type": "code",
   "execution_count": 12,
   "id": "9986446e-66c4-4aea-b1bb-ad8c82dc1a28",
   "metadata": {
    "tags": []
   },
   "outputs": [],
   "source": [
    "baseline_data = baseline_data[:,baseline_data.var.index.isin(shared_genes.genes_shared_across_datasets.tolist())]\n",
    "ground_truth1 = ground_truth1[:,ground_truth1.var.index.isin(shared_genes.genes_shared_across_datasets.tolist())]\n",
    "ground_truth2 = ground_truth2[:,ground_truth2.var.index.isin(shared_genes.genes_shared_across_datasets.tolist())]"
   ]
  },
  {
   "cell_type": "code",
   "execution_count": 16,
   "id": "b80e5c1e-0ca8-4d22-8321-7cf1679e65ba",
   "metadata": {
    "tags": []
   },
   "outputs": [
    {
     "name": "stderr",
     "output_type": "stream",
     "text": [
      "/d/hpc/home/mo6643/miniconda3/envs/msc1/lib/python3.10/site-packages/anndata/_core/merge.py:942: UserWarning: Only some AnnData objects have `.raw` attribute, not concatenating `.raw` attributes.\n",
      "  warn(\n",
      "/d/hpc/home/mo6643/miniconda3/envs/msc1/lib/python3.10/site-packages/anndata/_core/anndata.py:1828: UserWarning: Observation names are not unique. To make them unique, call `.obs_names_make_unique`.\n",
      "  utils.warn_names_duplicates(\"obs\")\n"
     ]
    }
   ],
   "source": [
    "adata = sc.concat([baseline_data, ground_truth1, ground_truth2], axis = 0, join=\"inner\")"
   ]
  },
  {
   "cell_type": "code",
   "execution_count": 17,
   "id": "22e633db-25cd-44bb-a5a7-2d056ccf421d",
   "metadata": {
    "tags": []
   },
   "outputs": [],
   "source": [
    "sc.pp.highly_variable_genes(adata, n_top_genes=3000)"
   ]
  },
  {
   "cell_type": "code",
   "execution_count": 21,
   "id": "89df0377-aaee-4d08-ba1e-8afdc2f63447",
   "metadata": {
    "tags": []
   },
   "outputs": [],
   "source": [
    "pd.DataFrame(adata.var.index[adata.var.highly_variable]).to_csv(\"top3000_hv_genes_gr_truth_and_baseline_across_datasets.csv\")"
   ]
  },
  {
   "cell_type": "markdown",
   "id": "cb2c857d-ddde-416a-bfa8-0ed918f2c4a0",
   "metadata": {},
   "source": [
    "## Just basline HVG"
   ]
  },
  {
   "cell_type": "code",
   "execution_count": 5,
   "id": "8cb2d4f0-9746-445d-b6ad-f9eb27aed668",
   "metadata": {
    "tags": []
   },
   "outputs": [],
   "source": [
    "baseline_data = sc.read_h5ad(\"./train_data/full_datasets/train_adata_baseline.h5ad\")"
   ]
  },
  {
   "cell_type": "code",
   "execution_count": 6,
   "id": "de0ab333-7aa4-4ccf-96fb-5914a78e55dc",
   "metadata": {
    "tags": []
   },
   "outputs": [],
   "source": [
    "shared_genes = pd.read_table(\"./make_big_dataset/genes_shared_across_datasets.txt\")"
   ]
  },
  {
   "cell_type": "code",
   "execution_count": 7,
   "id": "faf37b06-7abd-4f90-ace1-1b69c1b629db",
   "metadata": {
    "tags": []
   },
   "outputs": [],
   "source": [
    "baseline_data = baseline_data[:,baseline_data.var.index.isin(shared_genes.genes_shared_across_datasets.tolist())]"
   ]
  },
  {
   "cell_type": "code",
   "execution_count": 8,
   "id": "617519dc-4052-4ede-b322-4fb14a8a4b2e",
   "metadata": {
    "tags": []
   },
   "outputs": [
    {
     "name": "stderr",
     "output_type": "stream",
     "text": [
      "/d/hpc/home/mo6643/miniconda3/envs/msc1/lib/python3.10/site-packages/anndata/compat/_overloaded_dict.py:106: ImplicitModificationWarning: Trying to modify attribute `._uns` of view, initializing view as actual.\n",
      "  self.data[key] = value\n"
     ]
    }
   ],
   "source": [
    "sc.pp.highly_variable_genes(baseline_data, n_top_genes=3000)"
   ]
  },
  {
   "cell_type": "code",
   "execution_count": 10,
   "id": "4246b036-7a32-4fec-a068-59f49f546e1f",
   "metadata": {
    "tags": []
   },
   "outputs": [],
   "source": [
    "pd.DataFrame(baseline_data.var.index[baseline_data.var.highly_variable]).to_csv(\"top3000_hv_genes_just_baseline_across_datasets.csv\")"
   ]
  },
  {
   "cell_type": "markdown",
   "id": "e70a6364-4ebe-443b-a983-27e9ea668fcc",
   "metadata": {},
   "source": [
    "### Test interception"
   ]
  },
  {
   "cell_type": "code",
   "execution_count": 12,
   "id": "65c26afc-b81c-49c7-997b-5caae807cb77",
   "metadata": {
    "tags": []
   },
   "outputs": [],
   "source": [
    "shared_hvg = pd.read_csv(\"./top3000_hv_genes_gr_truth_and_baseline_across_datasets.csv\")"
   ]
  },
  {
   "cell_type": "code",
   "execution_count": 18,
   "id": "67aa8cd1-a77c-4a4c-a08b-3fbf7870a29f",
   "metadata": {
    "tags": []
   },
   "outputs": [
    {
     "data": {
      "text/plain": [
       "78.43333333333334"
      ]
     },
     "execution_count": 18,
     "metadata": {},
     "output_type": "execute_result"
    }
   ],
   "source": [
    "import numpy as np\n",
    "np.mean(shared_hvg['EID'].isin(baseline_data.var.index[baseline_data.var.highly_variable].tolist()))*100"
   ]
  },
  {
   "cell_type": "code",
   "execution_count": null,
   "id": "822b852c-451e-4c99-95bc-68a53285efe8",
   "metadata": {},
   "outputs": [],
   "source": []
  }
 ],
 "metadata": {
  "kernelspec": {
   "display_name": "Python 3 (ipykernel)",
   "language": "python",
   "name": "python3"
  },
  "language_info": {
   "codemirror_mode": {
    "name": "ipython",
    "version": 3
   },
   "file_extension": ".py",
   "mimetype": "text/x-python",
   "name": "python",
   "nbconvert_exporter": "python",
   "pygments_lexer": "ipython3",
   "version": "3.10.9"
  }
 },
 "nbformat": 4,
 "nbformat_minor": 5
}
