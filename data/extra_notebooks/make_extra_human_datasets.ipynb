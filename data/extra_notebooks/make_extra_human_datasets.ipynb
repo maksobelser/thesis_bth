{
 "cells": [
  {
   "cell_type": "code",
   "execution_count": 8,
   "id": "12745f14-4e21-4cd6-b501-fda52e4b150e",
   "metadata": {
    "tags": []
   },
   "outputs": [],
   "source": [
    "import scanpy as sc"
   ]
  },
  {
   "cell_type": "code",
   "execution_count": 66,
   "id": "889372ce-590f-4657-8814-d8ebae1b55f6",
   "metadata": {
    "tags": []
   },
   "outputs": [],
   "source": [
    "neonatal = sc.read_h5ad(\"/d/hpc/projects/FRI/DL/mo6643/MSC/data/data_update_slack/data_splits/extra_human_datasets/neonatal_pancreas/neonatal_human_normal_per_cell_log_trans_orth.h5ad\")"
   ]
  },
  {
   "cell_type": "code",
   "execution_count": 45,
   "id": "9c2d0a68-0dbb-4ae8-acf5-e417a4783b16",
   "metadata": {
    "tags": []
   },
   "outputs": [],
   "source": [
    "baseline_dataset = sc.read_h5ad(\"./train_data/train_adata_baseline_top3000hvg.h5ad\")"
   ]
  },
  {
   "cell_type": "code",
   "execution_count": 46,
   "id": "0beeca1f-c99a-4d35-8c36-a1af094376de",
   "metadata": {
    "tags": []
   },
   "outputs": [
    {
     "data": {
      "text/plain": [
       "AnnData object with n_obs × n_vars = 209722 × 3000\n",
       "    obs: 'disease', 'dataset', 'organism'\n",
       "    var: 'highly_variable', 'means', 'dispersions', 'dispersions_norm'\n",
       "    uns: 'hvg'"
      ]
     },
     "execution_count": 46,
     "metadata": {},
     "output_type": "execute_result"
    }
   ],
   "source": [
    "baseline_dataset"
   ]
  },
  {
   "cell_type": "code",
   "execution_count": 67,
   "id": "1e4cd63d-c2f8-4aa6-95d7-ee711929178f",
   "metadata": {
    "tags": []
   },
   "outputs": [
    {
     "data": {
      "text/plain": [
       "AnnData object with n_obs × n_vars = 10528 × 13347\n",
       "    obs: 'disease', 'dataset', 'organism', 'cell_type'"
      ]
     },
     "execution_count": 67,
     "metadata": {},
     "output_type": "execute_result"
    }
   ],
   "source": [
    "neonatal"
   ]
  },
  {
   "cell_type": "code",
   "execution_count": 68,
   "id": "0fb370d5-dfa7-4402-8470-805f210f9b28",
   "metadata": {
    "tags": []
   },
   "outputs": [
    {
     "data": {
      "text/plain": [
       "AnnData object with n_obs × n_vars = 220250 × 2639\n",
       "    obs: 'disease', 'dataset', 'organism'"
      ]
     },
     "execution_count": 68,
     "metadata": {},
     "output_type": "execute_result"
    }
   ],
   "source": [
    "sc.concat([neonatal, baseline_dataset], join=\"inner\", axis=0)"
   ]
  },
  {
   "cell_type": "markdown",
   "id": "468acc58-33bf-4bb7-b768-47d4e51b51e8",
   "metadata": {},
   "source": [
    "FUUUUUUUCk"
   ]
  },
  {
   "cell_type": "code",
   "execution_count": null,
   "id": "11a5d5ae-80e3-4a4c-9042-dde21e869565",
   "metadata": {},
   "outputs": [],
   "source": []
  }
 ],
 "metadata": {
  "kernelspec": {
   "display_name": "Python 3 (ipykernel)",
   "language": "python",
   "name": "python3"
  },
  "language_info": {
   "codemirror_mode": {
    "name": "ipython",
    "version": 3
   },
   "file_extension": ".py",
   "mimetype": "text/x-python",
   "name": "python",
   "nbconvert_exporter": "python",
   "pygments_lexer": "ipython3",
   "version": "3.10.9"
  }
 },
 "nbformat": 4,
 "nbformat_minor": 5
}
