{
 "cells": [
  {
   "cell_type": "code",
   "execution_count": 5,
   "id": "1aeea5a9-3bb0-41db-a566-3661991185cf",
   "metadata": {
    "tags": []
   },
   "outputs": [],
   "source": [
    "import scanpy as sc\n",
    "import pandas as pd"
   ]
  },
  {
   "cell_type": "code",
   "execution_count": 223,
   "id": "6aa6c243-e109-4419-9c1e-695a5b3c8416",
   "metadata": {
    "tags": []
   },
   "outputs": [],
   "source": [
    "Wang_h_adult_and_T2D = sc.read_h5ad(\"/d/hpc/projects/FRI/DL/mo6643/MSC/data/data_update_slack/data_splits/human_diabetic_dataset_Wang2023/Wang_h_adult_and_T2D.h5ad\")\n",
    "mouse_atlas_healthy_adult = sc.read_h5ad(\"/d/hpc/projects/FRI/DL/mo6643/MSC/data/data_update_slack/data_splits/mouse_pancreatic_atlas/mouse_atlas_healthy_adult.h5ad\")\n",
    "Elgmal_h_adult_and_diabetic = sc.read_h5ad(\"/d/hpc/projects/FRI/DL/mo6643/MSC/data/data_update_slack/data_splits/extra_human_datasets/Elgamal/Elgmal_h_adult_and_diabetic.h5ad\")"
   ]
  },
  {
   "cell_type": "code",
   "execution_count": 6,
   "id": "455c3079-7a2b-4d72-9e13-8bfaf095cc87",
   "metadata": {
    "tags": []
   },
   "outputs": [],
   "source": [
    "orth = pd.read_table(\"/d/hpc/projects/FRI/DL/mo6643/MSC/data/data_update_slack/mouse_human_homology.tsv\")"
   ]
  },
  {
   "cell_type": "code",
   "execution_count": 21,
   "id": "2c154db5-ef15-459b-8a43-4e6129e433a1",
   "metadata": {
    "tags": []
   },
   "outputs": [
    {
     "data": {
      "text/html": [
       "<div>\n",
       "<style scoped>\n",
       "    .dataframe tbody tr th:only-of-type {\n",
       "        vertical-align: middle;\n",
       "    }\n",
       "\n",
       "    .dataframe tbody tr th {\n",
       "        vertical-align: top;\n",
       "    }\n",
       "\n",
       "    .dataframe thead th {\n",
       "        text-align: right;\n",
       "    }\n",
       "</style>\n",
       "<table border=\"1\" class=\"dataframe\">\n",
       "  <thead>\n",
       "    <tr style=\"text-align: right;\">\n",
       "      <th></th>\n",
       "      <th>Gene stable ID</th>\n",
       "      <th>Gene stable ID version</th>\n",
       "      <th>Transcript stable ID</th>\n",
       "      <th>Transcript stable ID version</th>\n",
       "      <th>Human gene stable ID</th>\n",
       "      <th>Human gene name</th>\n",
       "      <th>Query protein or transcript ID</th>\n",
       "      <th>Human homology type</th>\n",
       "    </tr>\n",
       "  </thead>\n",
       "  <tbody>\n",
       "    <tr>\n",
       "      <th>0</th>\n",
       "      <td>ENSMUSG00000064341</td>\n",
       "      <td>ENSMUSG00000064341.1</td>\n",
       "      <td>ENSMUST00000082392</td>\n",
       "      <td>ENSMUST00000082392.1</td>\n",
       "      <td>ENSG00000198888</td>\n",
       "      <td>MT-ND1</td>\n",
       "      <td>ENSMUSP00000080991</td>\n",
       "      <td>ortholog_one2one</td>\n",
       "    </tr>\n",
       "    <tr>\n",
       "      <th>1</th>\n",
       "      <td>ENSMUSG00000064345</td>\n",
       "      <td>ENSMUSG00000064345.1</td>\n",
       "      <td>ENSMUST00000082396</td>\n",
       "      <td>ENSMUST00000082396.1</td>\n",
       "      <td>ENSG00000198763</td>\n",
       "      <td>MT-ND2</td>\n",
       "      <td>ENSMUSP00000080992</td>\n",
       "      <td>ortholog_one2one</td>\n",
       "    </tr>\n",
       "    <tr>\n",
       "      <th>2</th>\n",
       "      <td>ENSMUSG00000064351</td>\n",
       "      <td>ENSMUSG00000064351.1</td>\n",
       "      <td>ENSMUST00000082402</td>\n",
       "      <td>ENSMUST00000082402.1</td>\n",
       "      <td>ENSG00000198804</td>\n",
       "      <td>MT-CO1</td>\n",
       "      <td>ENSMUSP00000080993</td>\n",
       "      <td>ortholog_one2one</td>\n",
       "    </tr>\n",
       "    <tr>\n",
       "      <th>3</th>\n",
       "      <td>ENSMUSG00000064354</td>\n",
       "      <td>ENSMUSG00000064354.1</td>\n",
       "      <td>ENSMUST00000082405</td>\n",
       "      <td>ENSMUST00000082405.1</td>\n",
       "      <td>ENSG00000198712</td>\n",
       "      <td>MT-CO2</td>\n",
       "      <td>ENSMUSP00000080994</td>\n",
       "      <td>ortholog_one2one</td>\n",
       "    </tr>\n",
       "    <tr>\n",
       "      <th>4</th>\n",
       "      <td>ENSMUSG00000064356</td>\n",
       "      <td>ENSMUSG00000064356.1</td>\n",
       "      <td>ENSMUST00000082407</td>\n",
       "      <td>ENSMUST00000082407.1</td>\n",
       "      <td>ENSG00000228253</td>\n",
       "      <td>MT-ATP8</td>\n",
       "      <td>ENSMUSP00000080995</td>\n",
       "      <td>ortholog_one2one</td>\n",
       "    </tr>\n",
       "    <tr>\n",
       "      <th>...</th>\n",
       "      <td>...</td>\n",
       "      <td>...</td>\n",
       "      <td>...</td>\n",
       "      <td>...</td>\n",
       "      <td>...</td>\n",
       "      <td>...</td>\n",
       "      <td>...</td>\n",
       "      <td>...</td>\n",
       "    </tr>\n",
       "    <tr>\n",
       "      <th>105184</th>\n",
       "      <td>ENSMUSG00000068115</td>\n",
       "      <td>ENSMUSG00000068115.14</td>\n",
       "      <td>ENSMUST00000128564</td>\n",
       "      <td>ENSMUST00000128564.8</td>\n",
       "      <td>ENSG00000101004</td>\n",
       "      <td>NINL</td>\n",
       "      <td>ENSMUSP00000105522</td>\n",
       "      <td>ortholog_one2one</td>\n",
       "    </tr>\n",
       "    <tr>\n",
       "      <th>105185</th>\n",
       "      <td>ENSMUSG00000068115</td>\n",
       "      <td>ENSMUSG00000068115.14</td>\n",
       "      <td>ENSMUST00000149979</td>\n",
       "      <td>ENSMUST00000149979.2</td>\n",
       "      <td>ENSG00000101004</td>\n",
       "      <td>NINL</td>\n",
       "      <td>ENSMUSP00000105522</td>\n",
       "      <td>ortholog_one2one</td>\n",
       "    </tr>\n",
       "    <tr>\n",
       "      <th>105186</th>\n",
       "      <td>ENSMUSG00000068115</td>\n",
       "      <td>ENSMUSG00000068115.14</td>\n",
       "      <td>ENSMUST00000128627</td>\n",
       "      <td>ENSMUST00000128627.2</td>\n",
       "      <td>ENSG00000101004</td>\n",
       "      <td>NINL</td>\n",
       "      <td>ENSMUSP00000105522</td>\n",
       "      <td>ortholog_one2one</td>\n",
       "    </tr>\n",
       "    <tr>\n",
       "      <th>105187</th>\n",
       "      <td>ENSMUSG00000053916</td>\n",
       "      <td>ENSMUSG00000053916.5</td>\n",
       "      <td>ENSMUST00000066640</td>\n",
       "      <td>ENSMUST00000066640.5</td>\n",
       "      <td>ENSG00000170191</td>\n",
       "      <td>NANP</td>\n",
       "      <td>ENSMUSP00000063895</td>\n",
       "      <td>ortholog_one2one</td>\n",
       "    </tr>\n",
       "    <tr>\n",
       "      <th>105188</th>\n",
       "      <td>ENSMUSG00000053916</td>\n",
       "      <td>ENSMUSG00000053916.5</td>\n",
       "      <td>ENSMUST00000140124</td>\n",
       "      <td>ENSMUST00000140124.2</td>\n",
       "      <td>ENSG00000170191</td>\n",
       "      <td>NANP</td>\n",
       "      <td>ENSMUSP00000063895</td>\n",
       "      <td>ortholog_one2one</td>\n",
       "    </tr>\n",
       "  </tbody>\n",
       "</table>\n",
       "<p>105189 rows × 8 columns</p>\n",
       "</div>"
      ],
      "text/plain": [
       "            Gene stable ID Gene stable ID version Transcript stable ID  \\\n",
       "0       ENSMUSG00000064341   ENSMUSG00000064341.1   ENSMUST00000082392   \n",
       "1       ENSMUSG00000064345   ENSMUSG00000064345.1   ENSMUST00000082396   \n",
       "2       ENSMUSG00000064351   ENSMUSG00000064351.1   ENSMUST00000082402   \n",
       "3       ENSMUSG00000064354   ENSMUSG00000064354.1   ENSMUST00000082405   \n",
       "4       ENSMUSG00000064356   ENSMUSG00000064356.1   ENSMUST00000082407   \n",
       "...                    ...                    ...                  ...   \n",
       "105184  ENSMUSG00000068115  ENSMUSG00000068115.14   ENSMUST00000128564   \n",
       "105185  ENSMUSG00000068115  ENSMUSG00000068115.14   ENSMUST00000149979   \n",
       "105186  ENSMUSG00000068115  ENSMUSG00000068115.14   ENSMUST00000128627   \n",
       "105187  ENSMUSG00000053916   ENSMUSG00000053916.5   ENSMUST00000066640   \n",
       "105188  ENSMUSG00000053916   ENSMUSG00000053916.5   ENSMUST00000140124   \n",
       "\n",
       "       Transcript stable ID version Human gene stable ID Human gene name  \\\n",
       "0              ENSMUST00000082392.1      ENSG00000198888          MT-ND1   \n",
       "1              ENSMUST00000082396.1      ENSG00000198763          MT-ND2   \n",
       "2              ENSMUST00000082402.1      ENSG00000198804          MT-CO1   \n",
       "3              ENSMUST00000082405.1      ENSG00000198712          MT-CO2   \n",
       "4              ENSMUST00000082407.1      ENSG00000228253         MT-ATP8   \n",
       "...                             ...                  ...             ...   \n",
       "105184         ENSMUST00000128564.8      ENSG00000101004            NINL   \n",
       "105185         ENSMUST00000149979.2      ENSG00000101004            NINL   \n",
       "105186         ENSMUST00000128627.2      ENSG00000101004            NINL   \n",
       "105187         ENSMUST00000066640.5      ENSG00000170191            NANP   \n",
       "105188         ENSMUST00000140124.2      ENSG00000170191            NANP   \n",
       "\n",
       "       Query protein or transcript ID Human homology type  \n",
       "0                  ENSMUSP00000080991    ortholog_one2one  \n",
       "1                  ENSMUSP00000080992    ortholog_one2one  \n",
       "2                  ENSMUSP00000080993    ortholog_one2one  \n",
       "3                  ENSMUSP00000080994    ortholog_one2one  \n",
       "4                  ENSMUSP00000080995    ortholog_one2one  \n",
       "...                               ...                 ...  \n",
       "105184             ENSMUSP00000105522    ortholog_one2one  \n",
       "105185             ENSMUSP00000105522    ortholog_one2one  \n",
       "105186             ENSMUSP00000105522    ortholog_one2one  \n",
       "105187             ENSMUSP00000063895    ortholog_one2one  \n",
       "105188             ENSMUSP00000063895    ortholog_one2one  \n",
       "\n",
       "[105189 rows x 8 columns]"
      ]
     },
     "execution_count": 21,
     "metadata": {},
     "output_type": "execute_result"
    }
   ],
   "source": [
    "orth"
   ]
  },
  {
   "cell_type": "code",
   "execution_count": 232,
   "id": "0d9bd623-ee98-4dad-9dd0-1caaf62e1d73",
   "metadata": {
    "tags": []
   },
   "outputs": [],
   "source": [
    "Wang_obs = Wang_h_adult_and_T2D.obs\n",
    "Wang_obs[\"dataset\"] = \"Wang\"\n",
    "Wang_obs[\"organism\"] = \"Homo sapiens\"\n",
    "Wang_obs = Wang_obs[[\"disease\", \"dataset\", \"organism\"]]\n",
    "\n",
    "Wang_h_adult_and_T2D.obs = Wang_obs\n",
    "\n",
    "Wang_var = Wang_h_adult_and_T2D.var\n",
    "Wang_var = Wang_var.copy()\n",
    "Wang_var[\"name\"] = Wang_var.index"
   ]
  },
  {
   "cell_type": "code",
   "execution_count": 233,
   "id": "6bd1f28c-9c72-448d-bdac-d7f39c1880d4",
   "metadata": {
    "tags": []
   },
   "outputs": [],
   "source": [
    "orth_deduplicated = orth.drop_duplicates(subset=\"Human gene name\", keep='first')\n",
    "merged_df = Wang_var.merge(right=orth_deduplicated, left_on=\"name\", right_on=\"Human gene name\", how=\"left\")\n",
    "merged_df.index = merged_df[\"name\"]\n",
    "merged_df.index = merged_df.index.rename(\"EID\")"
   ]
  },
  {
   "cell_type": "code",
   "execution_count": 234,
   "id": "8c44e569-5d6e-4584-a265-217d5a5e1cdf",
   "metadata": {
    "tags": []
   },
   "outputs": [
    {
     "name": "stderr",
     "output_type": "stream",
     "text": [
      "/d/hpc/home/mo6643/miniconda3/envs/msc1/lib/python3.10/site-packages/anndata/_core/anndata.py:1830: UserWarning: Variable names are not unique. To make them unique, call `.var_names_make_unique`.\n",
      "  utils.warn_names_duplicates(\"var\")\n"
     ]
    }
   ],
   "source": [
    "Wang_h_adult_and_T2D.var = merged_df\n",
    "Wang_h_adult_and_T2D.var[\"Gene stable ID\"]\n",
    "Wang_h_adult_and_T2D_orth = Wang_h_adult_and_T2D[:,~Wang_h_adult_and_T2D.var['Gene stable ID'].isna()]\n",
    "\n",
    "Wang_h_adult_and_T2D_orth.var.index = Wang_h_adult_and_T2D_orth.var[\"Gene stable ID\"]\n",
    "\n",
    "Wang_h_adult_and_T2D_orth.var.index = Wang_h_adult_and_T2D_orth.var.index.rename(\"EID\")\n",
    "Wang_h_adult_and_T2D_orth.var = Wang_h_adult_and_T2D_orth.var.copy()\n",
    "\n",
    "Wang_h_adult_and_T2D_orth = Wang_h_adult_and_T2D_orth[:,Wang_h_adult_and_T2D_orth.var[\"Human homology type\"] == \"ortholog_one2one\"]"
   ]
  },
  {
   "cell_type": "code",
   "execution_count": 237,
   "id": "34509496-b632-4800-a7fe-b33b71d7d698",
   "metadata": {
    "tags": []
   },
   "outputs": [],
   "source": [
    "Elgmal_h_adult_and_diabetic_obs[\"Diabetes Status\"] = Elgmal_h_adult_and_diabetic_obs[\"Diabetes Status\"].replace(\"ND\", \"healthy\")\n",
    "Elgmal_h_adult_and_diabetic_obs[\"disease\"] = Elgmal_h_adult_and_diabetic_obs[\"Diabetes Status\"]"
   ]
  },
  {
   "cell_type": "code",
   "execution_count": 238,
   "id": "5ec62b25-41e2-4bf4-92be-b0ca58a26f0d",
   "metadata": {
    "tags": []
   },
   "outputs": [],
   "source": [
    "Elgmal_h_adult_and_diabetic_obs = Elgmal_h_adult_and_diabetic.obs\n",
    "Elgmal_h_adult_and_diabetic_obs[\"dataset\"] = \"Elgmal\"\n",
    "Elgmal_h_adult_and_diabetic_obs[\"organism\"] = \"Homo sapiens\"\n",
    "Elgmal_h_adult_and_diabetic_obs = Elgmal_h_adult_and_diabetic_obs[[\"disease\", \"dataset\", \"organism\"]]"
   ]
  },
  {
   "cell_type": "code",
   "execution_count": 239,
   "id": "250be81c-3fb9-4eb3-99c9-d779b4475813",
   "metadata": {
    "tags": []
   },
   "outputs": [],
   "source": [
    "Elgamal_var = Elgmal_h_adult_and_diabetic.var\n",
    "Elgamal_var = Elgamal_var.copy()\n",
    "Elgamal_var[\"name\"] = Elgamal_var.index\n",
    "Elgamal_var.index = Elgamal_var.index.rename(\"EID\")"
   ]
  },
  {
   "cell_type": "code",
   "execution_count": 240,
   "id": "da0cfc2c-5b2f-46a9-ba79-f52e328e38ea",
   "metadata": {
    "tags": []
   },
   "outputs": [
    {
     "name": "stdout",
     "output_type": "stream",
     "text": [
      "0\n",
      "86226\n"
     ]
    }
   ],
   "source": [
    "# Check for duplicate keys in both dataframes\n",
    "print(Elgamal_var[\"name\"].duplicated().sum())  # In Wang_var\n",
    "print(orth[\"Human gene name\"].duplicated().sum())  # In orth\n",
    "merged_df.index = merged_df[\"name\"]"
   ]
  },
  {
   "cell_type": "code",
   "execution_count": 243,
   "id": "bc42b42b-aec3-47fa-8258-81f75c04f4df",
   "metadata": {
    "tags": []
   },
   "outputs": [],
   "source": [
    "orth_deduplicated.index = orth_deduplicated[\"Human gene name\"]\n",
    "orth_deduplicated.index = orth_deduplicated.index.rename(\"EID\")"
   ]
  },
  {
   "cell_type": "code",
   "execution_count": 244,
   "id": "3f142e07-bfcc-4fb1-9208-b9ac770c77c8",
   "metadata": {
    "tags": []
   },
   "outputs": [],
   "source": [
    "merged_df = Elgamal_var.merge(right=orth_deduplicated, left_on=\"name\", right_on=\"Human gene name\", how=\"left\")\n",
    "merged_df.index = merged_df[\"Gene stable ID\"].rename(\"EID\")"
   ]
  },
  {
   "cell_type": "code",
   "execution_count": 245,
   "id": "5f589278-5b67-4fe5-9ae7-63dca0e42794",
   "metadata": {
    "tags": []
   },
   "outputs": [],
   "source": [
    "Elgmal_h_adult_and_diabetic.var = merged_df\n",
    "#Elgmal_h_adult_and_diabetic.var[\"Transcript stable ID\"]"
   ]
  },
  {
   "cell_type": "code",
   "execution_count": 246,
   "id": "38519c0b-7418-4b3b-a4d0-c6f597021ae0",
   "metadata": {
    "tags": []
   },
   "outputs": [
    {
     "name": "stderr",
     "output_type": "stream",
     "text": [
      "/d/hpc/home/mo6643/miniconda3/envs/msc1/lib/python3.10/site-packages/anndata/_core/anndata.py:1830: UserWarning: Variable names are not unique. To make them unique, call `.var_names_make_unique`.\n",
      "  utils.warn_names_duplicates(\"var\")\n",
      "/d/hpc/home/mo6643/miniconda3/envs/msc1/lib/python3.10/site-packages/anndata/_core/anndata.py:882: FutureWarning: X.dtype being converted to np.float32 from float64. In the next version of anndata (0.9) conversion will not be automatic. Pass dtype explicitly to avoid this warning. Pass `AnnData(X, dtype=X.dtype, ...)` to get the future behavour.\n",
      "  self._set_dim_df(value, \"var\")\n"
     ]
    }
   ],
   "source": [
    "Elgmal_h_adult_and_diabetic = Elgmal_h_adult_and_diabetic[:,~Elgmal_h_adult_and_diabetic.var['Gene stable ID'].isna()]\n",
    "\n",
    "Elgmal_h_adult_and_diabetic.var = Elgmal_h_adult_and_diabetic.var.copy()\n",
    "Elgmal_h_adult_and_diabetic = Elgmal_h_adult_and_diabetic[:,Elgmal_h_adult_and_diabetic.var[\"Human homology type\"] == \"ortholog_one2one\"]"
   ]
  },
  {
   "cell_type": "code",
   "execution_count": 247,
   "id": "910f0336-3133-4c8b-b282-81e8dd368a2a",
   "metadata": {
    "tags": []
   },
   "outputs": [],
   "source": [
    "Elgmal_h_adult_and_diabetic.obs = Elgmal_h_adult_and_diabetic_obs"
   ]
  },
  {
   "cell_type": "code",
   "execution_count": 248,
   "id": "e13410f3-a0c9-494c-b9e5-6c4bacfcd998",
   "metadata": {
    "tags": []
   },
   "outputs": [],
   "source": [
    "mouse_atlas_healthy_adult_obs = mouse_atlas_healthy_adult.obs"
   ]
  },
  {
   "cell_type": "code",
   "execution_count": 249,
   "id": "fdf2fc71-01f8-403f-abbf-2f3694da4b8a",
   "metadata": {
    "tags": []
   },
   "outputs": [],
   "source": [
    "mouse_atlas_healthy_adult_obs[\"disease\"] = \"healthy\""
   ]
  },
  {
   "cell_type": "code",
   "execution_count": 250,
   "id": "564878fc-ee14-4509-a67f-99918ac08ea2",
   "metadata": {
    "tags": []
   },
   "outputs": [],
   "source": [
    "mouse_atlas_healthy_adult.obs = mouse_atlas_healthy_adult_obs[[\"disease\", \"dataset\", \"organism\"]]"
   ]
  },
  {
   "cell_type": "code",
   "execution_count": 251,
   "id": "c921ed47-ffb3-4b69-8c53-8be219c0ec66",
   "metadata": {
    "tags": []
   },
   "outputs": [],
   "source": [
    "mouse_atlas_healthy_adult.X = mouse_atlas_healthy_adult.raw.X"
   ]
  },
  {
   "cell_type": "markdown",
   "id": "afa142bd-de67-4056-891d-fc73e57fb528",
   "metadata": {},
   "source": [
    "Preprocessing of datasets"
   ]
  },
  {
   "cell_type": "code",
   "execution_count": 267,
   "id": "6b9b2ba5-6620-403d-9ed7-12fb380e963d",
   "metadata": {
    "tags": []
   },
   "outputs": [
    {
     "name": "stderr",
     "output_type": "stream",
     "text": [
      "/d/hpc/home/mo6643/miniconda3/envs/msc1/lib/python3.10/site-packages/scanpy/preprocessing/_simple.py:524: SettingWithCopyWarning: \n",
      "A value is trying to be set on a copy of a slice from a DataFrame.\n",
      "Try using .loc[row_indexer,col_indexer] = value instead\n",
      "\n",
      "See the caveats in the documentation: https://pandas.pydata.org/pandas-docs/stable/user_guide/indexing.html#returning-a-view-versus-a-copy\n",
      "  adata.obs[key_n_counts] = counts_per_cell\n"
     ]
    }
   ],
   "source": [
    "sc.pp.normalize_per_cell(mouse_atlas_healthy_adult)"
   ]
  },
  {
   "cell_type": "code",
   "execution_count": 269,
   "id": "92412d6a-c70f-4c41-9592-2c0495986b4e",
   "metadata": {
    "tags": []
   },
   "outputs": [],
   "source": [
    "sc.pp.log1p(mouse_atlas_healthy_adult)"
   ]
  },
  {
   "cell_type": "code",
   "execution_count": 273,
   "id": "fef8307d-f650-4490-bdf8-4e9e61369fa2",
   "metadata": {
    "tags": []
   },
   "outputs": [
    {
     "name": "stderr",
     "output_type": "stream",
     "text": [
      "/d/hpc/home/mo6643/miniconda3/envs/msc1/lib/python3.10/site-packages/scanpy/preprocessing/_simple.py:524: ImplicitModificationWarning: Trying to modify attribute `.obs` of view, initializing view as actual.\n",
      "  adata.obs[key_n_counts] = counts_per_cell\n"
     ]
    }
   ],
   "source": [
    "sc.pp.normalize_per_cell(Wang_h_adult_and_T2D_orth)"
   ]
  },
  {
   "cell_type": "code",
   "execution_count": 274,
   "id": "5bda08fe-f52d-4360-92f0-b1bf4fd541fd",
   "metadata": {
    "tags": []
   },
   "outputs": [],
   "source": [
    "sc.pp.log1p(Wang_h_adult_and_T2D_orth)"
   ]
  },
  {
   "cell_type": "code",
   "execution_count": 275,
   "id": "b36c7272-82c6-4113-8881-86458a5d9fdf",
   "metadata": {
    "tags": []
   },
   "outputs": [
    {
     "name": "stderr",
     "output_type": "stream",
     "text": [
      "/d/hpc/home/mo6643/miniconda3/envs/msc1/lib/python3.10/site-packages/anndata/_core/merge.py:942: UserWarning: Only some AnnData objects have `.raw` attribute, not concatenating `.raw` attributes.\n",
      "  warn(\n"
     ]
    }
   ],
   "source": [
    "adata_concat = sc.concat([mouse_atlas_healthy_adult, Elgmal_h_adult_and_diabetic, Wang_h_adult_and_T2D_orth], join=\"inner\")"
   ]
  },
  {
   "cell_type": "code",
   "execution_count": 278,
   "id": "2000ae7b-b880-46d6-8079-26455b037e22",
   "metadata": {
    "tags": []
   },
   "outputs": [],
   "source": [
    "adata_concat.write_h5ad(\"train_adata_baseline.h5ad\")"
   ]
  },
  {
   "cell_type": "code",
   "execution_count": 279,
   "id": "b760bfd4-d542-40bc-a265-aef8d6fba095",
   "metadata": {
    "tags": []
   },
   "outputs": [],
   "source": [
    "sc.pp.highly_variable_genes(adata_concat, n_top_genes=3000)"
   ]
  },
  {
   "cell_type": "code",
   "execution_count": 281,
   "id": "65aec6a9-5c02-451a-8c74-61ae7af4aa98",
   "metadata": {
    "tags": []
   },
   "outputs": [],
   "source": [
    "adata_concat_highly_variable = adata_concat[:,adata_concat.var.highly_variable]"
   ]
  },
  {
   "cell_type": "code",
   "execution_count": 282,
   "id": "d8b45db2-6c32-41c1-af62-45baf91fad98",
   "metadata": {
    "tags": []
   },
   "outputs": [],
   "source": [
    "adata_concat_highly_variable.write_h5ad(\"train_adata_baseline_top3000hvg.h5ad\")"
   ]
  },
  {
   "cell_type": "code",
   "execution_count": 301,
   "id": "fb47e8d3-3b8f-4088-8049-e6a9ddd6fbd1",
   "metadata": {
    "tags": []
   },
   "outputs": [],
   "source": [
    "Wang_h_adult_and_T2D_orth_concat = Wang_h_adult_and_T2D_orth[:,Wang_h_adult_and_T2D_orth.var.index.isin(adata_concat.var.index)]"
   ]
  },
  {
   "cell_type": "code",
   "execution_count": 302,
   "id": "ec67c9f2-9cba-4f94-988b-944189d6e086",
   "metadata": {
    "tags": []
   },
   "outputs": [],
   "source": [
    "Wang_h_adult_and_T2D_orth_concat.var = pd.DataFrame(Wang_h_adult_and_T2D_orth_concat.var.index)"
   ]
  },
  {
   "cell_type": "code",
   "execution_count": 303,
   "id": "81b996c2-2261-421f-9531-3c373b2d66c7",
   "metadata": {
    "tags": []
   },
   "outputs": [],
   "source": [
    "Wang_h_adult_and_T2D_orth_concat.var.index = Wang_h_adult_and_T2D_orth_concat.var[\"EID\"]"
   ]
  },
  {
   "cell_type": "code",
   "execution_count": 304,
   "id": "8f76e43f-c8da-43d5-9228-f2d86f36e166",
   "metadata": {
    "tags": []
   },
   "outputs": [],
   "source": [
    "Wang_h_adult_and_T2D_orth_concat.var = Wang_h_adult_and_T2D_orth_concat.var.drop(\"EID\", axis=1)"
   ]
  },
  {
   "cell_type": "code",
   "execution_count": 309,
   "id": "c0cb0a17-c23f-48a6-b752-e9660d4878f1",
   "metadata": {
    "tags": []
   },
   "outputs": [],
   "source": [
    "delattr(Wang_h_adult_and_T2D_orth_concat, \"uns\")"
   ]
  },
  {
   "cell_type": "code",
   "execution_count": 313,
   "id": "6dd3fc90-2298-436f-8054-4bef7bedd824",
   "metadata": {
    "tags": []
   },
   "outputs": [],
   "source": [
    "Wang_h_adult_and_T2D_orth_concat.obs = Wang_h_adult_and_T2D_orth_concat.obs.drop(\"n_counts\", axis=1)"
   ]
  },
  {
   "cell_type": "code",
   "execution_count": 317,
   "id": "5d73a307-8804-41af-999f-09caf763595d",
   "metadata": {
    "tags": []
   },
   "outputs": [],
   "source": [
    "Wang_h_adult_and_T2D_orth_concat.write_h5ad(\"../data_to_predict/Wang_to_predict.h5ad\")"
   ]
  },
  {
   "cell_type": "markdown",
   "id": "7cb7b1c5-8bb2-4d69-860b-a6af8d2d6c6f",
   "metadata": {},
   "source": [
    "### Ground truth dataset"
   ]
  },
  {
   "cell_type": "code",
   "execution_count": 318,
   "id": "c6b4059e-7b04-4419-ae26-ff7e1e8b28dd",
   "metadata": {
    "tags": []
   },
   "outputs": [],
   "source": [
    "mouse_atlas = sc.read_h5ad(\"/d/hpc/projects/FRI/DL/mo6643/MSC/data/data_update_slack/data_splits/mouse_pancreatic_atlas/mouse_atlas_hrovatin.h5ad\")"
   ]
  },
  {
   "cell_type": "markdown",
   "id": "78d7ac69-a4c7-4157-91d4-411a4dafcec6",
   "metadata": {},
   "source": [
    "#### dbdb"
   ]
  },
  {
   "cell_type": "code",
   "execution_count": 320,
   "id": "f88918c1-3e2d-4a8b-a6b7-a0892945d971",
   "metadata": {
    "tags": []
   },
   "outputs": [],
   "source": [
    "dbdb = mouse_atlas[mouse_atlas.obs.dataset == \"db/db\"]"
   ]
  },
  {
   "cell_type": "code",
   "execution_count": 323,
   "id": "cd8e3c3f-9f73-4a6c-8dd3-3e9c9c1b10fb",
   "metadata": {
    "tags": []
   },
   "outputs": [
    {
     "data": {
      "text/plain": [
       "index\n",
       "CTTCCTTGTACCCAGC-1-MUC13640-VSG    type 2 diabetes mellitus\n",
       "GTGCTTCCATTGCCTC-1-MUC13631-VSG    type 2 diabetes mellitus\n",
       "ATAGGCTCATGCAGCC-1-MUC13639-VSG    type 2 diabetes mellitus\n",
       "TACCTGCAGGAAAGGT-1-MUC13640-VSG    type 2 diabetes mellitus\n",
       "TCGGATAGTAACCCGC-1-MUC13641-VSG    type 2 diabetes mellitus\n",
       "                                             ...           \n",
       "CCCTTAGTCGGAATGG-1-MUC13640-VSG    type 2 diabetes mellitus\n",
       "CCCTTAGAGACAACAT-1-MUC13642-VSG    type 2 diabetes mellitus\n",
       "AAATGGATCACCTCGT-1-MUC13631-VSG    type 2 diabetes mellitus\n",
       "GTAGAAAAGACGGTCA-1-MUC13632-VSG    type 2 diabetes mellitus\n",
       "ATGAGGGCATTCCTCG-1-MUC13632-VSG    type 2 diabetes mellitus\n",
       "Name: disease, Length: 69745, dtype: category\n",
       "Categories (2, object): ['type 2 diabetes mellitus', 'normal']"
      ]
     },
     "execution_count": 323,
     "metadata": {},
     "output_type": "execute_result"
    }
   ],
   "source": [
    "dbdb.obs.disease"
   ]
  },
  {
   "cell_type": "code",
   "execution_count": 326,
   "id": "0b2771d1-756f-45be-ad24-84de3108a317",
   "metadata": {
    "tags": []
   },
   "outputs": [],
   "source": [
    "replace_dict = {\n",
    "    \"normal\": \"healthy\",\n",
    "    \"type 2 diabetes mellitus\": \"T2D\"\n",
    "}\n",
    "\n",
    "dbdb.obs.disease = dbdb.obs.disease.replace(replace_dict)"
   ]
  },
  {
   "cell_type": "code",
   "execution_count": 328,
   "id": "92183952-b8a3-4ff1-a8e3-39de26bc96d5",
   "metadata": {
    "tags": []
   },
   "outputs": [],
   "source": [
    "dbdb.obs = dbdb.obs[[\"disease\", \"dataset\", \"organism\"]]"
   ]
  },
  {
   "cell_type": "code",
   "execution_count": 331,
   "id": "1d8ac593-e8eb-48c7-ad36-daf5014cd834",
   "metadata": {
    "tags": []
   },
   "outputs": [],
   "source": [
    "dbdb.var = pd.DataFrame(index=dbdb.var.index)"
   ]
  },
  {
   "cell_type": "code",
   "execution_count": 333,
   "id": "04ae8883-584c-4032-824a-a6687e73c54e",
   "metadata": {
    "tags": []
   },
   "outputs": [],
   "source": [
    "delattr(dbdb, \"obsm\")"
   ]
  },
  {
   "cell_type": "code",
   "execution_count": 335,
   "id": "0618dfe4-55c5-4c06-9f07-1e820e446af5",
   "metadata": {
    "tags": []
   },
   "outputs": [],
   "source": [
    "delattr(dbdb, \"uns\")"
   ]
  },
  {
   "cell_type": "code",
   "execution_count": 337,
   "id": "dae1e5d0-eb05-446c-9b3b-7328c5af1de7",
   "metadata": {
    "tags": []
   },
   "outputs": [],
   "source": [
    "dbdb.write_h5ad(\"../ground_truth/dbdb_ground_truth.h5ad\")"
   ]
  },
  {
   "cell_type": "code",
   "execution_count": 341,
   "id": "7e8542c0-7648-44ab-ba52-3b1a78c5e276",
   "metadata": {
    "tags": []
   },
   "outputs": [],
   "source": [
    "pd.DataFrame(adata_concat_highly_variable.var.index, columns = [\"genes\"]).to_csv(\"top3000_hvg_baseline_train_data.h5ad\")"
   ]
  },
  {
   "cell_type": "code",
   "execution_count": 345,
   "id": "bce2a658-0aca-4cd2-9f31-8f71748e25a4",
   "metadata": {
    "tags": []
   },
   "outputs": [],
   "source": [
    "pd.DataFrame(index = adata_concat_highly_variable.var.index).to_csv(\"../top3000_hvg_baseline_train_data.h5ad\")"
   ]
  },
  {
   "cell_type": "code",
   "execution_count": 347,
   "id": "de355aba-2c72-4c6d-ad75-166cc4077efe",
   "metadata": {
    "tags": []
   },
   "outputs": [],
   "source": [
    "dbd_top3000_baseline_hvg = dbdb[:,dbdb.var.index.isin(adata_concat_highly_variable.var.index)]"
   ]
  },
  {
   "cell_type": "code",
   "execution_count": 349,
   "id": "e2def398-18a3-4c58-9af1-86e3f3cd734f",
   "metadata": {
    "tags": []
   },
   "outputs": [],
   "source": [
    "dbd_top3000_baseline_hvg.write_h5ad(\"../ground_truth/dbdb_ground_truth_top3000_baseline_hvg.h5ad\")"
   ]
  },
  {
   "cell_type": "markdown",
   "id": "2eb7c1a7-caaa-428d-ae46-42dcd603db51",
   "metadata": {},
   "source": [
    "#### mSTZ"
   ]
  },
  {
   "cell_type": "code",
   "execution_count": 350,
   "id": "97d5584a-2a66-42d6-afeb-d7ee5c87e0d8",
   "metadata": {
    "tags": []
   },
   "outputs": [],
   "source": [
    "mSTZ = mouse_atlas[mouse_atlas.obs.dataset == \"mSTZ\"]"
   ]
  },
  {
   "cell_type": "code",
   "execution_count": 351,
   "id": "937e6fde-4019-423a-aae0-71bd7ed07c7b",
   "metadata": {
    "tags": []
   },
   "outputs": [
    {
     "data": {
      "text/plain": [
       "index\n",
       "CAGAGAGCAACGATGG-1-G2-STZ    type 2 diabetes mellitus\n",
       "CCCTCCTCAGCGTCCA-1-G5-STZ    type 2 diabetes mellitus\n",
       "CCTACCATCCGAATGT-1-G6-STZ    type 2 diabetes mellitus\n",
       "AGCGGTCCACTAGTAC-1-G3-STZ    type 2 diabetes mellitus\n",
       "CTCGGGAAGGCAGTCA-1-G4-STZ    type 2 diabetes mellitus\n",
       "                                       ...           \n",
       "CCTATTAAGGTGGGTT-1-G8-STZ    type 2 diabetes mellitus\n",
       "GGGATGAGTAACGACG-1-G4-STZ    type 2 diabetes mellitus\n",
       "CGCTTCAAGATTACCC-1-G6-STZ    type 2 diabetes mellitus\n",
       "CGTGTAATCGCGATCG-1-G4-STZ    type 2 diabetes mellitus\n",
       "TAAACCGAGACGACGT-1-G8-STZ    type 2 diabetes mellitus\n",
       "Name: disease, Length: 49545, dtype: category\n",
       "Categories (2, object): ['type 2 diabetes mellitus', 'normal']"
      ]
     },
     "execution_count": 351,
     "metadata": {},
     "output_type": "execute_result"
    }
   ],
   "source": [
    "mSTZ.obs.disease"
   ]
  },
  {
   "cell_type": "code",
   "execution_count": 352,
   "id": "1079306e-3369-488d-8919-9aebf58fbc3b",
   "metadata": {
    "tags": []
   },
   "outputs": [
    {
     "name": "stderr",
     "output_type": "stream",
     "text": [
      "/d/hpc/home/mo6643/miniconda3/envs/msc1/lib/python3.10/site-packages/pandas/core/generic.py:5931: ImplicitModificationWarning: Trying to modify attribute `.obs` of view, initializing view as actual.\n",
      "  self[name] = value\n"
     ]
    }
   ],
   "source": [
    "replace_dict = {\n",
    "    \"normal\": \"healthy\",\n",
    "    \"type 2 diabetes mellitus\": \"T2D\"\n",
    "}\n",
    "\n",
    "mSTZ.obs.disease = mSTZ.obs.disease.replace(replace_dict)"
   ]
  },
  {
   "cell_type": "code",
   "execution_count": 353,
   "id": "dcf15551-5ce9-4cc6-a722-1f007f6dcb3d",
   "metadata": {
    "tags": []
   },
   "outputs": [],
   "source": [
    "mSTZ.obs = mSTZ.obs[[\"disease\", \"dataset\", \"organism\"]]"
   ]
  },
  {
   "cell_type": "code",
   "execution_count": 354,
   "id": "e691407b-2e1e-44ba-9167-d813c1e76ea7",
   "metadata": {
    "tags": []
   },
   "outputs": [],
   "source": [
    "mSTZ.var = pd.DataFrame(index=mSTZ.var.index)"
   ]
  },
  {
   "cell_type": "code",
   "execution_count": 357,
   "id": "9b78df2d-e6fd-48a2-b1b9-8d787487e059",
   "metadata": {
    "tags": []
   },
   "outputs": [],
   "source": [
    "delattr(mSTZ, \"obsm\")"
   ]
  },
  {
   "cell_type": "code",
   "execution_count": 358,
   "id": "4e701e7a-29ea-4c23-bfb5-a6611b807e75",
   "metadata": {
    "tags": []
   },
   "outputs": [],
   "source": [
    "delattr(mSTZ, \"uns\")"
   ]
  },
  {
   "cell_type": "code",
   "execution_count": 359,
   "id": "a222b330-432b-451c-9d7e-bdd6fba61593",
   "metadata": {
    "tags": []
   },
   "outputs": [],
   "source": [
    "mSTZ.write_h5ad(\"../ground_truth/mSTZ_ground_truth.h5ad\")"
   ]
  },
  {
   "cell_type": "code",
   "execution_count": 362,
   "id": "af681775-c01f-490b-bb56-5b3675ba507c",
   "metadata": {
    "tags": []
   },
   "outputs": [],
   "source": [
    "mSTZ_top3000_baseline_hvg = mSTZ[:,mSTZ.var.index.isin(adata_concat_highly_variable.var.index)]"
   ]
  },
  {
   "cell_type": "code",
   "execution_count": 363,
   "id": "8188701b-9fdb-4fbc-98fa-1f15c53b9cab",
   "metadata": {
    "tags": []
   },
   "outputs": [],
   "source": [
    "mSTZ_top3000_baseline_hvg.write_h5ad(\"../ground_truth/mSTZ_ground_truth_top3000_baseline_hvg.h5ad\")"
   ]
  },
  {
   "cell_type": "markdown",
   "id": "62ca6f9b-6676-4be0-af69-cadbeaa42e07",
   "metadata": {},
   "source": [
    "### Wnag to predict"
   ]
  },
  {
   "cell_type": "code",
   "execution_count": 372,
   "id": "84cb6586-8209-4bad-88f6-ca71b8a07d22",
   "metadata": {
    "tags": []
   },
   "outputs": [],
   "source": [
    "Wang_h_adult_and_T2D_orth_concat[:,Wang_h_adult_and_T2D_orth_concat.var.index.isin(adata_concat_highly_variable.var.index)].write_h5ad(\"../data_to_predict/Wang_to_predict_top3000_baseline_hvg.h5ad\")"
   ]
  }
 ],
 "metadata": {
  "kernelspec": {
   "display_name": "Python 3 (ipykernel)",
   "language": "python",
   "name": "python3"
  },
  "language_info": {
   "codemirror_mode": {
    "name": "ipython",
    "version": 3
   },
   "file_extension": ".py",
   "mimetype": "text/x-python",
   "name": "python",
   "nbconvert_exporter": "python",
   "pygments_lexer": "ipython3",
   "version": "3.10.9"
  }
 },
 "nbformat": 4,
 "nbformat_minor": 5
}
