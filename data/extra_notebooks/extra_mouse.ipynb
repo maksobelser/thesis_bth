{
 "cells": [
  {
   "cell_type": "code",
   "execution_count": 1,
   "id": "0f5830a0-9be3-4c33-84ef-5d93434d47be",
   "metadata": {
    "tags": []
   },
   "outputs": [],
   "source": [
    "import scanpy as sc\n",
    "import pandas as pd"
   ]
  },
  {
   "cell_type": "code",
   "execution_count": 2,
   "id": "b24ea0b4-ff99-4336-95f5-05b3aeffd4ad",
   "metadata": {
    "tags": []
   },
   "outputs": [],
   "source": [
    "mouse_atlas = sc.read_h5ad(\"/d/hpc/projects/FRI/DL/mo6643/MSC/data/data_update_slack/data_splits/mouse_pancreatic_atlas/mouse_atlas_hrovatin.h5ad\")"
   ]
  },
  {
   "cell_type": "code",
   "execution_count": null,
   "id": "12c066b0-da9c-4016-bfd7-d2d1b1ef9103",
   "metadata": {
    "tags": []
   },
   "outputs": [],
   "source": [
    "train_baseline = sc.read_h5ad(\"/d/hpc/projects/FRI/DL/mo6643/MSC/data/data_update_slack/data_splits/data_splits_train_merge/train_data/train_adata_baseline_top3000hvg.h5ad\")"
   ]
  },
  {
   "cell_type": "markdown",
   "id": "c0c40c89-740b-4dcb-96f7-c207369ae132",
   "metadata": {},
   "source": [
    "Preprocessing"
   ]
  },
  {
   "cell_type": "code",
   "execution_count": null,
   "id": "52f4170f-b46e-469e-a262-3e7a79ee6104",
   "metadata": {
    "tags": []
   },
   "outputs": [],
   "source": [
    "mouse_atlas.X = mouse_atlas.raw.X"
   ]
  },
  {
   "cell_type": "code",
   "execution_count": null,
   "id": "f4e8d606-a9a7-4d2d-9cde-3c4dee0cfc61",
   "metadata": {
    "tags": []
   },
   "outputs": [],
   "source": [
    "sc.pp.normalize_per_cell(mouse_atlas)\n",
    "sc.pp.log1p(mouse_atlas)"
   ]
  },
  {
   "cell_type": "markdown",
   "id": "dee82480-b4c9-44ac-afb0-950092de6b7e",
   "metadata": {},
   "source": [
    "MIA - aged\n"
   ]
  },
  {
   "cell_type": "code",
   "execution_count": null,
   "id": "b324b6c9-f12f-4922-b976-58c84d73c4f5",
   "metadata": {
    "tags": []
   },
   "outputs": [],
   "source": [
    "mouse_atlas = mouse_atlas[:,mouse_atlas.var.index.isin(train_baseline.var.index)]"
   ]
  },
  {
   "cell_type": "code",
   "execution_count": 4,
   "id": "72865dcf-e681-4a1b-b824-6629aab9da24",
   "metadata": {},
   "outputs": [],
   "source": [
    "mouse_atlas_obs = mouse_atlas.obs\n",
    "mouse_atlas_obs_train =  mouse_atlas_obs[[\"disease\", \"dataset\", \"organism\", \"cell_type\"]]"
   ]
  },
  {
   "cell_type": "code",
   "execution_count": 5,
   "id": "e0bb22bc-3c42-4d14-9146-c457b19ad889",
   "metadata": {
    "tags": []
   },
   "outputs": [],
   "source": [
    "mouse_atlas.obs = mouse_atlas_obs_train"
   ]
  },
  {
   "cell_type": "code",
   "execution_count": 6,
   "id": "8bd967ad-3586-4b85-8e96-e6717ee2ae58",
   "metadata": {
    "tags": []
   },
   "outputs": [],
   "source": [
    "var = pd.DataFrame(index = mouse_atlas.var.index)"
   ]
  },
  {
   "cell_type": "code",
   "execution_count": 7,
   "id": "5e06103a-30d4-4ef8-ab97-795c48f97db9",
   "metadata": {
    "tags": []
   },
   "outputs": [],
   "source": [
    "mouse_atlas.var = var"
   ]
  },
  {
   "cell_type": "code",
   "execution_count": 8,
   "id": "89aba915-9a4e-4c3d-a996-d2040401c83b",
   "metadata": {
    "tags": []
   },
   "outputs": [],
   "source": [
    "delattr(mouse_atlas, \"uns\")"
   ]
  },
  {
   "cell_type": "code",
   "execution_count": 9,
   "id": "30f5bc25-84f7-40b7-a5fe-f7eed761b7b9",
   "metadata": {
    "tags": []
   },
   "outputs": [],
   "source": [
    "delattr(mouse_atlas, \"obsm\")"
   ]
  },
  {
   "cell_type": "markdown",
   "id": "087f64af-10bd-4199-bf44-81f4c68320d7",
   "metadata": {},
   "source": [
    "MIA - young"
   ]
  },
  {
   "cell_type": "code",
   "execution_count": 11,
   "id": "ef5e5574-b704-44e0-a691-0340f7eb36bc",
   "metadata": {
    "tags": []
   },
   "outputs": [],
   "source": [
    "extra_mouse_young = mouse_atlas[mouse_atlas.obs.dataset == \"P16\"]"
   ]
  },
  {
   "cell_type": "code",
   "execution_count": 50,
   "id": "f5218650-3db5-46cc-abbe-468c8c7d11a9",
   "metadata": {
    "tags": []
   },
   "outputs": [
    {
     "name": "stderr",
     "output_type": "stream",
     "text": [
      "/d/hpc/home/mo6643/miniconda3/envs/msc1/lib/python3.10/site-packages/anndata/_core/merge.py:942: UserWarning: Only some AnnData objects have `.raw` attribute, not concatenating `.raw` attributes.\n",
      "  warn(\n"
     ]
    }
   ],
   "source": [
    "extra_mouse_young_train = sc.concat([train_baseline, extra_mouse_young])"
   ]
  },
  {
   "cell_type": "code",
   "execution_count": 12,
   "id": "5985a6c2-ba17-4c5c-95e3-b14674795146",
   "metadata": {
    "tags": []
   },
   "outputs": [],
   "source": [
    "extra_mouse_young.write_h5ad(\"./train_data/extra_mouse_young.h5ad\")"
   ]
  },
  {
   "cell_type": "markdown",
   "id": "3f45edbd-7a02-4382-928c-b8762bbee548",
   "metadata": {},
   "source": [
    "MIA - embryonic"
   ]
  },
  {
   "cell_type": "code",
   "execution_count": 13,
   "id": "ea7e7c79-dd84-4248-94c5-7e3cae98de50",
   "metadata": {
    "tags": []
   },
   "outputs": [],
   "source": [
    "extra_mouse_Embryonic = mouse_atlas[mouse_atlas.obs.dataset == \"embryonic\"]"
   ]
  },
  {
   "cell_type": "code",
   "execution_count": 22,
   "id": "e82e3b65-60be-4d74-b3b4-c3cae7607c6c",
   "metadata": {
    "tags": []
   },
   "outputs": [
    {
     "data": {
      "text/plain": [
       "View of AnnData object with n_obs × n_vars = 37561 × 3000\n",
       "    obs: 'disease', 'dataset', 'organism'"
      ]
     },
     "execution_count": 22,
     "metadata": {},
     "output_type": "execute_result"
    }
   ],
   "source": [
    "extra_mouse_Embryonic"
   ]
  },
  {
   "cell_type": "code",
   "execution_count": 23,
   "id": "fa5f99ea-40ce-4e4c-b680-5001e582537d",
   "metadata": {
    "tags": []
   },
   "outputs": [
    {
     "name": "stderr",
     "output_type": "stream",
     "text": [
      "/d/hpc/home/mo6643/miniconda3/envs/msc1/lib/python3.10/site-packages/anndata/_core/merge.py:942: UserWarning: Only some AnnData objects have `.raw` attribute, not concatenating `.raw` attributes.\n",
      "  warn(\n"
     ]
    }
   ],
   "source": [
    "extra_mouse_Embryonic_train = sc.concat([train_baseline, extra_mouse_Embryonic])"
   ]
  },
  {
   "cell_type": "code",
   "execution_count": 14,
   "id": "3a5cecd9-e588-45b1-8b66-6fc0fee3b5c4",
   "metadata": {
    "tags": []
   },
   "outputs": [],
   "source": [
    "extra_mouse_Embryonic.write_h5ad(\"./train_data/extra_mouse_Embryonic.h5ad\")"
   ]
  },
  {
   "cell_type": "code",
   "execution_count": 59,
   "id": "45984f63-0ec8-4914-b95b-3617088c53b5",
   "metadata": {
    "tags": []
   },
   "outputs": [],
   "source": [
    "def make_train_data(atlas, train_adata, dataset):\n",
    "    tmp = atlas[atlas.obs.dataset == dataset]\n",
    "    tmp = sc.concat([train_adata, atlas])\n",
    "    tmp.write_h5ad(f\"./train_data/extra_mouse_{dataset}.h5ad\")\n",
    "    return tmp"
   ]
  },
  {
   "cell_type": "markdown",
   "id": "0c309267-1b3b-42c1-bd7f-dc1ae906fdd1",
   "metadata": {},
   "source": [
    "MIA - chem"
   ]
  },
  {
   "cell_type": "code",
   "execution_count": 27,
   "id": "4945399b-5f31-4b08-98cd-aed61be0e5ca",
   "metadata": {
    "tags": []
   },
   "outputs": [],
   "source": [
    "extra_mouse_chem = mouse_atlas[mouse_atlas.obs.dataset == \"chem\"]"
   ]
  },
  {
   "cell_type": "code",
   "execution_count": null,
   "id": "85123cdc-154c-4c95-a2fd-c41843674562",
   "metadata": {
    "tags": []
   },
   "outputs": [],
   "source": [
    "extra_mouse_chem_train = sc.concat([train_baseline, extra_mouse_chem])"
   ]
  },
  {
   "cell_type": "code",
   "execution_count": 29,
   "id": "03c35988-f60d-4651-888d-9c8e10655c22",
   "metadata": {
    "tags": []
   },
   "outputs": [],
   "source": [
    "extra_mouse_chem.write_h5ad(\"./train_data/extra_mouse_chem.h5ad\")"
   ]
  },
  {
   "cell_type": "markdown",
   "id": "45d43a2c-ec42-4763-847c-195e05af3356",
   "metadata": {},
   "source": [
    "MIA - T1D"
   ]
  },
  {
   "cell_type": "code",
   "execution_count": 21,
   "id": "9034bedc-aa18-4f45-891c-e5b785ef88c2",
   "metadata": {
    "tags": []
   },
   "outputs": [],
   "source": [
    "extra_mouse_T1D = mouse_atlas[mouse_atlas.obs.disease == \"type 1 diabetes mellitus\"]"
   ]
  },
  {
   "cell_type": "code",
   "execution_count": 89,
   "id": "8ff1ddca-8e96-4b03-ae27-a18eb9604559",
   "metadata": {
    "tags": []
   },
   "outputs": [
    {
     "name": "stderr",
     "output_type": "stream",
     "text": [
      "/d/hpc/home/mo6643/miniconda3/envs/msc1/lib/python3.10/site-packages/anndata/_core/merge.py:942: UserWarning: Only some AnnData objects have `.raw` attribute, not concatenating `.raw` attributes.\n",
      "  warn(\n"
     ]
    }
   ],
   "source": [
    "extra_mouse_T1D_train = sc.concat([extra_mouse_T1D, train_baseline])"
   ]
  },
  {
   "cell_type": "code",
   "execution_count": 23,
   "id": "647ed01f-1a82-4016-8cf2-75207ba7c373",
   "metadata": {
    "tags": []
   },
   "outputs": [],
   "source": [
    "extra_mouse_T1D.write_h5ad(\"./train_data/extra_mouse_T1D.h5ad\")"
   ]
  },
  {
   "cell_type": "code",
   "execution_count": 26,
   "id": "74e61e9a-0d6a-467d-b256-02751cecf370",
   "metadata": {
    "tags": []
   },
   "outputs": [
    {
     "data": {
      "text/plain": [
       "['8-16wNOD']\n",
       "Categories (1, object): ['8-16wNOD']"
      ]
     },
     "execution_count": 26,
     "metadata": {},
     "output_type": "execute_result"
    }
   ],
   "source": [
    "extra_mouse_T1D.obs.dataset.unique()"
   ]
  },
  {
   "cell_type": "markdown",
   "id": "675857d8-74bc-4a26-b22c-56eb89e4f48f",
   "metadata": {},
   "source": [
    "MIA - old"
   ]
  },
  {
   "cell_type": "code",
   "execution_count": 17,
   "id": "b1a04852-d307-4b11-923f-41b487985cf1",
   "metadata": {
    "tags": []
   },
   "outputs": [],
   "source": [
    "extra_mouse_aged = mouse_atlas[mouse_atlas.obs.dataset == \"aged\"]"
   ]
  },
  {
   "cell_type": "code",
   "execution_count": 97,
   "id": "8e7abe46-71cb-4903-aa25-fca776c0ace0",
   "metadata": {
    "tags": []
   },
   "outputs": [
    {
     "name": "stderr",
     "output_type": "stream",
     "text": [
      "/d/hpc/home/mo6643/miniconda3/envs/msc1/lib/python3.10/site-packages/anndata/_core/merge.py:942: UserWarning: Only some AnnData objects have `.raw` attribute, not concatenating `.raw` attributes.\n",
      "  warn(\n"
     ]
    }
   ],
   "source": [
    "extra_mouse_aged_train = sc.concat([train_baseline, extra_mouse_aged])"
   ]
  },
  {
   "cell_type": "code",
   "execution_count": 18,
   "id": "d5517755-e682-4311-8a5d-4f7d11c10847",
   "metadata": {
    "tags": []
   },
   "outputs": [],
   "source": [
    "extra_mouse_aged.write_h5ad(\"./train_data/extra_mouse_aged.h5ad\")"
   ]
  },
  {
   "cell_type": "code",
   "execution_count": 19,
   "id": "f7554387-3d37-4c10-9eb6-972a54c32cc1",
   "metadata": {},
   "outputs": [
    {
     "data": {
      "text/plain": [
       "View of AnnData object with n_obs × n_vars = 17361 × 31334\n",
       "    obs: 'disease', 'dataset', 'organism', 'cell_type'"
      ]
     },
     "execution_count": 19,
     "metadata": {},
     "output_type": "execute_result"
    }
   ],
   "source": [
    "extra_mouse_aged"
   ]
  }
 ],
 "metadata": {
  "kernelspec": {
   "display_name": "Python 3 (ipykernel)",
   "language": "python",
   "name": "python3"
  },
  "language_info": {
   "codemirror_mode": {
    "name": "ipython",
    "version": 3
   },
   "file_extension": ".py",
   "mimetype": "text/x-python",
   "name": "python",
   "nbconvert_exporter": "python",
   "pygments_lexer": "ipython3",
   "version": "3.10.9"
  }
 },
 "nbformat": 4,
 "nbformat_minor": 5
}
