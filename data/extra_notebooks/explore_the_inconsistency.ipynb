{
 "cells": [
  {
   "cell_type": "code",
   "execution_count": 1,
   "id": "d3b93e68-efe9-4a99-9f66-21dc54092953",
   "metadata": {
    "tags": []
   },
   "outputs": [],
   "source": [
    "import scanpy as sc"
   ]
  },
  {
   "cell_type": "code",
   "execution_count": 2,
   "id": "505b6f46-a253-4fcb-9b31-b30b264414cb",
   "metadata": {
    "tags": []
   },
   "outputs": [],
   "source": [
    "adata = sc.read_h5ad(\"./train_data/train_adata_baseline.h5ad\")"
   ]
  },
  {
   "cell_type": "code",
   "execution_count": 3,
   "id": "509ba418-04c1-4b40-92c1-bef664b9bc8a",
   "metadata": {
    "tags": []
   },
   "outputs": [
    {
     "data": {
      "text/html": [
       "<div>\n",
       "<style scoped>\n",
       "    .dataframe tbody tr th:only-of-type {\n",
       "        vertical-align: middle;\n",
       "    }\n",
       "\n",
       "    .dataframe tbody tr th {\n",
       "        vertical-align: top;\n",
       "    }\n",
       "\n",
       "    .dataframe thead th {\n",
       "        text-align: right;\n",
       "    }\n",
       "</style>\n",
       "<table border=\"1\" class=\"dataframe\">\n",
       "  <thead>\n",
       "    <tr style=\"text-align: right;\">\n",
       "      <th></th>\n",
       "      <th>disease</th>\n",
       "      <th>dataset</th>\n",
       "      <th>organism</th>\n",
       "    </tr>\n",
       "  </thead>\n",
       "  <tbody>\n",
       "    <tr>\n",
       "      <th>TAGACCATCAGAGGTG-1-G1-STZ</th>\n",
       "      <td>healthy</td>\n",
       "      <td>mSTZ</td>\n",
       "      <td>Mus musculus</td>\n",
       "    </tr>\n",
       "    <tr>\n",
       "      <th>GGCCGATTCAAAGTAG-1-mouse4-Fltp_adult</th>\n",
       "      <td>healthy</td>\n",
       "      <td>4m</td>\n",
       "      <td>Mus musculus</td>\n",
       "    </tr>\n",
       "    <tr>\n",
       "      <th>TACGGTAGTCCGTGAC-1-G1-STZ</th>\n",
       "      <td>healthy</td>\n",
       "      <td>mSTZ</td>\n",
       "      <td>Mus musculus</td>\n",
       "    </tr>\n",
       "    <tr>\n",
       "      <th>AGATTGCTCTTGTTTG-1-mouse1-Fltp_adult</th>\n",
       "      <td>healthy</td>\n",
       "      <td>4m</td>\n",
       "      <td>Mus musculus</td>\n",
       "    </tr>\n",
       "    <tr>\n",
       "      <th>ATTGTTCAGTCTCTGA-1-MUC13634-VSG</th>\n",
       "      <td>healthy</td>\n",
       "      <td>db/db</td>\n",
       "      <td>Mus musculus</td>\n",
       "    </tr>\n",
       "    <tr>\n",
       "      <th>...</th>\n",
       "      <td>...</td>\n",
       "      <td>...</td>\n",
       "      <td>...</td>\n",
       "    </tr>\n",
       "    <tr>\n",
       "      <th>C0027_TTTGTTGGTGCTCCGT-1</th>\n",
       "      <td>healthy</td>\n",
       "      <td>Wang</td>\n",
       "      <td>Homo sapiens</td>\n",
       "    </tr>\n",
       "    <tr>\n",
       "      <th>C0027_TTTGTTGGTGTGTCCC-1</th>\n",
       "      <td>healthy</td>\n",
       "      <td>Wang</td>\n",
       "      <td>Homo sapiens</td>\n",
       "    </tr>\n",
       "    <tr>\n",
       "      <th>C0027_TTTGTTGGTTAGTGAT-1</th>\n",
       "      <td>healthy</td>\n",
       "      <td>Wang</td>\n",
       "      <td>Homo sapiens</td>\n",
       "    </tr>\n",
       "    <tr>\n",
       "      <th>C0027_TTTGTTGGTTTCGCGC-1</th>\n",
       "      <td>healthy</td>\n",
       "      <td>Wang</td>\n",
       "      <td>Homo sapiens</td>\n",
       "    </tr>\n",
       "    <tr>\n",
       "      <th>C0027_TTTGTTGGTTTGACCT-1</th>\n",
       "      <td>healthy</td>\n",
       "      <td>Wang</td>\n",
       "      <td>Homo sapiens</td>\n",
       "    </tr>\n",
       "  </tbody>\n",
       "</table>\n",
       "<p>209722 rows × 3 columns</p>\n",
       "</div>"
      ],
      "text/plain": [
       "                                      disease dataset      organism\n",
       "TAGACCATCAGAGGTG-1-G1-STZ             healthy    mSTZ  Mus musculus\n",
       "GGCCGATTCAAAGTAG-1-mouse4-Fltp_adult  healthy      4m  Mus musculus\n",
       "TACGGTAGTCCGTGAC-1-G1-STZ             healthy    mSTZ  Mus musculus\n",
       "AGATTGCTCTTGTTTG-1-mouse1-Fltp_adult  healthy      4m  Mus musculus\n",
       "ATTGTTCAGTCTCTGA-1-MUC13634-VSG       healthy   db/db  Mus musculus\n",
       "...                                       ...     ...           ...\n",
       "C0027_TTTGTTGGTGCTCCGT-1              healthy    Wang  Homo sapiens\n",
       "C0027_TTTGTTGGTGTGTCCC-1              healthy    Wang  Homo sapiens\n",
       "C0027_TTTGTTGGTTAGTGAT-1              healthy    Wang  Homo sapiens\n",
       "C0027_TTTGTTGGTTTCGCGC-1              healthy    Wang  Homo sapiens\n",
       "C0027_TTTGTTGGTTTGACCT-1              healthy    Wang  Homo sapiens\n",
       "\n",
       "[209722 rows x 3 columns]"
      ]
     },
     "execution_count": 3,
     "metadata": {},
     "output_type": "execute_result"
    }
   ],
   "source": [
    "adata.obs"
   ]
  },
  {
   "cell_type": "code",
   "execution_count": 4,
   "id": "72ac8a00-8e76-4118-8239-77e548efee59",
   "metadata": {
    "tags": []
   },
   "outputs": [
    {
     "data": {
      "text/plain": [
       "['mSTZ', '4m', 'db/db', 'Elgmal', 'Wang']\n",
       "Categories (5, object): ['4m', 'Elgmal', 'Wang', 'db/db', 'mSTZ']"
      ]
     },
     "execution_count": 4,
     "metadata": {},
     "output_type": "execute_result"
    }
   ],
   "source": [
    "adata.obs.dataset.unique()"
   ]
  },
  {
   "cell_type": "code",
   "execution_count": 5,
   "id": "45be52f0-c730-4bf5-b5ca-b047185a063f",
   "metadata": {
    "tags": []
   },
   "outputs": [
    {
     "data": {
      "text/plain": [
       "['healthy', 'T2D']\n",
       "Categories (2, object): ['T2D', 'healthy']"
      ]
     },
     "execution_count": 5,
     "metadata": {},
     "output_type": "execute_result"
    }
   ],
   "source": [
    "adata.obs.disease.unique()"
   ]
  },
  {
   "cell_type": "code",
   "execution_count": 6,
   "id": "0a761232-0736-47b2-8747-3399338860dd",
   "metadata": {
    "tags": []
   },
   "outputs": [
    {
     "data": {
      "text/plain": [
       "['Mus musculus', 'Homo sapiens']\n",
       "Categories (2, object): ['Homo sapiens', 'Mus musculus']"
      ]
     },
     "execution_count": 6,
     "metadata": {},
     "output_type": "execute_result"
    }
   ],
   "source": [
    "adata.obs.organism.unique()"
   ]
  },
  {
   "cell_type": "code",
   "execution_count": null,
   "id": "eb3f7333-3b30-4361-9499-4ca670674116",
   "metadata": {},
   "outputs": [],
   "source": []
  }
 ],
 "metadata": {
  "kernelspec": {
   "display_name": "Python 3 (ipykernel)",
   "language": "python",
   "name": "python3"
  },
  "language_info": {
   "codemirror_mode": {
    "name": "ipython",
    "version": 3
   },
   "file_extension": ".py",
   "mimetype": "text/x-python",
   "name": "python",
   "nbconvert_exporter": "python",
   "pygments_lexer": "ipython3",
   "version": "3.10.9"
  }
 },
 "nbformat": 4,
 "nbformat_minor": 5
}
