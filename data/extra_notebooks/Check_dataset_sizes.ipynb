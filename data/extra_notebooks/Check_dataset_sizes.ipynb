{
 "cells": [
  {
   "cell_type": "code",
   "execution_count": 1,
   "id": "4ac322f4-d71a-48c8-995d-fbe90d611718",
   "metadata": {
    "tags": []
   },
   "outputs": [],
   "source": [
    "import scanpy as sc"
   ]
  },
  {
   "cell_type": "code",
   "execution_count": 3,
   "id": "31a4f314-a334-4a3f-8ec1-d92d3a83f5d7",
   "metadata": {
    "tags": []
   },
   "outputs": [],
   "source": [
    "dbdb = sc.read_h5ad(\"./ground_truth/full_datasets/dbdb_ground_truth_cleanCT.h5ad\")"
   ]
  },
  {
   "cell_type": "code",
   "execution_count": 8,
   "id": "98f0868c-8bac-46c0-bf70-7579015ac233",
   "metadata": {
    "tags": []
   },
   "outputs": [],
   "source": [
    "mstz = sc.read_h5ad(\"./ground_truth/full_datasets/mSTZ_ground_truth_cleanCT.h5ad\")"
   ]
  },
  {
   "cell_type": "code",
   "execution_count": 9,
   "id": "06eabead-863a-4f50-b5ac-82614ecb18ca",
   "metadata": {
    "tags": []
   },
   "outputs": [
    {
     "data": {
      "text/plain": [
       "43211"
      ]
     },
     "execution_count": 9,
     "metadata": {},
     "output_type": "execute_result"
    }
   ],
   "source": [
    "dbdb.n_obs"
   ]
  },
  {
   "cell_type": "code",
   "execution_count": 10,
   "id": "ae615efb-1a2e-46fb-ae13-0440f7d6db0b",
   "metadata": {
    "tags": []
   },
   "outputs": [
    {
     "data": {
      "text/plain": [
       "33560"
      ]
     },
     "execution_count": 10,
     "metadata": {},
     "output_type": "execute_result"
    }
   ],
   "source": [
    "mstz.n_obs"
   ]
  },
  {
   "cell_type": "code",
   "execution_count": 12,
   "id": "197499ae-053d-416a-a51c-4f5c48e5bc7f",
   "metadata": {
    "tags": []
   },
   "outputs": [
    {
     "data": {
      "text/plain": [
       "T2D        25964\n",
       "healthy     7596\n",
       "Name: disease, dtype: int64"
      ]
     },
     "execution_count": 12,
     "metadata": {},
     "output_type": "execute_result"
    }
   ],
   "source": [
    "mstz.obs.disease.value_counts()"
   ]
  },
  {
   "cell_type": "code",
   "execution_count": null,
   "id": "42588bb9-7b81-44c7-aed7-653e1d53cbe2",
   "metadata": {},
   "outputs": [],
   "source": []
  }
 ],
 "metadata": {
  "kernelspec": {
   "display_name": "Python 3 (ipykernel)",
   "language": "python",
   "name": "python3"
  },
  "language_info": {
   "codemirror_mode": {
    "name": "ipython",
    "version": 3
   },
   "file_extension": ".py",
   "mimetype": "text/x-python",
   "name": "python",
   "nbconvert_exporter": "python",
   "pygments_lexer": "ipython3",
   "version": "3.10.9"
  }
 },
 "nbformat": 4,
 "nbformat_minor": 5
}
