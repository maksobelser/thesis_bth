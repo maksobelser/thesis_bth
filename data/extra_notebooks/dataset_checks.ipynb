{
 "cells": [
  {
   "cell_type": "markdown",
   "id": "7cdefbfd-7b66-4afa-aea9-b7343f412d90",
   "metadata": {},
   "source": [
    "## Baseline checking"
   ]
  },
  {
   "cell_type": "code",
   "execution_count": 1,
   "id": "05bc0527-aba5-49b3-a904-8a878dee5176",
   "metadata": {
    "tags": []
   },
   "outputs": [],
   "source": [
    "import scanpy as sc"
   ]
  },
  {
   "cell_type": "code",
   "execution_count": 2,
   "id": "448cdf7f-57e5-4396-9294-daf1bd2729eb",
   "metadata": {
    "tags": []
   },
   "outputs": [],
   "source": [
    "adata_train = sc.read_h5ad(\"./train_data/train_adata_baseline_top3000hvg.h5ad\")"
   ]
  },
  {
   "cell_type": "code",
   "execution_count": 74,
   "id": "d0b2e0d3-4eae-4b0e-96f7-c0de17e905b8",
   "metadata": {
    "tags": []
   },
   "outputs": [],
   "source": [
    "adata_to_predict_test = sc.read_h5ad(\"./data_to_predict/Wang_to_predict_top3000_baseline_hvg.h5ad\")"
   ]
  },
  {
   "cell_type": "code",
   "execution_count": 12,
   "id": "6c410af5-348d-43c5-b57a-d8c47b3cf3fa",
   "metadata": {
    "tags": []
   },
   "outputs": [],
   "source": [
    "ground_truth_mSTZ = cmSTZ_ground_truth_top3000_baseline_hvg.h5ad\")"
   ]
  },
  {
   "cell_type": "code",
   "execution_count": 11,
   "id": "86298619-f43d-41a4-a317-f139ab6d2a74",
   "metadata": {
    "tags": []
   },
   "outputs": [],
   "source": [
    "ground_truth_dbdb = sc.read_h5ad(\"./ground_truth/dbdb_ground_truth_top3000_baseline_hvg.h5ad\")"
   ]
  },
  {
   "cell_type": "code",
   "execution_count": 21,
   "id": "1a98a433-7034-4025-9fc1-2dcc5183ef58",
   "metadata": {
    "tags": []
   },
   "outputs": [
    {
     "data": {
      "text/plain": [
       "False"
      ]
     },
     "execution_count": 21,
     "metadata": {},
     "output_type": "execute_result"
    }
   ],
   "source": [
    "all(adata_to_predict.var.index == ground_truth_dbdb.var.index)"
   ]
  },
  {
   "cell_type": "code",
   "execution_count": 22,
   "id": "7733c878-5775-4a18-8be6-e83ae4d7c257",
   "metadata": {
    "tags": []
   },
   "outputs": [
    {
     "data": {
      "text/plain": [
       "False"
      ]
     },
     "execution_count": 22,
     "metadata": {},
     "output_type": "execute_result"
    }
   ],
   "source": [
    "all(adata_to_predict.var.index == ground_truth_mSTZ.var.index)"
   ]
  },
  {
   "cell_type": "code",
   "execution_count": 23,
   "id": "f8ab3515-e2aa-4498-8b0b-4453a352ae50",
   "metadata": {
    "tags": []
   },
   "outputs": [
    {
     "data": {
      "text/plain": [
       "True"
      ]
     },
     "execution_count": 23,
     "metadata": {},
     "output_type": "execute_result"
    }
   ],
   "source": [
    "all(adata_train.var.index == ground_truth_mSTZ.var.index)"
   ]
  },
  {
   "cell_type": "code",
   "execution_count": 24,
   "id": "31093959-5857-4d89-9792-48ee4db27fe2",
   "metadata": {
    "tags": []
   },
   "outputs": [
    {
     "data": {
      "text/plain": [
       "True"
      ]
     },
     "execution_count": 24,
     "metadata": {},
     "output_type": "execute_result"
    }
   ],
   "source": [
    "all(adata_train.var.index == ground_truth_dbdb.var.index)"
   ]
  },
  {
   "cell_type": "code",
   "execution_count": 26,
   "id": "1eed4b8d-0bda-4323-a372-33fe81e26984",
   "metadata": {
    "tags": []
   },
   "outputs": [
    {
     "data": {
      "text/plain": [
       "True"
      ]
     },
     "execution_count": 26,
     "metadata": {},
     "output_type": "execute_result"
    }
   ],
   "source": [
    "all(adata_to_predict.var.index.isin(adata_train.var.index))"
   ]
  },
  {
   "cell_type": "markdown",
   "id": "f915deaa-13a1-4420-946e-c6bb33d1fbb3",
   "metadata": {},
   "source": [
    "### After reordering"
   ]
  },
  {
   "cell_type": "code",
   "execution_count": 34,
   "id": "6f972bb0-a96e-4a23-8274-f7641f2a7bc3",
   "metadata": {
    "tags": []
   },
   "outputs": [
    {
     "data": {
      "text/plain": [
       "True"
      ]
     },
     "execution_count": 34,
     "metadata": {},
     "output_type": "execute_result"
    }
   ],
   "source": [
    "all(adata_to_predict.var.index == ground_truth_mSTZ.var.index)"
   ]
  },
  {
   "cell_type": "code",
   "execution_count": 35,
   "id": "293b5047-1e33-4b62-969c-a3a88f9ceb30",
   "metadata": {
    "tags": []
   },
   "outputs": [
    {
     "data": {
      "text/plain": [
       "True"
      ]
     },
     "execution_count": 35,
     "metadata": {},
     "output_type": "execute_result"
    }
   ],
   "source": [
    "all(adata_to_predict.var.index == ground_truth_dbdb.var.index)"
   ]
  },
  {
   "cell_type": "code",
   "execution_count": 71,
   "id": "e750b0e8-7eb1-4b7f-a5df-7b1fa4c7a0cb",
   "metadata": {
    "tags": []
   },
   "outputs": [],
   "source": [
    "adata_train.write_h5ad(\"./train_data/train_adata_baseline_top3000hvg.h5ad\")"
   ]
  },
  {
   "cell_type": "code",
   "execution_count": 73,
   "id": "680d2153-1dfd-49b4-852f-0d12cac67236",
   "metadata": {
    "tags": []
   },
   "outputs": [
    {
     "data": {
      "text/plain": [
       "['Mus musculus', 'Homo sapiens']\n",
       "Categories (2, object): ['Homo sapiens', 'Mus musculus']"
      ]
     },
     "execution_count": 73,
     "metadata": {},
     "output_type": "execute_result"
    }
   ],
   "source": [
    "adata_train.obs.organism.unique()"
   ]
  },
  {
   "cell_type": "code",
   "execution_count": 75,
   "id": "d123fd40-d026-4440-8d55-58862a9f756c",
   "metadata": {
    "tags": []
   },
   "outputs": [
    {
     "data": {
      "text/plain": [
       "False"
      ]
     },
     "execution_count": 75,
     "metadata": {},
     "output_type": "execute_result"
    }
   ],
   "source": [
    "all(adata_to_predict_test.var.index == ground_truth_mSTZ.var.index)"
   ]
  },
  {
   "cell_type": "code",
   "execution_count": null,
   "id": "5a4436a9-45a8-46ca-bd2e-1e0e8f8ce8ae",
   "metadata": {},
   "outputs": [],
   "source": [
    "adatas = [dataset_train, dataset_to_predict, dataset_ground_truth1, dataset_ground_truth2]"
   ]
  },
  {
   "cell_type": "code",
   "execution_count": 106,
   "id": "9b21aabd-26ea-453c-86c9-7a802619a1b6",
   "metadata": {
    "tags": []
   },
   "outputs": [],
   "source": [
    "adata_to_predict.write_h5ad(\"./train_data/Wang_to_predict_top3000_baseline_hvg.h5ad\")"
   ]
  },
  {
   "cell_type": "code",
   "execution_count": 107,
   "id": "142343a0-3485-483c-907c-dd566b52ee02",
   "metadata": {
    "tags": []
   },
   "outputs": [
    {
     "data": {
      "text/plain": [
       "View of AnnData object with n_obs × n_vars = 54564 × 3000\n",
       "    obs: 'disease', 'dataset', 'organism'"
      ]
     },
     "execution_count": 107,
     "metadata": {},
     "output_type": "execute_result"
    }
   ],
   "source": [
    "adata_to_predict"
   ]
  },
  {
   "cell_type": "markdown",
   "id": "b1dec03e-e8ee-4055-8dd5-4b485502a180",
   "metadata": {},
   "source": [
    "### Seperate datasets checking"
   ]
  },
  {
   "cell_type": "code",
   "execution_count": 37,
   "id": "3c0cf8d2-ab11-4b2a-8379-eeccaf5e44b8",
   "metadata": {
    "tags": []
   },
   "outputs": [],
   "source": [
    "import os"
   ]
  },
  {
   "cell_type": "code",
   "execution_count": 38,
   "id": "9431711c-0341-40cc-a44d-4e01ff36eb63",
   "metadata": {
    "tags": []
   },
   "outputs": [],
   "source": [
    "datasets = os.listdir(\"./train_data/\")"
   ]
  },
  {
   "cell_type": "code",
   "execution_count": 41,
   "id": "c5519ef8-d81f-4e6c-afd6-72cd30a02d78",
   "metadata": {
    "tags": []
   },
   "outputs": [
    {
     "data": {
      "text/plain": [
       "10"
      ]
     },
     "execution_count": 41,
     "metadata": {},
     "output_type": "execute_result"
    }
   ],
   "source": [
    "len(datasets)"
   ]
  },
  {
   "cell_type": "code",
   "execution_count": 48,
   "id": "b3ade742-826a-4d8f-ba29-2203f3ff9e29",
   "metadata": {
    "tags": []
   },
   "outputs": [],
   "source": [
    "datasets.remove('.ipynb_checkpoints')"
   ]
  },
  {
   "cell_type": "code",
   "execution_count": 50,
   "id": "314f19aa-326a-4e98-a7f2-27f9202aa6f3",
   "metadata": {
    "tags": []
   },
   "outputs": [
    {
     "name": "stdout",
     "output_type": "stream",
     "text": [
      "train_adata_baseline.h5ad and extra_mouse_Embryonic.h5ad not the same size\n",
      "extra_mouse_Embryonic.h5ad and train_adata_baseline_top3000hvg_deduplicated.h5ad are equal\n",
      "train_adata_baseline_top3000hvg_deduplicated.h5ad and extra_mouse_aged.h5ad are equal\n",
      "extra_mouse_aged.h5ad and train_adata_baseline_deduplicated.h5ad not the same size\n",
      "train_adata_baseline_deduplicated.h5ad and extra_mouse_chem.h5ad not the same size\n",
      "extra_mouse_chem.h5ad and train_adata_baseline_top3000hvg.h5ad are equal\n",
      "train_adata_baseline_top3000hvg.h5ad and extra_mouse_T1D.h5ad are equal\n",
      "extra_mouse_T1D.h5ad and extra_mouse_young.h5ad are equal\n"
     ]
    }
   ],
   "source": [
    "for i, dataset in enumerate(datasets):\n",
    "    if i == 8:\n",
    "        break\n",
    "    dataset2 = datasets[i+1]\n",
    "    adata1 = sc.read_h5ad(\"./train_data/\" + dataset)\n",
    "    adata2 = sc.read_h5ad(\"./train_data/\" + dataset2)\n",
    "    try:\n",
    "        if all(adata1.var.index == adata2.var.index):\n",
    "            print(f\"{dataset} and {dataset2} are equal\")\n",
    "        else:\n",
    "            print(f\"Check {dataset} and {dataset2}\")\n",
    "    except:\n",
    "        print(f\"{dataset} and {dataset2} not the same size\")"
   ]
  },
  {
   "cell_type": "code",
   "execution_count": 51,
   "id": "11f82f3e-2972-4e7a-8139-7cb027870391",
   "metadata": {
    "tags": []
   },
   "outputs": [
    {
     "data": {
      "text/plain": [
       "['train_adata_baseline.h5ad',\n",
       " 'extra_mouse_Embryonic.h5ad',\n",
       " 'train_adata_baseline_top3000hvg_deduplicated.h5ad',\n",
       " 'extra_mouse_aged.h5ad',\n",
       " 'train_adata_baseline_deduplicated.h5ad',\n",
       " 'extra_mouse_chem.h5ad',\n",
       " 'train_adata_baseline_top3000hvg.h5ad',\n",
       " 'extra_mouse_T1D.h5ad',\n",
       " 'extra_mouse_young.h5ad']"
      ]
     },
     "execution_count": 51,
     "metadata": {},
     "output_type": "execute_result"
    }
   ],
   "source": [
    "datasets"
   ]
  },
  {
   "cell_type": "code",
   "execution_count": 56,
   "id": "d5ae37c0-1fd0-44c1-8661-f207453fbd2b",
   "metadata": {
    "tags": []
   },
   "outputs": [],
   "source": [
    "datasets.remove(\"train_adata_baseline.h5ad\")"
   ]
  },
  {
   "cell_type": "code",
   "execution_count": 57,
   "id": "a86786ac-7397-4759-b3d2-6edd7e5542e2",
   "metadata": {
    "tags": []
   },
   "outputs": [],
   "source": [
    "datasets.remove(\"train_adata_baseline_deduplicated.h5ad\")"
   ]
  },
  {
   "cell_type": "code",
   "execution_count": 58,
   "id": "5f4c33d6-0fb7-4709-8729-7d5d1fabc983",
   "metadata": {
    "tags": []
   },
   "outputs": [
    {
     "data": {
      "text/plain": [
       "['extra_mouse_Embryonic.h5ad',\n",
       " 'train_adata_baseline_top3000hvg_deduplicated.h5ad',\n",
       " 'extra_mouse_aged.h5ad',\n",
       " 'extra_mouse_chem.h5ad',\n",
       " 'train_adata_baseline_top3000hvg.h5ad',\n",
       " 'extra_mouse_T1D.h5ad',\n",
       " 'extra_mouse_young.h5ad']"
      ]
     },
     "execution_count": 58,
     "metadata": {},
     "output_type": "execute_result"
    }
   ],
   "source": [
    "datasets"
   ]
  },
  {
   "cell_type": "code",
   "execution_count": 61,
   "id": "3e94a395-1a7d-45b2-883c-59de283e1f71",
   "metadata": {
    "tags": []
   },
   "outputs": [],
   "source": [
    "def check_adatas_var_index(*adatas):\n",
    "    \"\"\"Check if the variable indices of all provided AnnData objects are the same and in the same order.\"\"\"\n",
    "    for i in range(len(adatas) - 1):\n",
    "        if not (adatas[i].var.index == adatas[i + 1].var.index).all():\n",
    "            raise ValueError(f\"The variable indices of the AnnData objects at positions {i} and {i+1} do not match!\")\n",
    "    print(\"All datasets have the same var names and the same order!\")\n"
   ]
  },
  {
   "cell_type": "code",
   "execution_count": 59,
   "id": "b9223326-0afb-4aa3-8e74-922f51c15035",
   "metadata": {
    "tags": []
   },
   "outputs": [],
   "source": [
    "adatas = [sc.read_h5ad(\"./train_data/\" + dataset_name) for dataset_name in datasets]"
   ]
  },
  {
   "cell_type": "code",
   "execution_count": 62,
   "id": "99f4aedc-1ed0-48d5-8920-939943e6e283",
   "metadata": {
    "tags": []
   },
   "outputs": [
    {
     "name": "stdout",
     "output_type": "stream",
     "text": [
      "All datasets have the same var names and the same order!\n"
     ]
    }
   ],
   "source": [
    "check_adatas_var_index(adatas)"
   ]
  },
  {
   "cell_type": "code",
   "execution_count": 64,
   "id": "ec037bcc-4268-4ebc-abc8-c5eab8354ff3",
   "metadata": {
    "tags": []
   },
   "outputs": [
    {
     "data": {
      "text/plain": [
       "array([2, 4, 6])"
      ]
     },
     "execution_count": 64,
     "metadata": {},
     "output_type": "execute_result"
    }
   ],
   "source": [
    "np.arange(2, 7, 2)"
   ]
  },
  {
   "cell_type": "code",
   "execution_count": 66,
   "id": "f270f8b0-2e74-49f2-9a6f-71c4c0336119",
   "metadata": {
    "tags": []
   },
   "outputs": [
    {
     "data": {
      "text/plain": [
       "'/d/hpc/projects/FRI/DL/mo6643/MSC/data/data_update_slack/data_splits/data_splits_train_merge'"
      ]
     },
     "execution_count": 66,
     "metadata": {},
     "output_type": "execute_result"
    }
   ],
   "source": [
    "os.getcwd()"
   ]
  },
  {
   "cell_type": "code",
   "execution_count": 67,
   "id": "eccccb25-0085-4292-aca3-5e95bbad0e7e",
   "metadata": {
    "tags": []
   },
   "outputs": [],
   "source": [
    "dataset_train = sc.read_h5ad(\"./train_data/train_adata_baseline_top3000hvg.h5ad\")\n",
    "dataset_to_predict = sc.read_h5ad(\"./data_to_predict/Wang_to_predict_top3000_baseline_hvg.h5ad\")\n",
    "dataset_ground_truth1 = sc.read_h5ad(\"./ground_truth/dbdb_ground_truth_top3000_baseline_hvg.h5ad\")\n",
    "dataset_ground_truth2 = sc.read_h5ad(\"./ground_truth/mSTZ_ground_truth_top3000_baseline_hvg.h5ad\")"
   ]
  },
  {
   "cell_type": "code",
   "execution_count": 68,
   "id": "3cc4a5df-09f1-4b75-9c2d-314f3451cb01",
   "metadata": {
    "tags": []
   },
   "outputs": [],
   "source": [
    "adatas = [dataset_train, dataset_to_predict, dataset_ground_truth1, dataset_ground_truth2]"
   ]
  },
  {
   "cell_type": "code",
   "execution_count": 69,
   "id": "75e2509a-bde9-420f-bed3-1c7845025235",
   "metadata": {
    "tags": []
   },
   "outputs": [
    {
     "name": "stdout",
     "output_type": "stream",
     "text": [
      "All datasets have the same var names and the same order!\n"
     ]
    }
   ],
   "source": [
    "check_adatas_var_index(adatas)"
   ]
  },
  {
   "cell_type": "code",
   "execution_count": 94,
   "id": "e71a65e8-398a-4d9e-9ccf-3bfed148103b",
   "metadata": {
    "tags": []
   },
   "outputs": [],
   "source": [
    "import scanpy as sc\n",
    "from itertools import combinations"
   ]
  },
  {
   "cell_type": "code",
   "execution_count": 76,
   "id": "a02617db-7511-4740-b41b-8e26c1acfdba",
   "metadata": {
    "tags": []
   },
   "outputs": [
    {
     "data": {
      "text/plain": [
       "AnnData object with n_obs × n_vars = 54564 × 3000\n",
       "    obs: 'disease', 'dataset', 'organism'"
      ]
     },
     "execution_count": 76,
     "metadata": {},
     "output_type": "execute_result"
    }
   ],
   "source": [
    "dataset_to_predict"
   ]
  },
  {
   "cell_type": "code",
   "execution_count": 105,
   "id": "33b77456-88c5-45cd-ba19-8e224e0ba6eb",
   "metadata": {},
   "outputs": [
    {
     "name": "stdout",
     "output_type": "stream",
     "text": [
      "False\n"
     ]
    },
    {
     "ename": "ValueError",
     "evalue": "The variable indices of the AnnData objects at positions 0 and 1 do not match!",
     "output_type": "error",
     "traceback": [
      "\u001b[0;31m---------------------------------------------------------------------------\u001b[0m",
      "\u001b[0;31mValueError\u001b[0m                                Traceback (most recent call last)",
      "Cell \u001b[0;32mIn[105], line 12\u001b[0m\n\u001b[1;32m      8\u001b[0m     \u001b[38;5;28mprint\u001b[39m(\u001b[38;5;124m\"\u001b[39m\u001b[38;5;124mEverything ok!\u001b[39m\u001b[38;5;124m\"\u001b[39m)\n\u001b[1;32m     11\u001b[0m \u001b[38;5;28mprint\u001b[39m(\u001b[38;5;28mall\u001b[39m(dataset_to_predict\u001b[38;5;241m.\u001b[39mvar\u001b[38;5;241m.\u001b[39mindex \u001b[38;5;241m==\u001b[39m ground_truth_mSTZ\u001b[38;5;241m.\u001b[39mvar\u001b[38;5;241m.\u001b[39mindex))\n\u001b[0;32m---> 12\u001b[0m \u001b[43mcheck_adatas_var_index\u001b[49m\u001b[43m(\u001b[49m\u001b[43mdataset_train\u001b[49m\u001b[43m,\u001b[49m\u001b[43m \u001b[49m\u001b[43mdataset_to_predict\u001b[49m\u001b[43m,\u001b[49m\u001b[43m \u001b[49m\u001b[43mdataset_ground_truth1\u001b[49m\u001b[43m,\u001b[49m\u001b[43m \u001b[49m\u001b[43mdataset_ground_truth2\u001b[49m\u001b[43m)\u001b[49m\n",
      "Cell \u001b[0;32mIn[105], line 7\u001b[0m, in \u001b[0;36mcheck_adatas_var_index\u001b[0;34m(*adatas)\u001b[0m\n\u001b[1;32m      5\u001b[0m \u001b[38;5;28;01mfor\u001b[39;00m i, j \u001b[38;5;129;01min\u001b[39;00m combinations(\u001b[38;5;28mrange\u001b[39m(\u001b[38;5;28mlen\u001b[39m(adatas)), \u001b[38;5;241m2\u001b[39m):\n\u001b[1;32m      6\u001b[0m     \u001b[38;5;28;01mif\u001b[39;00m \u001b[38;5;129;01mnot\u001b[39;00m \u001b[38;5;28mall\u001b[39m(adatas[i]\u001b[38;5;241m.\u001b[39mvar\u001b[38;5;241m.\u001b[39mindex \u001b[38;5;241m==\u001b[39m adatas[j]\u001b[38;5;241m.\u001b[39mvar\u001b[38;5;241m.\u001b[39mindex):\n\u001b[0;32m----> 7\u001b[0m         \u001b[38;5;28;01mraise\u001b[39;00m \u001b[38;5;167;01mValueError\u001b[39;00m(\u001b[38;5;124mf\u001b[39m\u001b[38;5;124m\"\u001b[39m\u001b[38;5;124mThe variable indices of the AnnData objects at positions \u001b[39m\u001b[38;5;132;01m{\u001b[39;00mi\u001b[38;5;132;01m}\u001b[39;00m\u001b[38;5;124m and \u001b[39m\u001b[38;5;132;01m{\u001b[39;00mj\u001b[38;5;132;01m}\u001b[39;00m\u001b[38;5;124m do not match!\u001b[39m\u001b[38;5;124m\"\u001b[39m)\n\u001b[1;32m      8\u001b[0m \u001b[38;5;28mprint\u001b[39m(\u001b[38;5;124m\"\u001b[39m\u001b[38;5;124mEverything ok!\u001b[39m\u001b[38;5;124m\"\u001b[39m)\n",
      "\u001b[0;31mValueError\u001b[0m: The variable indices of the AnnData objects at positions 0 and 1 do not match!"
     ]
    }
   ],
   "source": [
    "adatas = [dataset_train, dataset_to_predict, dataset_ground_truth1, dataset_ground_truth2]\n",
    "\n",
    "def check_adatas_var_index(*adatas):\n",
    "    \"\"\"Check if the variable indices of all provided AnnData objects are the same and in the same order.\"\"\"\n",
    "    for i, j in combinations(range(len(adatas)), 2):\n",
    "        if not all(adatas[i].var.index == adatas[j].var.index):\n",
    "            raise ValueError(f\"The variable indices of the AnnData objects at positions {i} and {j} do not match!\")\n",
    "    print(\"Everything ok!\")\n",
    "\n",
    "\n",
    "print(all(dataset_to_predict.var.index == ground_truth_mSTZ.var.index))\n",
    "check_adatas_var_index(dataset_train, dataset_to_predict, dataset_ground_truth1, dataset_ground_truth2)"
   ]
  },
  {
   "cell_type": "code",
   "execution_count": 96,
   "id": "f1f994d8-05d3-4d2f-9386-ef039e1a1003",
   "metadata": {
    "tags": []
   },
   "outputs": [
    {
     "data": {
      "text/plain": [
       "[AnnData object with n_obs × n_vars = 54564 × 3000\n",
       "     obs: 'disease', 'dataset', 'organism',\n",
       " AnnData object with n_obs × n_vars = 54564 × 3000\n",
       "     obs: 'disease', 'dataset', 'organism',\n",
       " AnnData object with n_obs × n_vars = 69745 × 3000\n",
       "     obs: 'disease', 'dataset', 'organism',\n",
       " AnnData object with n_obs × n_vars = 49545 × 3000\n",
       "     obs: 'disease', 'dataset', 'organism']"
      ]
     },
     "execution_count": 96,
     "metadata": {},
     "output_type": "execute_result"
    }
   ],
   "source": [
    "adatas"
   ]
  },
  {
   "cell_type": "markdown",
   "id": "5b9661f0-8029-4cef-ab61-f838c01b895c",
   "metadata": {
    "tags": []
   },
   "source": [
    "### Rechecking"
   ]
  },
  {
   "cell_type": "code",
   "execution_count": 108,
   "id": "5741fc34-9b2b-4b67-9d3f-0f94d9a11581",
   "metadata": {
    "tags": []
   },
   "outputs": [],
   "source": [
    "adata_train = sc.read_h5ad(\"./train_data/train_adata_baseline_top3000hvg.h5ad\")"
   ]
  },
  {
   "cell_type": "code",
   "execution_count": 109,
   "id": "96a4807c-047a-4b22-bc92-4cabaeaafde5",
   "metadata": {
    "tags": []
   },
   "outputs": [],
   "source": [
    "adata_to_predict = sc.read_h5ad(\"./data_to_predict/Wang_to_predict_top3000_baseline_hvg.h5ad\")"
   ]
  },
  {
   "cell_type": "code",
   "execution_count": 111,
   "id": "3991dd71-c633-4af2-a3fe-9cbc97e95802",
   "metadata": {
    "tags": []
   },
   "outputs": [],
   "source": [
    "adata_to_predict = adata_to_predict[:,adata_train.var.index]"
   ]
  },
  {
   "cell_type": "code",
   "execution_count": 113,
   "id": "d941c5bc-1794-41ed-9a21-4f13e2a21b8d",
   "metadata": {
    "tags": []
   },
   "outputs": [],
   "source": [
    "adata_to_predict.write_h5ad(\"./data_to_predict/Wang_to_predict_top3000_baseline_hvg.h5ad\")"
   ]
  },
  {
   "cell_type": "code",
   "execution_count": 114,
   "id": "e115c314-3e75-40f6-9427-03cffa00e101",
   "metadata": {
    "tags": []
   },
   "outputs": [
    {
     "name": "stdout",
     "output_type": "stream",
     "text": [
      "Everything ok!\n"
     ]
    }
   ],
   "source": [
    "check_adatas_var_index(adata_train, adata_to_predict)"
   ]
  },
  {
   "cell_type": "markdown",
   "id": "77ee3429-8846-4365-8f07-8ff9614b6a73",
   "metadata": {},
   "source": [
    "### Rechecking rechecking"
   ]
  },
  {
   "cell_type": "code",
   "execution_count": 115,
   "id": "ff17fe23-2125-493e-8d07-172b4db6c470",
   "metadata": {
    "tags": []
   },
   "outputs": [],
   "source": [
    "gt1 = sc.read_h5ad(\"./ground_truth/dbdb_ground_truth_top3000_baseline_hvg.h5ad\")\n",
    "gt2 = sc.read_h5ad(\"./ground_truth/mSTZ_ground_truth_top3000_baseline_hvg.h5ad\")"
   ]
  },
  {
   "cell_type": "code",
   "execution_count": 116,
   "id": "a3a78cca-4e09-4879-aada-e92eaa612821",
   "metadata": {
    "tags": []
   },
   "outputs": [],
   "source": [
    "adata_train = sc.read_h5ad(\"./train_data/train_adata_baseline_top3000hvg.h5ad\")"
   ]
  },
  {
   "cell_type": "code",
   "execution_count": 117,
   "id": "77e87cc5-154e-4627-bc8d-1b76b7bba8b6",
   "metadata": {
    "tags": []
   },
   "outputs": [],
   "source": [
    "adata_to_predict = sc.read_h5ad(\"./data_to_predict/Wang_to_predict_top3000_baseline_hvg.h5ad\")"
   ]
  },
  {
   "cell_type": "code",
   "execution_count": 118,
   "id": "12bbd98e-023d-478e-89d8-0fc7980be00d",
   "metadata": {
    "tags": []
   },
   "outputs": [
    {
     "name": "stdout",
     "output_type": "stream",
     "text": [
      "Everything ok!\n"
     ]
    }
   ],
   "source": [
    "check_adatas_var_index(adata_train, adata_to_predict, gt1, gt2)"
   ]
  },
  {
   "cell_type": "markdown",
   "id": "38afba20-7baf-42dd-ab9e-ef41399c8496",
   "metadata": {},
   "source": [
    "### Rechecking Embryonic"
   ]
  },
  {
   "cell_type": "code",
   "execution_count": 119,
   "id": "5cfe2550-c3c2-4605-a41c-d364eb701e38",
   "metadata": {
    "tags": []
   },
   "outputs": [],
   "source": [
    "embyonic = sc.read_h5ad(\"./train_data/extra_mouse_Embryonic.h5ad\")"
   ]
  },
  {
   "cell_type": "code",
   "execution_count": 120,
   "id": "8b9eef5e-583d-48b6-ada2-8968b5281ec8",
   "metadata": {
    "tags": []
   },
   "outputs": [
    {
     "data": {
      "text/plain": [
       "['mSTZ', '4m', 'db/db', 'Elgmal', 'Wang']\n",
       "Categories (5, object): ['4m', 'Elgmal', 'Wang', 'db/db', 'mSTZ']"
      ]
     },
     "execution_count": 120,
     "metadata": {},
     "output_type": "execute_result"
    }
   ],
   "source": [
    "embyonic.obs.dataset.unique()"
   ]
  },
  {
   "cell_type": "code",
   "execution_count": null,
   "id": "74c178d4-64a6-49e7-b119-bc9aff3ef5fb",
   "metadata": {},
   "outputs": [],
   "source": []
  }
 ],
 "metadata": {
  "kernelspec": {
   "display_name": "Python 3 (ipykernel)",
   "language": "python",
   "name": "python3"
  },
  "language_info": {
   "codemirror_mode": {
    "name": "ipython",
    "version": 3
   },
   "file_extension": ".py",
   "mimetype": "text/x-python",
   "name": "python",
   "nbconvert_exporter": "python",
   "pygments_lexer": "ipython3",
   "version": "3.10.9"
  }
 },
 "nbformat": 4,
 "nbformat_minor": 5
}
