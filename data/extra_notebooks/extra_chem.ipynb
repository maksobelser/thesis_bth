{
 "cells": [
  {
   "cell_type": "code",
   "execution_count": 12,
   "id": "480558a8-bc82-439c-8c2b-79530afa871c",
   "metadata": {
    "tags": []
   },
   "outputs": [],
   "source": [
    "import scanpy as sc\n",
    "import pandas as pd"
   ]
  },
  {
   "cell_type": "code",
   "execution_count": 2,
   "id": "ac96c58a-8343-466a-b903-e6f0f29de13f",
   "metadata": {
    "tags": []
   },
   "outputs": [
    {
     "name": "stderr",
     "output_type": "stream",
     "text": [
      "/d/hpc/home/mo6643/miniconda3/envs/msc1/lib/python3.10/site-packages/anndata/_core/anndata.py:1830: UserWarning: Variable names are not unique. To make them unique, call `.var_names_make_unique`.\n",
      "  utils.warn_names_duplicates(\"var\")\n"
     ]
    }
   ],
   "source": [
    "human_chem = sc.read_h5ad(\"/d/hpc/projects/FRI/DL/mo6643/MSC/data/data_update_slack/data_splits/extra_human_datasets/chemical_treatment/chemical_treatment_annotated_raw.h5ad\")"
   ]
  },
  {
   "cell_type": "code",
   "execution_count": 3,
   "id": "930bf038-a767-4344-a5a5-9f4c683df024",
   "metadata": {
    "tags": []
   },
   "outputs": [
    {
     "data": {
      "text/plain": [
       "AnnData object with n_obs × n_vars = 37257 × 32738\n",
       "    obs: 'nGene', 'nUMI', 'orig.ident', 'sample', 'percent.mito', 'res.0.5', 'ClusterNames_0.5', 'tSNE_1', 'tSNE_2', 'celltype', 'spikeIn', 'replicate', 'treatment', 'PredictedCell', 'PredictionConf', 'PredictionMax', 'celltype2', 'nGene.peak', 'nGene.doublet', 'INS', 'GCG'"
      ]
     },
     "execution_count": 3,
     "metadata": {},
     "output_type": "execute_result"
    }
   ],
   "source": [
    "human_chem"
   ]
  },
  {
   "cell_type": "code",
   "execution_count": 5,
   "id": "c978ca13-9ecc-46a0-bb93-d74182024fb2",
   "metadata": {
    "tags": []
   },
   "outputs": [],
   "source": [
    "chem_genes = human_chem.var.index.tolist()"
   ]
  },
  {
   "cell_type": "code",
   "execution_count": 6,
   "id": "d89c5d2a-ece3-4401-b6e4-73b0ec16c6f9",
   "metadata": {
    "tags": []
   },
   "outputs": [],
   "source": [
    "chem_genes_just_genes = []\n",
    "for gene in chem_genes:\n",
    "    chem_genes_just_genes.append(gene.split(\"_\")[1])"
   ]
  },
  {
   "cell_type": "code",
   "execution_count": 8,
   "id": "92a33d97-5803-447d-85ee-8bb2f35a234e",
   "metadata": {
    "tags": []
   },
   "outputs": [],
   "source": [
    "chem_genes = []\n",
    "for gene in chem_genes_just_genes:\n",
    "    chem_genes.append(gene.split(\".\")[0])"
   ]
  },
  {
   "cell_type": "code",
   "execution_count": 10,
   "id": "25cd8f25-bb1a-4524-b408-d9002c211745",
   "metadata": {
    "tags": []
   },
   "outputs": [],
   "source": [
    "# Save to a .txt file\n",
    "with open(\"genes_in_the_dataset_actual_human_chem.txt\", \"w\") as file:\n",
    "    for item in chem_genes:\n",
    "        file.write(\"%s , \" % item)"
   ]
  },
  {
   "cell_type": "code",
   "execution_count": 26,
   "id": "228067f9-2c9f-4513-b624-c443560c3bc2",
   "metadata": {
    "tags": []
   },
   "outputs": [],
   "source": [
    "genes = pd.read_table(\"make_chem_data/genes_in_the_dataset_actual_human_chem.txt\")"
   ]
  },
  {
   "cell_type": "code",
   "execution_count": 27,
   "id": "330470e6-9c18-4934-866d-862086365c33",
   "metadata": {
    "tags": []
   },
   "outputs": [],
   "source": [
    "genes = genes[genes[\"Mouse homology type\"] == \"ortholog_one2one\"]"
   ]
  },
  {
   "cell_type": "code",
   "execution_count": 30,
   "id": "588314fa-1ebb-4142-a0cf-d588a33091e2",
   "metadata": {
    "tags": []
   },
   "outputs": [],
   "source": [
    "human_chem.var[\"name\"] = chem_genes"
   ]
  },
  {
   "cell_type": "code",
   "execution_count": 35,
   "id": "f465e575-833c-41ba-8b1d-acce4a03e134",
   "metadata": {
    "tags": []
   },
   "outputs": [],
   "source": [
    "human_chem = human_chem[:,~human_chem.var.name.duplicated()]"
   ]
  },
  {
   "cell_type": "code",
   "execution_count": 37,
   "id": "5cc0b109-e284-4441-9fd7-135eb598e159",
   "metadata": {
    "tags": []
   },
   "outputs": [],
   "source": [
    "genes = genes[~genes[\"Gene name\"].duplicated()]"
   ]
  },
  {
   "cell_type": "code",
   "execution_count": 42,
   "id": "529ef4af-8a55-48f9-980f-7e80e448aecf",
   "metadata": {
    "tags": []
   },
   "outputs": [
    {
     "name": "stderr",
     "output_type": "stream",
     "text": [
      "/d/hpc/home/mo6643/miniconda3/envs/msc1/lib/python3.10/site-packages/anndata/_core/anndata.py:798: UserWarning: \n",
      "AnnData expects .var.index to contain strings, but got values like:\n",
      "    [0, 1, 2, 3, 4]\n",
      "\n",
      "    Inferred to be: integer\n",
      "\n",
      "  value_idx = self._prep_dim_index(value.index, attr)\n"
     ]
    }
   ],
   "source": [
    "human_chem.var = human_chem.var.merge(genes, left_on=\"name\", right_on=\"Gene name\", how = \"left\")"
   ]
  },
  {
   "cell_type": "code",
   "execution_count": 48,
   "id": "93c1f581-adb7-4c8d-9249-1640f04ab994",
   "metadata": {
    "tags": []
   },
   "outputs": [],
   "source": [
    "human_chem.var.index = human_chem.var[\"name\"]"
   ]
  },
  {
   "cell_type": "code",
   "execution_count": 51,
   "id": "9c3a7cc5-5274-4545-af3b-cc90bfab2d3b",
   "metadata": {
    "tags": []
   },
   "outputs": [],
   "source": [
    "human_chem = human_chem[:,~human_chem.var[\"Mouse gene stable ID\"].isna()]"
   ]
  },
  {
   "cell_type": "code",
   "execution_count": 56,
   "id": "98fe2bda-a3e7-492e-a034-fa1035d74537",
   "metadata": {
    "tags": []
   },
   "outputs": [],
   "source": [
    "var = pd.DataFrame(index = human_chem.var[\"Mouse gene stable ID\"])"
   ]
  },
  {
   "cell_type": "code",
   "execution_count": 57,
   "id": "cd312754-672c-489b-8d67-4a15106dcdf4",
   "metadata": {
    "tags": []
   },
   "outputs": [],
   "source": [
    "var.index = var.index.rename(\"EID\")"
   ]
  },
  {
   "cell_type": "code",
   "execution_count": 59,
   "id": "81d07785-eebd-4774-8afc-dfc1dbe85c6f",
   "metadata": {
    "tags": []
   },
   "outputs": [],
   "source": [
    "human_chem.var = var"
   ]
  },
  {
   "cell_type": "code",
   "execution_count": 61,
   "id": "52315df8-30c7-43e4-bfda-c5534c812433",
   "metadata": {
    "tags": []
   },
   "outputs": [],
   "source": [
    "human_chem.obs[\"disease\"] = \"healthy\"\n",
    "human_chem.obs[\"organism\"] = \"Homo sapiens\"\n",
    "human_chem.obs[\"dataset\"] = \"chem\""
   ]
  },
  {
   "cell_type": "code",
   "execution_count": 66,
   "id": "1807cadd-dd36-4ec3-9aa4-79b17038d33f",
   "metadata": {
    "tags": []
   },
   "outputs": [],
   "source": [
    "human_chem.obs.rename({\"celltype2\": \"cell_type\"}, axis = 1, inplace=True)"
   ]
  },
  {
   "cell_type": "code",
   "execution_count": 67,
   "id": "0401954a-b518-4777-beb3-caddd9813577",
   "metadata": {
    "tags": []
   },
   "outputs": [],
   "source": [
    "human_chem.obs = human_chem.obs[['disease', 'dataset', 'organism', 'cell_type']]"
   ]
  },
  {
   "cell_type": "code",
   "execution_count": 72,
   "id": "78d96845-627f-479a-84fd-074817bad0be",
   "metadata": {
    "tags": []
   },
   "outputs": [
    {
     "name": "stderr",
     "output_type": "stream",
     "text": [
      "/d/hpc/home/mo6643/miniconda3/envs/msc1/lib/python3.10/site-packages/anndata/_core/anndata.py:1235: SettingWithCopyWarning: \n",
      "A value is trying to be set on a copy of a slice from a DataFrame.\n",
      "Try using .loc[row_indexer,col_indexer] = value instead\n",
      "\n",
      "See the caveats in the documentation: https://pandas.pydata.org/pandas-docs/stable/user_guide/indexing.html#returning-a-view-versus-a-copy\n",
      "  df[key] = c\n",
      "/d/hpc/home/mo6643/miniconda3/envs/msc1/lib/python3.10/site-packages/anndata/_core/anndata.py:1235: SettingWithCopyWarning: \n",
      "A value is trying to be set on a copy of a slice from a DataFrame.\n",
      "Try using .loc[row_indexer,col_indexer] = value instead\n",
      "\n",
      "See the caveats in the documentation: https://pandas.pydata.org/pandas-docs/stable/user_guide/indexing.html#returning-a-view-versus-a-copy\n",
      "  df[key] = c\n",
      "/d/hpc/home/mo6643/miniconda3/envs/msc1/lib/python3.10/site-packages/anndata/_core/anndata.py:1235: SettingWithCopyWarning: \n",
      "A value is trying to be set on a copy of a slice from a DataFrame.\n",
      "Try using .loc[row_indexer,col_indexer] = value instead\n",
      "\n",
      "See the caveats in the documentation: https://pandas.pydata.org/pandas-docs/stable/user_guide/indexing.html#returning-a-view-versus-a-copy\n",
      "  df[key] = c\n"
     ]
    }
   ],
   "source": [
    "human_chem.write_h5ad(\"/d/hpc/projects/FRI/DL/mo6643/MSC/data/data_update_slack/data_splits/extra_human_datasets/chemical_treatment/chemical_treatment_annotated_raw_orth.h5ad\")"
   ]
  },
  {
   "cell_type": "code",
   "execution_count": 75,
   "id": "eca59102-32e3-49d5-bca6-df569e8f37d7",
   "metadata": {
    "tags": []
   },
   "outputs": [
    {
     "name": "stderr",
     "output_type": "stream",
     "text": [
      "/d/hpc/home/mo6643/miniconda3/envs/msc1/lib/python3.10/site-packages/scanpy/preprocessing/_simple.py:524: SettingWithCopyWarning: \n",
      "A value is trying to be set on a copy of a slice from a DataFrame.\n",
      "Try using .loc[row_indexer,col_indexer] = value instead\n",
      "\n",
      "See the caveats in the documentation: https://pandas.pydata.org/pandas-docs/stable/user_guide/indexing.html#returning-a-view-versus-a-copy\n",
      "  adata.obs[key_n_counts] = counts_per_cell\n"
     ]
    }
   ],
   "source": [
    "sc.pp.normalize_per_cell(human_chem)"
   ]
  },
  {
   "cell_type": "code",
   "execution_count": 76,
   "id": "b62e1381-754f-46fe-b618-ce37886ada6f",
   "metadata": {
    "tags": []
   },
   "outputs": [],
   "source": [
    "sc.pp.log1p(human_chem)"
   ]
  },
  {
   "cell_type": "code",
   "execution_count": 77,
   "id": "8cb4f092-2c92-4312-a86c-a8ccfa03e0e2",
   "metadata": {
    "tags": []
   },
   "outputs": [],
   "source": [
    "human_chem.write_h5ad(\"/d/hpc/projects/FRI/DL/mo6643/MSC/data/data_update_slack/data_splits/extra_human_datasets/chemical_treatment/chemical_treatment_annotated_norm_log1p_orth.h5ad\")"
   ]
  },
  {
   "cell_type": "code",
   "execution_count": null,
   "id": "8bf89012-54f7-482d-825d-91b4af100a20",
   "metadata": {},
   "outputs": [],
   "source": []
  }
 ],
 "metadata": {
  "kernelspec": {
   "display_name": "Python 3 (ipykernel)",
   "language": "python",
   "name": "python3"
  },
  "language_info": {
   "codemirror_mode": {
    "name": "ipython",
    "version": 3
   },
   "file_extension": ".py",
   "mimetype": "text/x-python",
   "name": "python",
   "nbconvert_exporter": "python",
   "pygments_lexer": "ipython3",
   "version": "3.10.9"
  }
 },
 "nbformat": 4,
 "nbformat_minor": 5
}
