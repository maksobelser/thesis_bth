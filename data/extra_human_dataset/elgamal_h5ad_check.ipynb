{
 "cells": [
  {
   "cell_type": "code",
   "execution_count": 1,
   "id": "6ec03855-0716-4cc1-a961-6cb9003a4d61",
   "metadata": {
    "tags": []
   },
   "outputs": [],
   "source": [
    "import scanpy as sc"
   ]
  },
  {
   "cell_type": "code",
   "execution_count": 2,
   "id": "c443daf1-6d6a-423f-a1b8-791df7ce9309",
   "metadata": {
    "tags": []
   },
   "outputs": [],
   "source": [
    "adata = sc.read_h5ad(\"elgamal.h5ad\")"
   ]
  },
  {
   "cell_type": "code",
   "execution_count": 3,
   "id": "909e83e2-18e0-4716-9f3d-b534b802df4b",
   "metadata": {
    "tags": []
   },
   "outputs": [
    {
     "data": {
      "text/plain": [
       "AnnData object with n_obs × n_vars = 192203 × 36601\n",
       "    obs: 'nCount_RNA', 'nFeature_RNA', 'Percent MT', 'Seurat Clusters', 'Library', 'Sex', 'Diabetes Status', 'Tissue Source', 'Chemistry', 'Cell Type', 'Cell Type Grouped'\n",
       "    var: 'vst.mean', 'vst.variance', 'vst.variance.expected', 'vst.variance.standardized', 'vst.variable'\n",
       "    obsm: 'X_harmony', 'X_pca', 'X_umap'"
      ]
     },
     "execution_count": 3,
     "metadata": {},
     "output_type": "execute_result"
    }
   ],
   "source": [
    "adata"
   ]
  },
  {
   "cell_type": "markdown",
   "id": "25a8a368-7385-4ed0-8a07-f11936b15c2a",
   "metadata": {},
   "source": [
    "AAB+ are auto antibodies and are a marker of T1D diabetes, in the study the AAB+ samples are ND. More resources: https://pubmed.ncbi.nlm.nih.gov/27117244/"
   ]
  },
  {
   "cell_type": "code",
   "execution_count": 4,
   "id": "f388c891-47f8-4a78-b696-cf66c5f08808",
   "metadata": {},
   "outputs": [
    {
     "data": {
      "text/plain": [
       "['AAB+', 'T1D', 'ND', 'T2D']\n",
       "Categories (4, object): ['AAB+', 'ND', 'T1D', 'T2D']"
      ]
     },
     "execution_count": 4,
     "metadata": {},
     "output_type": "execute_result"
    }
   ],
   "source": [
    "adata.obs[\"Diabetes Status\"].unique()"
   ]
  },
  {
   "cell_type": "markdown",
   "id": "790bab2e-9f6c-4fec-a078-429517c077c1",
   "metadata": {},
   "source": [
    "I have no idea what to do I need raw data from Elgamal but can not get it. -> got it from Saurat object and saved it as a mtx file wich I will now import to the adata."
   ]
  },
  {
   "cell_type": "code",
   "execution_count": 6,
   "id": "ad3f31de-390b-434b-851f-57e3e99d73c6",
   "metadata": {
    "tags": []
   },
   "outputs": [],
   "source": [
    "X = sc.read_mtx(\"elgamal_raw_counts.mtx\")"
   ]
  },
  {
   "cell_type": "code",
   "execution_count": 9,
   "id": "ee43f732-4f67-45cc-a0f4-447bfd62f997",
   "metadata": {
    "tags": []
   },
   "outputs": [
    {
     "data": {
      "text/plain": [
       "AnnData object with n_obs × n_vars = 192203 × 36601\n",
       "    obs: 'nCount_RNA', 'nFeature_RNA', 'Percent MT', 'Seurat Clusters', 'Library', 'Sex', 'Diabetes Status', 'Tissue Source', 'Chemistry', 'Cell Type', 'Cell Type Grouped'\n",
       "    var: 'vst.mean', 'vst.variance', 'vst.variance.expected', 'vst.variance.standardized', 'vst.variable'\n",
       "    obsm: 'X_harmony', 'X_pca', 'X_umap'"
      ]
     },
     "execution_count": 9,
     "metadata": {},
     "output_type": "execute_result"
    }
   ],
   "source": [
    "adata"
   ]
  },
  {
   "cell_type": "code",
   "execution_count": 13,
   "id": "9d5d777b-3e18-489a-9570-695d8d2e9ac7",
   "metadata": {
    "tags": []
   },
   "outputs": [],
   "source": [
    "adata.X = X.X.transpose()"
   ]
  },
  {
   "cell_type": "markdown",
   "id": "9147dc09-f573-42e1-94e8-b32f9285cc28",
   "metadata": {},
   "source": [
    "Dataset check"
   ]
  },
  {
   "cell_type": "code",
   "execution_count": 14,
   "id": "372818ae-25c0-45d7-bb31-8e6be6ee42df",
   "metadata": {
    "tags": []
   },
   "outputs": [],
   "source": [
    "healthy_ind = adata.obs[\"Diabetes Status\"].isin(['ND'])\n",
    "adata_h = adata[healthy_ind]"
   ]
  },
  {
   "cell_type": "code",
   "execution_count": 15,
   "id": "7ef067b1-a080-4ba4-bd5b-f49f2a796ca7",
   "metadata": {},
   "outputs": [],
   "source": [
    "age_dict = {'HPAP-019': 22,\n",
    " 'HPAP-022': 39,\n",
    " 'HPAP-024': 18,\n",
    " 'HPAP-026': 24,\n",
    " 'HPAP-029': 23,\n",
    " 'HPAP-034': 13,\n",
    " 'HPAP-035': 35,\n",
    " 'HPAP-036': 23,\n",
    " 'HPAP-037': 35,\n",
    " 'HPAP-038': 13,\n",
    " 'HPAP-039': 5,\n",
    " 'HPAP-040': 35,\n",
    " 'HPAP-042': 1,\n",
    " 'HPAP-043': 15,\n",
    " 'HPAP-044': 3,\n",
    " 'HPAP-045': 27,\n",
    " 'HPAP-047': 8,\n",
    " 'HPAP-049': 29,\n",
    " 'HPAP-050': 21,\n",
    " 'HPAP-052': 27,\n",
    " 'HPAP-053': 58,\n",
    " 'HPAP-054': 40,\n",
    " 'HPAP-056': 33,\n",
    " 'HPAP-059': 35,\n",
    " 'HPAP-063': 56,\n",
    " 'HPAP-072': 19,\n",
    " 'HPAP-074': 40,\n",
    " 'HPAP-075': 35,\n",
    " 'HPAP-077': 47,\n",
    " 'HPAP-080': 22,\n",
    " 'HPAP-082': 25,\n",
    " 'HPAP-092': 21,\n",
    " 'HPAP-099': 28,\n",
    " 'HPAP-101': 55,\n",
    " 'HPAP-103': 48,\n",
    " 'HPAP-104': 4,\n",
    " 'HPAP-105': 51,\n",
    " 'HPAP-107': 15}"
   ]
  },
  {
   "cell_type": "code",
   "execution_count": 16,
   "id": "52d68f50-9ebc-4873-816d-6bf5beac4bde",
   "metadata": {},
   "outputs": [],
   "source": [
    "age = []\n",
    "for donor in adata_h.obs.Library:\n",
    "    age.append(age_dict[donor])"
   ]
  },
  {
   "cell_type": "code",
   "execution_count": 17,
   "id": "26f122a2-1a6a-40c0-afe4-6c0e64550671",
   "metadata": {
    "tags": []
   },
   "outputs": [
    {
     "name": "stderr",
     "output_type": "stream",
     "text": [
      "/tmp/ipykernel_1524758/1464893668.py:1: ImplicitModificationWarning: Trying to modify attribute `.obs` of view, initializing view as actual.\n",
      "  adata_h.obs[\"age\"] = age\n"
     ]
    }
   ],
   "source": [
    "adata_h.obs[\"age\"] = age"
   ]
  },
  {
   "cell_type": "code",
   "execution_count": 18,
   "id": "b62d2493-554e-46b7-b71c-a240badf58b2",
   "metadata": {
    "tags": []
   },
   "outputs": [
    {
     "data": {
      "text/plain": [
       "HPAP-022_AAACCTGAGGTGTGGT-1    39\n",
       "HPAP-022_AAACCTGCACGCCAGT-1    39\n",
       "HPAP-022_AAACCTGCAGTCGATT-1    39\n",
       "HPAP-022_AAACCTGTCACATACG-1    39\n",
       "HPAP-022_AAACCTGTCACCCTCA-1    39\n",
       "                               ..\n",
       "HPAP-105_TTTGTTGAGTTATGGA-1    51\n",
       "HPAP-105_TTTGTTGCATGGAGAC-1    51\n",
       "HPAP-105_TTTGTTGCATTAAAGG-1    51\n",
       "HPAP-105_TTTGTTGCATTGGGAG-1    51\n",
       "HPAP-105_TTTGTTGGTTCCAGGC-1    51\n",
       "Name: age, Length: 71871, dtype: int64"
      ]
     },
     "execution_count": 18,
     "metadata": {},
     "output_type": "execute_result"
    }
   ],
   "source": [
    "adata_h.obs.age"
   ]
  },
  {
   "cell_type": "code",
   "execution_count": 19,
   "id": "5450bec3-fffc-4352-a47d-0d45e857f280",
   "metadata": {
    "tags": []
   },
   "outputs": [],
   "source": [
    "older_than_18 = adata_h.obs[\"age\"] >= 18\n",
    "younger_than_65 = adata_h.obs[\"age\"] <= 65\n",
    "adata_h_adult = adata_h[older_than_18 & younger_than_65]"
   ]
  },
  {
   "cell_type": "code",
   "execution_count": 20,
   "id": "9ca5d812-acb1-4ee8-a962-4b73b6521d4d",
   "metadata": {
    "tags": []
   },
   "outputs": [
    {
     "data": {
      "text/plain": [
       "HPAP-022_AAACCTGAGGTGTGGT-1    ND\n",
       "HPAP-022_AAACCTGCACGCCAGT-1    ND\n",
       "HPAP-022_AAACCTGCAGTCGATT-1    ND\n",
       "HPAP-022_AAACCTGTCACATACG-1    ND\n",
       "HPAP-022_AAACCTGTCACCCTCA-1    ND\n",
       "                               ..\n",
       "HPAP-105_TTTGTTGAGTTATGGA-1    ND\n",
       "HPAP-105_TTTGTTGCATGGAGAC-1    ND\n",
       "HPAP-105_TTTGTTGCATTAAAGG-1    ND\n",
       "HPAP-105_TTTGTTGCATTGGGAG-1    ND\n",
       "HPAP-105_TTTGTTGGTTCCAGGC-1    ND\n",
       "Name: Diabetes Status, Length: 53851, dtype: category\n",
       "Categories (1, object): ['ND']"
      ]
     },
     "execution_count": 20,
     "metadata": {},
     "output_type": "execute_result"
    }
   ],
   "source": [
    "adata_h_adult.obs['Diabetes Status']"
   ]
  },
  {
   "cell_type": "code",
   "execution_count": 21,
   "id": "7a2ab6db-6490-474f-9a47-8ffb7e0490f4",
   "metadata": {
    "tags": []
   },
   "outputs": [],
   "source": [
    "ind_T2D = adata.obs[\"Diabetes Status\"] == \"T2D\""
   ]
  },
  {
   "cell_type": "code",
   "execution_count": 22,
   "id": "5ebfaaf3-a38e-454c-bd47-804f3e7bd18b",
   "metadata": {
    "tags": []
   },
   "outputs": [],
   "source": [
    "adata_diabetic = adata[ind_T2D]"
   ]
  },
  {
   "cell_type": "code",
   "execution_count": 23,
   "id": "041f18e5-3bbd-4438-8919-6bef3207942e",
   "metadata": {
    "tags": []
   },
   "outputs": [
    {
     "data": {
      "text/plain": [
       "View of AnnData object with n_obs × n_vars = 46391 × 36601\n",
       "    obs: 'nCount_RNA', 'nFeature_RNA', 'Percent MT', 'Seurat Clusters', 'Library', 'Sex', 'Diabetes Status', 'Tissue Source', 'Chemistry', 'Cell Type', 'Cell Type Grouped'\n",
       "    var: 'vst.mean', 'vst.variance', 'vst.variance.expected', 'vst.variance.standardized', 'vst.variable'\n",
       "    obsm: 'X_harmony', 'X_pca', 'X_umap'"
      ]
     },
     "execution_count": 23,
     "metadata": {},
     "output_type": "execute_result"
    }
   ],
   "source": [
    "adata_diabetic"
   ]
  },
  {
   "cell_type": "code",
   "execution_count": 24,
   "id": "ba7a4239-960f-45ff-b848-c3c3aff5578a",
   "metadata": {
    "tags": []
   },
   "outputs": [],
   "source": [
    "adata_h_adult_and_diabetic = sc.concat([adata_h, adata_diabetic])"
   ]
  },
  {
   "cell_type": "code",
   "execution_count": 25,
   "id": "52927b4f-c410-4705-876e-f5dc73a10805",
   "metadata": {
    "tags": []
   },
   "outputs": [
    {
     "data": {
      "text/plain": [
       "HPAP-022_AAACCTGAGGTGTGGT-1     ND\n",
       "HPAP-022_AAACCTGCACGCCAGT-1     ND\n",
       "HPAP-022_AAACCTGCAGTCGATT-1     ND\n",
       "HPAP-022_AAACCTGTCACATACG-1     ND\n",
       "HPAP-022_AAACCTGTCACCCTCA-1     ND\n",
       "                              ... \n",
       "HPAP-109_TTTGTTGCAGTCTTCC-1    T2D\n",
       "HPAP-109_TTTGTTGCATGGGCAA-1    T2D\n",
       "HPAP-109_TTTGTTGGTAACAAGT-1    T2D\n",
       "HPAP-109_TTTGTTGGTCGTTGCG-1    T2D\n",
       "HPAP-109_TTTGTTGTCTTAATCC-1    T2D\n",
       "Name: Diabetes Status, Length: 118262, dtype: object"
      ]
     },
     "execution_count": 25,
     "metadata": {},
     "output_type": "execute_result"
    }
   ],
   "source": [
    "adata_h_adult_and_diabetic.obs['Diabetes Status']"
   ]
  },
  {
   "cell_type": "code",
   "execution_count": 26,
   "id": "02a80e77-73fc-4f1f-bfdb-617efbb9b6ea",
   "metadata": {
    "tags": []
   },
   "outputs": [
    {
     "data": {
      "text/plain": [
       "AnnData object with n_obs × n_vars = 118262 × 36601\n",
       "    obs: 'nCount_RNA', 'nFeature_RNA', 'Percent MT', 'Seurat Clusters', 'Library', 'Sex', 'Diabetes Status', 'Tissue Source', 'Chemistry', 'Cell Type', 'Cell Type Grouped'\n",
       "    obsm: 'X_harmony', 'X_pca', 'X_umap'"
      ]
     },
     "execution_count": 26,
     "metadata": {},
     "output_type": "execute_result"
    }
   ],
   "source": [
    "adata_h_adult_and_diabetic"
   ]
  },
  {
   "cell_type": "code",
   "execution_count": 27,
   "id": "729b68b5-4fad-422f-b0ad-d064fac79200",
   "metadata": {
    "tags": []
   },
   "outputs": [],
   "source": [
    "adata_h_adult_and_diabetic.write_h5ad(\"Elgmal_h_adult_and_diabetic.h5ad\")"
   ]
  },
  {
   "cell_type": "code",
   "execution_count": null,
   "id": "12ee316c-b2c1-40ba-b87b-1f11279c1b67",
   "metadata": {},
   "outputs": [],
   "source": []
  }
 ],
 "metadata": {
  "kernelspec": {
   "display_name": "Python 3 (ipykernel)",
   "language": "python",
   "name": "python3"
  },
  "language_info": {
   "codemirror_mode": {
    "name": "ipython",
    "version": 3
   },
   "file_extension": ".py",
   "mimetype": "text/x-python",
   "name": "python",
   "nbconvert_exporter": "python",
   "pygments_lexer": "ipython3",
   "version": "3.10.9"
  }
 },
 "nbformat": 4,
 "nbformat_minor": 5
}
