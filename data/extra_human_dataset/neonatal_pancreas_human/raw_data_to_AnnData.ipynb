{
 "cells": [
  {
   "cell_type": "code",
   "execution_count": 25,
   "id": "9486df68-95c7-49db-951c-2891f9fde6fd",
   "metadata": {
    "tags": []
   },
   "outputs": [],
   "source": [
    "import scanpy as sc\n",
    "import anndata as ad\n",
    "import pandas as pd"
   ]
  },
  {
   "cell_type": "code",
   "execution_count": 3,
   "id": "a23bb8f9-c1ef-4a52-9fc3-3113a2023db3",
   "metadata": {
    "tags": []
   },
   "outputs": [
    {
     "name": "stdout",
     "output_type": "stream",
     "text": [
      "  % Total    % Received % Xferd  Average Speed   Time    Time     Time  Current\n",
      "                                 Dload  Upload   Total   Spent    Left  Speed\n",
      "100 10.7M  100 10.7M    0     0  20.9M      0 --:--:-- --:--:-- --:--:-- 21.0M\n"
     ]
    }
   ],
   "source": [
    "!curl -o \"raw_data/expression_matrix.tsv.gz\" \"http://singlecell.charite.de/cellbrowser/pancreas/Neonatal_Pancreas/exprMatrix.tsv.gz\""
   ]
  },
  {
   "cell_type": "code",
   "execution_count": 7,
   "id": "b4706ed4-8bd7-4181-b1e8-7da0d715016f",
   "metadata": {
    "tags": []
   },
   "outputs": [
    {
     "name": "stdout",
     "output_type": "stream",
     "text": [
      "  % Total    % Received % Xferd  Average Speed   Time    Time     Time  Current\n",
      "                                 Dload  Upload   Total   Spent    Left  Speed\n",
      "100  558k  100  558k    0     0  2175k      0 --:--:-- --:--:-- --:--:-- 2181k\n"
     ]
    }
   ],
   "source": [
    "!curl -o \"raw_data/meta_data.tsv\" \"http://singlecell.charite.de/cellbrowser/pancreas/Neonatal_Pancreas/meta.tsv\""
   ]
  },
  {
   "cell_type": "code",
   "execution_count": 9,
   "id": "3e984b89-491a-4ef3-9d94-29f69e44a253",
   "metadata": {
    "tags": []
   },
   "outputs": [],
   "source": [
    "! gzip -d raw_data/expression_matrix.tsv.gz"
   ]
  },
  {
   "cell_type": "code",
   "execution_count": 14,
   "id": "e9a8422c-a23f-4473-b32d-112eb8579348",
   "metadata": {
    "tags": []
   },
   "outputs": [],
   "source": [
    "! tr '\\t' ',' < raw_data/expression_matrix.tsv > raw_data/expression_matrix.csv"
   ]
  },
  {
   "cell_type": "code",
   "execution_count": 24,
   "id": "9766e522-45d3-453d-9898-b768b47b4fdc",
   "metadata": {
    "tags": []
   },
   "outputs": [],
   "source": [
    "! rm raw_data/expression_matrix.tsv"
   ]
  },
  {
   "cell_type": "code",
   "execution_count": 15,
   "id": "359f6b0c-6617-4fc9-a1b9-94ccd1f674d2",
   "metadata": {
    "tags": []
   },
   "outputs": [],
   "source": [
    "adata = ad.read_csv(\"raw_data/expression_matrix.csv\")"
   ]
  },
  {
   "cell_type": "code",
   "execution_count": 23,
   "id": "c243df18-1f1e-4b72-aa77-d724907de2f8",
   "metadata": {
    "tags": []
   },
   "outputs": [],
   "source": [
    "adata = adata.transpose()"
   ]
  },
  {
   "cell_type": "code",
   "execution_count": 26,
   "id": "a65c1fd8-f448-48a9-b593-6b391fbb351a",
   "metadata": {
    "tags": []
   },
   "outputs": [],
   "source": [
    "obs = pd.read_table(\"raw_data/meta_data.tsv\")"
   ]
  },
  {
   "cell_type": "code",
   "execution_count": 28,
   "id": "7977a4ef-12e2-4358-90ea-de149ede1a38",
   "metadata": {
    "tags": []
   },
   "outputs": [],
   "source": [
    "obs.index = obs.Cell.rename(\"UMI\")"
   ]
  },
  {
   "cell_type": "code",
   "execution_count": 32,
   "id": "325d1d03-4b52-4384-9b39-1ee6875b29fa",
   "metadata": {
    "tags": []
   },
   "outputs": [],
   "source": [
    "obs.drop(\"Cell\", axis=1, inplace=True)"
   ]
  },
  {
   "cell_type": "code",
   "execution_count": 37,
   "id": "8f02692a-99b7-46fa-b2dc-149feecd026c",
   "metadata": {
    "tags": []
   },
   "outputs": [],
   "source": [
    "adata.obs = adata.obs.merge(obs, left_index=True, right_index=True)"
   ]
  },
  {
   "cell_type": "code",
   "execution_count": 43,
   "id": "49f568e9-4928-4fad-ae05-87962302b2b7",
   "metadata": {
    "tags": []
   },
   "outputs": [],
   "source": [
    "adata.obs[\"dataset\"] = \"neonatal\"\n",
    "adata.obs[\"organism\"] = \"Homo sapiens\"\n",
    "adata.obs[\"disease\"] = \"healthy\"\n",
    "adata.obs.rename({\"Cluster\": \"cell_type\"}, axis = 1, inplace = True)"
   ]
  },
  {
   "cell_type": "code",
   "execution_count": 46,
   "id": "b182e213-e997-48fb-a16a-a0a1b122d7a7",
   "metadata": {
    "tags": []
   },
   "outputs": [],
   "source": [
    "adata.obs = adata.obs[['disease', 'dataset', 'organism', \"cell_type\"]]"
   ]
  },
  {
   "cell_type": "code",
   "execution_count": 47,
   "id": "8d21f8dd-c8b4-4422-9d02-759da3efd46c",
   "metadata": {
    "tags": []
   },
   "outputs": [
    {
     "data": {
      "text/plain": [
       "AnnData object with n_obs × n_vars = 10528 × 25936\n",
       "    obs: 'disease', 'dataset', 'organism', 'cell_type'"
      ]
     },
     "execution_count": 47,
     "metadata": {},
     "output_type": "execute_result"
    }
   ],
   "source": [
    "adata"
   ]
  },
  {
   "cell_type": "code",
   "execution_count": 50,
   "id": "79a80d27-61d5-42fd-977c-728b6ccbbd1e",
   "metadata": {
    "tags": []
   },
   "outputs": [],
   "source": [
    "adata.write_h5ad(\"neonatal_human_war_counts.h5ad\")"
   ]
  },
  {
   "cell_type": "code",
   "execution_count": 52,
   "id": "1ccd5bd0-5499-425a-9887-ed47c74530bd",
   "metadata": {
    "tags": []
   },
   "outputs": [],
   "source": [
    "sc.pp.normalize_per_cell(adata)"
   ]
  },
  {
   "cell_type": "code",
   "execution_count": 53,
   "id": "783d111c-06d4-403a-a466-650d4564dfb3",
   "metadata": {
    "tags": []
   },
   "outputs": [],
   "source": [
    "sc.pp.log1p(adata)"
   ]
  },
  {
   "cell_type": "code",
   "execution_count": 54,
   "id": "db8b3513-1aeb-44b0-b4ec-0e7e65f3da75",
   "metadata": {
    "tags": []
   },
   "outputs": [],
   "source": [
    "adata.write_h5ad(\"neonatal_human_normal_per_cell_log_trans.h5ad\")"
   ]
  },
  {
   "cell_type": "code",
   "execution_count": null,
   "id": "5840ffac-d71f-43ac-8647-374f9609e58a",
   "metadata": {},
   "outputs": [],
   "source": []
  }
 ],
 "metadata": {
  "kernelspec": {
   "display_name": "Python 3 (ipykernel)",
   "language": "python",
   "name": "python3"
  },
  "language_info": {
   "codemirror_mode": {
    "name": "ipython",
    "version": 3
   },
   "file_extension": ".py",
   "mimetype": "text/x-python",
   "name": "python",
   "nbconvert_exporter": "python",
   "pygments_lexer": "ipython3",
   "version": "3.10.9"
  }
 },
 "nbformat": 4,
 "nbformat_minor": 5
}
