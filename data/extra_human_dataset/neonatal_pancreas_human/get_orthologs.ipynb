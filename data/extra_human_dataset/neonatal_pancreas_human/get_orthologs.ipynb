{
 "cells": [
  {
   "cell_type": "code",
   "execution_count": 2,
   "id": "a873f4bf-ad85-42ca-84ad-42abed4c8713",
   "metadata": {
    "tags": []
   },
   "outputs": [],
   "source": [
    "import scanpy as sc"
   ]
  },
  {
   "cell_type": "code",
   "execution_count": 5,
   "id": "f0d98a82-51a7-45b2-8d10-00072c37788b",
   "metadata": {
    "tags": []
   },
   "outputs": [],
   "source": [
    "adata = sc.read_h5ad(\"neonatal_human_normal_per_cell_log_trans.h5ad\")"
   ]
  },
  {
   "cell_type": "code",
   "execution_count": 8,
   "id": "8af3219d-7727-47d3-875b-562f5b911bff",
   "metadata": {
    "tags": []
   },
   "outputs": [],
   "source": [
    "adata.var[\"name\"] = adata.var.index"
   ]
  },
  {
   "cell_type": "code",
   "execution_count": 9,
   "id": "8c3c8ff6-91e9-46fc-a56c-2004f7a3c633",
   "metadata": {},
   "outputs": [],
   "source": [
    "adata.var[\"name_splited\"] = [elm.split(\".\")[0] for elm in adata.var.name.tolist()]"
   ]
  },
  {
   "cell_type": "code",
   "execution_count": 38,
   "id": "fe38e086-622f-4ab7-804d-6e5cbe7bc1d6",
   "metadata": {
    "tags": []
   },
   "outputs": [],
   "source": [
    "# Save to a .txt file\n",
    "with open(\"genes_in_the_dataset_actual.txt\", \"w\") as file:\n",
    "    for item in adata.var.name.to_list():\n",
    "        file.write(\"%s , \" % item)"
   ]
  },
  {
   "cell_type": "code",
   "execution_count": 29,
   "id": "9d2d8343-4c6e-4d74-82dd-b525ccbfb49d",
   "metadata": {
    "tags": []
   },
   "outputs": [],
   "source": [
    "import pandas as pd"
   ]
  },
  {
   "cell_type": "code",
   "execution_count": 31,
   "id": "4fdb8506-8dc9-4d66-8779-65f65e8d8ec8",
   "metadata": {
    "tags": []
   },
   "outputs": [],
   "source": [
    "genes = pd.read_table(\"mart_homogoly_and_gene_names.txt\")"
   ]
  },
  {
   "cell_type": "code",
   "execution_count": 54,
   "id": "0f1e6b39-68cf-4089-87da-99c332b21c03",
   "metadata": {
    "tags": []
   },
   "outputs": [],
   "source": [
    "genes = genes[~genes[\"Gene name\"].duplicated()]"
   ]
  },
  {
   "cell_type": "code",
   "execution_count": 56,
   "id": "935dcd43-c525-4f49-9345-769250a49532",
   "metadata": {
    "tags": []
   },
   "outputs": [],
   "source": [
    "adata_var = adata.var.merge(genes, left_on=\"name\", right_on=\"Gene name\", how = \"left\")"
   ]
  },
  {
   "cell_type": "code",
   "execution_count": 57,
   "id": "3cc38583-e171-45f4-96fb-2394ed91146e",
   "metadata": {
    "tags": []
   },
   "outputs": [],
   "source": [
    "adata_var.index = adata_var[\"name_splited\"]"
   ]
  },
  {
   "cell_type": "code",
   "execution_count": 58,
   "id": "78d45754-be60-4e67-ab5d-66a69f325f61",
   "metadata": {
    "tags": []
   },
   "outputs": [],
   "source": [
    "adata.var = adata_var"
   ]
  },
  {
   "cell_type": "code",
   "execution_count": 65,
   "id": "2774ad21-b86e-4e60-8588-002aa5dc5fa8",
   "metadata": {
    "tags": []
   },
   "outputs": [],
   "source": [
    "adata = adata[:,~adata.var[\"Gene stable ID\"].isna()]"
   ]
  },
  {
   "cell_type": "code",
   "execution_count": 69,
   "id": "afa9d427-4631-421b-b5ef-b7ea58302d3b",
   "metadata": {
    "tags": []
   },
   "outputs": [],
   "source": [
    "adata = adata[:,adata.var[\"Mouse homology type\"] == \"ortholog_one2one\"]"
   ]
  },
  {
   "cell_type": "code",
   "execution_count": 74,
   "id": "fa4b6a96-7db0-47ea-8e8d-2a0265fd7441",
   "metadata": {
    "tags": []
   },
   "outputs": [],
   "source": [
    "adata.var = pd.DataFrame(index = adata.var[\"Mouse gene stable ID\"])"
   ]
  },
  {
   "cell_type": "code",
   "execution_count": 81,
   "id": "45380952-0b68-465b-81a1-d7fa29237978",
   "metadata": {
    "tags": []
   },
   "outputs": [],
   "source": [
    "adata.obs = adata.obs[['disease', 'dataset', 'organism', 'cell_type']]"
   ]
  },
  {
   "cell_type": "code",
   "execution_count": 82,
   "id": "c06bf5de-14a8-4b1d-a00d-f3139c1d970c",
   "metadata": {
    "tags": []
   },
   "outputs": [],
   "source": [
    "delattr(adata, \"uns\")"
   ]
  },
  {
   "cell_type": "code",
   "execution_count": 85,
   "id": "51f751b9-acfe-43a3-a90f-1caf14bb6ac5",
   "metadata": {
    "tags": []
   },
   "outputs": [],
   "source": [
    "adata.write_h5ad(\"neonatal_human_normal_per_cell_log_trans_orth.h5ad\")"
   ]
  },
  {
   "cell_type": "markdown",
   "id": "cdfc95ec-f458-44c4-943b-e01da54129c4",
   "metadata": {
    "jp-MarkdownHeadingCollapsed": true,
    "tags": []
   },
   "source": [
    "#### OLD"
   ]
  },
  {
   "cell_type": "code",
   "execution_count": null,
   "id": "e507e634-8978-41c7-953d-54365dfa705b",
   "metadata": {
    "tags": []
   },
   "outputs": [],
   "source": [
    "orth = pd.read_table(\"/d/hpc/projects/FRI/DL/mo6643/MSC/data/data_update_slack/mouse_human_homology.tsv\")"
   ]
  },
  {
   "cell_type": "code",
   "execution_count": null,
   "id": "282c2640-6267-4d7a-b14f-d08f744718cc",
   "metadata": {
    "tags": []
   },
   "outputs": [],
   "source": [
    "duplicates = orth[orth.duplicated(subset=\"Human gene name\", keep=False)]"
   ]
  },
  {
   "cell_type": "code",
   "execution_count": null,
   "id": "b91fda32-147e-46da-b8bf-07799eca6482",
   "metadata": {
    "tags": []
   },
   "outputs": [],
   "source": [
    "unique_ids_per_group = duplicates.groupby(\"Human gene name\")[\"Gene stable ID\"].nunique()\n",
    "groups_with_multiple_ids = unique_ids_per_group[unique_ids_per_group > 1]\n",
    "genes_with_multiple_ids = unique_ids_per_group[unique_ids_per_group > 1].index.tolist()"
   ]
  },
  {
   "cell_type": "code",
   "execution_count": null,
   "id": "09fb43ec-de42-4239-8fe5-c021f8ae041c",
   "metadata": {
    "tags": []
   },
   "outputs": [],
   "source": [
    "filtered_orth = orth[~orth[\"Human gene name\"].isin(genes_with_multiple_ids)]"
   ]
  },
  {
   "cell_type": "code",
   "execution_count": null,
   "id": "e15e35a8-296e-4dc1-bbfa-e0183ae2bedc",
   "metadata": {
    "tags": []
   },
   "outputs": [],
   "source": [
    "orth_deduplicated = filtered_orth.drop_duplicates(subset=\"Human gene name\", keep=\"first\")"
   ]
  },
  {
   "cell_type": "code",
   "execution_count": null,
   "id": "036a2c59-1925-4e40-8fd6-9708a64ac5b8",
   "metadata": {
    "tags": []
   },
   "outputs": [],
   "source": [
    "merged = adata.var.merge(right=orth_deduplicated, left_on=\"name_splited\", right_on=\"Human gene name\", how = \"left\")"
   ]
  },
  {
   "cell_type": "code",
   "execution_count": null,
   "id": "363c3a6f-4a42-47f5-b09a-0735de587f86",
   "metadata": {
    "tags": []
   },
   "outputs": [],
   "source": [
    "merged.index = merged[\"Gene stable ID\"].rename(\"EID\")"
   ]
  },
  {
   "cell_type": "code",
   "execution_count": null,
   "id": "70d9c86b-6aee-49a6-95f5-d94d2d1de75b",
   "metadata": {
    "tags": []
   },
   "outputs": [],
   "source": [
    "adata.var = merged"
   ]
  },
  {
   "cell_type": "code",
   "execution_count": null,
   "id": "772349cd-bc63-4f44-a481-d9786feb714a",
   "metadata": {
    "tags": []
   },
   "outputs": [],
   "source": [
    "adata = adata[:, ~adata.var[\"Gene stable ID\"].isna()]"
   ]
  },
  {
   "cell_type": "code",
   "execution_count": null,
   "id": "a209941b-c95e-4263-9faa-bef84bb6782b",
   "metadata": {
    "tags": []
   },
   "outputs": [],
   "source": [
    "adata = adata[:, adata.var[\"Human homology type\"] ==\"ortholog_one2one\"]"
   ]
  },
  {
   "cell_type": "code",
   "execution_count": null,
   "id": "3726d75f-3e07-40bc-8234-fa7b7427069d",
   "metadata": {
    "tags": []
   },
   "outputs": [],
   "source": [
    "adata.write_h5ad(\"/d/hpc/projects/FRI/DL/mo6643/MSC/data/data_update_slack/data_splits/data_splits_train_merge/train_data/adata_human_neonatal_orth.h5ad\")"
   ]
  },
  {
   "cell_type": "code",
   "execution_count": null,
   "id": "21bc5f15-fda1-47ed-8de8-86fef7620490",
   "metadata": {},
   "outputs": [],
   "source": []
  }
 ],
 "metadata": {
  "kernelspec": {
   "display_name": "Python 3 (ipykernel)",
   "language": "python",
   "name": "python3"
  },
  "language_info": {
   "codemirror_mode": {
    "name": "ipython",
    "version": 3
   },
   "file_extension": ".py",
   "mimetype": "text/x-python",
   "name": "python",
   "nbconvert_exporter": "python",
   "pygments_lexer": "ipython3",
   "version": "3.10.9"
  }
 },
 "nbformat": 4,
 "nbformat_minor": 5
}
