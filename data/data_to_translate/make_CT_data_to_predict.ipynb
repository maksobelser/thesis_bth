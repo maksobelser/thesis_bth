{
 "cells": [
  {
   "cell_type": "code",
   "execution_count": 1,
   "id": "98c2e242-a992-48af-bbb4-7bd9dc0f2e70",
   "metadata": {
    "tags": []
   },
   "outputs": [],
   "source": [
    "import scanpy as sc"
   ]
  },
  {
   "cell_type": "code",
   "execution_count": 2,
   "id": "4307b052-d6a1-4b2a-8018-ee45628015d9",
   "metadata": {
    "tags": []
   },
   "outputs": [],
   "source": [
    "wang = sc.read_h5ad(\"wang_to_predict_baseline3000hvg.h5ad\")"
   ]
  },
  {
   "cell_type": "code",
   "execution_count": 3,
   "id": "7016aed2-3f11-4205-8e43-1d9a2cce590d",
   "metadata": {
    "tags": []
   },
   "outputs": [
    {
     "data": {
      "text/plain": [
       "alpha    23073\n",
       "beta     22619\n",
       "delta     3004\n",
       "gamma      900\n",
       "Name: cell_type, dtype: int64"
      ]
     },
     "execution_count": 3,
     "metadata": {},
     "output_type": "execute_result"
    }
   ],
   "source": [
    "wang.obs.cell_type.value_counts()"
   ]
  },
  {
   "cell_type": "code",
   "execution_count": 5,
   "id": "f28de90e-ecc2-4a6e-ad49-165abd370243",
   "metadata": {
    "tags": []
   },
   "outputs": [],
   "source": [
    "wang.obs.cell_type.replace({\"alpha\":\"pancreatic A cell\",\n",
    "                            \"beta\":\"type B pancreatic cell\",\n",
    "                            \"delta\":\"pancreatic D cell\"}, inplace=True)"
   ]
  },
  {
   "cell_type": "code",
   "execution_count": 8,
   "id": "445b3318-426d-46f6-aed7-752a277ea230",
   "metadata": {
    "tags": []
   },
   "outputs": [],
   "source": [
    "ct_to_consider = [\"pancreatic D cell\", \"type B pancreatic cell\", \"pancreatic A cell\"]"
   ]
  },
  {
   "cell_type": "code",
   "execution_count": 9,
   "id": "822bc423-7365-4a12-b7eb-aec0f7b7f4a8",
   "metadata": {
    "tags": []
   },
   "outputs": [],
   "source": [
    "wang = wang[wang.obs.cell_type.isin(ct_to_consider)]"
   ]
  },
  {
   "cell_type": "code",
   "execution_count": 10,
   "id": "7444ab1e-31c6-4802-b8bc-19a829e0d5d6",
   "metadata": {
    "tags": []
   },
   "outputs": [
    {
     "data": {
      "text/plain": [
       "View of AnnData object with n_obs × n_vars = 48696 × 3000\n",
       "    obs: 'disease', 'cell_type', 'organism', 'dataset', 'n_counts'\n",
       "    uns: 'log1p'"
      ]
     },
     "execution_count": 10,
     "metadata": {},
     "output_type": "execute_result"
    }
   ],
   "source": [
    "wang"
   ]
  },
  {
   "cell_type": "code",
   "execution_count": 11,
   "id": "5ecfaafa-f1a0-4fcb-94dd-70a5d38d75e0",
   "metadata": {
    "tags": []
   },
   "outputs": [
    {
     "data": {
      "text/plain": [
       "pancreatic A cell         23073\n",
       "type B pancreatic cell    22619\n",
       "pancreatic D cell          3004\n",
       "Name: cell_type, dtype: int64"
      ]
     },
     "execution_count": 11,
     "metadata": {},
     "output_type": "execute_result"
    }
   ],
   "source": [
    "wang.obs.cell_type.value_counts()"
   ]
  },
  {
   "cell_type": "code",
   "execution_count": 12,
   "id": "4f3a24f2-f215-453f-9ce1-e7fbce5767f9",
   "metadata": {
    "tags": []
   },
   "outputs": [],
   "source": [
    "wang.write_h5ad(\"wang_to_predict_baseline3000hvg_CT.h5ad\")"
   ]
  }
 ],
 "metadata": {
  "kernelspec": {
   "display_name": "Python 3 (ipykernel)",
   "language": "python",
   "name": "python3"
  },
  "language_info": {
   "codemirror_mode": {
    "name": "ipython",
    "version": 3
   },
   "file_extension": ".py",
   "mimetype": "text/x-python",
   "name": "python",
   "nbconvert_exporter": "python",
   "pygments_lexer": "ipython3",
   "version": "3.10.9"
  }
 },
 "nbformat": 4,
 "nbformat_minor": 5
}
