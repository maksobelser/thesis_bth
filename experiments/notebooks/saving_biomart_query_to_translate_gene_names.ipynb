{
 "cells": [
  {
   "cell_type": "code",
   "execution_count": 1,
   "id": "94b18f6a-a426-4a8c-a97a-b0cf4af04433",
   "metadata": {
    "tags": []
   },
   "outputs": [],
   "source": [
    "from gseapy import Biomart"
   ]
  },
  {
   "cell_type": "code",
   "execution_count": 4,
   "id": "2acc1e35-54d2-4638-9a58-b7e278fbf2e1",
   "metadata": {
    "tags": []
   },
   "outputs": [],
   "source": [
    "bm = Biomart()\n",
    "m2h = bm.query(dataset='mmusculus_gene_ensembl',\n",
    "               attributes=['ensembl_gene_id','external_gene_name',\n",
    "                           'hsapiens_homolog_ensembl_gene',\n",
    "                           'hsapiens_homolog_associated_gene_name'])"
   ]
  },
  {
   "cell_type": "code",
   "execution_count": 6,
   "id": "b0a87a89-773f-4397-8ebf-663b6a2c0524",
   "metadata": {
    "tags": []
   },
   "outputs": [],
   "source": [
    "m2h.to_csv(\"./mouse2human_translations_for_GSEA_on-the-fly.csv\")"
   ]
  }
 ],
 "metadata": {
  "kernelspec": {
   "display_name": "Python 3 (ipykernel)",
   "language": "python",
   "name": "python3"
  },
  "language_info": {
   "codemirror_mode": {
    "name": "ipython",
    "version": 3
   },
   "file_extension": ".py",
   "mimetype": "text/x-python",
   "name": "python",
   "nbconvert_exporter": "python",
   "pygments_lexer": "ipython3",
   "version": "3.10.9"
  }
 },
 "nbformat": 4,
 "nbformat_minor": 5
}
