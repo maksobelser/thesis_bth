{
 "cells": [
  {
   "cell_type": "code",
   "execution_count": 1,
   "id": "dff79573-765f-49cf-a525-1cbb16603c80",
   "metadata": {
    "tags": []
   },
   "outputs": [
    {
     "name": "stderr",
     "output_type": "stream",
     "text": [
      "/d/hpc/home/mo6643/miniconda3/envs/msc1/lib/python3.10/site-packages/scvi/_settings.py:63: UserWarning: Since v1.0.0, scvi-tools no longer uses a random seed by default. Run `scvi.settings.seed = 0` to reproduce results from previous versions.\n",
      "  self.seed = seed\n",
      "/d/hpc/home/mo6643/miniconda3/envs/msc1/lib/python3.10/site-packages/scvi/_settings.py:70: UserWarning: Setting `dl_pin_memory_gpu_training` is deprecated in v1.0 and will be removed in v1.1. Please pass in `pin_memory` to the data loaders instead.\n",
      "  self.dl_pin_memory_gpu_training = (\n"
     ]
    }
   ],
   "source": [
    "from transVAE.model.transVAE import transVAE\n",
    "import gc"
   ]
  },
  {
   "cell_type": "code",
   "execution_count": 26,
   "id": "951414cd-227f-4b15-afdb-a1fc3e9b7725",
   "metadata": {
    "tags": []
   },
   "outputs": [],
   "source": [
    "import scanpy as sc\n",
    "adata = sc.read_h5ad(\"/d/hpc/projects/FRI/DL/mo6643/MSC/data/data_update_slack/data_splits/data_splits_train_merge/train_data/full_datasets/train_adata_baseline.h5ad\")"
   ]
  },
  {
   "cell_type": "code",
   "execution_count": 29,
   "id": "6cedae8a-8b9d-46e1-8281-c9866f50255c",
   "metadata": {
    "tags": []
   },
   "outputs": [],
   "source": [
    "import pandas as pd"
   ]
  },
  {
   "cell_type": "code",
   "execution_count": 30,
   "id": "ab051666-8b9c-48a6-8a4f-c479be1bcfe2",
   "metadata": {
    "tags": []
   },
   "outputs": [],
   "source": [
    "genes_intersection = pd.read_table(\"/d/hpc/projects/FRI/DL/mo6643/MSC/data/data_update_slack/data_splits/data_splits_train_merge/make_big_dataset/genes_shared_across_datasets.txt\")"
   ]
  },
  {
   "cell_type": "code",
   "execution_count": 31,
   "id": "b830084e-7ec0-44f7-bfe2-d16d2b0ec005",
   "metadata": {
    "tags": []
   },
   "outputs": [],
   "source": [
    "genes_intersection = genes_intersection.genes_shared_across_datasets.tolist()"
   ]
  },
  {
   "cell_type": "code",
   "execution_count": 33,
   "id": "63654db1-6338-4b96-b129-c0148b0e3fb5",
   "metadata": {
    "tags": []
   },
   "outputs": [],
   "source": [
    "adata = adata[:,adata.var.index.isin(genes_intersection)]"
   ]
  },
  {
   "cell_type": "code",
   "execution_count": 35,
   "id": "13956c02-fc67-4a25-9537-df1c7a4cf4db",
   "metadata": {
    "tags": []
   },
   "outputs": [
    {
     "name": "stdout",
     "output_type": "stream",
     "text": [
      "\u001b[34mINFO    \u001b[0m Using column names from columns of adata.obsm\u001b[1m[\u001b[0m\u001b[32m'covariates'\u001b[0m\u001b[1m]\u001b[0m                                               \n",
      "\u001b[34mINFO    \u001b[0m Using column names from columns of adata.obsm\u001b[1m[\u001b[0m\u001b[32m'covariates_embed'\u001b[0m\u001b[1m]\u001b[0m                                         \n"
     ]
    }
   ],
   "source": [
    "adata_train = transVAE.setup_anndata(adata, categorical_covariate_embed_keys=[\"dataset\", \"cell_type\"], categorical_covariate_keys=[\"organism\"], copy = True)"
   ]
  },
  {
   "cell_type": "code",
   "execution_count": 36,
   "id": "dd3f2114-296f-4593-8a42-4cc7b50605ca",
   "metadata": {
    "tags": []
   },
   "outputs": [],
   "source": [
    "dataset_to_predict = \"wang_to_predict_cleanCT.h5ad\"\n",
    "dataset_ground_truth1 = \"dbdb_ground_truth_cleanCT.h5ad\"\n",
    "dataset_ground_truth2 = \"mSTZ_ground_truth_cleanCT.h5ad\""
   ]
  },
  {
   "cell_type": "code",
   "execution_count": 38,
   "id": "37ef29ea-8eb4-4bcf-a5c5-f214e18b8db9",
   "metadata": {
    "tags": []
   },
   "outputs": [],
   "source": [
    "    # reading val data and data to translate\n",
    "    adata_to_predict = sc.read_h5ad(f\"/d/hpc/projects/FRI/DL/mo6643/MSC/data/data_update_slack/data_splits/data_splits_train_merge/data_to_predict/{dataset_to_predict}\")\n",
    "    dbdb_ground_truth = sc.read_h5ad(f\"/d/hpc/projects/FRI/DL/mo6643/MSC/data/data_update_slack/data_splits/data_splits_train_merge/ground_truth/full_datasets/{dataset_ground_truth1}\")\n",
    "    mSTZ_ground_truth = sc.read_h5ad(f\"/d/hpc/projects/FRI/DL/mo6643/MSC/data/data_update_slack/data_splits/data_splits_train_merge/ground_truth/full_datasets/{dataset_ground_truth2}\")"
   ]
  },
  {
   "cell_type": "markdown",
   "id": "d2675788-7b5d-4ef9-89fd-5506075a319d",
   "metadata": {},
   "source": [
    "Must include keys 'adata_to_predict','translate_dicts', and 'ground_truths' for operations within the method."
   ]
  },
  {
   "cell_type": "code",
   "execution_count": 46,
   "id": "2195bf31-5f70-45af-824c-235dbd58743d",
   "metadata": {
    "tags": []
   },
   "outputs": [],
   "source": [
    "adata_to_predict = adata_to_predict[:,adata_to_predict.var.index.isin(genes_intersection)]\n",
    "adata_to_predict = adata_to_predict[:,adata_to_predict.var.sort_index().index]\n",
    "dbdb_ground_truth = dbdb_ground_truth[:,dbdb_ground_truth.var.index.isin(genes_intersection)]\n",
    "mSTZ_ground_truth = mSTZ_ground_truth[:,mSTZ_ground_truth.var.index.isin(genes_intersection)]"
   ]
  },
  {
   "cell_type": "code",
   "execution_count": 57,
   "id": "fa5354b9-afa9-4b79-9393-e329d017806b",
   "metadata": {
    "tags": []
   },
   "outputs": [],
   "source": [
    "adata_to_predict_h = adata_to_predict[adata_to_predict.obs.disease == \"healthy\"]\n",
    "adata_to_predict_OOD = adata_to_predict[adata_to_predict.obs.disease == \"T2D\"]\n",
    "\n",
    "dbdb_ground_truth_h = dbdb_ground_truth[dbdb_ground_truth.obs.disease == \"healthy\"]\n",
    "dbdb_ground_truth_OOD = dbdb_ground_truth[dbdb_ground_truth.obs.disease == \"T2D\"]\n",
    "\n",
    "mSTZ_ground_truth_h = mSTZ_ground_truth[mSTZ_ground_truth.obs.disease == \"healthy\"]\n",
    "mSTZ_ground_truth_OOD = mSTZ_ground_truth[mSTZ_ground_truth.obs.disease == \"T2D\"]"
   ]
  },
  {
   "cell_type": "code",
   "execution_count": 48,
   "id": "c64a664e-94bb-4eba-920b-1f894e4f0646",
   "metadata": {
    "tags": []
   },
   "outputs": [],
   "source": [
    "validation_adatas_dict = {\"adata_to_predict\":adata_to_predict_OOD,\n",
    "                          \"ground_truths\": {\"dbdb\": dbdb_ground_truth_OOD,\n",
    "                                            \"mSTZ\": mSTZ_ground_truth_OOD},\n",
    "                          \"translate_dicts\": {\"dbdb\":{\"dataset\":\"db/db\", \"organism\": \"Mus musculus\"},\n",
    "                                              \"mSTZ\":{\"dataset\":\"mSTZ\", \"organism\": \"Mus musculus\"}}}"
   ]
  },
  {
   "cell_type": "code",
   "execution_count": 49,
   "id": "5b604ed3-5b63-43be-81f6-3ac2336999b4",
   "metadata": {
    "tags": []
   },
   "outputs": [
    {
     "name": "stderr",
     "output_type": "stream",
     "text": [
      "/d/hpc/home/mo6643/miniconda3/envs/msc1/lib/python3.10/site-packages/anndata/compat/_overloaded_dict.py:106: ImplicitModificationWarning: Trying to modify attribute `._uns` of view, initializing view as actual.\n",
      "  self.data[key] = value\n"
     ]
    },
    {
     "name": "stdout",
     "output_type": "stream",
     "text": [
      "\u001b[34mINFO    \u001b[0m Input AnnData not setup with scvi-tools. attempting to transfer AnnData setup                             \n"
     ]
    }
   ],
   "source": [
    "# make the model\n",
    "model = transVAE(adata_train, \n",
    "                 n_hidden=3000,\n",
    "                 n_latent=512,\n",
    "                 n_layers=6, \n",
    "                 dropout_rate=0.3, \n",
    "                 cov_embed_dims = 10, \n",
    "                 kl_weight = 0.0005,\n",
    "                 validation_adatas_dict = validation_adatas_dict)"
   ]
  },
  {
   "cell_type": "code",
   "execution_count": 50,
   "id": "f99285c0-fbfa-4e00-9a23-87a39ad82e74",
   "metadata": {
    "tags": []
   },
   "outputs": [
    {
     "name": "stderr",
     "output_type": "stream",
     "text": [
      "GPU available: True (cuda), used: True\n",
      "TPU available: False, using: 0 TPU cores\n",
      "IPU available: False, using: 0 IPUs\n",
      "HPU available: False, using: 0 HPUs\n",
      "LOCAL_RANK: 0 - CUDA_VISIBLE_DEVICES: [0,1]\n",
      "SLURM auto-requeueing enabled. Setting signal handlers.\n"
     ]
    },
    {
     "name": "stdout",
     "output_type": "stream",
     "text": [
      "Epoch 6/10:  50%|█████     | 5/10 [02:40<02:40, 32.02s/it, v_num=1, train_loss_step=1.21e+3, train_loss_epoch=1.3e+3] "
     ]
    },
    {
     "name": "stderr",
     "output_type": "stream",
     "text": [
      "/d/hpc/home/mo6643/miniconda3/envs/msc1/lib/python3.10/site-packages/lightning/pytorch/trainer/call.py:53: UserWarning: Detected KeyboardInterrupt, attempting graceful shutdown...\n",
      "  rank_zero_warn(\"Detected KeyboardInterrupt, attempting graceful shutdown...\")\n"
     ]
    }
   ],
   "source": [
    "# train the model\n",
    "model.train(batch_size=4096, max_epochs = 10, train_size = 0.99, enable_progress_bar = True,\n",
    "            early_stopping = True, early_stopping_monitor = 'reconstruction_loss_validation', early_stopping_min_delta = 0.1, early_stopping_patience = 100,\n",
    "            plan_kwargs = {\"lr\": 0.00001,\n",
    "                           \"weight_decay\":0.000001,\n",
    "                           \"reduce_lr_on_plateau\":True,\n",
    "                           \"lr_factor\":0.5,\n",
    "                           \"lr_patience\":50,\n",
    "                           \"lr_scheduler_metric\":\"reconstruction_loss_validation\"})"
   ]
  },
  {
   "cell_type": "code",
   "execution_count": 11,
   "id": "a1a01fcd-42c3-492a-822e-6ab5b70c6804",
   "metadata": {
    "tags": []
   },
   "outputs": [],
   "source": [
    "from transVAE.module._utils import check_adatas_var_index, compare_de, compare_logfold,compute_r2_score"
   ]
  },
  {
   "cell_type": "code",
   "execution_count": 59,
   "id": "0fd3f14f-d57d-47bc-93b9-c188f2ebe14d",
   "metadata": {},
   "outputs": [
    {
     "name": "stderr",
     "output_type": "stream",
     "text": [
      "/d/hpc/home/mo6643/miniconda3/envs/msc1/lib/python3.10/site-packages/anndata/compat/_overloaded_dict.py:106: ImplicitModificationWarning: Trying to modify attribute `._uns` of view, initializing view as actual.\n",
      "  self.data[key] = value\n"
     ]
    },
    {
     "name": "stdout",
     "output_type": "stream",
     "text": [
      "\u001b[34mINFO    \u001b[0m Input AnnData not setup with scvi-tools. attempting to transfer AnnData setup                             \n"
     ]
    }
   ],
   "source": [
    "results = model.history\n",
    "\n",
    "# dbdb\n",
    "preds_dbdb_h = model.translate(adata_to_predict_h, translate_dict={\"dataset\":\"db/db\", \"organism\": \"Mus musculus\"})\n",
    "preds_dbdb_OOD = model.translate(adata_to_predict_OOD, translate_dict={\"dataset\":\"db/db\", \"organism\": \"Mus musculus\"})\n",
    "\n",
    "# mSTZ\n",
    "preds_mSTZ_h = model.translate(adata_to_predict_h, translate_dict={\"dataset\":\"mSTZ\", \"organism\": \"Mus musculus\"})\n",
    "preds_mSTZ_OOD = model.translate(adata_to_predict_OOD, translate_dict={\"dataset\":\"mSTZ\", \"organism\": \"Mus musculus\"})"
   ]
  },
  {
   "cell_type": "code",
   "execution_count": null,
   "id": "a5324552-682a-4331-9aac-c5e079af9e17",
   "metadata": {},
   "outputs": [],
   "source": []
  },
  {
   "cell_type": "code",
   "execution_count": 17,
   "id": "bb90d2a3-9c58-43c8-8eab-4e2e376f586f",
   "metadata": {},
   "outputs": [],
   "source": [
    "# dbdb\n",
    "results[\"r2_dbdb_healthy\"] = compute_r2_score(preds_dbdb_h, dbdb_ground_truth_h)\n",
    "results[\"r2_dbdb_OOD\"] = model.history[\"dbdb_r2_validation_eval\"].iloc[-1].item()\n",
    "# mSTZ\n",
    "results[\"r2_mSTZ_healthy\"] = compute_r2_score(preds_mSTZ_h, mSTZ_ground_truth_h)\n",
    "results[\"r2_mSTZ_OOD\"] = model.history[\"mSTZ_r2_validation_eval\"].iloc[-1].item()"
   ]
  },
  {
   "cell_type": "code",
   "execution_count": 18,
   "id": "a1c099a8-8e22-4d10-8fa3-7a38e5472926",
   "metadata": {
    "tags": []
   },
   "outputs": [
    {
     "name": "stdout",
     "output_type": "stream",
     "text": [
      "WARNING: Default of the method has been changed to 't-test' from 't-test_overestim_var'\n",
      "WARNING: Default of the method has been changed to 't-test' from 't-test_overestim_var'\n",
      "WARNING: Default of the method has been changed to 't-test' from 't-test_overestim_var'\n",
      "WARNING: Default of the method has been changed to 't-test' from 't-test_overestim_var'\n"
     ]
    }
   ],
   "source": [
    "results_de_dbdb = compare_de(X=dbdb_ground_truth_OOD.X.toarray(), Y=preds_dbdb_OOD.X, C=dbdb_ground_truth_h.X.toarray(), shared_top = 1000)\n",
    "results_de_mSTZ = compare_de(X=mSTZ_ground_truth_OOD.X.toarray(), Y=preds_mSTZ_OOD.X, C=mSTZ_ground_truth_h.X.toarray(), shared_top = 1000)\n",
    "\n",
    "for name, value in results_de_dbdb.items():\n",
    "    results[name + \"_dbdb\"] = value\n",
    "for name, value in results_de_mSTZ.items():\n",
    "    results[name + \"_mSTZ\"] = value"
   ]
  },
  {
   "cell_type": "code",
   "execution_count": 130,
   "id": "55b521b7-3246-40ad-9d78-0e7c38de0300",
   "metadata": {
    "tags": []
   },
   "outputs": [],
   "source": [
    "for ct in dbdb_ground_truth.obs.cell_type.unique():\n",
    "    # healthy splits\n",
    "    preds_dbdb_h_tmp = preds_dbdb_h[preds_dbdb_h.obs.cell_type == ct]\n",
    "    dbdb_ground_truth_h_tmp = dbdb_ground_truth_h[dbdb_ground_truth_h.obs.cell_type == ct]\n",
    "    preds_mSTZ_h_tmp = preds_mSTZ_h[preds_mSTZ_h.obs.cell_type == ct]\n",
    "    mSTZ_ground_truth_h_tmp = mSTZ_ground_truth_h[mSTZ_ground_truth_h.obs.cell_type == ct]\n",
    "\n",
    "    # OOD splits\n",
    "    preds_dbdb_OOD_tmp = preds_dbdb_OOD[preds_dbdb_OOD.obs.cell_type == ct]\n",
    "    dbdb_ground_truth_OOD_tmp = dbdb_ground_truth_OOD[dbdb_ground_truth_OOD.obs.cell_type == ct]\n",
    "    preds_mSTZ_OOD_tmp = preds_mSTZ_OOD[preds_mSTZ_OOD.obs.cell_type == ct]\n",
    "    mSTZ_ground_truth_OOD_tmp = mSTZ_ground_truth_OOD[mSTZ_ground_truth_OOD.obs.cell_type == ct]\n",
    "\n",
    "    ct = ct.replace(\" \", \"_\")\n",
    "\n",
    "    results[ct + \"_\" + \"r2_dbdb_healthy\"] = compute_r2_score(preds_dbdb_h_tmp, dbdb_ground_truth_h_tmp)\n",
    "    results[ct + \"_\" + \"r2_dbdb_OOD\"] = compute_r2_score(preds_mSTZ_OOD_tmp, mSTZ_ground_truth_OOD_tmp)\n",
    "    # mSTZ\n",
    "    results[ct + \"_\" + \"r2_mSTZ_healthy\"] = compute_r2_score(preds_mSTZ_h_tmp, mSTZ_ground_truth_h_tmp)\n",
    "    results[ct + \"_\" + \"r2_mSTZ_OOD\"] = compute_r2_score(preds_mSTZ_OOD_tmp, mSTZ_ground_truth_OOD_tmp)\n",
    "\n",
    "    results_de_dbdb = compare_de(X=dbdb_ground_truth_OOD_tmp.X.toarray(), Y=preds_dbdb_OOD_tmp.X, C=dbdb_ground_truth_h_tmp.X.toarray(), shared_top = 4000, method = \"t-test\")\n",
    "    results_de_mSTZ = compare_de(X=mSTZ_ground_truth_OOD_tmp.X.toarray(), Y=preds_mSTZ_OOD_tmp.X, C=mSTZ_ground_truth_h_tmp.X.toarray(), shared_top = 4000, method = \"t-test\")\n",
    "\n",
    "    for name, value in results_de_dbdb.items():\n",
    "        results[ct + \"_\" + name + \"_dbdb\" ] = value\n",
    "    for name, value in results_de_mSTZ.items():\n",
    "        results[ct + \"_\" + name + \"_mSTZ_\"] = value\n"
   ]
  },
  {
   "cell_type": "code",
   "execution_count": 69,
   "id": "ffac870e-2960-48e5-a921-fea753a9d829",
   "metadata": {
    "tags": []
   },
   "outputs": [],
   "source": [
    "ct = ct.replace(\"_\", \" \")"
   ]
  },
  {
   "cell_type": "code",
   "execution_count": 75,
   "id": "62abcc39-3dc5-470d-bcf7-3fa856d896bd",
   "metadata": {
    "tags": []
   },
   "outputs": [],
   "source": [
    "de_results = compare_de(X=dbdb_ground_truth_OOD_tmp.X.toarray(), Y=preds_dbdb_OOD_tmp.X, C=dbdb_ground_truth_h_tmp.X.toarray(), shared_top = 4000, method = \"t-test\")"
   ]
  },
  {
   "cell_type": "code",
   "execution_count": 77,
   "id": "5200be11-51c7-4faf-aac8-1b52fc2dab2f",
   "metadata": {
    "tags": []
   },
   "outputs": [
    {
     "data": {
      "text/plain": [
       "{'shared_top_genes': 0.28025,\n",
       " 'scores_corr': nan,\n",
       " 'pvals_adj_corr': nan,\n",
       " 'scores_ranks_corr': -0.04854936040169768}"
      ]
     },
     "execution_count": 77,
     "metadata": {},
     "output_type": "execute_result"
    }
   ],
   "source": [
    "de_results"
   ]
  },
  {
   "cell_type": "code",
   "execution_count": 123,
   "id": "61a3fb70-6053-46f4-a29d-2fe57b26d8f1",
   "metadata": {
    "tags": []
   },
   "outputs": [
    {
     "data": {
      "text/plain": [
       "View of AnnData object with n_obs × n_vars = 1373 × 13237\n",
       "    obs: 'disease', 'dataset', 'organism', 'cell_type'"
      ]
     },
     "execution_count": 123,
     "metadata": {},
     "output_type": "execute_result"
    }
   ],
   "source": [
    "dbdb_ground_truth_OOD_tmp"
   ]
  },
  {
   "cell_type": "code",
   "execution_count": 124,
   "id": "d6cf4e02-bb44-4df9-b27b-4af69b788972",
   "metadata": {
    "tags": []
   },
   "outputs": [
    {
     "data": {
      "text/plain": [
       "View of AnnData object with n_obs × n_vars = 1373 × 13237\n",
       "    obs: 'disease', 'dataset', 'organism', 'cell_type'"
      ]
     },
     "execution_count": 124,
     "metadata": {},
     "output_type": "execute_result"
    }
   ],
   "source": [
    "dbdb_ground_truth_h_tmp"
   ]
  },
  {
   "cell_type": "code",
   "execution_count": 90,
   "id": "49e9c2c5-00d5-40ac-b0f8-b522afb88881",
   "metadata": {
    "tags": []
   },
   "outputs": [],
   "source": [
    "import numpy as np\n",
    "import anndata as ad\n",
    "import pandas as pd\n",
    "import scanpy as sc\n",
    "\n",
    "X=dbdb_ground_truth_OOD_tmp.X.toarray()\n",
    "Y=preds_dbdb_OOD_tmp.X\n",
    "C=dbdb_ground_truth_h_tmp.X.toarray()\n",
    "shared_top = 4000\n",
    "\n",
    "\"\"\"Compare DEG across real and simulated perturbations.\n",
    "\n",
    "Computes DEG for real and simulated perturbations vs. control and calculates\n",
    "metrics to evaluate similarity of the results.\n",
    "\n",
    "Args:\n",
    "    X: Real perturbed data.\n",
    "    Y: Simulated perturbed data.\n",
    "    C: Control data\n",
    "    shared_top: The number of top DEG to compute the proportion of their intersection.\n",
    "    **kwargs: arguments for `scanpy.tl.rank_genes_groups`.\n",
    "\"\"\"\n",
    "\n",
    "n_vars = X.shape[1]\n",
    "assert n_vars == Y.shape[1] == C.shape[1]\n",
    "\n",
    "shared_top = min(shared_top, n_vars)\n",
    "vars_ranks = np.arange(1, n_vars + 1)\n",
    "\n",
    "adatas_xy = {}\n",
    "adatas_xy[\"x\"] = ad.AnnData(X, obs={\"label\": \"comp\"})\n",
    "adatas_xy[\"y\"] = ad.AnnData(Y, obs={\"label\": \"comp\"})\n",
    "adata_c = ad.AnnData(C, obs={\"label\": \"ctrl\"})\n",
    "\n",
    "results = pd.DataFrame(index=adata_c.var_names)\n",
    "top_names = []\n",
    "for group in (\"x\", \"y\"):\n",
    "    adata_joint = ad.concat((adatas_xy[group], adata_c), index_unique=\"-\")\n",
    "\n",
    "    sc.tl.rank_genes_groups(adata_joint, groupby=\"label\", reference=\"ctrl\", key_added=\"de\",method = \"t-test\")\n",
    "\n",
    "    srt_idx = np.argsort(adata_joint.uns[\"de\"][\"names\"][\"comp\"])\n",
    "    results[f\"scores_{group}\"] = adata_joint.uns[\"de\"][\"scores\"][\"comp\"][srt_idx]\n",
    "    results[f\"pvals_adj_{group}\"] = adata_joint.uns[\"de\"][\"pvals_adj\"][\"comp\"][srt_idx]\n",
    "    # needed to avoid checking rankby_abs\n",
    "    results[f\"ranks_{group}\"] = vars_ranks[srt_idx]\n",
    "\n",
    "    top_names.append(adata_joint.uns[\"de\"][\"names\"][\"comp\"][:shared_top])\n",
    "\n",
    "metrics = {}\n",
    "metrics[\"shared_top_genes\"] = len(set(top_names[0]).intersection(top_names[1])) / shared_top\n",
    "metrics[\"scores_corr\"] = results[\"scores_x\"].corr(results[\"scores_y\"], method=\"pearson\")\n",
    "metrics[\"pvals_adj_corr\"] = results[\"pvals_adj_x\"].corr(results[\"pvals_adj_y\"], method=\"pearson\")\n",
    "metrics[\"scores_ranks_corr\"] = results[\"ranks_x\"].corr(results[\"ranks_y\"], method=\"spearman\")"
   ]
  },
  {
   "cell_type": "code",
   "execution_count": 114,
   "id": "a7a20e65-1d72-46b4-8969-d5d5e8c82008",
   "metadata": {
    "tags": []
   },
   "outputs": [],
   "source": [
    "adata_joint = ad.concat((adatas_xy[\"x\"], adata_c), index_unique=\"-\")"
   ]
  },
  {
   "cell_type": "code",
   "execution_count": 115,
   "id": "d0686b0d-6271-411b-8af8-b51346dc2202",
   "metadata": {
    "tags": []
   },
   "outputs": [],
   "source": [
    "sc.tl.rank_genes_groups(adata_joint, groupby=\"label\", reference=\"ctrl\", key_added=\"de\",method = \"t-test\")\n",
    "\n",
    "srt_idx = np.argsort(adata_joint.uns[\"de\"][\"names\"][\"comp\"])\n",
    "results[f\"scores_{group}\"] = adata_joint.uns[\"de\"][\"scores\"][\"comp\"][srt_idx]\n",
    "results[f\"pvals_adj_{group}\"] = adata_joint.uns[\"de\"][\"pvals_adj\"][\"comp\"][srt_idx]\n",
    "# needed to avoid checking rankby_abs\n",
    "results[f\"ranks_{group}\"] = vars_ranks[srt_idx]\n",
    "\n",
    "top_names.append(adata_joint.uns[\"de\"][\"names\"][\"comp\"][:shared_top])"
   ]
  },
  {
   "cell_type": "code",
   "execution_count": 118,
   "id": "66cd8d51-c8f0-4fb8-9653-832e404954ba",
   "metadata": {
    "tags": []
   },
   "outputs": [
    {
     "data": {
      "text/plain": [
       "{'params': {'groupby': 'label',\n",
       "  'reference': 'ctrl',\n",
       "  'method': 't-test',\n",
       "  'use_raw': False,\n",
       "  'layer': None,\n",
       "  'corr_method': 'benjamini-hochberg'},\n",
       " 'names': rec.array([('13236',), ('4407',), ('4417',), ..., ('8819',), ('8818',),\n",
       "            ('0',)],\n",
       "           dtype=[('comp', 'O')]),\n",
       " 'scores': rec.array([(0.,), (0.,), (0.,), ..., (0.,), (0.,), (0.,)],\n",
       "           dtype=[('comp', '<f4')]),\n",
       " 'pvals': rec.array([(1.,), (1.,), (1.,), ..., (1.,), (1.,), (1.,)],\n",
       "           dtype=[('comp', '<f8')]),\n",
       " 'pvals_adj': rec.array([(1.,), (1.,), (1.,), ..., (1.,), (1.,), (1.,)],\n",
       "           dtype=[('comp', '<f8')]),\n",
       " 'logfoldchanges': rec.array([(0.,), (0.,), (0.,), ..., (0.,), (0.,), (0.,)],\n",
       "           dtype=[('comp', '<f4')])}"
      ]
     },
     "execution_count": 118,
     "metadata": {},
     "output_type": "execute_result"
    }
   ],
   "source": [
    "adata_joint.uns[\"de\"]"
   ]
  },
  {
   "cell_type": "code",
   "execution_count": 104,
   "id": "4a6cf662-c9f3-4a3f-bdd8-3ab50af02b20",
   "metadata": {
    "tags": []
   },
   "outputs": [
    {
     "data": {
      "text/plain": [
       "nan"
      ]
     },
     "execution_count": 104,
     "metadata": {},
     "output_type": "execute_result"
    }
   ],
   "source": [
    "results[\"scores_x\"].corr(results[\"scores_y\"], method=\"pearson\")"
   ]
  },
  {
   "cell_type": "code",
   "execution_count": 94,
   "id": "b04afacc-a6b0-426b-bf47-a7d798aa5b2a",
   "metadata": {
    "tags": []
   },
   "outputs": [
    {
     "data": {
      "text/plain": [
       "0        0.0\n",
       "1        0.0\n",
       "2        0.0\n",
       "3        0.0\n",
       "4        0.0\n",
       "        ... \n",
       "13232    0.0\n",
       "13233    0.0\n",
       "13234    0.0\n",
       "13235    0.0\n",
       "13236    0.0\n",
       "Name: scores_x, Length: 13237, dtype: float32"
      ]
     },
     "execution_count": 94,
     "metadata": {},
     "output_type": "execute_result"
    }
   ],
   "source": [
    "results[\"scores_x\"]"
   ]
  },
  {
   "cell_type": "code",
   "execution_count": 95,
   "id": "7e8341ba-eaae-4b49-bdf6-ce32a63d838b",
   "metadata": {
    "tags": []
   },
   "outputs": [
    {
     "data": {
      "text/plain": [
       "0          12.257668\n",
       "1         187.306656\n",
       "2        1019.721008\n",
       "3        1078.150513\n",
       "4          13.917542\n",
       "            ...     \n",
       "13232     797.833862\n",
       "13233     157.559326\n",
       "13234      41.369530\n",
       "13235     806.106323\n",
       "13236      41.402588\n",
       "Name: scores_y, Length: 13237, dtype: float32"
      ]
     },
     "execution_count": 95,
     "metadata": {},
     "output_type": "execute_result"
    }
   ],
   "source": [
    "results[\"scores_y\"]"
   ]
  },
  {
   "cell_type": "code",
   "execution_count": 93,
   "id": "b0644750-6702-44bb-a3c9-3bcf3356cd03",
   "metadata": {
    "tags": []
   },
   "outputs": [
    {
     "data": {
      "text/plain": [
       "nan"
      ]
     },
     "execution_count": 93,
     "metadata": {},
     "output_type": "execute_result"
    }
   ],
   "source": [
    "results[\"scores_x\"].corr(results[\"scores_y\"], method=\"pearson\")"
   ]
  },
  {
   "cell_type": "code",
   "execution_count": 84,
   "id": "2c83dd0e-af24-40e9-8bed-ea65f8ed2c5b",
   "metadata": {
    "tags": []
   },
   "outputs": [],
   "source": [
    "sc.tl.rank_genes_groups(adata_joint, groupby=\"label\", reference=\"ctrl\", key_added=\"de\",method = \"t-test\")"
   ]
  },
  {
   "cell_type": "code",
   "execution_count": 88,
   "id": "498f3f48-5728-4b74-8ab3-045627714849",
   "metadata": {
    "tags": []
   },
   "outputs": [
    {
     "data": {
      "text/plain": [
       "{'params': {'groupby': 'label',\n",
       "  'reference': 'ctrl',\n",
       "  'method': 't-test',\n",
       "  'use_raw': False,\n",
       "  'layer': None,\n",
       "  'corr_method': 'benjamini-hochberg'},\n",
       " 'names': rec.array([('1952',), ('11927',), ('13115',), ..., ('12282',), ('12281',),\n",
       "            ('12285',)],\n",
       "           dtype=[('comp', 'O')]),\n",
       " 'scores': rec.array([(1233.5737 ,), (1221.8506 ,), (1221.5106 ,), ...,\n",
       "            (-297.07452,), (-311.3268 ,), (-330.33182,)],\n",
       "           dtype=[('comp', '<f4')]),\n",
       " 'pvals': rec.array([(0.,), (0.,), (0.,), ..., (0.,), (0.,), (0.,)],\n",
       "           dtype=[('comp', '<f8')]),\n",
       " 'pvals_adj': rec.array([(0.,), (0.,), (0.,), ..., (0.,), (0.,), (0.,)],\n",
       "           dtype=[('comp', '<f8')]),\n",
       " 'logfoldchanges': rec.array([(29.131117 ,), (29.102427 ,), (29.198795 ,), ...,\n",
       "            (-4.4561553,), (-4.488192 ,), (-4.8284407,)],\n",
       "           dtype=[('comp', '<f4')])}"
      ]
     },
     "execution_count": 88,
     "metadata": {},
     "output_type": "execute_result"
    }
   ],
   "source": [
    "adata_joint.uns[\"de\"]"
   ]
  },
  {
   "cell_type": "code",
   "execution_count": 70,
   "id": "8e8da514-59aa-4b71-b33b-6d4258ee1f1f",
   "metadata": {
    "tags": []
   },
   "outputs": [
    {
     "data": {
      "text/plain": [
       "A0019_AAACAGCCAGGACCAA-1    type B pancreatic cell\n",
       "A0019_AAACAGCCATGAGTTT-1    type B pancreatic cell\n",
       "A0019_AAACATGCAGCTTAAT-1         pancreatic A cell\n",
       "A0019_AAACCAACACTATGGC-1    type B pancreatic cell\n",
       "A0019_AAACGCGCAGCTAACC-1         pancreatic A cell\n",
       "                                     ...          \n",
       "C0027_TTTGTTGGTGAGGTAG-1         pancreatic A cell\n",
       "C0027_TTTGTTGGTGCTCCGT-1    type B pancreatic cell\n",
       "C0027_TTTGTTGGTGTGTCCC-1    type B pancreatic cell\n",
       "C0027_TTTGTTGGTTTCGCGC-1    type B pancreatic cell\n",
       "C0027_TTTGTTGGTTTGACCT-1    type B pancreatic cell\n",
       "Name: cell_type, Length: 18274, dtype: category\n",
       "Categories (3, object): ['pancreatic A cell', 'type B pancreatic cell', 'pancreatic D cell']"
      ]
     },
     "execution_count": 70,
     "metadata": {},
     "output_type": "execute_result"
    }
   ],
   "source": [
    "preds_dbdb_h.obs.cell_type"
   ]
  },
  {
   "cell_type": "code",
   "execution_count": 71,
   "id": "00927cd0-7ae3-4193-9ead-b4fc3d2a5825",
   "metadata": {
    "tags": []
   },
   "outputs": [],
   "source": [
    "preds_dbdb_h_tmp = preds_dbdb_h[preds_dbdb_h.obs.cell_type == ct]\n",
    "dbdb_ground_truth_h_tmp = dbdb_ground_truth_h[dbdb_ground_truth_h.obs.cell_type == ct]\n",
    "preds_mSTZ_h_tmp = preds_mSTZ_h[preds_mSTZ_h.obs.cell_type == ct]\n",
    "mSTZ_ground_truth_h_tmp = mSTZ_ground_truth_h[mSTZ_ground_truth_h.obs.cell_type == ct]\n",
    "\n",
    "# OOD splits\n",
    "preds_dbdb_OOD_tmp = preds_dbdb_h[preds_dbdb_h.obs.cell_type == ct]\n",
    "dbdb_ground_truth_OOD_tmp = dbdb_ground_truth_h[dbdb_ground_truth_h.obs.cell_type == ct]\n",
    "preds_mSTZ_OOD_tmp = preds_mSTZ_h[preds_mSTZ_h.obs.cell_type == ct]\n",
    "mSTZ_ground_truth_OOD_tmp = mSTZ_ground_truth_h[mSTZ_ground_truth_h.obs.cell_type == ct]\n",
    "\n",
    "ct = ct.replace(\" \", \"_\")"
   ]
  },
  {
   "cell_type": "code",
   "execution_count": 18,
   "id": "1072e551-f132-4d47-999f-94cccb04073b",
   "metadata": {},
   "outputs": [],
   "source": [
    "import numpy as np\n",
    "path = \"/d/hpc/projects/FRI/DL/mo6643/MSC/cross_species_prediction_save/dbdb_ground_truth_OOD.npy\"\n",
    "np.save(path, dbdb_ground_truth_OOD.X.toarray())"
   ]
  },
  {
   "cell_type": "code",
   "execution_count": 2,
   "id": "771c58a2-c2cd-4a6d-8928-e8e2986d8d25",
   "metadata": {
    "tags": []
   },
   "outputs": [],
   "source": [
    "import logging\n",
    "from sacred import Experiment\n",
    "import seml\n",
    "import os\n",
    "from transVAE.module._utils import check_adatas_var_index, compare_de, compare_logfold, compute_r2_score\n",
    "import scanpy as sc\n",
    "import scvi\n",
    "import numpy as np\n",
    "import gc\n",
    "import pandas as pd"
   ]
  },
  {
   "cell_type": "code",
   "execution_count": null,
   "id": "aef5eaa4-e926-4fa9-8e35-f1ce57f50d24",
   "metadata": {},
   "outputs": [],
   "source": [
    "extras = ['train_adata_baseline.h5ad','extra_mouse_Embryonic.h5ad','extra_human_chem.h5ad','embedding_top100_mouse.h5ad','random_mouse_seed_42.h5ad',\n",
    "          'embedding_top70_human.h5ad', 'extra_human_preT2D.h5ad','random_human_seed_42.h5ad','extra_human_neonatal.h5ad','extra_mouse_chem.h5ad',\n",
    "          'extra_mouse_T1D.h5ad','extra_mouse_young.h5ad']\n",
    "\n",
    "genes_intersection = pd.read_table(\"/d/hpc/projects/FRI/DL/mo6643/MSC/data/data_update_slack/data_splits/data_splits_train_merge/make_big_dataset/genes_shared_across_datasets.txt\")\n",
    "genes_intersection = genes_intersection.genes_shared_across_datasets.tolist()\n",
    "\n",
    "adatas = []\n",
    "for extra in extras:\n",
    "    adata = sc.read_h5ad(f\"/d/hpc/projects/FRI/DL/mo6643/MSC/data/data_update_slack/data_splits/data_splits_train_merge/train_data/full_datasets/{extra}\")\n",
    "    adata = adata[:,adata.var.index.isin(genes_intersection)]\n",
    "    adatas.apped(adata)\n",
    "\n",
    "adata_train = sc.concat(adatas, join = \"inner\", axis = 0)\n",
    "adata_train = transVAE.setup_anndata(adata_train, categorical_covariate_embed_keys=[\"dataset\"], categorical_covariate_keys=[\"organism\"], copy = True)\n",
    "\n",
    "# reading val data and data to translate\n",
    "adata_to_predict = sc.read_h5ad(f\"/d/hpc/projects/FRI/DL/mo6643/MSC/data/data_update_slack/data_splits/data_splits_train_merge/data_to_predict/{dataset_to_predict}\")\n",
    "dbdb_ground_truth = sc.read_h5ad(f\"/d/hpc/projects/FRI/DL/mo6643/MSC/data/data_update_slack/data_splits/data_splits_train_merge/ground_truth/full_datasets/{dataset_ground_truth1}\")\n",
    "mSTZ_ground_truth = sc.read_h5ad(f\"/d/hpc/projects/FRI/DL/mo6643/MSC/data/data_update_slack/data_splits/data_splits_train_merge/ground_truth/full_datasets/{dataset_ground_truth2}\")\n",
    "\n",
    "adata_to_predict = adata_to_predict[:,adata_to_predict.var.index.isin(genes_intersection)]\n",
    "adata_to_predict = adata_to_predict[:,adata_to_predict.var.sort_index().index]\n",
    "dbdb_ground_truth = dbdb_ground_truth[:,dbdb_ground_truth.var.index.isin(genes_intersection)]\n",
    "mSTZ_ground_truth = mSTZ_ground_truth[:,mSTZ_ground_truth.var.index.isin(genes_intersection)]\n",
    "\n",
    "scvi.settings.seed = seed\n",
    "\n",
    "logging.info(f'n_hidden: {n_hidden}, n_latent: {n_latent}, learning_rate: {learning_rate}, cov_embed_dims: {cov_embed_dims}, weight_decay {weight_decay}')\n",
    "logging.info(f'max_epochs: {max_epochs}, n_layers: {n_layers}, dropout_rate: {dropout_rate}, kl_weight: {kl_weight}')\n",
    "\n",
    "check_adatas_var_index(adata_train, adata_to_predict, dbdb_ground_truth, mSTZ_ground_truth)\n",
    "\n",
    "# check this data (full_datasets)\n",
    "\n",
    "adata_to_predict_h = adata_to_predict[adata_to_predict.obs.disease == \"healthy\"]\n",
    "adata_to_predict_OOD = adata_to_predict[adata_to_predict.obs.disease == \"T2D\"]\n",
    "del adata_to_predict\n",
    "gc.collect()\n",
    "\n",
    "dbdb_ground_truth_h = dbdb_ground_truth[dbdb_ground_truth.obs.disease == \"healthy\"]\n",
    "dbdb_ground_truth_OOD = dbdb_ground_truth[dbdb_ground_truth.obs.disease == \"T2D\"]\n",
    "del dbdb_ground_truth\n",
    "gc.collect()\n",
    "\n",
    "mSTZ_ground_truth_h = mSTZ_ground_truth[mSTZ_ground_truth.obs.disease == \"healthy\"]\n",
    "mSTZ_ground_truth_OOD = mSTZ_ground_truth[mSTZ_ground_truth.obs.disease == \"T2D\"]\n",
    "del mSTZ_ground_truth\n",
    "gc.collect()\n",
    "\n",
    "validation_adatas_dict = {\"adata_to_predict\":adata_to_predict_OOD,\n",
    "                          \"ground_truths\": {\"dbdb\": dbdb_ground_truth_OOD,\n",
    "                                            \"mSTZ\": mSTZ_ground_truth_OOD},\n",
    "                          \"translate_dicts\": {\"dbdb\":{\"dataset\":\"db/db\", \"organism\": \"Mus musculus\"},\n",
    "                                              \"mSTZ\":{\"dataset\":\"mSTZ\", \"organism\": \"Mus musculus\"}}}\n",
    "\n",
    "\n",
    "# make the model\n",
    "model = transVAE(adata_train, \n",
    "                 n_hidden=n_hidden, \n",
    "                 n_latent=n_latent, \n",
    "                 n_layers=n_layers, \n",
    "                 dropout_rate=dropout_rate, \n",
    "                 cov_embed_dims = cov_embed_dims, \n",
    "                 kl_weight = kl_weight,\n",
    "                 validation_adatas_dict = validation_adatas_dict)\n",
    "\n",
    "# train the model\n",
    "model.train(batch_size=4096, max_epochs = max_epochs, train_size = 0.99, enable_progress_bar = True,\n",
    "            early_stopping = True, early_stopping_monitor = 'mean_r2_validation_eval', early_stopping_mode = \"max\", \n",
    "            early_stopping_min_delta = 0.01, early_stopping_patience = 70,\n",
    "            plan_kwargs = {\"lr\":learning_rate,\n",
    "                           \"weight_decay\":weight_decay,\n",
    "                           \"reduce_lr_on_plateau\":True,\n",
    "                           \"lr_factor\":0.5,\n",
    "                           \"lr_patience\":50,\n",
    "                           \"lr_scheduler_metric\":\"reconstruction_loss_validation\"})\n",
    "\n",
    "results = model.history\n",
    "\n",
    "# dbdb\n",
    "preds_dbdb_h = model.translate(adata_to_predict_h, translate_dict={\"dataset\":\"db/db\", \"organism\": \"Mus musculus\"})\n",
    "preds_dbdb_OOD = model.translate(adata_to_predict_OOD, translate_dict={\"dataset\":\"db/db\", \"organism\": \"Mus musculus\"})\n",
    "\n",
    "# mSTZ\n",
    "preds_mSTZ_h = model.translate(adata_to_predict_h, translate_dict={\"dataset\":\"mSTZ\", \"organism\": \"Mus musculus\"})\n",
    "preds_mSTZ_OOD = model.translate(adata_to_predict_OOD, translate_dict={\"dataset\":\"mSTZ\", \"organism\": \"Mus musculus\"})\n",
    "\n",
    "# dbdb\n",
    "results[\"r2_dbdb_healthy\"] = compute_r2_score(preds_dbdb_h, dbdb_ground_truth_h)\n",
    "results[\"r2_dbdb_OOD\"] = model.history[\"dbdb_r2_validation_eval\"].iloc[-1].item()\n",
    "# mSTZ\n",
    "results[\"r2_mSTZ_healthy\"] = compute_r2_score(preds_mSTZ_h, mSTZ_ground_truth_h)\n",
    "results[\"r2_mSTZ_OOD\"] = model.history[\"mSTZ_r2_validation_eval\"].iloc[-1].item()\n",
    "\n",
    "results_de_dbdb = compare_de(X=dbdb_ground_truth_OOD.X.toarray(), Y=preds_dbdb_OOD.X, C=dbdb_ground_truth_h.X.toarray(), shared_top = 1000, method = \"t-test\")\n",
    "results_de_mSTZ = compare_de(X=mSTZ_ground_truth_OOD.X.toarray(), Y=preds_mSTZ_OOD.X, C=mSTZ_ground_truth_h.X.toarray(), shared_top = 1000, method = \"t-test\")\n",
    "\n",
    "for name, value in results_de_dbdb.items():\n",
    "    results[name + \"_dbdb\"] = value\n",
    "for name, value in results_de_mSTZ.items():\n",
    "    results[name + \"_mSTZ\"] = value\n",
    "\n",
    "for ct in dbdb_ground_truth_OOD.obs.cell_type.unique():\n",
    "\n",
    "    # healthy splits\n",
    "    preds_dbdb_h_tmp = preds_dbdb_h[preds_dbdb_h.obs.cell_type == ct]\n",
    "    dbdb_ground_truth_h_tmp = dbdb_ground_truth_h[dbdb_ground_truth_h.obs.cell_type == ct]\n",
    "    preds_mSTZ_h_tmp = preds_mSTZ_h[preds_mSTZ_h.obs.cell_type == ct]\n",
    "    mSTZ_ground_truth_h_tmp = mSTZ_ground_truth_h[mSTZ_ground_truth_h.obs.cell_type == ct]\n",
    "\n",
    "    # OOD splits\n",
    "    preds_dbdb_OOD_tmp = preds_dbdb_h[preds_dbdb_h.obs.cell_type == ct]\n",
    "    dbdb_ground_truth_OOD_tmp = dbdb_ground_truth_h[dbdb_ground_truth_h.obs.cell_type == ct]\n",
    "    preds_mSTZ_OOD_tmp = preds_mSTZ_h[preds_mSTZ_h.obs.cell_type == ct]\n",
    "    mSTZ_ground_truth_OOD_tmp = mSTZ_ground_truth_h[mSTZ_ground_truth_h.obs.cell_type == ct]\n",
    "\n",
    "    ct = ct.replace(\" \", \"_\")\n",
    "\n",
    "    results[ct + \"_\" + \"r2_dbdb_healthy\"] = compute_r2_score(preds_dbdb_h_tmp, dbdb_ground_truth_h_tmp)\n",
    "    results[ct + \"_\" + \"r2_dbdb_OOD\"] = compute_r2_score(preds_mSTZ_OOD_tmp, mSTZ_ground_truth_OOD_tmp)\n",
    "    # mSTZ\n",
    "    results[ct + \"_\" + \"r2_mSTZ_healthy\"] = compute_r2_score(preds_mSTZ_h_tmp, mSTZ_ground_truth_h_tmp)\n",
    "    results[ct + \"_\" + \"r2_mSTZ_OOD\"] = compute_r2_score(preds_mSTZ_OOD_tmp, mSTZ_ground_truth_OOD_tmp)\n",
    "\n",
    "    results_de_dbdb = compare_de(X=dbdb_ground_truth_OOD_tmp.X.toarray(), Y=preds_dbdb_OOD_tmp.X, C=dbdb_ground_truth_h_tmp.X.toarray(), shared_top = 1000, method = \"t-test\")\n",
    "    results_de_mSTZ = compare_de(X=mSTZ_ground_truth_OOD_tmp.X.toarray(), Y=preds_mSTZ_OOD_tmp.X, C=mSTZ_ground_truth_h_tmp.X.toarray(), shared_top = 1000, method = \"t-test\")\n",
    "\n",
    "    for name, value in results_de_dbdb.items():\n",
    "        results[ct + \"_\" + name + \"_dbdb\" ] = value\n",
    "    for name, value in results_de_mSTZ.items():\n",
    "        results[ct + \"_\" + name + \"_mSTZ_\"] = value\n",
    "\n",
    "if save_models:\n",
    "    try:\n",
    "        save_dir = f\"/d/hpc/projects/FRI/DL/mo6643/MSC/cross_species_prediction_save/{save_folder_name}\"\n",
    "        if not os.path.exists(save_dir):\n",
    "            os.mkdir(save_dir)\n",
    "        save_dir = os.path.join(save_dir, f\"transVAE_train_{addl_dataset_train}_hid{n_hidden}_lat{n_latent}_lr{learning_rate}_cov{cov_embed_dims}_ep{max_epochs}_ly{n_layers}_dr{dropout_rate}_kl{kl_weight}_wd{weight_decay}_s{seed}\")\n",
    "        if not os.path.exists(save_dir):\n",
    "            os.mkdir(save_dir)\n",
    "        #np.save(arr=preds_dbdb_h.X, file=os.path.join(save_dir,\"preds_dbdb_h.npy\"))\n",
    "        np.save(arr=preds_dbdb_OOD.X, file=os.path.join(save_dir,\"preds_dbdb_OOD.npy\"))\n",
    "        #np.save(arr=preds_mSTZ_h.X, file=os.path.join(save_dir,\"preds_mSTZ_h.npy\"))\n",
    "        np.save(arr=preds_mSTZ_OOD.X, file=os.path.join(save_dir,\"preds_mSTZ_OOD.npy\"))\n",
    "    except:\n",
    "        print(\"An error accured while saving model predictions\")\n",
    "\n",
    "return results"
   ]
  }
 ],
 "metadata": {
  "kernelspec": {
   "display_name": "Python 3 (ipykernel)",
   "language": "python",
   "name": "python3"
  },
  "language_info": {
   "codemirror_mode": {
    "name": "ipython",
    "version": 3
   },
   "file_extension": ".py",
   "mimetype": "text/x-python",
   "name": "python",
   "nbconvert_exporter": "python",
   "pygments_lexer": "ipython3",
   "version": "3.10.9"
  }
 },
 "nbformat": 4,
 "nbformat_minor": 5
}
