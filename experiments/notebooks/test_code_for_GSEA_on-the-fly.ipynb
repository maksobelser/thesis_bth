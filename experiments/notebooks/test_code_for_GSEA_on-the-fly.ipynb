{
 "cells": [
  {
   "cell_type": "code",
   "execution_count": 6,
   "id": "6fb5b10a-770b-4c0e-a99e-169f47088914",
   "metadata": {
    "tags": []
   },
   "outputs": [],
   "source": [
    "import os\n",
    "os.chdir('/d/hpc/projects/FRI/DL/mo6643/MSC/cross_species_prediction/transVAE_seml/')\n",
    "from transVAE.model.transVAE import transVAE\n",
    "import scanpy as sc\n",
    "import numpy as np\n",
    "import gc\n",
    "import pandas as pd\n",
    "from gseapy import Biomart\n",
    "import gseapy as gp\n",
    "import logging"
   ]
  },
  {
   "cell_type": "code",
   "execution_count": 4,
   "id": "1793c1eb-afcd-4cc6-a140-bef6e9e42034",
   "metadata": {
    "tags": []
   },
   "outputs": [],
   "source": [
    "dataset_to_predict = \"wang_to_predict_cleanCT.h5ad\"\n",
    "dataset_ground_truth1 = \"dbdb_ground_truth_cleanCT.h5ad\"\n",
    "dataset_ground_truth2 = \"mSTZ_ground_truth_cleanCT.h5ad\"\n",
    "addl_dataset_train = \"train_adata_baseline.h5ad\"\n",
    "seed = 42\n",
    "n_hidden = 1000 \n",
    "n_latent = 512 \n",
    "learning_rate = 0.0001 \n",
    "cov_embed_dims = 10\n",
    "max_epochs = 1\n",
    "n_layers = 8\n",
    "dropout_rate = 0.3\n",
    "kl_weight = 0.0005\n",
    "save_models = False\n",
    "save_folder_name = \"\"\n",
    "weight_decay = 0.0000001\n",
    "shared_top = 4000\n",
    "embed_ct = False"
   ]
  },
  {
   "cell_type": "code",
   "execution_count": 8,
   "id": "81944340-ae8b-447d-b909-dd518144f584",
   "metadata": {
    "tags": []
   },
   "outputs": [
    {
     "name": "stderr",
     "output_type": "stream",
     "text": [
      "/d/hpc/home/mo6643/miniconda3/envs/msc1/lib/python3.10/site-packages/anndata/_core/anndata.py:1828: UserWarning: Observation names are not unique. To make them unique, call `.obs_names_make_unique`.\n",
      "  utils.warn_names_duplicates(\"obs\")\n"
     ]
    },
    {
     "name": "stdout",
     "output_type": "stream",
     "text": [
      "\u001b[34mINFO    \u001b[0m Using column names from columns of adata.obsm\u001b[1m[\u001b[0m\u001b[32m'covariates'\u001b[0m\u001b[1m]\u001b[0m                                               \n",
      "\u001b[34mINFO    \u001b[0m Using column names from columns of adata.obsm\u001b[1m[\u001b[0m\u001b[32m'covariates_embed'\u001b[0m\u001b[1m]\u001b[0m                                         \n"
     ]
    },
    {
     "name": "stderr",
     "output_type": "stream",
     "text": [
      "/d/hpc/home/mo6643/miniconda3/envs/msc1/lib/python3.10/site-packages/anndata/compat/_overloaded_dict.py:106: ImplicitModificationWarning: Trying to modify attribute `._uns` of view, initializing view as actual.\n",
      "  self.data[key] = value\n"
     ]
    },
    {
     "name": "stdout",
     "output_type": "stream",
     "text": [
      "\u001b[34mINFO    \u001b[0m Input AnnData not setup with scvi-tools. attempting to transfer AnnData setup                             \n"
     ]
    },
    {
     "name": "stderr",
     "output_type": "stream",
     "text": [
      "GPU available: True (cuda), used: True\n",
      "TPU available: False, using: 0 TPU cores\n",
      "IPU available: False, using: 0 IPUs\n",
      "HPU available: False, using: 0 HPUs\n",
      "LOCAL_RANK: 0 - CUDA_VISIBLE_DEVICES: [0,1]\n",
      "SLURM auto-requeueing enabled. Setting signal handlers.\n"
     ]
    },
    {
     "name": "stdout",
     "output_type": "stream",
     "text": [
      "Epoch 1/1: 100%|██████████| 1/1 [00:45<00:00, 45.52s/it, v_num=1, train_loss_step=992, train_loss_epoch=2.24e+3]"
     ]
    },
    {
     "name": "stderr",
     "output_type": "stream",
     "text": [
      "`Trainer.fit` stopped: `max_epochs=1` reached.\n"
     ]
    },
    {
     "name": "stdout",
     "output_type": "stream",
     "text": [
      "Epoch 1/1: 100%|██████████| 1/1 [00:45<00:00, 45.52s/it, v_num=1, train_loss_step=992, train_loss_epoch=2.24e+3]\n"
     ]
    }
   ],
   "source": [
    "genes_intersection = pd.read_table(\"/d/hpc/projects/FRI/DL/mo6643/MSC/data/data_update_slack/data_splits/data_splits_train_merge/make_big_dataset/genes_shared_across_datasets.txt\")\n",
    "genes_intersection = genes_intersection.genes_shared_across_datasets.tolist()\n",
    "categorical_covariate_embed_keys = [\"dataset\"]\n",
    "# if embed variables\n",
    "if embed_ct:\n",
    "    categorical_covariate_embed_keys.append(\"cell_type\")\n",
    "\n",
    "logging.info(f\"categorical_covariate_embed_keys values are: {categorical_covariate_embed_keys}\")\n",
    "\n",
    "if addl_dataset_train == \"combination\":\n",
    "    datasets = ['train_adata_baseline.h5ad','extra_mouse_Embryonic.h5ad','extra_human_chem.h5ad','embedding_top100_mouse.h5ad','random_mouse_seed_42.h5ad',\n",
    "              'embedding_top70_human.h5ad', 'extra_human_preT2D.h5ad','random_human_seed_42.h5ad','extra_human_neonatal.h5ad','extra_mouse_chem.h5ad',\n",
    "              'extra_mouse_T1D.h5ad','extra_mouse_young.h5ad']\n",
    "\n",
    "    genes_intersection = pd.read_table(\"/d/hpc/projects/FRI/DL/mo6643/MSC/data/data_update_slack/data_splits/data_splits_train_merge/make_big_dataset/genes_shared_across_datasets.txt\")\n",
    "    genes_intersection = genes_intersection.genes_shared_across_datasets.tolist()\n",
    "\n",
    "    adatas = []\n",
    "    for extra in datasets:\n",
    "        adata = sc.read_h5ad(f\"/d/hpc/projects/FRI/DL/mo6643/MSC/data/data_update_slack/data_splits/data_splits_train_merge/train_data/full_datasets/{extra}\")\n",
    "        adata = adata[:,adata.var.index.isin(genes_intersection)]\n",
    "        adatas.append(adata)\n",
    "\n",
    "    adata_train = sc.concat(adatas, join = \"inner\", axis = 0)\n",
    "    adata_train = transVAE.setup_anndata(adata_train, categorical_covariate_embed_keys=categorical_covariate_embed_keys, categorical_covariate_keys=[\"organism\"], copy = True)\n",
    "\n",
    "    logging.info(f'Received the following configuration for datasets train: {addl_dataset_train}, shape: {adata_train.shape}')\n",
    "\n",
    "elif addl_dataset_train == \"train_adata_baseline_3000hvg.h5ad\":\n",
    "    # just the baseline data\n",
    "    adata_train = sc.read_h5ad(f\"/d/hpc/projects/FRI/DL/mo6643/MSC/data/data_update_slack/data_splits/data_splits_train_merge/train_data/full_datasets/train_adata_baseline.h5ad\")\n",
    "    logging.info(f'Received the following configuration for datasets train: {addl_dataset_train}, shape: {adata_train.shape}')\n",
    "    adata_train = adata_train[:,adata_train.var.index.isin(genes_intersection)]\n",
    "    adata_train = transVAE.setup_anndata(adata_train, categorical_covariate_embed_keys=categorical_covariate_embed_keys, categorical_covariate_keys=[\"organism\"], copy = True)\n",
    "\n",
    "else:\n",
    "    adata_baseline = sc.read_h5ad(f\"/d/hpc/projects/FRI/DL/mo6643/MSC/data/data_update_slack/data_splits/data_splits_train_merge/train_data/full_datasets/train_adata_baseline.h5ad\")\n",
    "    adata_extra = sc.read_h5ad(f\"/d/hpc/projects/FRI/DL/mo6643/MSC/data/data_update_slack/data_splits/data_splits_train_merge/train_data/full_datasets/{addl_dataset_train}\")\n",
    "    adata_train = sc.concat([adata_baseline, adata_extra], join = \"inner\", axis = 0)\n",
    "    logging.info(f'Received the following configuration for datasets train: {addl_dataset_train}, shape: {adata_train.shape}, baseline_shape: {adata_baseline.shape}')\n",
    "    del adata_baseline\n",
    "    del adata_extra\n",
    "    gc.collect()\n",
    "    ## making random splits\n",
    "    adata_train = adata_train[:,adata_train.var.index.isin(genes_intersection)]\n",
    "    adata_train = transVAE.setup_anndata(adata_train, categorical_covariate_embed_keys=categorical_covariate_embed_keys, categorical_covariate_keys=[\"organism\"], copy = True)\n",
    "\n",
    "# reading val data and data to translate\n",
    "adata_to_predict = sc.read_h5ad(f\"/d/hpc/projects/FRI/DL/mo6643/MSC/data/data_update_slack/data_splits/data_splits_train_merge/data_to_predict/{dataset_to_predict}\")\n",
    "dbdb_ground_truth = sc.read_h5ad(f\"/d/hpc/projects/FRI/DL/mo6643/MSC/data/data_update_slack/data_splits/data_splits_train_merge/ground_truth/full_datasets/{dataset_ground_truth1}\")\n",
    "mSTZ_ground_truth = sc.read_h5ad(f\"/d/hpc/projects/FRI/DL/mo6643/MSC/data/data_update_slack/data_splits/data_splits_train_merge/ground_truth/full_datasets/{dataset_ground_truth2}\")\n",
    "\n",
    "adata_to_predict = adata_to_predict[:,adata_to_predict.var.index.isin(genes_intersection)]\n",
    "adata_to_predict = adata_to_predict[:,adata_to_predict.var.sort_index().index]\n",
    "dbdb_ground_truth = dbdb_ground_truth[:,dbdb_ground_truth.var.index.isin(genes_intersection)]\n",
    "mSTZ_ground_truth = mSTZ_ground_truth[:,mSTZ_ground_truth.var.index.isin(genes_intersection)]\n",
    "\n",
    "logging.info(f'n_hidden: {n_hidden}, n_latent: {n_latent}, learning_rate: {learning_rate}, cov_embed_dims: {cov_embed_dims}, weight_decay {weight_decay}')\n",
    "logging.info(f'max_epochs: {max_epochs}, n_layers: {n_layers}, dropout_rate: {dropout_rate}, kl_weight: {kl_weight}')\n",
    "\n",
    "# check this data (full_datasets)\n",
    "\n",
    "adata_to_predict_h = adata_to_predict[adata_to_predict.obs.disease == \"healthy\"]\n",
    "adata_to_predict_OOD = adata_to_predict[adata_to_predict.obs.disease == \"T2D\"]\n",
    "del adata_to_predict\n",
    "gc.collect()\n",
    "\n",
    "dbdb_ground_truth_h = dbdb_ground_truth[dbdb_ground_truth.obs.disease == \"healthy\"]\n",
    "dbdb_ground_truth_OOD = dbdb_ground_truth[dbdb_ground_truth.obs.disease == \"T2D\"]\n",
    "cts_to_consider = dbdb_ground_truth.obs.cell_type.unique()\n",
    "del dbdb_ground_truth\n",
    "gc.collect()\n",
    "\n",
    "mSTZ_ground_truth_h = mSTZ_ground_truth[mSTZ_ground_truth.obs.disease == \"healthy\"]\n",
    "mSTZ_ground_truth_OOD = mSTZ_ground_truth[mSTZ_ground_truth.obs.disease == \"T2D\"]\n",
    "del mSTZ_ground_truth\n",
    "gc.collect()\n",
    "\n",
    "validation_adatas_dict = {\"adata_to_predict\":adata_to_predict_OOD,\n",
    "                          \"ground_truths\": {\"dbdb\": dbdb_ground_truth_OOD,\n",
    "                                            \"mSTZ\": mSTZ_ground_truth_OOD},\n",
    "                          \"translate_dicts\": {\"dbdb\":{\"dataset\":\"db/db\", \"organism\": \"Mus musculus\"},\n",
    "                                              \"mSTZ\":{\"dataset\":\"mSTZ\", \"organism\": \"Mus musculus\"}}}\n",
    "\n",
    "# make the model\n",
    "model = transVAE(adata_train, \n",
    "                 n_hidden=n_hidden, \n",
    "                 n_latent=n_latent, \n",
    "                 n_layers=n_layers, \n",
    "                 dropout_rate=dropout_rate, \n",
    "                 cov_embed_dims = cov_embed_dims, \n",
    "                 kl_weight = kl_weight,\n",
    "                 validation_adatas_dict = validation_adatas_dict)\n",
    "\n",
    "# train the model\n",
    "model.train(batch_size=4096, max_epochs = max_epochs, train_size = 0.99, enable_progress_bar = True,\n",
    "            early_stopping = True, early_stopping_monitor = 'mean_r2_validation_eval', early_stopping_mode = \"max\", \n",
    "            early_stopping_min_delta = 0.01, early_stopping_patience = 70,\n",
    "            plan_kwargs = {\"lr\":learning_rate,\n",
    "                           \"weight_decay\":weight_decay,\n",
    "                           \"reduce_lr_on_plateau\":True,\n",
    "                           \"lr_factor\":0.5,\n",
    "                           \"lr_patience\":50,\n",
    "                           \"lr_scheduler_metric\":\"reconstruction_loss_validation\"})"
   ]
  },
  {
   "cell_type": "code",
   "execution_count": 9,
   "id": "df5f00f6-8f45-4a88-b085-ff6aa019651e",
   "metadata": {
    "tags": []
   },
   "outputs": [
    {
     "name": "stderr",
     "output_type": "stream",
     "text": [
      "/d/hpc/home/mo6643/miniconda3/envs/msc1/lib/python3.10/site-packages/anndata/compat/_overloaded_dict.py:106: ImplicitModificationWarning: Trying to modify attribute `._uns` of view, initializing view as actual.\n",
      "  self.data[key] = value\n"
     ]
    },
    {
     "name": "stdout",
     "output_type": "stream",
     "text": [
      "\u001b[34mINFO    \u001b[0m Input AnnData not setup with scvi-tools. attempting to transfer AnnData setup                             \n"
     ]
    }
   ],
   "source": [
    "# dbdb\n",
    "preds_dbdb_h = model.translate(adata_to_predict_h, translate_dict={\"dataset\":\"db/db\", \"organism\": \"Mus musculus\"})\n",
    "preds_dbdb_OOD = model.translate(adata_to_predict_OOD, translate_dict={\"dataset\":\"db/db\", \"organism\": \"Mus musculus\"})\n",
    "\n",
    "# mSTZ\n",
    "preds_mSTZ_h = model.translate(adata_to_predict_h, translate_dict={\"dataset\":\"mSTZ\", \"organism\": \"Mus musculus\"})\n",
    "preds_mSTZ_OOD = model.translate(adata_to_predict_OOD, translate_dict={\"dataset\":\"mSTZ\", \"organism\": \"Mus musculus\"})"
   ]
  },
  {
   "cell_type": "code",
   "execution_count": 55,
   "id": "2a0bfe88-aa5e-42d1-9580-f935ee15694c",
   "metadata": {
    "tags": []
   },
   "outputs": [],
   "source": [
    "# GSEA performance -> TODO should be done on just on B cell from pancereas\n",
    "# load the biomart m2h translation\n",
    "m2h = pd.read_csv(\"./final_experiments/mouse2human_translations_for_GSEA_on-the-fly.csv\")\n",
    "\n",
    "ct = \"type B pancreatic cell\"\n",
    "# GT\n",
    "dbdb_ground_truth_h_Bcells = dbdb_ground_truth_h[dbdb_ground_truth_h.obs.cell_type == ct]\n",
    "mSTZ_ground_truth_h_Bcells = mSTZ_ground_truth_h[mSTZ_ground_truth_h.obs.cell_type == ct]\n",
    "# preds\n",
    "preds_dbdb_OOD_Bcells = preds_dbdb_OOD[preds_dbdb_OOD.obs.cell_type == ct]\n",
    "preds_mSTZ_OOD_Bcells = preds_mSTZ_OOD[preds_mSTZ_OOD.obs.cell_type == ct]\n",
    "\n",
    "# dbdb GT -> clean for GSEA\n",
    "new_var = dbdb_ground_truth_h_Bcells.var.merge(m2h, left_index=True, right_on=\"ensembl_gene_id\", how = \"left\")\n",
    "new_var.index = new_var[\"hsapiens_homolog_associated_gene_name\"]\n",
    "dbdb_ground_truth_h_Bcells.var = new_var\n",
    "\n",
    "# mSTZ GT -> clean for GSEA\n",
    "new_var = mSTZ_ground_truth_h_Bcells.var.merge(m2h, left_index=True, right_on=\"ensembl_gene_id\", how = \"left\")\n",
    "new_var.index = new_var[\"hsapiens_homolog_associated_gene_name\"]\n",
    "mSTZ_ground_truth_h_Bcells.var = new_var\n",
    "\n",
    "# dbdb preds -> clean for GSEA\n",
    "new_var = preds_dbdb_OOD_Bcells.var.merge(m2h, left_index=True, right_on=\"ensembl_gene_id\", how = \"left\")\n",
    "new_var.index = new_var[\"hsapiens_homolog_associated_gene_name\"]\n",
    "preds_dbdb_OOD_Bcells.var = new_var\n",
    "\n",
    "# mSTZ preds -> clean for GSEA\n",
    "new_var = preds_mSTZ_OOD_Bcells.var.merge(m2h, left_index=True, right_on=\"ensembl_gene_id\", how = \"left\")\n",
    "new_var.index = new_var[\"hsapiens_homolog_associated_gene_name\"]\n",
    "preds_mSTZ_OOD_Bcells.var = new_var\n",
    "\n",
    "# GSEA dbdb\n",
    "dbdb = sc.concat([dbdb_ground_truth_h_Bcells, preds_dbdb_OOD_Bcells])\n",
    "mSTZ = sc.concat([mSTZ_ground_truth_h_Bcells, preds_mSTZ_OOD_Bcells])\n",
    "\n",
    "res_KEGG =  gp.gsea(data=dbdb.to_df().T, # row -> genes, column-> samples\n",
    "                    gene_sets=\"KEGG_2019_Mouse\",\n",
    "                    cls=dbdb.obs.disease,\n",
    "                    permutation_num=1000,\n",
    "                    permutation_type='phenotype',\n",
    "                    outdir=None,\n",
    "                    method='s2n', # signal_to_noise\n",
    "                    threads=128,\n",
    "                    verbose=True)\n",
    "\n",
    "GSEA_results_dbdb = res_KEGG.res2d\n",
    "\n",
    "res_KEGG =  gp.gsea(data=mSTZ.to_df().T, # row -> genes, column-> samples\n",
    "                    gene_sets=\"KEGG_2019_Mouse\",\n",
    "                    cls=mSTZ.obs.disease,\n",
    "                    permutation_num=1000,\n",
    "                    permutation_type='phenotype',\n",
    "                    outdir=None,\n",
    "                    method='s2n', # signal_to_noise\n",
    "                    threads=128,\n",
    "                    verbose=True)\n",
    "\n",
    "GSEA_results_mSTZ = res_KEGG.res2d\n",
    "\n",
    "# get GT\n",
    "gt_pathways = pd.read_csv(\"gt_top_100_pathways.csv\")\n",
    "gt_top100pathways_dbdb = set(gt_pathways.dbdb_top100_pathways.tolist())\n",
    "gt_top100pathways_mSTZ = set(gt_pathways.mSTZ_top100_pathways.tolist())\n",
    "\n",
    "# compare\n",
    "GSEA_results_dbdb_pathways = set(GSEA_results_dbdb.Term[1:100].tolist())\n",
    "GSEA_results_mSTZ_pathways = set(GSEA_results_mSTZ.Term[1:100].tolist())\n",
    "\n",
    "len(gt_top100pathways_dbdb.intersection(GSEA_results_dbdb_pathways))\n",
    "len(gt_top100pathways_mSTZ.intersection(GSEA_results_mSTZ_pathways))"
   ]
  },
  {
   "cell_type": "markdown",
   "id": "072153cf-edbb-4b0a-92f9-4b5e9b19788f",
   "metadata": {},
   "source": [
    "### Making GT 100 top pathways"
   ]
  },
  {
   "cell_type": "code",
   "execution_count": 61,
   "id": "7b32a9f6-1ac3-4306-9b1e-7a4f4c87cb85",
   "metadata": {
    "tags": []
   },
   "outputs": [],
   "source": [
    "dbdb_ground_truth = sc.read_h5ad(f\"/d/hpc/projects/FRI/DL/mo6643/MSC/data/data_update_slack/data_splits/data_splits_train_merge/ground_truth/full_datasets/{dataset_ground_truth1}\")\n",
    "mSTZ_ground_truth = sc.read_h5ad(f\"/d/hpc/projects/FRI/DL/mo6643/MSC/data/data_update_slack/data_splits/data_splits_train_merge/ground_truth/full_datasets/{dataset_ground_truth2}\")"
   ]
  },
  {
   "cell_type": "code",
   "execution_count": 70,
   "id": "7965dca2-34f3-4e05-bbef-6ec040e21380",
   "metadata": {
    "tags": []
   },
   "outputs": [],
   "source": [
    "dbdb_ground_truth = dbdb_ground_truth[:,dbdb_ground_truth.var.index.isin(genes_intersection)]\n",
    "mSTZ_ground_truth = mSTZ_ground_truth[:,mSTZ_ground_truth.var.index.isin(genes_intersection)]"
   ]
  },
  {
   "cell_type": "code",
   "execution_count": 71,
   "id": "47c04a18-6c24-4fc4-bea3-dfe45318878b",
   "metadata": {
    "tags": []
   },
   "outputs": [],
   "source": [
    "dbdb_GT_Bcells = dbdb_ground_truth[dbdb_ground_truth.obs.cell_type == ct]\n",
    "mSTZ_GT_Bcells = mSTZ_ground_truth[mSTZ_ground_truth.obs.cell_type == ct]"
   ]
  },
  {
   "cell_type": "code",
   "execution_count": 78,
   "id": "a86de7dd-8bd4-48bb-919d-a5a271006279",
   "metadata": {
    "tags": []
   },
   "outputs": [],
   "source": [
    "# dbdb GT -> clean for GSEA\n",
    "new_var = dbdb_GT_Bcells.var.merge(m2h, left_index=True, right_on=\"ensembl_gene_id\", how = \"left\")\n",
    "new_var.index = new_var[\"hsapiens_homolog_associated_gene_name\"]\n",
    "dbdb_GT_Bcells.var = new_var\n",
    "\n",
    "# mSTZ GT -> clean for GSEA\n",
    "new_var = mSTZ_GT_Bcells.var.merge(m2h, left_index=True, right_on=\"ensembl_gene_id\", how = \"left\")\n",
    "new_var.index = new_var[\"hsapiens_homolog_associated_gene_name\"]\n",
    "mSTZ_GT_Bcells.var = new_var"
   ]
  },
  {
   "cell_type": "code",
   "execution_count": 90,
   "id": "5177d391-e134-40e1-9279-8febac3af985",
   "metadata": {},
   "outputs": [
    {
     "name": "stderr",
     "output_type": "stream",
     "text": [
      "2023-12-17 15:25:21,640 [INFO] Parsing data files for GSEA.............................\n",
      "2023-12-17 15:25:25,160 [INFO] Enrichr library gene sets already downloaded in: /d/hpc/home/mo6643/.cache/gseapy, use local file\n",
      "2023-12-17 15:25:25,179 [INFO] 0025 gene_sets have been filtered out when max_size=500 and min_size=15\n",
      "2023-12-17 15:25:25,180 [INFO] 0278 gene_sets used for further statistical testing.....\n",
      "2023-12-17 15:25:25,181 [INFO] Start to run GSEA...Might take a while..................\n",
      "2023-12-17 15:27:59,351 [INFO] Congratulations. GSEApy ran successfully.................\n",
      "\n"
     ]
    }
   ],
   "source": [
    "res_KEGG =  gp.gsea(data=dbdb_GT_Bcells.to_df().T, # row -> genes, column-> samples\n",
    "                    gene_sets=\"KEGG_2019_Mouse\",\n",
    "                    cls=dbdb_GT_Bcells.obs.disease,\n",
    "                    permutation_num=1000,\n",
    "                    permutation_type='phenotype',\n",
    "                    outdir=None,\n",
    "                    method='s2n', # signal_to_noise\n",
    "                    threads=128,\n",
    "                    verbose=True)\n",
    "\n",
    "GSEA_results_dbdb_GT = res_KEGG.res2d"
   ]
  },
  {
   "cell_type": "code",
   "execution_count": 88,
   "id": "0a34f054-3d45-4420-96e9-0dfd05f33878",
   "metadata": {
    "tags": []
   },
   "outputs": [
    {
     "name": "stderr",
     "output_type": "stream",
     "text": [
      "2023-12-17 15:23:57,260 [INFO] Parsing data files for GSEA.............................\n",
      "2023-12-17 15:23:58,964 [INFO] Enrichr library gene sets already downloaded in: /d/hpc/home/mo6643/.cache/gseapy, use local file\n",
      "2023-12-17 15:23:58,978 [INFO] 0026 gene_sets have been filtered out when max_size=500 and min_size=15\n",
      "2023-12-17 15:23:58,980 [INFO] 0277 gene_sets used for further statistical testing.....\n",
      "2023-12-17 15:23:58,980 [INFO] Start to run GSEA...Might take a while..................\n",
      "2023-12-17 15:25:20,716 [INFO] Congratulations. GSEApy ran successfully.................\n",
      "\n"
     ]
    }
   ],
   "source": [
    "res_KEGG =  gp.gsea(data=mSTZ_GT_Bcells.to_df().T, # row -> genes, column-> samples\n",
    "                    gene_sets=\"KEGG_2019_Mouse\",\n",
    "                    cls=mSTZ_GT_Bcells.obs.disease,\n",
    "                    permutation_num=1000,\n",
    "                    permutation_type='phenotype',\n",
    "                    outdir=None,\n",
    "                    method='s2n', # signal_to_noise\n",
    "                    threads=128,\n",
    "                    verbose=True)\n",
    "\n",
    "GSEA_results_mSTZ_GT = res_KEGG.res2d"
   ]
  },
  {
   "cell_type": "code",
   "execution_count": 96,
   "id": "18bf9517-1043-4c6e-ae7d-56783ea6ad80",
   "metadata": {},
   "outputs": [],
   "source": [
    "gt_pathways = pd.DataFrame({\"dbdb_top100_pathways\":GSEA_results_dbdb_GT.Term[0:100], \"mSTZ_top100_pathways\":GSEA_results_mSTZ_GT.Term[0:100]})"
   ]
  },
  {
   "cell_type": "code",
   "execution_count": 119,
   "id": "b032e903-c6c8-42c5-af44-906c0850a5a4",
   "metadata": {
    "tags": []
   },
   "outputs": [],
   "source": [
    "gt_pathways.to_csv(\"gt_top_100_pathways.csv\", index_label=\"\", index = False)"
   ]
  },
  {
   "cell_type": "code",
   "execution_count": 134,
   "id": "054cb82d-b20d-43ab-a737-300adb6fb41f",
   "metadata": {
    "tags": []
   },
   "outputs": [
    {
     "data": {
      "text/html": [
       "<div>\n",
       "<style scoped>\n",
       "    .dataframe tbody tr th:only-of-type {\n",
       "        vertical-align: middle;\n",
       "    }\n",
       "\n",
       "    .dataframe tbody tr th {\n",
       "        vertical-align: top;\n",
       "    }\n",
       "\n",
       "    .dataframe thead th {\n",
       "        text-align: right;\n",
       "    }\n",
       "</style>\n",
       "<table border=\"1\" class=\"dataframe\">\n",
       "  <thead>\n",
       "    <tr style=\"text-align: right;\">\n",
       "      <th></th>\n",
       "      <th>Name</th>\n",
       "      <th>Term</th>\n",
       "      <th>ES</th>\n",
       "      <th>NES</th>\n",
       "      <th>NOM p-val</th>\n",
       "      <th>FDR q-val</th>\n",
       "      <th>FWER p-val</th>\n",
       "      <th>Tag %</th>\n",
       "      <th>Gene %</th>\n",
       "      <th>Lead_genes</th>\n",
       "    </tr>\n",
       "  </thead>\n",
       "  <tbody>\n",
       "    <tr>\n",
       "      <th>0</th>\n",
       "      <td>gsea</td>\n",
       "      <td>Protein processing in endoplasmic reticulum</td>\n",
       "      <td>-0.648912</td>\n",
       "      <td>-2.721918</td>\n",
       "      <td>0.0</td>\n",
       "      <td>0.0</td>\n",
       "      <td>0.0</td>\n",
       "      <td>66/136</td>\n",
       "      <td>14.01%</td>\n",
       "      <td>SSR4;SEC61B;PDIA6;ERLEC1;EDEM2;DNAJC3;SSR2;DAD...</td>\n",
       "    </tr>\n",
       "    <tr>\n",
       "      <th>1</th>\n",
       "      <td>gsea</td>\n",
       "      <td>Osteoclast differentiation</td>\n",
       "      <td>0.552408</td>\n",
       "      <td>2.493151</td>\n",
       "      <td>0.0</td>\n",
       "      <td>0.0</td>\n",
       "      <td>0.0</td>\n",
       "      <td>27/95</td>\n",
       "      <td>12.84%</td>\n",
       "      <td>FOSB;FOS;JUN;JUNB;FOSL2;NFKBIA;JUND;SOCS3;FOSL...</td>\n",
       "    </tr>\n",
       "    <tr>\n",
       "      <th>2</th>\n",
       "      <td>gsea</td>\n",
       "      <td>Ribosome</td>\n",
       "      <td>-0.747836</td>\n",
       "      <td>-2.424443</td>\n",
       "      <td>0.0</td>\n",
       "      <td>0.0</td>\n",
       "      <td>0.0</td>\n",
       "      <td>50/86</td>\n",
       "      <td>11.90%</td>\n",
       "      <td>RPL4;RPL13;RPS5;RPL7;RPL6;RPS19;RPL3;RPS7;RPS1...</td>\n",
       "    </tr>\n",
       "    <tr>\n",
       "      <th>3</th>\n",
       "      <td>gsea</td>\n",
       "      <td>Glycolysis / Gluconeogenesis</td>\n",
       "      <td>-0.634025</td>\n",
       "      <td>-2.403574</td>\n",
       "      <td>0.0</td>\n",
       "      <td>0.0</td>\n",
       "      <td>0.0</td>\n",
       "      <td>12/45</td>\n",
       "      <td>10.47%</td>\n",
       "      <td>ALDH1A3;ALDOB;FBP2;PGK1;AKR1A1;FBP1;BPGM;PKM;G...</td>\n",
       "    </tr>\n",
       "    <tr>\n",
       "      <th>4</th>\n",
       "      <td>gsea</td>\n",
       "      <td>Protein export</td>\n",
       "      <td>-0.839893</td>\n",
       "      <td>-2.391023</td>\n",
       "      <td>0.0</td>\n",
       "      <td>0.0</td>\n",
       "      <td>0.0</td>\n",
       "      <td>12/19</td>\n",
       "      <td>9.60%</td>\n",
       "      <td>SEC11C;SEC61B;SRP9;SPCS1;SRP14;SEC11A;SPCS2;SR...</td>\n",
       "    </tr>\n",
       "    <tr>\n",
       "      <th>...</th>\n",
       "      <td>...</td>\n",
       "      <td>...</td>\n",
       "      <td>...</td>\n",
       "      <td>...</td>\n",
       "      <td>...</td>\n",
       "      <td>...</td>\n",
       "      <td>...</td>\n",
       "      <td>...</td>\n",
       "      <td>...</td>\n",
       "      <td>...</td>\n",
       "    </tr>\n",
       "    <tr>\n",
       "      <th>272</th>\n",
       "      <td>gsea</td>\n",
       "      <td>Notch signaling pathway</td>\n",
       "      <td>-0.194754</td>\n",
       "      <td>-0.733477</td>\n",
       "      <td>0.873541</td>\n",
       "      <td>0.92279</td>\n",
       "      <td>1.0</td>\n",
       "      <td>24/40</td>\n",
       "      <td>56.98%</td>\n",
       "      <td>NCSTN;CTBP1;APH1A;HES1;MAML2;JAG2;RFNG;NUMBL;S...</td>\n",
       "    </tr>\n",
       "    <tr>\n",
       "      <th>273</th>\n",
       "      <td>gsea</td>\n",
       "      <td>Steroid hormone biosynthesis</td>\n",
       "      <td>-0.24154</td>\n",
       "      <td>-0.726642</td>\n",
       "      <td>0.834829</td>\n",
       "      <td>0.924598</td>\n",
       "      <td>1.0</td>\n",
       "      <td>10/18</td>\n",
       "      <td>47.92%</td>\n",
       "      <td>HSD17B12;HSD17B7;SULT2B1;CYP19A1;SRD5A1;CYP1B1...</td>\n",
       "    </tr>\n",
       "    <tr>\n",
       "      <th>274</th>\n",
       "      <td>gsea</td>\n",
       "      <td>Nicotinate and nicotinamide metabolism</td>\n",
       "      <td>-0.208715</td>\n",
       "      <td>-0.676999</td>\n",
       "      <td>0.929236</td>\n",
       "      <td>0.958542</td>\n",
       "      <td>1.0</td>\n",
       "      <td>12/22</td>\n",
       "      <td>49.94%</td>\n",
       "      <td>NADK;NT5M;NT5E;NT5C3B;ENPP1;BST1;NUDT12;NMNAT1...</td>\n",
       "    </tr>\n",
       "    <tr>\n",
       "      <th>275</th>\n",
       "      <td>gsea</td>\n",
       "      <td>Aminoacyl-tRNA biosynthesis</td>\n",
       "      <td>0.195594</td>\n",
       "      <td>0.63381</td>\n",
       "      <td>0.930902</td>\n",
       "      <td>0.974531</td>\n",
       "      <td>1.0</td>\n",
       "      <td>21/21</td>\n",
       "      <td>81.71%</td>\n",
       "      <td>SEPSECS;NARS2;LARS2;QRSL1;PARS2;AARS2;RARS2;IA...</td>\n",
       "    </tr>\n",
       "    <tr>\n",
       "      <th>276</th>\n",
       "      <td>gsea</td>\n",
       "      <td>One carbon pool by folate</td>\n",
       "      <td>-0.216187</td>\n",
       "      <td>-0.622352</td>\n",
       "      <td>0.941065</td>\n",
       "      <td>0.978339</td>\n",
       "      <td>1.0</td>\n",
       "      <td>8/15</td>\n",
       "      <td>55.37%</td>\n",
       "      <td>ATIC;TYMS;MTFMT;MTHFD1L;AMT;MTR;MTHFD2L;FTCD</td>\n",
       "    </tr>\n",
       "  </tbody>\n",
       "</table>\n",
       "<p>277 rows × 10 columns</p>\n",
       "</div>"
      ],
      "text/plain": [
       "     Name                                         Term        ES       NES  \\\n",
       "0    gsea  Protein processing in endoplasmic reticulum -0.648912 -2.721918   \n",
       "1    gsea                   Osteoclast differentiation  0.552408  2.493151   \n",
       "2    gsea                                     Ribosome -0.747836 -2.424443   \n",
       "3    gsea                 Glycolysis / Gluconeogenesis -0.634025 -2.403574   \n",
       "4    gsea                               Protein export -0.839893 -2.391023   \n",
       "..    ...                                          ...       ...       ...   \n",
       "272  gsea                      Notch signaling pathway -0.194754 -0.733477   \n",
       "273  gsea                 Steroid hormone biosynthesis  -0.24154 -0.726642   \n",
       "274  gsea       Nicotinate and nicotinamide metabolism -0.208715 -0.676999   \n",
       "275  gsea                  Aminoacyl-tRNA biosynthesis  0.195594   0.63381   \n",
       "276  gsea                    One carbon pool by folate -0.216187 -0.622352   \n",
       "\n",
       "    NOM p-val FDR q-val FWER p-val   Tag %  Gene %  \\\n",
       "0         0.0       0.0        0.0  66/136  14.01%   \n",
       "1         0.0       0.0        0.0   27/95  12.84%   \n",
       "2         0.0       0.0        0.0   50/86  11.90%   \n",
       "3         0.0       0.0        0.0   12/45  10.47%   \n",
       "4         0.0       0.0        0.0   12/19   9.60%   \n",
       "..        ...       ...        ...     ...     ...   \n",
       "272  0.873541   0.92279        1.0   24/40  56.98%   \n",
       "273  0.834829  0.924598        1.0   10/18  47.92%   \n",
       "274  0.929236  0.958542        1.0   12/22  49.94%   \n",
       "275  0.930902  0.974531        1.0   21/21  81.71%   \n",
       "276  0.941065  0.978339        1.0    8/15  55.37%   \n",
       "\n",
       "                                            Lead_genes  \n",
       "0    SSR4;SEC61B;PDIA6;ERLEC1;EDEM2;DNAJC3;SSR2;DAD...  \n",
       "1    FOSB;FOS;JUN;JUNB;FOSL2;NFKBIA;JUND;SOCS3;FOSL...  \n",
       "2    RPL4;RPL13;RPS5;RPL7;RPL6;RPS19;RPL3;RPS7;RPS1...  \n",
       "3    ALDH1A3;ALDOB;FBP2;PGK1;AKR1A1;FBP1;BPGM;PKM;G...  \n",
       "4    SEC11C;SEC61B;SRP9;SPCS1;SRP14;SEC11A;SPCS2;SR...  \n",
       "..                                                 ...  \n",
       "272  NCSTN;CTBP1;APH1A;HES1;MAML2;JAG2;RFNG;NUMBL;S...  \n",
       "273  HSD17B12;HSD17B7;SULT2B1;CYP19A1;SRD5A1;CYP1B1...  \n",
       "274  NADK;NT5M;NT5E;NT5C3B;ENPP1;BST1;NUDT12;NMNAT1...  \n",
       "275  SEPSECS;NARS2;LARS2;QRSL1;PARS2;AARS2;RARS2;IA...  \n",
       "276       ATIC;TYMS;MTFMT;MTHFD1L;AMT;MTR;MTHFD2L;FTCD  \n",
       "\n",
       "[277 rows x 10 columns]"
      ]
     },
     "execution_count": 134,
     "metadata": {},
     "output_type": "execute_result"
    }
   ],
   "source": [
    "GSEA_results_mSTZ_GT"
   ]
  },
  {
   "cell_type": "markdown",
   "id": "fed2a9b0-c888-41c8-95c5-e52a95041904",
   "metadata": {},
   "source": [
    "### How many do I expect to match by chance?"
   ]
  },
  {
   "cell_type": "code",
   "execution_count": 137,
   "id": "e4892935-9b02-44d6-aedb-73c3bcf05aca",
   "metadata": {},
   "outputs": [
    {
     "data": {
      "text/plain": [
       "36.101083032490976"
      ]
     },
     "execution_count": 137,
     "metadata": {},
     "output_type": "execute_result"
    }
   ],
   "source": [
    "(100/277)*100"
   ]
  },
  {
   "cell_type": "code",
   "execution_count": null,
   "id": "c527dff9-5cc8-4502-9980-740bdddf5501",
   "metadata": {},
   "outputs": [],
   "source": []
  }
 ],
 "metadata": {
  "kernelspec": {
   "display_name": "Python 3 (ipykernel)",
   "language": "python",
   "name": "python3"
  },
  "language_info": {
   "codemirror_mode": {
    "name": "ipython",
    "version": 3
   },
   "file_extension": ".py",
   "mimetype": "text/x-python",
   "name": "python",
   "nbconvert_exporter": "python",
   "pygments_lexer": "ipython3",
   "version": "3.10.9"
  }
 },
 "nbformat": 4,
 "nbformat_minor": 5
}
