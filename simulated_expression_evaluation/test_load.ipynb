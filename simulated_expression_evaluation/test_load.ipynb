{
 "cells": [
  {
   "cell_type": "code",
   "execution_count": 1,
   "id": "313b887c-c5d6-43f5-9ce3-53cb02147f07",
   "metadata": {
    "tags": []
   },
   "outputs": [
    {
     "name": "stderr",
     "output_type": "stream",
     "text": [
      "/d/hpc/home/mo6643/miniconda3/envs/msc1/lib/python3.10/site-packages/scvi/_settings.py:63: UserWarning: Since v1.0.0, scvi-tools no longer uses a random seed by default. Run `scvi.settings.seed = 0` to reproduce results from previous versions.\n",
      "  self.seed = seed\n",
      "/d/hpc/home/mo6643/miniconda3/envs/msc1/lib/python3.10/site-packages/scvi/_settings.py:70: UserWarning: Setting `dl_pin_memory_gpu_training` is deprecated in v1.0 and will be removed in v1.1. Please pass in `pin_memory` to the data loaders instead.\n",
      "  self.dl_pin_memory_gpu_training = (\n"
     ]
    }
   ],
   "source": [
    "from transVAE.model.transVAE import transVAE\n",
    "from transVAE.module._utils import check_adatas_var_index, compute_r2_score\n",
    "import os\n",
    "import scanpy as sc"
   ]
  },
  {
   "cell_type": "code",
   "execution_count": 2,
   "id": "19348563-7b9f-4a4f-856d-b5d507ed2bda",
   "metadata": {
    "tags": []
   },
   "outputs": [],
   "source": [
    "home_dir = \"/d/hpc/projects/FRI/DL/mo6643/MSC/\""
   ]
  },
  {
   "cell_type": "code",
   "execution_count": 38,
   "id": "afdd15fa-7672-4f7f-a907-3877098c0a44",
   "metadata": {
    "tags": []
   },
   "outputs": [],
   "source": [
    "dataset_train = \"train_adata_baseline_top3000hvg.h5ad\""
   ]
  },
  {
   "cell_type": "code",
   "execution_count": 39,
   "id": "1a7ab356-9fd5-417f-8f8f-c256a6373355",
   "metadata": {
    "tags": []
   },
   "outputs": [],
   "source": [
    "adata_train = sc.read_h5ad(f\"/d/hpc/projects/FRI/DL/mo6643/MSC/data/data_update_slack/data_splits/data_splits_train_merge/train_data/{dataset_train}\")"
   ]
  },
  {
   "cell_type": "code",
   "execution_count": 32,
   "id": "45da5f14-4bd4-4514-9a32-7b76e80300fe",
   "metadata": {
    "tags": []
   },
   "outputs": [],
   "source": [
    "import anndata\n",
    "import pandas as pd\n",
    "import json\n",
    "\n",
    "def load_attributes_from_json(adata, filename):\n",
    "    \"\"\"Loads .uns and .obsm attributes into an AnnData object from a JSON file.\"\"\"\n",
    "    with open(filename, 'r') as f:\n",
    "        data = json.load(f)\n",
    "    \n",
    "    # Load .uns\n",
    "    for key, value in data['uns'].items():\n",
    "        adata.uns[key] = value\n",
    "\n",
    "    # Load .obsm\n",
    "    for key, value in data['obsm'].items():\n",
    "        df = pd.DataFrame(value)\n",
    "        df.index = adata.obs_names  # Set index to match observation names of adata\n",
    "        adata.obsm[key] = df\n",
    "        \n",
    "    return adata\n"
   ]
  },
  {
   "cell_type": "code",
   "execution_count": 40,
   "id": "f4151ce1-3cb3-4a86-9933-6e448fdaa8bc",
   "metadata": {
    "tags": []
   },
   "outputs": [
    {
     "data": {
      "text/plain": [
       "AnnData object with n_obs × n_vars = 209722 × 3000\n",
       "    obs: 'disease', 'dataset', 'organism'\n",
       "    var: 'highly_variable', 'means', 'dispersions', 'dispersions_norm'\n",
       "    uns: 'hvg'"
      ]
     },
     "execution_count": 40,
     "metadata": {},
     "output_type": "execute_result"
    }
   ],
   "source": [
    "adata_train"
   ]
  },
  {
   "cell_type": "code",
   "execution_count": 41,
   "id": "6fb9d002-3b43-4e8c-b749-98d66dd798f8",
   "metadata": {
    "tags": []
   },
   "outputs": [],
   "source": [
    "adata_train = load_attributes_from_json(adata_train, './test_save/model_adata_att.json')"
   ]
  },
  {
   "cell_type": "code",
   "execution_count": 2,
   "id": "3bd44007-829e-42ad-86ac-c24d7d692778",
   "metadata": {
    "tags": []
   },
   "outputs": [],
   "source": [
    "adata = sc.read_h5ad(\"./test_save/adata.h5ad\")"
   ]
  },
  {
   "cell_type": "code",
   "execution_count": 3,
   "id": "a7838078-7d2a-4aef-9e6d-7451cd6be6c3",
   "metadata": {
    "tags": []
   },
   "outputs": [
    {
     "name": "stdout",
     "output_type": "stream",
     "text": [
      "\u001b[34mINFO    \u001b[0m File .\u001b[35m/test_save/\u001b[0m\u001b[95mmodel.pt\u001b[0m already downloaded                                                              \n"
     ]
    },
    {
     "ename": "ValueError",
     "evalue": "The provided AnnData object does not match the AnnData object previously provided for setup. Did you make a copy?",
     "output_type": "error",
     "traceback": [
      "\u001b[0;31m---------------------------------------------------------------------------\u001b[0m",
      "\u001b[0;31mValueError\u001b[0m                                Traceback (most recent call last)",
      "Cell \u001b[0;32mIn[3], line 1\u001b[0m\n\u001b[0;32m----> 1\u001b[0m \u001b[43mtransVAE\u001b[49m\u001b[38;5;241;43m.\u001b[39;49m\u001b[43mload\u001b[49m\u001b[43m(\u001b[49m\u001b[38;5;124;43m\"\u001b[39;49m\u001b[38;5;124;43m./test_save\u001b[39;49m\u001b[38;5;124;43m\"\u001b[39;49m\u001b[43m,\u001b[49m\u001b[43m \u001b[49m\u001b[43madata\u001b[49m\u001b[43m \u001b[49m\u001b[38;5;241;43m=\u001b[39;49m\u001b[43m \u001b[49m\u001b[43madata\u001b[49m\u001b[43m)\u001b[49m\n",
      "File \u001b[0;32m~/miniconda3/envs/msc1/lib/python3.10/site-packages/scvi/model/base/_base_model.py:720\u001b[0m, in \u001b[0;36mBaseModelClass.load\u001b[0;34m(cls, dir_path, adata, use_gpu, accelerator, device, prefix, backup_url)\u001b[0m\n\u001b[1;32m    715\u001b[0m method_name \u001b[38;5;241m=\u001b[39m registry\u001b[38;5;241m.\u001b[39mget(_SETUP_METHOD_NAME, \u001b[38;5;124m\"\u001b[39m\u001b[38;5;124msetup_anndata\u001b[39m\u001b[38;5;124m\"\u001b[39m)\n\u001b[1;32m    716\u001b[0m \u001b[38;5;28mgetattr\u001b[39m(\u001b[38;5;28mcls\u001b[39m, method_name)(\n\u001b[1;32m    717\u001b[0m     adata, source_registry\u001b[38;5;241m=\u001b[39mregistry, \u001b[38;5;241m*\u001b[39m\u001b[38;5;241m*\u001b[39mregistry[_SETUP_ARGS_KEY]\n\u001b[1;32m    718\u001b[0m )\n\u001b[0;32m--> 720\u001b[0m model \u001b[38;5;241m=\u001b[39m \u001b[43m_initialize_model\u001b[49m\u001b[43m(\u001b[49m\u001b[38;5;28;43mcls\u001b[39;49m\u001b[43m,\u001b[49m\u001b[43m \u001b[49m\u001b[43madata\u001b[49m\u001b[43m,\u001b[49m\u001b[43m \u001b[49m\u001b[43mattr_dict\u001b[49m\u001b[43m)\u001b[49m\n\u001b[1;32m    721\u001b[0m model\u001b[38;5;241m.\u001b[39mmodule\u001b[38;5;241m.\u001b[39mon_load(model)\n\u001b[1;32m    722\u001b[0m model\u001b[38;5;241m.\u001b[39mmodule\u001b[38;5;241m.\u001b[39mload_state_dict(model_state_dict)\n",
      "File \u001b[0;32m~/miniconda3/envs/msc1/lib/python3.10/site-packages/scvi/model/base/_utils.py:130\u001b[0m, in \u001b[0;36m_initialize_model\u001b[0;34m(cls, adata, attr_dict)\u001b[0m\n\u001b[1;32m    127\u001b[0m \u001b[38;5;28;01mif\u001b[39;00m \u001b[38;5;124m\"\u001b[39m\u001b[38;5;124mpretrained_model\u001b[39m\u001b[38;5;124m\"\u001b[39m \u001b[38;5;129;01min\u001b[39;00m non_kwargs\u001b[38;5;241m.\u001b[39mkeys():\n\u001b[1;32m    128\u001b[0m     non_kwargs\u001b[38;5;241m.\u001b[39mpop(\u001b[38;5;124m\"\u001b[39m\u001b[38;5;124mpretrained_model\u001b[39m\u001b[38;5;124m\"\u001b[39m)\n\u001b[0;32m--> 130\u001b[0m model \u001b[38;5;241m=\u001b[39m \u001b[38;5;28;43mcls\u001b[39;49m\u001b[43m(\u001b[49m\u001b[43madata\u001b[49m\u001b[43m,\u001b[49m\u001b[43m \u001b[49m\u001b[38;5;241;43m*\u001b[39;49m\u001b[38;5;241;43m*\u001b[39;49m\u001b[43mnon_kwargs\u001b[49m\u001b[43m,\u001b[49m\u001b[43m \u001b[49m\u001b[38;5;241;43m*\u001b[39;49m\u001b[38;5;241;43m*\u001b[39;49m\u001b[43mkwargs\u001b[49m\u001b[43m)\u001b[49m\n\u001b[1;32m    131\u001b[0m \u001b[38;5;28;01mfor\u001b[39;00m attr, val \u001b[38;5;129;01min\u001b[39;00m attr_dict\u001b[38;5;241m.\u001b[39mitems():\n\u001b[1;32m    132\u001b[0m     \u001b[38;5;28msetattr\u001b[39m(model, attr, val)\n",
      "File \u001b[0;32m/d/hpc/projects/FRI/DL/mo6643/MSC/cross_species_prediction/transVAE_seml/transVAE/model/transVAE.py:43\u001b[0m, in \u001b[0;36mtransVAE.__init__\u001b[0;34m(self, adata, n_labels, n_hidden, n_latent, n_layers, dropout_rate, cov_embed_dims, kl_weight, **model_kwargs)\u001b[0m\n\u001b[1;32m     31\u001b[0m \u001b[38;5;28;01mdef\u001b[39;00m \u001b[38;5;21m__init__\u001b[39m(\n\u001b[1;32m     32\u001b[0m     \u001b[38;5;28mself\u001b[39m,\n\u001b[1;32m     33\u001b[0m     adata: AnnData,\n\u001b[0;32m   (...)\u001b[0m\n\u001b[1;32m     41\u001b[0m     \u001b[38;5;241m*\u001b[39m\u001b[38;5;241m*\u001b[39mmodel_kwargs,\n\u001b[1;32m     42\u001b[0m ):\n\u001b[0;32m---> 43\u001b[0m     \u001b[38;5;28;43msuper\u001b[39;49m\u001b[43m(\u001b[49m\u001b[43m)\u001b[49m\u001b[38;5;241;43m.\u001b[39;49m\u001b[38;5;21;43m__init__\u001b[39;49m\u001b[43m(\u001b[49m\u001b[43madata\u001b[49m\u001b[43m)\u001b[49m\n\u001b[1;32m     44\u001b[0m     \u001b[38;5;66;03m# assign n_input\u001b[39;00m\n\u001b[1;32m     45\u001b[0m     n_input \u001b[38;5;241m=\u001b[39m \u001b[38;5;28mself\u001b[39m\u001b[38;5;241m.\u001b[39msummary_stats\u001b[38;5;241m.\u001b[39mn_vars\n",
      "File \u001b[0;32m~/miniconda3/envs/msc1/lib/python3.10/site-packages/scvi/model/base/_base_model.py:92\u001b[0m, in \u001b[0;36mBaseModelClass.__init__\u001b[0;34m(self, adata)\u001b[0m\n\u001b[1;32m     90\u001b[0m \u001b[38;5;28;01mif\u001b[39;00m adata \u001b[38;5;129;01mis\u001b[39;00m \u001b[38;5;129;01mnot\u001b[39;00m \u001b[38;5;28;01mNone\u001b[39;00m:\n\u001b[1;32m     91\u001b[0m     \u001b[38;5;28mself\u001b[39m\u001b[38;5;241m.\u001b[39m_adata \u001b[38;5;241m=\u001b[39m adata\n\u001b[0;32m---> 92\u001b[0m     \u001b[38;5;28mself\u001b[39m\u001b[38;5;241m.\u001b[39m_adata_manager \u001b[38;5;241m=\u001b[39m \u001b[38;5;28;43mself\u001b[39;49m\u001b[38;5;241;43m.\u001b[39;49m\u001b[43m_get_most_recent_anndata_manager\u001b[49m\u001b[43m(\u001b[49m\n\u001b[1;32m     93\u001b[0m \u001b[43m        \u001b[49m\u001b[43madata\u001b[49m\u001b[43m,\u001b[49m\u001b[43m \u001b[49m\u001b[43mrequired\u001b[49m\u001b[38;5;241;43m=\u001b[39;49m\u001b[38;5;28;43;01mTrue\u001b[39;49;00m\n\u001b[1;32m     94\u001b[0m \u001b[43m    \u001b[49m\u001b[43m)\u001b[49m\n\u001b[1;32m     95\u001b[0m     \u001b[38;5;28mself\u001b[39m\u001b[38;5;241m.\u001b[39m_register_manager_for_instance(\u001b[38;5;28mself\u001b[39m\u001b[38;5;241m.\u001b[39madata_manager)\n\u001b[1;32m     96\u001b[0m     \u001b[38;5;66;03m# Suffix registry instance variable with _ to include it when saving the model.\u001b[39;00m\n",
      "File \u001b[0;32m~/miniconda3/envs/msc1/lib/python3.10/site-packages/scvi/model/base/_base_model.py:306\u001b[0m, in \u001b[0;36mBaseModelClass._get_most_recent_anndata_manager\u001b[0;34m(cls, adata, required)\u001b[0m\n\u001b[1;32m    304\u001b[0m adata_manager \u001b[38;5;241m=\u001b[39m \u001b[38;5;28mcls\u001b[39m\u001b[38;5;241m.\u001b[39m_setup_adata_manager_store[adata_id]\n\u001b[1;32m    305\u001b[0m \u001b[38;5;28;01mif\u001b[39;00m adata_manager\u001b[38;5;241m.\u001b[39madata \u001b[38;5;129;01mis\u001b[39;00m \u001b[38;5;129;01mnot\u001b[39;00m adata:\n\u001b[0;32m--> 306\u001b[0m     \u001b[38;5;28;01mraise\u001b[39;00m \u001b[38;5;167;01mValueError\u001b[39;00m(\n\u001b[1;32m    307\u001b[0m         \u001b[38;5;124m\"\u001b[39m\u001b[38;5;124mThe provided AnnData object does not match the AnnData object \u001b[39m\u001b[38;5;124m\"\u001b[39m\n\u001b[1;32m    308\u001b[0m         \u001b[38;5;124m\"\u001b[39m\u001b[38;5;124mpreviously provided for setup. Did you make a copy?\u001b[39m\u001b[38;5;124m\"\u001b[39m\n\u001b[1;32m    309\u001b[0m     )\n\u001b[1;32m    311\u001b[0m \u001b[38;5;28;01mreturn\u001b[39;00m adata_manager\n",
      "\u001b[0;31mValueError\u001b[0m: The provided AnnData object does not match the AnnData object previously provided for setup. Did you make a copy?"
     ]
    }
   ],
   "source": [
    "transVAE.load(\"./test_save\", adata = adata)"
   ]
  }
 ],
 "metadata": {
  "kernelspec": {
   "display_name": "Python 3 (ipykernel)",
   "language": "python",
   "name": "python3"
  },
  "language_info": {
   "codemirror_mode": {
    "name": "ipython",
    "version": 3
   },
   "file_extension": ".py",
   "mimetype": "text/x-python",
   "name": "python",
   "nbconvert_exporter": "python",
   "pygments_lexer": "ipython3",
   "version": "3.10.9"
  }
 },
 "nbformat": 4,
 "nbformat_minor": 5
}
