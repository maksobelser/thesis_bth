{
 "cells": [
  {
   "cell_type": "code",
   "execution_count": 16,
   "id": "c1c8c1b1-b200-4c43-847b-9219c2221887",
   "metadata": {
    "tags": []
   },
   "outputs": [],
   "source": [
    "import scanpy as sc\n",
    "import pandas as pd\n",
    "import numpy as np"
   ]
  },
  {
   "cell_type": "code",
   "execution_count": 3,
   "id": "44b7d3e0-c2e5-42bd-aecd-a13d4765bc67",
   "metadata": {
    "tags": []
   },
   "outputs": [],
   "source": [
    "baseline = sc.read_h5ad(\"/d/hpc/projects/FRI/DL/mo6643/MSC/data/data_update_slack/data_splits/data_splits_train_merge/train_data/full_datasets/train_adata_baseline.h5ad\")"
   ]
  },
  {
   "cell_type": "code",
   "execution_count": 9,
   "id": "2b1ab22f-38c1-4247-8222-e9d69d475730",
   "metadata": {
    "tags": []
   },
   "outputs": [],
   "source": [
    "genes = pd.read_csv(\"/d/hpc/projects/FRI/DL/mo6643/MSC/data/data_update_slack/data_splits/data_splits_train_merge/top3000_hv_genes_gr_truth_and_baseline_across_datasets.csv\")[\"EID\"]"
   ]
  },
  {
   "cell_type": "code",
   "execution_count": 11,
   "id": "ca4b3d2e-ff88-4266-98d4-26d4cbdf9c5c",
   "metadata": {
    "tags": []
   },
   "outputs": [],
   "source": [
    "sc.pp.highly_variable_genes(baseline, n_top_genes=3000)"
   ]
  },
  {
   "cell_type": "code",
   "execution_count": 14,
   "id": "6bd7da71-34cd-4b36-8c93-90225c791841",
   "metadata": {
    "tags": []
   },
   "outputs": [],
   "source": [
    "df = pd.DataFrame(index = baseline.var.index[baseline.var.highly_variable])"
   ]
  },
  {
   "cell_type": "code",
   "execution_count": 17,
   "id": "79ee9898-8191-4eb2-a184-e679dc8342bb",
   "metadata": {
    "tags": []
   },
   "outputs": [
    {
     "data": {
      "text/plain": [
       "74.3"
      ]
     },
     "execution_count": 17,
     "metadata": {},
     "output_type": "execute_result"
    }
   ],
   "source": [
    "np.mean(df.index.isin(genes))*100"
   ]
  }
 ],
 "metadata": {
  "kernelspec": {
   "display_name": "Python 3 (ipykernel)",
   "language": "python",
   "name": "python3"
  },
  "language_info": {
   "codemirror_mode": {
    "name": "ipython",
    "version": 3
   },
   "file_extension": ".py",
   "mimetype": "text/x-python",
   "name": "python",
   "nbconvert_exporter": "python",
   "pygments_lexer": "ipython3",
   "version": "3.10.9"
  }
 },
 "nbformat": 4,
 "nbformat_minor": 5
}
