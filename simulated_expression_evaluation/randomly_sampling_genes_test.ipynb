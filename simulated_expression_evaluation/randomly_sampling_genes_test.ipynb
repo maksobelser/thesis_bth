{
 "cells": [
  {
   "cell_type": "code",
   "execution_count": 1,
   "id": "0086fe60-197c-4491-9065-726b18b8548c",
   "metadata": {
    "tags": []
   },
   "outputs": [],
   "source": [
    "import scanpy as sc\n",
    "import pandas as pd"
   ]
  },
  {
   "cell_type": "code",
   "execution_count": 2,
   "id": "bcd41314-2a34-4b30-8c9c-f0fd12105671",
   "metadata": {
    "tags": []
   },
   "outputs": [],
   "source": [
    "genes_intersection = pd.read_table(\"/d/hpc/projects/FRI/DL/mo6643/MSC/data/data_update_slack/data_splits/data_splits_train_merge/make_big_dataset/genes_shared_across_datasets.txt\")\n",
    "sampled_genes = genes_intersection['genes_shared_across_datasets'].sample(n=3000, random_state=42).tolist()"
   ]
  },
  {
   "cell_type": "code",
   "execution_count": 3,
   "id": "cbd8ae8e-18ac-4849-ac1b-43bc0c07aeb2",
   "metadata": {
    "tags": []
   },
   "outputs": [],
   "source": [
    "adata = sc.read_h5ad(f\"/d/hpc/projects/FRI/DL/mo6643/MSC/data/data_update_slack/data_splits/data_splits_train_merge/train_data/full_datasets/train_adata_baseline.h5ad\")"
   ]
  },
  {
   "cell_type": "code",
   "execution_count": 26,
   "id": "6dd8cdb4-c197-4edd-beee-eeb240a1b7ea",
   "metadata": {
    "tags": []
   },
   "outputs": [],
   "source": [
    "adata_train = adata[:,adata.var.index.isin(sampled_genes)]"
   ]
  },
  {
   "cell_type": "code",
   "execution_count": 60,
   "id": "aa2a8463-a9db-4cd2-9fa8-5aab7b7c4adf",
   "metadata": {},
   "outputs": [],
   "source": [
    "adata_to_predict = sc.read_h5ad(f\"/d/hpc/projects/FRI/DL/mo6643/MSC/data/data_update_slack/data_splits/data_splits_train_merge/data_to_predict/wang_to_predict.h5ad\")\n",
    "dbdb_ground_truth = sc.read_h5ad(f\"/d/hpc/projects/FRI/DL/mo6643/MSC/data/data_update_slack/data_splits/data_splits_train_merge/ground_truth/full_datasets/dbdb_ground_truth.h5ad\")\n",
    "mSTZ_ground_truth = sc.read_h5ad(f\"/d/hpc/projects/FRI/DL/mo6643/MSC/data/data_update_slack/data_splits/data_splits_train_merge/ground_truth/full_datasets/mSTZ_ground_truth.h5ad\")"
   ]
  },
  {
   "cell_type": "code",
   "execution_count": 22,
   "id": "b4221337-0da3-4ab7-aa9f-520cea8679c8",
   "metadata": {
    "tags": []
   },
   "outputs": [],
   "source": [
    "from itertools import combinations\n",
    "\n",
    "def check_adatas_var_index(*adatas):\n",
    "    \"\"\"Check if the variable indices of all provided AnnData objects are the same and in the same order.\"\"\"\n",
    "    for i, j in combinations(range(len(adatas)), 2):\n",
    "        if not all(adatas[i].var.index == adatas[j].var.index):\n",
    "            raise ValueError(f\"The variable indices of the AnnData objects at positions {i} and {j} do not match!\")\n",
    "    print(\"Everything ok!\")"
   ]
  },
  {
   "cell_type": "code",
   "execution_count": 27,
   "id": "a65667bc-9957-4184-afc6-8fd107d8681f",
   "metadata": {
    "tags": []
   },
   "outputs": [],
   "source": [
    "adata_train = adata_train[:,adata_train.var.sort_index().index]"
   ]
  },
  {
   "cell_type": "code",
   "execution_count": 56,
   "id": "093f5f94-9799-4fca-9558-48e1e70205b4",
   "metadata": {
    "tags": []
   },
   "outputs": [],
   "source": [
    "adata_to_predict = adata_to_predict[:,adata_to_predict.var.index.isin(sampled_genes)]\n",
    "dbdb_ground_truth = dbdb_ground_truth[:,dbdb_ground_truth.var.index.isin(sampled_genes)]\n",
    "mSTZ_ground_truth = mSTZ_ground_truth[:,mSTZ_ground_truth.var.index.isin(sampled_genes)]"
   ]
  },
  {
   "cell_type": "code",
   "execution_count": 30,
   "id": "366bb609-6aed-470d-8170-24d1c7eb10a6",
   "metadata": {
    "tags": []
   },
   "outputs": [
    {
     "name": "stdout",
     "output_type": "stream",
     "text": [
      "Everything ok!\n"
     ]
    }
   ],
   "source": [
    "check_adatas_var_index(adata_train, adata_to_predict[:,adata_to_predict.var.sort_index().index], dbdb_ground_truth, mSTZ_ground_truth)"
   ]
  },
  {
   "cell_type": "code",
   "execution_count": 33,
   "id": "f43a615f-d30b-4841-9c8e-09aa3c670003",
   "metadata": {
    "tags": []
   },
   "outputs": [
    {
     "data": {
      "text/plain": [
       "['beta', 'alpha', 'delta', 'gamma']\n",
       "Categories (4, object): ['alpha', 'beta', 'delta', 'gamma']"
      ]
     },
     "execution_count": 33,
     "metadata": {},
     "output_type": "execute_result"
    }
   ],
   "source": [
    "adata_to_predict.obs.cell_type.unique()"
   ]
  },
  {
   "cell_type": "code",
   "execution_count": 38,
   "id": "86340654-084e-4e87-a031-a2e376ce2a93",
   "metadata": {
    "tags": []
   },
   "outputs": [
    {
     "data": {
      "text/plain": [
       "type B pancreatic cell       31983\n",
       "hematopoietic cell           13369\n",
       "pancreatic A cell             6587\n",
       "pancreatic D cell             4641\n",
       "pancreatic stellate cell      3698\n",
       "endothelial cell              2977\n",
       "pancreatic ductal cell        2906\n",
       "pancreatic endocrine cell     1550\n",
       "pancreatic PP cell            1209\n",
       "cell                           408\n",
       "pancreatic acinar cell         326\n",
       "native cell                     46\n",
       "Schwann cell                    45\n",
       "Name: cell_type, dtype: int64"
      ]
     },
     "execution_count": 38,
     "metadata": {},
     "output_type": "execute_result"
    }
   ],
   "source": [
    "dbdb_ground_truth.obs.cell_type.value_counts()"
   ]
  },
  {
   "cell_type": "code",
   "execution_count": 35,
   "id": "67803e97-9dc5-4a55-bc6a-a6e8081e5a90",
   "metadata": {
    "tags": []
   },
   "outputs": [
    {
     "data": {
      "text/plain": [
       "View of AnnData object with n_obs × n_vars = 69745 × 3000\n",
       "    obs: 'disease', 'dataset', 'organism', 'cell_type'"
      ]
     },
     "execution_count": 35,
     "metadata": {},
     "output_type": "execute_result"
    }
   ],
   "source": [
    "dbdb_ground_truth"
   ]
  },
  {
   "cell_type": "code",
   "execution_count": 36,
   "id": "79c07200-e1e2-4c2f-afe5-6bedfe172884",
   "metadata": {
    "tags": []
   },
   "outputs": [
    {
     "data": {
      "text/plain": [
       "View of AnnData object with n_obs × n_vars = 49596 × 3000\n",
       "    obs: 'disease', 'cell_type', 'organism', 'dataset', 'n_counts'\n",
       "    uns: 'log1p'"
      ]
     },
     "execution_count": 36,
     "metadata": {},
     "output_type": "execute_result"
    }
   ],
   "source": [
    "adata_to_predict"
   ]
  },
  {
   "cell_type": "code",
   "execution_count": 39,
   "id": "7be320e8-104e-43bf-be12-332c640abc8b",
   "metadata": {
    "tags": []
   },
   "outputs": [
    {
     "data": {
      "text/plain": [
       "type B pancreatic cell       14329\n",
       "pancreatic A cell            11654\n",
       "pancreatic D cell             7577\n",
       "hematopoietic cell            5750\n",
       "pancreatic endocrine cell     4128\n",
       "pancreatic PP cell            2442\n",
       "endothelial cell              1709\n",
       "pancreatic stellate cell      1317\n",
       "pancreatic ductal cell         253\n",
       "Schwann cell                   186\n",
       "cell                           138\n",
       "pancreatic acinar cell          32\n",
       "native cell                     30\n",
       "Name: cell_type, dtype: int64"
      ]
     },
     "execution_count": 39,
     "metadata": {},
     "output_type": "execute_result"
    }
   ],
   "source": [
    "mSTZ_ground_truth.obs.cell_type.value_counts()"
   ]
  },
  {
   "cell_type": "code",
   "execution_count": 55,
   "id": "7bc33040-4bb3-4621-b4ff-abe9564bc28f",
   "metadata": {
    "tags": []
   },
   "outputs": [
    {
     "data": {
      "text/plain": [
       "Series([], Name: cell_type, dtype: int64)"
      ]
     },
     "execution_count": 55,
     "metadata": {},
     "output_type": "execute_result"
    }
   ],
   "source": [
    "adata_to_predict.obs.cell_type.value_counts()"
   ]
  },
  {
   "cell_type": "code",
   "execution_count": 63,
   "id": "ac8b0ef0-5d88-4586-9550-3f6615f32534",
   "metadata": {
    "tags": []
   },
   "outputs": [],
   "source": [
    "adata_to_predict = adata_to_predict[~(adata_to_predict.obs.cell_type == \"gamma\")]"
   ]
  },
  {
   "cell_type": "code",
   "execution_count": 61,
   "id": "13f194c4-c797-4243-b2e0-e3f0fdc5f304",
   "metadata": {
    "tags": []
   },
   "outputs": [],
   "source": [
    "adata_to_predict.obs[\"cell_type\"] = adata_to_predict.obs.cell_type.replace({\"alpha\": \"pancreatic A cell\",\n",
    "                                        \"beta\": \"type B pancreatic cell\",\n",
    "                                        \"delta\": \"pancreatic D cell\"})"
   ]
  },
  {
   "cell_type": "code",
   "execution_count": 64,
   "id": "2124616f-93e5-4f56-a0fa-ad7424970ac7",
   "metadata": {
    "tags": []
   },
   "outputs": [
    {
     "data": {
      "text/html": [
       "<div>\n",
       "<style scoped>\n",
       "    .dataframe tbody tr th:only-of-type {\n",
       "        vertical-align: middle;\n",
       "    }\n",
       "\n",
       "    .dataframe tbody tr th {\n",
       "        vertical-align: top;\n",
       "    }\n",
       "\n",
       "    .dataframe thead th {\n",
       "        text-align: right;\n",
       "    }\n",
       "</style>\n",
       "<table border=\"1\" class=\"dataframe\">\n",
       "  <thead>\n",
       "    <tr style=\"text-align: right;\">\n",
       "      <th></th>\n",
       "      <th>disease</th>\n",
       "      <th>cell_type</th>\n",
       "      <th>organism</th>\n",
       "      <th>dataset</th>\n",
       "      <th>n_counts</th>\n",
       "    </tr>\n",
       "  </thead>\n",
       "  <tbody>\n",
       "    <tr>\n",
       "      <th>A0019_AAACAGCCAGGACCAA-1</th>\n",
       "      <td>healthy</td>\n",
       "      <td>type B pancreatic cell</td>\n",
       "      <td>Homo sapiens</td>\n",
       "      <td>Wang</td>\n",
       "      <td>3698.0</td>\n",
       "    </tr>\n",
       "    <tr>\n",
       "      <th>A0019_AAACAGCCATGAGTTT-1</th>\n",
       "      <td>healthy</td>\n",
       "      <td>type B pancreatic cell</td>\n",
       "      <td>Homo sapiens</td>\n",
       "      <td>Wang</td>\n",
       "      <td>4016.0</td>\n",
       "    </tr>\n",
       "    <tr>\n",
       "      <th>A0019_AAACATGCAGCTTAAT-1</th>\n",
       "      <td>healthy</td>\n",
       "      <td>pancreatic A cell</td>\n",
       "      <td>Homo sapiens</td>\n",
       "      <td>Wang</td>\n",
       "      <td>4438.0</td>\n",
       "    </tr>\n",
       "    <tr>\n",
       "      <th>A0019_AAACCAACACTATGGC-1</th>\n",
       "      <td>healthy</td>\n",
       "      <td>type B pancreatic cell</td>\n",
       "      <td>Homo sapiens</td>\n",
       "      <td>Wang</td>\n",
       "      <td>3437.0</td>\n",
       "    </tr>\n",
       "    <tr>\n",
       "      <th>A0019_AAACGCGCAGCTAACC-1</th>\n",
       "      <td>healthy</td>\n",
       "      <td>pancreatic A cell</td>\n",
       "      <td>Homo sapiens</td>\n",
       "      <td>Wang</td>\n",
       "      <td>3777.0</td>\n",
       "    </tr>\n",
       "    <tr>\n",
       "      <th>...</th>\n",
       "      <td>...</td>\n",
       "      <td>...</td>\n",
       "      <td>...</td>\n",
       "      <td>...</td>\n",
       "      <td>...</td>\n",
       "    </tr>\n",
       "    <tr>\n",
       "      <th>C0027_TTTGTTGGTGAGGTAG-1</th>\n",
       "      <td>healthy</td>\n",
       "      <td>pancreatic A cell</td>\n",
       "      <td>Homo sapiens</td>\n",
       "      <td>Wang</td>\n",
       "      <td>1667.0</td>\n",
       "    </tr>\n",
       "    <tr>\n",
       "      <th>C0027_TTTGTTGGTGCTCCGT-1</th>\n",
       "      <td>healthy</td>\n",
       "      <td>type B pancreatic cell</td>\n",
       "      <td>Homo sapiens</td>\n",
       "      <td>Wang</td>\n",
       "      <td>2320.0</td>\n",
       "    </tr>\n",
       "    <tr>\n",
       "      <th>C0027_TTTGTTGGTGTGTCCC-1</th>\n",
       "      <td>healthy</td>\n",
       "      <td>type B pancreatic cell</td>\n",
       "      <td>Homo sapiens</td>\n",
       "      <td>Wang</td>\n",
       "      <td>3328.0</td>\n",
       "    </tr>\n",
       "    <tr>\n",
       "      <th>C0027_TTTGTTGGTTTCGCGC-1</th>\n",
       "      <td>healthy</td>\n",
       "      <td>type B pancreatic cell</td>\n",
       "      <td>Homo sapiens</td>\n",
       "      <td>Wang</td>\n",
       "      <td>2507.0</td>\n",
       "    </tr>\n",
       "    <tr>\n",
       "      <th>C0027_TTTGTTGGTTTGACCT-1</th>\n",
       "      <td>healthy</td>\n",
       "      <td>type B pancreatic cell</td>\n",
       "      <td>Homo sapiens</td>\n",
       "      <td>Wang</td>\n",
       "      <td>5522.0</td>\n",
       "    </tr>\n",
       "  </tbody>\n",
       "</table>\n",
       "<p>48696 rows × 5 columns</p>\n",
       "</div>"
      ],
      "text/plain": [
       "                          disease               cell_type      organism  \\\n",
       "A0019_AAACAGCCAGGACCAA-1  healthy  type B pancreatic cell  Homo sapiens   \n",
       "A0019_AAACAGCCATGAGTTT-1  healthy  type B pancreatic cell  Homo sapiens   \n",
       "A0019_AAACATGCAGCTTAAT-1  healthy       pancreatic A cell  Homo sapiens   \n",
       "A0019_AAACCAACACTATGGC-1  healthy  type B pancreatic cell  Homo sapiens   \n",
       "A0019_AAACGCGCAGCTAACC-1  healthy       pancreatic A cell  Homo sapiens   \n",
       "...                           ...                     ...           ...   \n",
       "C0027_TTTGTTGGTGAGGTAG-1  healthy       pancreatic A cell  Homo sapiens   \n",
       "C0027_TTTGTTGGTGCTCCGT-1  healthy  type B pancreatic cell  Homo sapiens   \n",
       "C0027_TTTGTTGGTGTGTCCC-1  healthy  type B pancreatic cell  Homo sapiens   \n",
       "C0027_TTTGTTGGTTTCGCGC-1  healthy  type B pancreatic cell  Homo sapiens   \n",
       "C0027_TTTGTTGGTTTGACCT-1  healthy  type B pancreatic cell  Homo sapiens   \n",
       "\n",
       "                         dataset  n_counts  \n",
       "A0019_AAACAGCCAGGACCAA-1    Wang    3698.0  \n",
       "A0019_AAACAGCCATGAGTTT-1    Wang    4016.0  \n",
       "A0019_AAACATGCAGCTTAAT-1    Wang    4438.0  \n",
       "A0019_AAACCAACACTATGGC-1    Wang    3437.0  \n",
       "A0019_AAACGCGCAGCTAACC-1    Wang    3777.0  \n",
       "...                          ...       ...  \n",
       "C0027_TTTGTTGGTGAGGTAG-1    Wang    1667.0  \n",
       "C0027_TTTGTTGGTGCTCCGT-1    Wang    2320.0  \n",
       "C0027_TTTGTTGGTGTGTCCC-1    Wang    3328.0  \n",
       "C0027_TTTGTTGGTTTCGCGC-1    Wang    2507.0  \n",
       "C0027_TTTGTTGGTTTGACCT-1    Wang    5522.0  \n",
       "\n",
       "[48696 rows x 5 columns]"
      ]
     },
     "execution_count": 64,
     "metadata": {},
     "output_type": "execute_result"
    }
   ],
   "source": [
    "adata_to_predict.obs"
   ]
  },
  {
   "cell_type": "code",
   "execution_count": 67,
   "id": "6f9b1f64-a934-4b5d-b752-36abf48a3bd5",
   "metadata": {
    "tags": []
   },
   "outputs": [],
   "source": [
    "adata_to_predict.write_h5ad(\"/d/hpc/projects/FRI/DL/mo6643/MSC/data/data_update_slack/data_splits/data_splits_train_merge/data_to_predict/wang_to_predict_cleanCT.h5ad\")"
   ]
  },
  {
   "cell_type": "code",
   "execution_count": 70,
   "id": "27fbc117-d641-4d06-aeef-d154eb1ddd25",
   "metadata": {
    "tags": []
   },
   "outputs": [],
   "source": [
    "cts_to_consider = adata_to_predict.obs.cell_type.unique().tolist()"
   ]
  },
  {
   "cell_type": "code",
   "execution_count": 75,
   "id": "fdd6b618-62d7-4ad7-b1fa-6ef7d7df92bc",
   "metadata": {
    "tags": []
   },
   "outputs": [],
   "source": [
    "dbdb_ground_truth = dbdb_ground_truth[dbdb_ground_truth.obs.cell_type.isin(cts_to_consider)]"
   ]
  },
  {
   "cell_type": "code",
   "execution_count": 76,
   "id": "bfec8b42-315e-42c7-bd7a-e0ada123b7f1",
   "metadata": {
    "tags": []
   },
   "outputs": [],
   "source": [
    "dbdb_ground_truth.write_h5ad(\"/d/hpc/projects/FRI/DL/mo6643/MSC/data/data_update_slack/data_splits/data_splits_train_merge/ground_truth/full_datasets/dbdb_ground_truth_cleanCT.h5ad\")"
   ]
  },
  {
   "cell_type": "code",
   "execution_count": 77,
   "id": "460087a5-6dfc-44a6-b423-45406a047479",
   "metadata": {
    "tags": []
   },
   "outputs": [],
   "source": [
    "mSTZ_ground_truth = mSTZ_ground_truth[mSTZ_ground_truth.obs.cell_type.isin(cts_to_consider)]"
   ]
  },
  {
   "cell_type": "code",
   "execution_count": 79,
   "id": "e1831b0d-ad49-45da-895d-240a3e6765f1",
   "metadata": {
    "tags": []
   },
   "outputs": [],
   "source": [
    "mSTZ_ground_truth.write_h5ad(\"/d/hpc/projects/FRI/DL/mo6643/MSC/data/data_update_slack/data_splits/data_splits_train_merge/ground_truth/full_datasets/mSTZ_ground_truth_cleanCT.h5ad\")"
   ]
  },
  {
   "cell_type": "code",
   "execution_count": null,
   "id": "ac840f40-5baa-4334-9b42-a52759683a0e",
   "metadata": {},
   "outputs": [],
   "source": []
  }
 ],
 "metadata": {
  "kernelspec": {
   "display_name": "Python 3 (ipykernel)",
   "language": "python",
   "name": "python3"
  },
  "language_info": {
   "codemirror_mode": {
    "name": "ipython",
    "version": 3
   },
   "file_extension": ".py",
   "mimetype": "text/x-python",
   "name": "python",
   "nbconvert_exporter": "python",
   "pygments_lexer": "ipython3",
   "version": "3.10.9"
  }
 },
 "nbformat": 4,
 "nbformat_minor": 5
}
