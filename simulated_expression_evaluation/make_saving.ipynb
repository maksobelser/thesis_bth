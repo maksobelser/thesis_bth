{
 "cells": [
  {
   "cell_type": "code",
   "execution_count": 1,
   "id": "593e1399-733c-46de-9c12-1caf7cdd8bd7",
   "metadata": {
    "tags": []
   },
   "outputs": [
    {
     "name": "stderr",
     "output_type": "stream",
     "text": [
      "/d/hpc/home/mo6643/miniconda3/envs/msc1/lib/python3.10/site-packages/scvi/_settings.py:63: UserWarning: Since v1.0.0, scvi-tools no longer uses a random seed by default. Run `scvi.settings.seed = 0` to reproduce results from previous versions.\n",
      "  self.seed = seed\n",
      "/d/hpc/home/mo6643/miniconda3/envs/msc1/lib/python3.10/site-packages/scvi/_settings.py:70: UserWarning: Setting `dl_pin_memory_gpu_training` is deprecated in v1.0 and will be removed in v1.1. Please pass in `pin_memory` to the data loaders instead.\n",
      "  self.dl_pin_memory_gpu_training = (\n"
     ]
    }
   ],
   "source": [
    "from transVAE.model.transVAE import transVAE"
   ]
  },
  {
   "cell_type": "code",
   "execution_count": 2,
   "id": "60caa6d7-d9c8-4ecf-8c3b-f87804bbb238",
   "metadata": {
    "tags": []
   },
   "outputs": [],
   "source": [
    "import scanpy as sc"
   ]
  },
  {
   "cell_type": "code",
   "execution_count": 4,
   "id": "9da4e27f-8587-487e-839a-0d3a3717aaeb",
   "metadata": {
    "tags": []
   },
   "outputs": [],
   "source": [
    "dataset_train = \"train_adata_baseline_top3000hvg.h5ad\""
   ]
  },
  {
   "cell_type": "code",
   "execution_count": 5,
   "id": "38323eca-c3f6-4471-baec-cc9cdddbefd1",
   "metadata": {
    "tags": []
   },
   "outputs": [
    {
     "name": "stdout",
     "output_type": "stream",
     "text": [
      "\u001b[34mINFO    \u001b[0m Using column names from columns of adata.obsm\u001b[1m[\u001b[0m\u001b[32m'covariates'\u001b[0m\u001b[1m]\u001b[0m                                               \n",
      "\u001b[34mINFO    \u001b[0m Using column names from columns of adata.obsm\u001b[1m[\u001b[0m\u001b[32m'covariates_embed'\u001b[0m\u001b[1m]\u001b[0m                                         \n"
     ]
    }
   ],
   "source": [
    "adata_train = sc.read_h5ad(f\"/d/hpc/projects/FRI/DL/mo6643/MSC/data/data_update_slack/data_splits/data_splits_train_merge/train_data/{dataset_train}\")\n",
    "adata_train = transVAE.setup_anndata(adata_train, categorical_covariate_embed_keys=[\"dataset\"], categorical_covariate_keys=[\"organism\"], copy = True)"
   ]
  },
  {
   "cell_type": "code",
   "execution_count": 6,
   "id": "91b12b74-9e30-417f-940d-c8353faf6cdf",
   "metadata": {
    "tags": []
   },
   "outputs": [
    {
     "name": "stderr",
     "output_type": "stream",
     "text": [
      "GPU available: True (cuda), used: True\n",
      "TPU available: False, using: 0 TPU cores\n",
      "IPU available: False, using: 0 IPUs\n",
      "HPU available: False, using: 0 HPUs\n",
      "LOCAL_RANK: 0 - CUDA_VISIBLE_DEVICES: [0,1]\n",
      "SLURM auto-requeueing enabled. Setting signal handlers.\n"
     ]
    },
    {
     "name": "stdout",
     "output_type": "stream",
     "text": [
      "Epoch 1/1: 100%|██████████| 1/1 [00:04<00:00,  4.98s/it, v_num=1, train_loss_step=155, train_loss_epoch=284]"
     ]
    },
    {
     "name": "stderr",
     "output_type": "stream",
     "text": [
      "`Trainer.fit` stopped: `max_epochs=1` reached.\n"
     ]
    },
    {
     "name": "stdout",
     "output_type": "stream",
     "text": [
      "Epoch 1/1: 100%|██████████| 1/1 [00:04<00:00,  5.00s/it, v_num=1, train_loss_step=155, train_loss_epoch=284]\n"
     ]
    }
   ],
   "source": [
    "# make the model\n",
    "model = transVAE(adata_train)\n",
    "\n",
    "# train the model\n",
    "model.train(batch_size=4096, max_epochs = 1)"
   ]
  },
  {
   "cell_type": "code",
   "execution_count": 9,
   "id": "abc062a0-c332-492a-8b8e-6750a199a1e1",
   "metadata": {
    "tags": []
   },
   "outputs": [],
   "source": [
    "import os"
   ]
  },
  {
   "cell_type": "code",
   "execution_count": 32,
   "id": "6bc04d9d-532c-48d3-b99d-b22238ca18d5",
   "metadata": {
    "tags": []
   },
   "outputs": [],
   "source": [
    "save_folder_name = \"save_test\""
   ]
  },
  {
   "cell_type": "code",
   "execution_count": 33,
   "id": "b5cd1caa-bc07-4615-84da-44406df91d8d",
   "metadata": {
    "tags": []
   },
   "outputs": [],
   "source": [
    "save_dir = f\"/d/hpc/projects/FRI/DL/mo6643/MSC/cross_species_prediction_save/{save_folder_name}\"\n",
    "if not os.path.exists(save_dir):\n",
    "    os.mkdir(save_dir)"
   ]
  },
  {
   "cell_type": "code",
   "execution_count": 34,
   "id": "d9c89223-bda8-4af6-98e3-83b54cc06ac4",
   "metadata": {},
   "outputs": [],
   "source": [
    "save_dir = os.path.join(save_dir, f\"transVAE_{dataset_train}_hid{n_hidden}_lat{n_latent}_lr{learning_rate}_cov{cov_embed_dims}_ep{max_epochs}_ly{n_layers}_dr{dropout_rate}_kl{kl_weight}_s{seed}\")"
   ]
  },
  {
   "cell_type": "code",
   "execution_count": 35,
   "id": "99dde780-278d-4acd-976d-4b10d8712895",
   "metadata": {
    "tags": []
   },
   "outputs": [],
   "source": [
    "model.save(dir_path = save_dir, overwrite = True, save_anndata = False)"
   ]
  },
  {
   "cell_type": "code",
   "execution_count": 20,
   "id": "11620e9e-4077-456b-9092-d31c8955b1b1",
   "metadata": {
    "tags": []
   },
   "outputs": [],
   "source": [
    "n_hidden = 800\n",
    "learning_rate = 0.001\n",
    "cov_embed_dims = 10\n",
    "max_epochs = 1000\n",
    "n_layers = 2\n",
    "dropout_rate = 0.1\n",
    "kl_weight = 0.005\n",
    "seed = 42\n",
    "n_latent = 512"
   ]
  },
  {
   "cell_type": "code",
   "execution_count": 38,
   "id": "88892d44-3e79-4885-9d87-c1b86c2612ac",
   "metadata": {
    "tags": []
   },
   "outputs": [
    {
     "data": {
      "text/plain": [
       "['Homo sapiens']\n",
       "Categories (1, object): ['Homo sapiens']"
      ]
     },
     "execution_count": 38,
     "metadata": {},
     "output_type": "execute_result"
    }
   ],
   "source": [
    "model.adata.obs.organism"
   ]
  },
  {
   "cell_type": "code",
   "execution_count": null,
   "id": "3b28c2c1-b787-45b8-943b-cea38772a61f",
   "metadata": {},
   "outputs": [],
   "source": []
  }
 ],
 "metadata": {
  "kernelspec": {
   "display_name": "Python 3 (ipykernel)",
   "language": "python",
   "name": "python3"
  },
  "language_info": {
   "codemirror_mode": {
    "name": "ipython",
    "version": 3
   },
   "file_extension": ".py",
   "mimetype": "text/x-python",
   "name": "python",
   "nbconvert_exporter": "python",
   "pygments_lexer": "ipython3",
   "version": "3.10.9"
  }
 },
 "nbformat": 4,
 "nbformat_minor": 5
}
