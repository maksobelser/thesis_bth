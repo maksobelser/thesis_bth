{
 "cells": [
  {
   "cell_type": "code",
   "execution_count": 2,
   "id": "27d90bbb-c7f9-4319-89ca-0956e672d5cb",
   "metadata": {
    "tags": []
   },
   "outputs": [],
   "source": [
    "from bioservices import *\n",
    "import pandas as pd\n",
    "from biomart import BiomartServer\n",
    "from tqdm import tqdm"
   ]
  },
  {
   "cell_type": "code",
   "execution_count": 5,
   "id": "b2431d9c-4150-4855-b0ca-acdb2f1f7f6b",
   "metadata": {
    "tags": []
   },
   "outputs": [],
   "source": [
    "ensembl_ids = pd.read_csv(\"/d/hpc/projects/FRI/DL/mo6643/MSC/data/data_update_slack/data_splits/data_splits_train_merge/top3000_hv_genes_gr_truth_and_baseline_across_datasets.csv\")[\"EID\"].tolist()"
   ]
  },
  {
   "cell_type": "code",
   "execution_count": 3,
   "id": "a59ebd3d-494b-4ec4-ba6c-e830e8a0d1db",
   "metadata": {
    "tags": []
   },
   "outputs": [],
   "source": [
    "new_ensembl_ids = pd.read_csv(\"/d/hpc/projects/FRI/DL/mo6643/MSC/data/data_update_slack/data_splits/data_splits_train_merge/top3000_hv_genes_just_baseline_across_datasets.csv\")[\"EID\"].tolist()"
   ]
  },
  {
   "cell_type": "code",
   "execution_count": 20,
   "id": "082730e2-5b35-408b-83bf-50f18ddea1bf",
   "metadata": {
    "tags": []
   },
   "outputs": [],
   "source": [
    "def get_gene_NCBI_Entrez(gene_ids, chunk_size=100):\n",
    "    from requests.exceptions import HTTPError\n",
    "    import time\n",
    "\n",
    "    print(\"Setting up Ensembl server\")\n",
    "    # Connect to the Ensembl BioMart server\n",
    "    server = BiomartServer(\"http://www.ensembl.org/biomart\")\n",
    "    ensembl = server.datasets['mmusculus_gene_ensembl']  # Use 'hsapiens_gene_ensembl' for human genes\n",
    "\n",
    "    # Function to split gene_ids into smaller chunks\n",
    "    def chunks(lst, n):\n",
    "        for i in range(0, len(lst), n):\n",
    "            yield lst[i:i + n]\n",
    "\n",
    "    results = []  # List to hold the results\n",
    "    failed_chunks = []  # List to keep track of chunks that fail\n",
    "    total_chunks = (len(gene_ids) // chunk_size) + (0 if len(gene_ids) % chunk_size == 0 else 1)\n",
    "\n",
    "    print(f\"Total chunks to process: {total_chunks}\")\n",
    "\n",
    "    for i, ids_chunk in tqdm(enumerate(chunks(gene_ids, chunk_size)), total = total_chunks):\n",
    "        try:\n",
    "            response = ensembl.search({\n",
    "                'filters': {'ensembl_gene_id': ids_chunk},\n",
    "                'attributes': ['ensembl_gene_id', 'external_gene_name', 'entrezgene_id', 'description']\n",
    "            })\n",
    "\n",
    "            # Parse the response into a readable format\n",
    "            for line in response.iter_lines():\n",
    "                line = line.decode('utf-8')\n",
    "                row = line.split(\"\\t\")\n",
    "                if len(row) >= 4:  # Ensure there are enough columns\n",
    "                    result = {\n",
    "                        'Ensembl Gene ID': row[0],\n",
    "                        'External Gene Name': row[1],\n",
    "                        'NCBI Entrez ID': row[2],\n",
    "                        'Description': row[3]\n",
    "                    }\n",
    "                    results.append(result)\n",
    "        except HTTPError as e:\n",
    "            print(f\"Failed to process chunk {i + 1}/{total_chunks}: {e}\")\n",
    "            failed_chunks.append(ids_chunk)\n",
    "        except Exception as e:\n",
    "            print(f\"An error occurred: {e}\")\n",
    "        time.sleep(1)  # Sleep to avoid hitting server too quickly\n",
    "\n",
    "    print(\"Done\")\n",
    "    return results, failed_chunks\n"
   ]
  },
  {
   "cell_type": "code",
   "execution_count": 9,
   "id": "c4c0045b-2f29-4696-9c63-3b4b24d760da",
   "metadata": {
    "tags": []
   },
   "outputs": [],
   "source": [
    "df = pd.DataFrame(ensembl_ids, columns = [\"EID\"])"
   ]
  },
  {
   "cell_type": "code",
   "execution_count": 13,
   "id": "b5411f38-6c21-447b-bb3f-ab0a88b40edb",
   "metadata": {
    "tags": []
   },
   "outputs": [],
   "source": [
    "ids = df[~df.EID.isin(new_ensembl_ids)].EID.tolist()"
   ]
  },
  {
   "cell_type": "code",
   "execution_count": 16,
   "id": "ccb8cbdc-2e87-41ca-bc6a-d8f2c7c35232",
   "metadata": {
    "tags": []
   },
   "outputs": [
    {
     "data": {
      "text/plain": [
       "647"
      ]
     },
     "execution_count": 16,
     "metadata": {},
     "output_type": "execute_result"
    }
   ],
   "source": [
    "len(ids)"
   ]
  },
  {
   "cell_type": "code",
   "execution_count": 21,
   "id": "0e2e11cf-97dc-4367-bbeb-99b86da0a446",
   "metadata": {
    "tags": []
   },
   "outputs": [
    {
     "name": "stdout",
     "output_type": "stream",
     "text": [
      "Setting up Ensembl server\n",
      "Total chunks to process: 7\n"
     ]
    },
    {
     "name": "stderr",
     "output_type": "stream",
     "text": [
      "100%|██████████| 7/7 [01:28<00:00, 12.58s/it]"
     ]
    },
    {
     "name": "stdout",
     "output_type": "stream",
     "text": [
      "Done\n"
     ]
    },
    {
     "name": "stderr",
     "output_type": "stream",
     "text": [
      "\n"
     ]
    }
   ],
   "source": [
    "gene_info_df, failed_ids = get_gene_NCBI_Entrez(ids)"
   ]
  },
  {
   "cell_type": "code",
   "execution_count": 31,
   "id": "e3d6a4ed-9767-45d0-a0ed-861c06aea274",
   "metadata": {
    "tags": []
   },
   "outputs": [],
   "source": [
    "df = pd.DataFrame(gene_info_df)"
   ]
  },
  {
   "cell_type": "code",
   "execution_count": 32,
   "id": "3e11840b-b746-4e4e-86b5-4889f225a97d",
   "metadata": {
    "tags": []
   },
   "outputs": [],
   "source": [
    "df = pd.DataFrame(gene_info_df).sort_values(\"Ensembl Gene ID\")"
   ]
  },
  {
   "cell_type": "code",
   "execution_count": 39,
   "id": "1fbb1e50-0044-496c-ae3d-606bac904ffa",
   "metadata": {
    "tags": []
   },
   "outputs": [],
   "source": [
    "for gene in df[df[\"Ensembl Gene ID\"].duplicated()][\"Ensembl Gene ID\"]:\n",
    "    print(\"----------------------------------------------\")\n",
    "    print(df[df[\"Ensembl Gene ID\"] == gene][[\"Ensembl Gene ID\", \"External Gene Name\", \"NCBI Entrez ID\"]])"
   ]
  },
  {
   "cell_type": "code",
   "execution_count": 38,
   "id": "c3341c7d-2092-49cf-abbb-3675af261a4e",
   "metadata": {
    "tags": []
   },
   "outputs": [],
   "source": [
    "import numpy as np\n",
    "df[\"associated_pathways\"] = np.nan\n",
    "df.to_csv(\"KEGG_intermediate_new.csv\")"
   ]
  },
  {
   "cell_type": "code",
   "execution_count": 34,
   "id": "08c0c4da-4d17-47f6-9980-5e8901a84e88",
   "metadata": {
    "tags": []
   },
   "outputs": [],
   "source": [
    "df = df[~ (df[\"NCBI Entrez ID\"] == \"624367\")]"
   ]
  },
  {
   "cell_type": "code",
   "execution_count": 82,
   "id": "acd30727-f48c-4814-9b26-226f6b5ed708",
   "metadata": {
    "tags": []
   },
   "outputs": [],
   "source": [
    "df = df[~ (df[\"NCBI Entrez ID\"] == \"320463\")]"
   ]
  },
  {
   "cell_type": "code",
   "execution_count": 84,
   "id": "60e2b5a0-af9d-4833-a311-8ac292d5dbfd",
   "metadata": {
    "tags": []
   },
   "outputs": [],
   "source": [
    "df = df[~ (df[\"NCBI Entrez ID\"] == \"16429\")]"
   ]
  },
  {
   "cell_type": "code",
   "execution_count": 86,
   "id": "0beb3745-5310-4394-badf-2fc6cd0e3934",
   "metadata": {
    "tags": []
   },
   "outputs": [],
   "source": [
    "df = df[~ (df[\"NCBI Entrez ID\"] == \"78178\")]"
   ]
  },
  {
   "cell_type": "code",
   "execution_count": 35,
   "id": "85fce842-7fc5-450b-bace-a047e7709e40",
   "metadata": {
    "tags": []
   },
   "outputs": [],
   "source": [
    "df = df[~ (df[\"NCBI Entrez ID\"] == \"18213\")]"
   ]
  },
  {
   "cell_type": "code",
   "execution_count": 90,
   "id": "379e71b9-b14f-456f-8fcb-c82b44c1c1d0",
   "metadata": {
    "tags": []
   },
   "outputs": [],
   "source": [
    "df = df[~ (df[\"NCBI Entrez ID\"] == \"19702\")]"
   ]
  },
  {
   "cell_type": "code",
   "execution_count": 92,
   "id": "bbd38f53-084a-441b-a2cb-e88c199513fd",
   "metadata": {
    "tags": []
   },
   "outputs": [],
   "source": [
    "df = df[~ (df[\"NCBI Entrez ID\"] == \"100328588\")]"
   ]
  },
  {
   "cell_type": "code",
   "execution_count": 94,
   "id": "93477284-d0dc-499b-8a4f-95312255999f",
   "metadata": {
    "tags": []
   },
   "outputs": [],
   "source": [
    "df = df[~ (df[\"NCBI Entrez ID\"] == \"654309\")]"
   ]
  },
  {
   "cell_type": "code",
   "execution_count": 120,
   "id": "3be2d9da-4d5c-41d8-ba4e-59885cc53b6d",
   "metadata": {
    "tags": []
   },
   "outputs": [
    {
     "data": {
      "text/html": [
       "<div>\n",
       "<style scoped>\n",
       "    .dataframe tbody tr th:only-of-type {\n",
       "        vertical-align: middle;\n",
       "    }\n",
       "\n",
       "    .dataframe tbody tr th {\n",
       "        vertical-align: top;\n",
       "    }\n",
       "\n",
       "    .dataframe thead th {\n",
       "        text-align: right;\n",
       "    }\n",
       "</style>\n",
       "<table border=\"1\" class=\"dataframe\">\n",
       "  <thead>\n",
       "    <tr style=\"text-align: right;\">\n",
       "      <th></th>\n",
       "      <th>Ensembl Gene ID</th>\n",
       "      <th>External Gene Name</th>\n",
       "      <th>NCBI Entrez ID</th>\n",
       "      <th>Description</th>\n",
       "    </tr>\n",
       "  </thead>\n",
       "  <tbody>\n",
       "  </tbody>\n",
       "</table>\n",
       "</div>"
      ],
      "text/plain": [
       "Empty DataFrame\n",
       "Columns: [Ensembl Gene ID, External Gene Name, NCBI Entrez ID, Description]\n",
       "Index: []"
      ]
     },
     "execution_count": 120,
     "metadata": {},
     "output_type": "execute_result"
    }
   ],
   "source": [
    "df[df[\"NCBI Entrez ID\"] == \"\"]"
   ]
  },
  {
   "cell_type": "code",
   "execution_count": 116,
   "id": "d7bdf8af-ebf1-4a2f-bb19-40c128c67898",
   "metadata": {
    "tags": []
   },
   "outputs": [],
   "source": [
    "df.loc[df[\"External Gene Name\"] == \"Fate1\", \"NCBI Entrez ID\"] = \"77905\""
   ]
  },
  {
   "cell_type": "code",
   "execution_count": 117,
   "id": "4d732ec4-d5d0-4dd9-8a79-7d5808beec4c",
   "metadata": {
    "tags": []
   },
   "outputs": [],
   "source": [
    "df.loc[df[\"External Gene Name\"] == \"Tmsb10b\", \"NCBI Entrez ID\"] = \"100043712\""
   ]
  },
  {
   "cell_type": "code",
   "execution_count": 118,
   "id": "af647d13-22af-433a-9f97-eab36dff5bb9",
   "metadata": {
    "tags": []
   },
   "outputs": [],
   "source": [
    "df.loc[df[\"External Gene Name\"] == \"Gm6525\", \"NCBI Entrez ID\"] = \"624713\""
   ]
  },
  {
   "cell_type": "code",
   "execution_count": 119,
   "id": "2f97bfe5-4591-4347-886c-eb2553f85f38",
   "metadata": {
    "tags": []
   },
   "outputs": [
    {
     "data": {
      "text/html": [
       "<div>\n",
       "<style scoped>\n",
       "    .dataframe tbody tr th:only-of-type {\n",
       "        vertical-align: middle;\n",
       "    }\n",
       "\n",
       "    .dataframe tbody tr th {\n",
       "        vertical-align: top;\n",
       "    }\n",
       "\n",
       "    .dataframe thead th {\n",
       "        text-align: right;\n",
       "    }\n",
       "</style>\n",
       "<table border=\"1\" class=\"dataframe\">\n",
       "  <thead>\n",
       "    <tr style=\"text-align: right;\">\n",
       "      <th></th>\n",
       "      <th>Ensembl Gene ID</th>\n",
       "      <th>External Gene Name</th>\n",
       "      <th>NCBI Entrez ID</th>\n",
       "      <th>Description</th>\n",
       "    </tr>\n",
       "  </thead>\n",
       "  <tbody>\n",
       "    <tr>\n",
       "      <th>0</th>\n",
       "      <td>ENSMUSG00000000049</td>\n",
       "      <td>Apoh</td>\n",
       "      <td>11818</td>\n",
       "      <td>apolipoprotein H [Source:MGI Symbol;Acc:MGI:88...</td>\n",
       "    </tr>\n",
       "    <tr>\n",
       "      <th>1</th>\n",
       "      <td>ENSMUSG00000000058</td>\n",
       "      <td>Cav2</td>\n",
       "      <td>12390</td>\n",
       "      <td>caveolin 2 [Source:MGI Symbol;Acc:MGI:107571]</td>\n",
       "    </tr>\n",
       "    <tr>\n",
       "      <th>2</th>\n",
       "      <td>ENSMUSG00000000078</td>\n",
       "      <td>Klf6</td>\n",
       "      <td>23849</td>\n",
       "      <td>Kruppel-like factor 6 [Source:MGI Symbol;Acc:M...</td>\n",
       "    </tr>\n",
       "    <tr>\n",
       "      <th>3</th>\n",
       "      <td>ENSMUSG00000000093</td>\n",
       "      <td>Tbx2</td>\n",
       "      <td>21385</td>\n",
       "      <td>T-box 2 [Source:MGI Symbol;Acc:MGI:98494]</td>\n",
       "    </tr>\n",
       "    <tr>\n",
       "      <th>4</th>\n",
       "      <td>ENSMUSG00000000120</td>\n",
       "      <td>Ngfr</td>\n",
       "      <td>18053</td>\n",
       "      <td>nerve growth factor receptor (TNFR superfamily...</td>\n",
       "    </tr>\n",
       "    <tr>\n",
       "      <th>...</th>\n",
       "      <td>...</td>\n",
       "      <td>...</td>\n",
       "      <td>...</td>\n",
       "      <td>...</td>\n",
       "    </tr>\n",
       "    <tr>\n",
       "      <th>3003</th>\n",
       "      <td>ENSMUSG00000104043</td>\n",
       "      <td>Gm6525</td>\n",
       "      <td>624713</td>\n",
       "      <td>predicted pseudogene 6525 [Source:MGI Symbol;A...</td>\n",
       "    </tr>\n",
       "    <tr>\n",
       "      <th>3004</th>\n",
       "      <td>ENSMUSG00000105504</td>\n",
       "      <td>Gbp5</td>\n",
       "      <td>229898</td>\n",
       "      <td>guanylate binding protein 5 [Source:MGI Symbol...</td>\n",
       "    </tr>\n",
       "    <tr>\n",
       "      <th>3005</th>\n",
       "      <td>ENSMUSG00000110195</td>\n",
       "      <td>Pde2a</td>\n",
       "      <td>207728</td>\n",
       "      <td>phosphodiesterase 2A, cGMP-stimulated [Source:...</td>\n",
       "    </tr>\n",
       "    <tr>\n",
       "      <th>3006</th>\n",
       "      <td>ENSMUSG00000113902</td>\n",
       "      <td>Ndufb1</td>\n",
       "      <td>102631912</td>\n",
       "      <td>NADH:ubiquinone oxidoreductase subunit B1 [Sou...</td>\n",
       "    </tr>\n",
       "    <tr>\n",
       "      <th>3007</th>\n",
       "      <td>ENSMUSG00000117975</td>\n",
       "      <td>Itprip</td>\n",
       "      <td>414801</td>\n",
       "      <td>inositol 1,4,5-triphosphate receptor interacti...</td>\n",
       "    </tr>\n",
       "  </tbody>\n",
       "</table>\n",
       "<p>3000 rows × 4 columns</p>\n",
       "</div>"
      ],
      "text/plain": [
       "         Ensembl Gene ID External Gene Name NCBI Entrez ID  \\\n",
       "0     ENSMUSG00000000049               Apoh          11818   \n",
       "1     ENSMUSG00000000058               Cav2          12390   \n",
       "2     ENSMUSG00000000078               Klf6          23849   \n",
       "3     ENSMUSG00000000093               Tbx2          21385   \n",
       "4     ENSMUSG00000000120               Ngfr          18053   \n",
       "...                  ...                ...            ...   \n",
       "3003  ENSMUSG00000104043             Gm6525         624713   \n",
       "3004  ENSMUSG00000105504               Gbp5         229898   \n",
       "3005  ENSMUSG00000110195              Pde2a         207728   \n",
       "3006  ENSMUSG00000113902             Ndufb1      102631912   \n",
       "3007  ENSMUSG00000117975             Itprip         414801   \n",
       "\n",
       "                                            Description  \n",
       "0     apolipoprotein H [Source:MGI Symbol;Acc:MGI:88...  \n",
       "1         caveolin 2 [Source:MGI Symbol;Acc:MGI:107571]  \n",
       "2     Kruppel-like factor 6 [Source:MGI Symbol;Acc:M...  \n",
       "3             T-box 2 [Source:MGI Symbol;Acc:MGI:98494]  \n",
       "4     nerve growth factor receptor (TNFR superfamily...  \n",
       "...                                                 ...  \n",
       "3003  predicted pseudogene 6525 [Source:MGI Symbol;A...  \n",
       "3004  guanylate binding protein 5 [Source:MGI Symbol...  \n",
       "3005  phosphodiesterase 2A, cGMP-stimulated [Source:...  \n",
       "3006  NADH:ubiquinone oxidoreductase subunit B1 [Sou...  \n",
       "3007  inositol 1,4,5-triphosphate receptor interacti...  \n",
       "\n",
       "[3000 rows x 4 columns]"
      ]
     },
     "execution_count": 119,
     "metadata": {},
     "output_type": "execute_result"
    }
   ],
   "source": [
    "df"
   ]
  },
  {
   "cell_type": "code",
   "execution_count": 121,
   "id": "99645f28-5cc3-4c7f-92d3-60330b55eda1",
   "metadata": {
    "tags": []
   },
   "outputs": [],
   "source": [
    "df.to_csv(\"mouse_genes_Entrez_IDs.csv\")"
   ]
  },
  {
   "cell_type": "code",
   "execution_count": null,
   "id": "63e4effe-61e8-4a2e-81b7-40f062f13b7d",
   "metadata": {
    "tags": []
   },
   "outputs": [],
   "source": [
    "df = pd.read_csv(\"mouse_genes_Entrez_IDs.csv\")"
   ]
  },
  {
   "cell_type": "markdown",
   "id": "bd71a7da-409d-46f3-bf79-2157c4bb4149",
   "metadata": {},
   "source": [
    "### Pathways"
   ]
  },
  {
   "cell_type": "code",
   "execution_count": 40,
   "id": "721b0070-f707-4af0-8e6a-79128d6c8f08",
   "metadata": {
    "tags": []
   },
   "outputs": [],
   "source": [
    "from bioservices import KEGG"
   ]
  },
  {
   "cell_type": "code",
   "execution_count": null,
   "id": "524ac65c-51f8-45f6-9df3-1cf7829b1b5a",
   "metadata": {
    "tags": []
   },
   "outputs": [],
   "source": [
    "k = KEGG()"
   ]
  },
  {
   "cell_type": "code",
   "execution_count": null,
   "id": "24de1d89-fab1-4fab-a3dc-eaaeec2c8445",
   "metadata": {
    "tags": []
   },
   "outputs": [],
   "source": [
    "k.organism = \"mmu\""
   ]
  },
  {
   "cell_type": "code",
   "execution_count": null,
   "id": "995c15b6-5ab6-4f93-80c2-58ef4b9f5566",
   "metadata": {
    "tags": []
   },
   "outputs": [],
   "source": [
    "import numpy as np"
   ]
  },
  {
   "cell_type": "code",
   "execution_count": null,
   "id": "fcb3bc14-0d1c-4ffd-82bc-58d942be00f5",
   "metadata": {
    "tags": []
   },
   "outputs": [],
   "source": [
    "df[\"associated_pathways\"] = np.NaN"
   ]
  },
  {
   "cell_type": "code",
   "execution_count": 44,
   "id": "41bbaaee-95f0-46d7-bde7-b4656cdfff68",
   "metadata": {
    "tags": []
   },
   "outputs": [],
   "source": [
    "df.to_csv(\"KEGG_intermediate.csv\")"
   ]
  },
  {
   "cell_type": "code",
   "execution_count": null,
   "id": "1f84b772-a115-4373-82bc-e2b9d66fab20",
   "metadata": {
    "tags": []
   },
   "outputs": [],
   "source": [
    "import time\n",
    "import numpy as np\n",
    "from bioservices import KEGG\n",
    "import pandas as pd\n",
    "\n",
    "df = pd.read_csv(\"KEGG_intermediate.csv\")\n",
    "df[\"associated_pathways\"] = np.NaN\n",
    "\n",
    "k = KEGG()\n",
    "k.organism = \"mmu\"\n",
    "\n",
    "# Initialize counters\n",
    "genes_without_pathways = 0\n",
    "total_genes = len(df[\"NCBI Entrez ID\"])\n",
    "all_pathways = set()\n",
    "warnings_count = 0\n",
    "max_retries = 3  # Maximum number of retries\n",
    "\n",
    "# Create a tqdm iterator object\n",
    "processed_genes = 1\n",
    "\n",
    "# Iterate over genes\n",
    "for gene in df[\"NCBI Entrez ID\"]:\n",
    "    success = False\n",
    "    for _ in range(max_retries):\n",
    "        data = k.get(f\"mmu:{gene}\")\n",
    "        dict_data = k.parse(data)\n",
    "        break  # Break out of the retry loop if successful\n",
    "\n",
    "    if \"PATHWAY\" in dict_data.keys():\n",
    "        pathways = list(dict_data[\"PATHWAY\"].values())\n",
    "        index = df[df[\"NCBI Entrez ID\"] == gene].index\n",
    "        if not index.empty:\n",
    "            df.at[index[0], \"associated_pathways\"] = pathways\n",
    "        else:\n",
    "            print(f\"Gene {gene} not found in DataFrame.\")\n",
    "        all_pathways.update(pathways)\n",
    "    else:\n",
    "        genes_without_pathways += 1\n",
    "\n",
    "    percent_without_pathways = (genes_without_pathways / processed_genes) * 100\n",
    "    print(f\"Processed gene {processed_genes} and {percent_without_pathways:.2f}% genes without pathways\")\n",
    "    processed_genes += 1\n",
    "    \n",
    "df.to_csv(\"KEGG_final.csv\", index = False)"
   ]
  },
  {
   "cell_type": "code",
   "execution_count": 33,
   "id": "d8016797-5665-4906-8535-b01219be3553",
   "metadata": {
    "tags": []
   },
   "outputs": [],
   "source": [
    "import logging\n",
    "\n",
    "# Suppress warnings from bioservices\n",
    "logging.getLogger(\"bioservices\").setLevel(logging.ERROR)\n",
    "\n",
    "# Your code here"
   ]
  },
  {
   "cell_type": "code",
   "execution_count": 40,
   "id": "aa1fdd33-bb8c-4ddd-afae-6aac0c2c8283",
   "metadata": {},
   "outputs": [
    {
     "name": "stderr",
     "output_type": "stream",
     "text": [
      "\u001b[33mWARNING [bioservices.KEGG:596]: \u001b[0m \u001b[32mstatus is not ok with Not Found\u001b[0m\n",
      "\u001b[33mWARNING [bioservices.KEGG:1181]: \u001b[0m \u001b[32mCould not parse the entry correctly.\u001b[0m\n"
     ]
    }
   ],
   "source": [
    "gene = 917\n",
    "data = k.get(f\"mmu:{gene}\")\n",
    "dict_data = k.parse(data)"
   ]
  },
  {
   "cell_type": "code",
   "execution_count": 23,
   "id": "07a02191-f232-4504-a916-b8fe6fd9fce8",
   "metadata": {
    "tags": []
   },
   "outputs": [
    {
     "data": {
      "text/plain": [
       "int"
      ]
     },
     "execution_count": 23,
     "metadata": {},
     "output_type": "execute_result"
    }
   ],
   "source": [
    "type(data)"
   ]
  },
  {
   "cell_type": "code",
   "execution_count": 35,
   "id": "baee33a7-d825-4922-8dfe-1476b963b2dc",
   "metadata": {
    "tags": []
   },
   "outputs": [],
   "source": [
    " warnings.filterwarnings(\"ignore\", category=DeprecationWarning)"
   ]
  },
  {
   "cell_type": "code",
   "execution_count": 39,
   "id": "b58af8e7-dff7-4442-bffe-63b3ae1aa2b9",
   "metadata": {
    "tags": []
   },
   "outputs": [],
   "source": [
    "from bioservices import *\n",
    "\n",
    "# Create a custom filter to suppress specific warnings\n",
    "class SuppressBioservicesWarnings(logging.Filter):\n",
    "    def filter(self, record):\n",
    "        # Specify the messages or conditions for suppression\n",
    "        if 'status is not ok with Not Found' in record.getMessage():\n",
    "            return False\n",
    "        if 'Could not parse the entry correctly' in record.getMessage():\n",
    "            return False\n",
    "        return True\n",
    "\n",
    "# Get the logger used by bioservices\n",
    "bioservices_logger = logging.getLogger('bioservices')\n",
    "\n",
    "# Add the custom filter\n",
    "bioservices_logger.addFilter(SuppressBioservicesWarnings())"
   ]
  },
  {
   "cell_type": "markdown",
   "id": "8912f65b-3de5-432c-b376-91148d284f1b",
   "metadata": {},
   "source": [
    "### Try no.2"
   ]
  },
  {
   "cell_type": "code",
   "execution_count": 6,
   "id": "955d6bb6-a7b6-4a67-b790-a7b075be4711",
   "metadata": {
    "tags": []
   },
   "outputs": [
    {
     "name": "stdout",
     "output_type": "stream",
     "text": [
      "Successful Entry Ids: none\n",
      "Failed Entry Ids: br:br08902\n",
      "Timed Out Entry Ids: none\n"
     ]
    }
   ],
   "source": [
    "import kegg_pull.pull as p\n",
    "single_pull = p.SinglePull()\n",
    "entry_ids = ['br:br08902']\n",
    "pull_result = single_pull.pull(entry_ids=entry_ids, output='pull-entries/')\n",
    "print(pull_result)"
   ]
  },
  {
   "cell_type": "code",
   "execution_count": null,
   "id": "ce80ae81-ec24-47e9-9f92-21472762abcf",
   "metadata": {},
   "outputs": [],
   "source": []
  }
 ],
 "metadata": {
  "kernelspec": {
   "display_name": "Python 3 (ipykernel)",
   "language": "python",
   "name": "python3"
  },
  "language_info": {
   "codemirror_mode": {
    "name": "ipython",
    "version": 3
   },
   "file_extension": ".py",
   "mimetype": "text/x-python",
   "name": "python",
   "nbconvert_exporter": "python",
   "pygments_lexer": "ipython3",
   "version": "3.10.9"
  }
 },
 "nbformat": 4,
 "nbformat_minor": 5
}
