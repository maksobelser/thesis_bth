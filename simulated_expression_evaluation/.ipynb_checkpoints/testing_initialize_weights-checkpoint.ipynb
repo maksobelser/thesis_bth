{
 "cells": [
  {
   "cell_type": "code",
   "execution_count": 2,
   "id": "3214cac8-9dfc-4a04-89d5-1ef8d71fc761",
   "metadata": {
    "tags": []
   },
   "outputs": [],
   "source": [
    "from transVAE.model.transVAE import transVAE\n",
    "import scanpy as sc\n",
    "import scvi"
   ]
  },
  {
   "cell_type": "markdown",
   "id": "5c0af52e-da7e-4115-a5b7-47e349c45caa",
   "metadata": {},
   "source": [
    "2023-10-20 09:49:53 (INFO): Received the following configuration for datasets train: extra_mouse_young.h5ad\n",
    "2023-10-20 09:49:53 (INFO): n_hidden: 1200, n_latent: 512, learning_rate: 0.005, cov_embed_dims: 10\n",
    "2023-10-20 09:49:53 (INFO): max_epochs: 1000, n_layers: 4, dropout_rate: 0.1, kl_weight: 0.005, seed: 42\n",
    "[rank: 0] Global seed set to 42\n",
    "2023-10-20 09:49:54 (INFO): Started run with ID \"282\"\n",
    "2023-10-20 09:49:54 (INFO): Started run with ID \"281\"\n",
    "2023-10-20 09:49:54 (INFO): Started run with ID \"284\"\n",
    "2023-10-20 09:49:54 (INFO): Received the following configuration for datasets train: extra_mouse_young.h5ad\n",
    "2023-10-20 09:49:54 (INFO): n_hidden: 1200, n_latent: 512, learning_rate: 0.005, cov_embed_dims: 10\n",
    "2023-10-20 09:49:54 (INFO): Received the following configuration for datasets train: extra_mouse_young.h5ad\n",
    "2023-10-20 09:49:54 (INFO): max_epochs: 1000, n_layers: 2, dropout_rate: 0.2, kl_weight: 0.005, seed: 44\n",
    "2023-10-20 09:49:54 (INFO): n_hidden: 1200, n_latent: 512, learning_rate: 0.005, cov_embed_dims: 10\n",
    "2023-10-20 09:49:54 (INFO): max_epochs: 1000, n_layers: 2, dropout_rate: 0.2, kl_weight: 0.005, seed: 43\n",
    "[rank: 0] Global seed set to 44\n",
    "[rank: 0] Global seed set to 43\n",
    "2023-10-20 09:49:54 (INFO): Received the following configuration for datasets train: extra_mouse_young.h5ad\n",
    "2023-10-20 09:49:54 (INFO): n_hidden: 1200, n_latent: 512, learning_rate: 0.005, cov_embed_dims: 10\n",
    "2023-10-20 09:49:54 (INFO): max_epochs: 1000, n_layers: 4, dropout_rate: 0.1, kl_weight: 0.005, seed: 43\n",
    "[rank: 0] Global seed set to 43"
   ]
  },
  {
   "cell_type": "markdown",
   "id": "7fdf924b-a960-4d29-b40c-eb8d51d776ec",
   "metadata": {},
   "source": [
    "First lets reproduce the error"
   ]
  },
  {
   "cell_type": "code",
   "execution_count": 11,
   "id": "aa8d684c-7509-489a-9476-c505c2351da8",
   "metadata": {
    "tags": []
   },
   "outputs": [],
   "source": [
    "seed = 42\n",
    "dataset_train = \"extra_mouse_young.h5ad\"\n",
    "n_hidden = 1200 \n",
    "n_latent = 512\n",
    "learning_rate = 0.0001\n",
    "cov_embed_dims = 10\n",
    "max_epochs = 1000\n",
    "n_layers = 4\n",
    "dropout_rate = 0.1\n",
    "kl_weight = 0.005"
   ]
  },
  {
   "cell_type": "markdown",
   "id": "77620850-e0f1-4855-9b19-0bfadedbe3ed",
   "metadata": {},
   "source": [
    "### Xavier"
   ]
  },
  {
   "cell_type": "code",
   "execution_count": 12,
   "id": "c96e10ce-2387-4b97-b4f4-bc9441e1d283",
   "metadata": {
    "tags": []
   },
   "outputs": [
    {
     "name": "stderr",
     "output_type": "stream",
     "text": [
      "[rank: 0] Global seed set to 42\n"
     ]
    },
    {
     "name": "stdout",
     "output_type": "stream",
     "text": [
      "\u001b[34mINFO    \u001b[0m Using column names from columns of adata.obsm\u001b[1m[\u001b[0m\u001b[32m'covariates'\u001b[0m\u001b[1m]\u001b[0m                                               \n",
      "\u001b[34mINFO    \u001b[0m Using column names from columns of adata.obsm\u001b[1m[\u001b[0m\u001b[32m'covariates_embed'\u001b[0m\u001b[1m]\u001b[0m                                         \n"
     ]
    },
    {
     "name": "stderr",
     "output_type": "stream",
     "text": [
      "GPU available: True (cuda), used: True\n",
      "TPU available: False, using: 0 TPU cores\n",
      "IPU available: False, using: 0 IPUs\n",
      "HPU available: False, using: 0 HPUs\n",
      "LOCAL_RANK: 0 - CUDA_VISIBLE_DEVICES: [0,1]\n",
      "SLURM auto-requeueing enabled. Setting signal handlers.\n"
     ]
    },
    {
     "name": "stdout",
     "output_type": "stream",
     "text": [
      "Epoch 70/1000:   7%|▋         | 69/1000 [06:23<1:26:10,  5.55s/it, v_num=1, train_loss_step=122, train_loss_epoch=92.3] "
     ]
    },
    {
     "name": "stderr",
     "output_type": "stream",
     "text": [
      "/d/hpc/home/mo6643/miniconda3/envs/msc1/lib/python3.10/site-packages/lightning/pytorch/trainer/call.py:53: UserWarning: Detected KeyboardInterrupt, attempting graceful shutdown...\n",
      "  rank_zero_warn(\"Detected KeyboardInterrupt, attempting graceful shutdown...\")\n"
     ]
    }
   ],
   "source": [
    "scvi.settings.seed = seed\n",
    "\n",
    "adata_train = sc.read_h5ad(f\"/d/hpc/projects/FRI/DL/mo6643/MSC/data/data_update_slack/data_splits/data_splits_train_merge/train_data/{dataset_train}\")\n",
    "adata_train = transVAE.setup_anndata(adata_train, categorical_covariate_embed_keys=[\"dataset\"], categorical_covariate_keys=[\"organism\"], copy = True)\n",
    "\n",
    "# make the model\n",
    "model = transVAE(adata_train, \n",
    "                 n_hidden=n_hidden, \n",
    "                 n_latent=n_latent, \n",
    "                 n_layers=n_layers, \n",
    "                 dropout_rate=dropout_rate, \n",
    "                 cov_embed_dims = cov_embed_dims, \n",
    "                 kl_weight = kl_weight,\n",
    "                 initialize_weights=True)\n",
    "\n",
    "# train the model\n",
    "model.train(batch_size=4096, max_epochs = max_epochs, train_size = 1.0, enable_progress_bar = True, plan_kwargs = {\"lr\": learning_rate})"
   ]
  },
  {
   "cell_type": "code",
   "execution_count": 15,
   "id": "06cda884-6cae-499f-8663-83a51371d8cd",
   "metadata": {
    "tags": []
   },
   "outputs": [],
   "source": [
    "results = model.history[\"train_loss_epoch\"]"
   ]
  },
  {
   "cell_type": "markdown",
   "id": "9b761c65-42e4-4bb1-85a3-0393538e0517",
   "metadata": {},
   "source": [
    "### Without"
   ]
  },
  {
   "cell_type": "code",
   "execution_count": 16,
   "id": "948f12a6-088a-4006-9aac-ac604b233a32",
   "metadata": {
    "tags": []
   },
   "outputs": [
    {
     "name": "stderr",
     "output_type": "stream",
     "text": [
      "GPU available: True (cuda), used: True\n",
      "TPU available: False, using: 0 TPU cores\n",
      "IPU available: False, using: 0 IPUs\n",
      "HPU available: False, using: 0 HPUs\n",
      "LOCAL_RANK: 0 - CUDA_VISIBLE_DEVICES: [0,1]\n",
      "SLURM auto-requeueing enabled. Setting signal handlers.\n"
     ]
    },
    {
     "name": "stdout",
     "output_type": "stream",
     "text": [
      "Epoch 69/69: 100%|██████████| 69/69 [06:32<00:00,  5.77s/it, v_num=1, train_loss_step=90.8, train_loss_epoch=88.2]"
     ]
    },
    {
     "name": "stderr",
     "output_type": "stream",
     "text": [
      "`Trainer.fit` stopped: `max_epochs=69` reached.\n"
     ]
    },
    {
     "name": "stdout",
     "output_type": "stream",
     "text": [
      "Epoch 69/69: 100%|██████████| 69/69 [06:32<00:00,  5.69s/it, v_num=1, train_loss_step=90.8, train_loss_epoch=88.2]\n"
     ]
    }
   ],
   "source": [
    "# make the model\n",
    "model = transVAE(adata_train, \n",
    "                 n_hidden=n_hidden, \n",
    "                 n_latent=n_latent, \n",
    "                 n_layers=n_layers, \n",
    "                 dropout_rate=dropout_rate, \n",
    "                 cov_embed_dims = cov_embed_dims, \n",
    "                 kl_weight = kl_weight,\n",
    "                 initialize_weights=False)\n",
    "\n",
    "# train the model\n",
    "model.train(batch_size=4096, max_epochs = 69, train_size = 1.0, enable_progress_bar = True, plan_kwargs = {\"lr\": learning_rate})"
   ]
  },
  {
   "cell_type": "code",
   "execution_count": 17,
   "id": "a75635e5-02a2-48f8-b171-5ab0b6db6a57",
   "metadata": {
    "tags": []
   },
   "outputs": [],
   "source": [
    "results[\"without_wi\"] = model.history[\"train_loss_epoch\"][\"train_loss_epoch\"]"
   ]
  },
  {
   "cell_type": "markdown",
   "id": "d7dabc78-3d6a-4692-a9af-cd637b9c9f3c",
   "metadata": {},
   "source": [
    "OK initialize_weights was not a good idea but the lower learning rate is extremly more stable."
   ]
  },
  {
   "cell_type": "code",
   "execution_count": 22,
   "id": "3c1d038e-d3d7-4f60-a8ce-2abeef0324ff",
   "metadata": {
    "tags": []
   },
   "outputs": [],
   "source": [
    "results.to_csv(\"results_weight_initialization.csv\")"
   ]
  },
  {
   "cell_type": "markdown",
   "id": "0b0d4be5-61c2-4cce-aec0-5716707aea2a",
   "metadata": {},
   "source": [
    "### Kaiming"
   ]
  },
  {
   "cell_type": "code",
   "execution_count": 3,
   "id": "0f829992-a59c-4cbd-8200-7c9f193aec49",
   "metadata": {
    "tags": []
   },
   "outputs": [],
   "source": [
    "seed = 42\n",
    "dataset_train = \"extra_mouse_young.h5ad\"\n",
    "n_hidden = 1200 \n",
    "n_latent = 512\n",
    "learning_rate = 0.0001\n",
    "cov_embed_dims = 10\n",
    "max_epochs = 1000\n",
    "n_layers = 4\n",
    "dropout_rate = 0.1\n",
    "kl_weight = 0.005"
   ]
  },
  {
   "cell_type": "code",
   "execution_count": 4,
   "id": "75e4576b-a847-4e70-90a0-70e586e3ac44",
   "metadata": {
    "tags": []
   },
   "outputs": [
    {
     "name": "stdout",
     "output_type": "stream",
     "text": [
      "\u001b[34mINFO    \u001b[0m Using column names from columns of adata.obsm\u001b[1m[\u001b[0m\u001b[32m'covariates'\u001b[0m\u001b[1m]\u001b[0m                                               \n",
      "\u001b[34mINFO    \u001b[0m Using column names from columns of adata.obsm\u001b[1m[\u001b[0m\u001b[32m'covariates_embed'\u001b[0m\u001b[1m]\u001b[0m                                         \n"
     ]
    }
   ],
   "source": [
    "adata_train = sc.read_h5ad(f\"/d/hpc/projects/FRI/DL/mo6643/MSC/data/data_update_slack/data_splits/data_splits_train_merge/train_data/{dataset_train}\")\n",
    "adata_train = transVAE.setup_anndata(adata_train, categorical_covariate_embed_keys=[\"dataset\"], categorical_covariate_keys=[\"organism\"], copy = True)"
   ]
  },
  {
   "cell_type": "code",
   "execution_count": 5,
   "id": "2388aad8-e2cf-4faa-9d39-ef79a728d8c4",
   "metadata": {
    "tags": []
   },
   "outputs": [
    {
     "name": "stderr",
     "output_type": "stream",
     "text": [
      "GPU available: True (cuda), used: True\n",
      "TPU available: False, using: 0 TPU cores\n",
      "IPU available: False, using: 0 IPUs\n",
      "HPU available: False, using: 0 HPUs\n",
      "LOCAL_RANK: 0 - CUDA_VISIBLE_DEVICES: [0,1]\n",
      "SLURM auto-requeueing enabled. Setting signal handlers.\n"
     ]
    },
    {
     "name": "stdout",
     "output_type": "stream",
     "text": [
      "Epoch 69/69: 100%|██████████| 69/69 [06:25<00:00,  5.69s/it, v_num=1, train_loss_step=133, train_loss_epoch=102]"
     ]
    },
    {
     "name": "stderr",
     "output_type": "stream",
     "text": [
      "`Trainer.fit` stopped: `max_epochs=69` reached.\n"
     ]
    },
    {
     "name": "stdout",
     "output_type": "stream",
     "text": [
      "Epoch 69/69: 100%|██████████| 69/69 [06:25<00:00,  5.59s/it, v_num=1, train_loss_step=133, train_loss_epoch=102]\n"
     ]
    }
   ],
   "source": [
    "# make the model\n",
    "model = transVAE(adata_train, \n",
    "                 n_hidden=n_hidden, \n",
    "                 n_latent=n_latent, \n",
    "                 n_layers=n_layers, \n",
    "                 dropout_rate=dropout_rate, \n",
    "                 cov_embed_dims = cov_embed_dims, \n",
    "                 kl_weight = kl_weight,\n",
    "                 initialize_weights=True)\n",
    "\n",
    "# train the model\n",
    "model.train(batch_size=4096, max_epochs = 69, train_size = 1.0, enable_progress_bar = True, plan_kwargs = {\"lr\": learning_rate})"
   ]
  },
  {
   "cell_type": "code",
   "execution_count": 7,
   "id": "96e1d117-6880-44eb-9026-209a57836fba",
   "metadata": {
    "tags": []
   },
   "outputs": [],
   "source": [
    "import pandas as pd"
   ]
  },
  {
   "cell_type": "code",
   "execution_count": 8,
   "id": "a12c6ab9-5f86-4c16-bad0-6d0206645f60",
   "metadata": {
    "tags": []
   },
   "outputs": [],
   "source": [
    "results = pd.read_csv(\"results_weight_initialization.csv\")"
   ]
  },
  {
   "cell_type": "code",
   "execution_count": 9,
   "id": "e300080a-8f19-43f9-882f-50dfa7af68ef",
   "metadata": {
    "tags": []
   },
   "outputs": [],
   "source": [
    "results[\"Kaiming\"] = model.history[\"train_loss_epoch\"][\"train_loss_epoch\"]"
   ]
  },
  {
   "cell_type": "code",
   "execution_count": 10,
   "id": "70ae3774-4eeb-4c40-8b61-3f8801bf0484",
   "metadata": {
    "tags": []
   },
   "outputs": [],
   "source": [
    "results.rename({\"train_loss_epoch\":\"Xavier\"}, axis=1, inplace=True)"
   ]
  },
  {
   "cell_type": "code",
   "execution_count": 11,
   "id": "a8fccbb5-5045-4f40-8bfe-0e64beed1dfe",
   "metadata": {
    "tags": []
   },
   "outputs": [
    {
     "data": {
      "image/png": "[encoded data removed]",
      "text/plain": [
       "<Figure size 640x480 with 1 Axes>"
      ]
     },
     "metadata": {},
     "output_type": "display_data"
    }
   ],
   "source": [
    "import matplotlib.pyplot as plt\n",
    "\n",
    "# Plot the two lines\n",
    "results.plot(y=['Xavier', 'without_wi', \"Kaiming\"], linestyle='-')\n",
    "\n",
    "# Add labels and title\n",
    "plt.xlabel(\"Epoch\")\n",
    "plt.ylabel(\"Train loss\")\n",
    "plt.title(\"initialize_weights test\")\n",
    "\n",
    "# Display the plot\n",
    "plt.show()"
   ]
  },
  {
   "cell_type": "markdown",
   "id": "61331959-0e25-464a-8517-ed9493bc69b9",
   "metadata": {},
   "source": [
    "### Something else"
   ]
  },
  {
   "cell_type": "code",
   "execution_count": null,
   "id": "99f6aeff-3988-4596-b123-d9a6bb7b65c8",
   "metadata": {},
   "outputs": [],
   "source": [
    "adata_to_predict = sc.read_h5ad(f\"/d/hpc/projects/FRI/DL/mo6643/MSC/data/data_update_slack/data_splits/data_splits_train_merge/data_to_predict/{dataset_to_predict}\")\n",
    "dbdb_ground_truth = sc.read_h5ad(f\"/d/hpc/projects/FRI/DL/mo6643/MSC/data/data_update_slack/data_splits/data_splits_train_merge/ground_truth/{dataset_ground_truth1}\")\n",
    "mSTZ_ground_truth = sc.read_h5ad(f\"/d/hpc/projects/FRI/DL/mo6643/MSC/data/data_update_slack/data_splits/data_splits_train_merge/ground_truth/{dataset_ground_truth2}\")\n",
    "\n",
    "adata_to_predict_h = adata_to_predict[adata_to_predict.obs.disease == \"healthy\"]\n",
    "adata_to_predict_OOD = adata_to_predict[adata_to_predict.obs.disease == \"T2D\"]\n",
    "\n",
    "preds_dbdb_h = model.translate(adata_to_predict_h, translate_dict={\"dataset\":\"db/db\", \"organism\": \"Mus musculus\"})\n",
    "preds_dbdb_OOD = model.translate(adata_to_predict_OOD, translate_dict={\"dataset\":\"db/db\", \"organism\": \"Mus musculus\"})\n",
    "\n",
    "dbdb_ground_truth_h = dbdb_ground_truth[dbdb_ground_truth.obs.disease == \"healthy\"]\n",
    "dbdb_ground_truth_OOD = dbdb_ground_truth[dbdb_ground_truth.obs.disease == \"T2D\"]\n",
    "\n",
    "preds_mSTZ_h = model.translate(adata_to_predict_h, translate_dict={\"dataset\":\"mSTZ\", \"organism\": \"Mus musculus\"})\n",
    "preds_mSTZ_OOD = model.translate(adata_to_predict_OOD, translate_dict={\"dataset\":\"mSTZ\", \"organism\": \"Mus musculus\"})\n",
    "\n",
    "mSTZ_ground_truth_h = mSTZ_ground_truth[mSTZ_ground_truth.obs.disease == \"healthy\"]\n",
    "mSTZ_ground_truth_OOD = mSTZ_ground_truth[mSTZ_ground_truth.obs.disease == \"T2D\"]"
   ]
  },
  {
   "cell_type": "code",
   "execution_count": null,
   "id": "db219b1c-a1f8-4f9b-9a73-76562bd29081",
   "metadata": {},
   "outputs": [],
   "source": [
    "model.translate()"
   ]
  }
 ],
 "metadata": {
  "kernelspec": {
   "display_name": "Python 3 (ipykernel)",
   "language": "python",
   "name": "python3"
  },
  "language_info": {
   "codemirror_mode": {
    "name": "ipython",
    "version": 3
   },
   "file_extension": ".py",
   "mimetype": "text/x-python",
   "name": "python",
   "nbconvert_exporter": "python",
   "pygments_lexer": "ipython3",
   "version": "3.10.9"
  }
 },
 "nbformat": 4,
 "nbformat_minor": 5
}
