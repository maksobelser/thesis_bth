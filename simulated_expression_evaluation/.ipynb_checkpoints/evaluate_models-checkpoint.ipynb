{
 "cells": [
  {
   "cell_type": "code",
   "execution_count": 1,
   "id": "81dad9d1-07d1-42b7-b1cd-198bb5909a42",
   "metadata": {
    "tags": []
   },
   "outputs": [
    {
     "name": "stderr",
     "output_type": "stream",
     "text": [
      "/d/hpc/home/mo6643/miniconda3/envs/msc1/lib/python3.10/site-packages/scvi/_settings.py:63: UserWarning: Since v1.0.0, scvi-tools no longer uses a random seed by default. Run `scvi.settings.seed = 0` to reproduce results from previous versions.\n",
      "  self.seed = seed\n",
      "/d/hpc/home/mo6643/miniconda3/envs/msc1/lib/python3.10/site-packages/scvi/_settings.py:70: UserWarning: Setting `dl_pin_memory_gpu_training` is deprecated in v1.0 and will be removed in v1.1. Please pass in `pin_memory` to the data loaders instead.\n",
      "  self.dl_pin_memory_gpu_training = (\n"
     ]
    }
   ],
   "source": [
    "from transVAE.model.transVAE import transVAE\n",
    "from transVAE.module._utils import check_adatas_var_index, compute_r2_score\n",
    "import os\n",
    "import scanpy as sc"
   ]
  },
  {
   "cell_type": "code",
   "execution_count": 2,
   "id": "d61b6277-73e9-4b44-a9b3-0e82e3a5a32b",
   "metadata": {
    "tags": []
   },
   "outputs": [],
   "source": [
    "home_dir = \"/d/hpc/projects/FRI/DL/mo6643/MSC/\""
   ]
  },
  {
   "cell_type": "code",
   "execution_count": 3,
   "id": "00ad317f-b8f7-496b-afeb-fd013a23747c",
   "metadata": {
    "tags": []
   },
   "outputs": [],
   "source": [
    "model_dir = \"cross_species_prediction_save/baseline_models_save/transVAE_train_train_adata_baseline_top3000hvg.h5ad_hid800_lat512_lr0.005_cov10_ep1000_ly4_dr0.3_kl0.005_s44/\""
   ]
  },
  {
   "cell_type": "code",
   "execution_count": 4,
   "id": "bb270629-ccd5-42ac-a03c-3cf32eeb8970",
   "metadata": {
    "tags": []
   },
   "outputs": [],
   "source": [
    "adata_dir = \"data/data_update_slack/data_splits/data_splits_train_merge/train_data/train_adata_baseline_top3000hvg.h5ad\""
   ]
  },
  {
   "cell_type": "code",
   "execution_count": 5,
   "id": "23f04aa1-c50e-4bde-b553-5f233ea49e5b",
   "metadata": {
    "tags": []
   },
   "outputs": [],
   "source": [
    "model_dir = os.path.join(home_dir, model_dir)\n",
    "adata_dir = os.path.join(home_dir, adata_dir)"
   ]
  },
  {
   "cell_type": "code",
   "execution_count": 6,
   "id": "4ad2b852-9e5f-42ac-8780-c82482bb0521",
   "metadata": {
    "tags": []
   },
   "outputs": [],
   "source": [
    "dataset_train = \"train_adata_baseline_top3000hvg.h5ad\""
   ]
  },
  {
   "cell_type": "code",
   "execution_count": 68,
   "id": "d1529f1b-c4fc-4179-b8dd-042065d739c1",
   "metadata": {
    "tags": []
   },
   "outputs": [],
   "source": [
    "adata_train = sc.read_h5ad(f\"/d/hpc/projects/FRI/DL/mo6643/MSC/data/data_update_slack/data_splits/data_splits_train_merge/train_data/{dataset_train}\")"
   ]
  },
  {
   "cell_type": "code",
   "execution_count": 75,
   "id": "58f79d50-4c3c-4aec-a454-609077228e52",
   "metadata": {
    "tags": []
   },
   "outputs": [
    {
     "name": "stdout",
     "output_type": "stream",
     "text": [
      "\u001b[34mINFO    \u001b[0m Using column names from columns of adata.obsm\u001b[1m[\u001b[0m\u001b[32m'covariates'\u001b[0m\u001b[1m]\u001b[0m                                               \n",
      "\u001b[34mINFO    \u001b[0m Using column names from columns of adata.obsm\u001b[1m[\u001b[0m\u001b[32m'covariates_embed'\u001b[0m\u001b[1m]\u001b[0m                                         \n"
     ]
    }
   ],
   "source": [
    "adata_train = transVAE.setup_anndata(adata_train, categorical_covariate_embed_keys=[\"dataset\"], categorical_covariate_keys=[\"organism\"], copy = True)"
   ]
  },
  {
   "cell_type": "code",
   "execution_count": 77,
   "id": "5be80314-0235-4d24-a71d-5163dcb89fca",
   "metadata": {
    "tags": []
   },
   "outputs": [],
   "source": [
    "model = transVAE(adata_train, n_hidden=800, n_latent=512, n_layers=4, dropout_rate=0.3)"
   ]
  },
  {
   "cell_type": "code",
   "execution_count": 79,
   "id": "fc8f4152-06c0-4a7b-b3f6-a2ebfdd452aa",
   "metadata": {
    "tags": []
   },
   "outputs": [],
   "source": [
    "import scvi"
   ]
  },
  {
   "cell_type": "code",
   "execution_count": 83,
   "id": "fa86a8ea-0682-4bde-87d9-6caba5489c42",
   "metadata": {
    "tags": []
   },
   "outputs": [
    {
     "name": "stderr",
     "output_type": "stream",
     "text": [
      "[rank: 0] Global seed set to 44\n"
     ]
    }
   ],
   "source": [
    "scvi.settings.seed = 44"
   ]
  },
  {
   "cell_type": "code",
   "execution_count": 85,
   "id": "e0ff2cb7-6923-42b0-a63e-a53063c14f9b",
   "metadata": {
    "tags": []
   },
   "outputs": [
    {
     "name": "stderr",
     "output_type": "stream",
     "text": [
      "GPU available: True (cuda), used: True\n",
      "TPU available: False, using: 0 TPU cores\n",
      "IPU available: False, using: 0 IPUs\n",
      "HPU available: False, using: 0 HPUs\n",
      "LOCAL_RANK: 0 - CUDA_VISIBLE_DEVICES: [0,1]\n",
      "SLURM auto-requeueing enabled. Setting signal handlers.\n"
     ]
    },
    {
     "name": "stdout",
     "output_type": "stream",
     "text": [
      "Epoch 100/100: 100%|██████████| 100/100 [06:17<00:00,  3.45s/it, v_num=1, train_loss_step=84.7, train_loss_epoch=85.7]"
     ]
    },
    {
     "name": "stderr",
     "output_type": "stream",
     "text": [
      "`Trainer.fit` stopped: `max_epochs=100` reached.\n"
     ]
    },
    {
     "name": "stdout",
     "output_type": "stream",
     "text": [
      "Epoch 100/100: 100%|██████████| 100/100 [06:17<00:00,  3.77s/it, v_num=1, train_loss_step=84.7, train_loss_epoch=85.7]\n"
     ]
    }
   ],
   "source": [
    "model.train(max_epochs=100, batch_size=4048 ,plan_kwargs={\"lr\":0.005})"
   ]
  },
  {
   "cell_type": "code",
   "execution_count": 88,
   "id": "dc175511-7d74-4e7b-9d74-7008fc4303f4",
   "metadata": {
    "tags": []
   },
   "outputs": [],
   "source": [
    "dataset_to_predict = \"Wang_to_predict_top3000_baseline_hvg.h5ad\"\n",
    "dataset_ground_truth1 = \"dbdb_ground_truth_top3000_baseline_hvg.h5ad\"\n",
    "dataset_ground_truth2 = \"mSTZ_ground_truth_top3000_baseline_hvg.h5ad\""
   ]
  },
  {
   "cell_type": "code",
   "execution_count": 89,
   "id": "9ca73f38-6ff3-4db7-a3c8-fd6fdbf842c6",
   "metadata": {
    "tags": []
   },
   "outputs": [],
   "source": [
    "adata_to_predict = sc.read_h5ad(f\"/d/hpc/projects/FRI/DL/mo6643/MSC/data/data_update_slack/data_splits/data_splits_train_merge/data_to_predict/{dataset_to_predict}\")\n",
    "dbdb_ground_truth = sc.read_h5ad(f\"/d/hpc/projects/FRI/DL/mo6643/MSC/data/data_update_slack/data_splits/data_splits_train_merge/ground_truth/{dataset_ground_truth1}\")\n",
    "mSTZ_ground_truth = sc.read_h5ad(f\"/d/hpc/projects/FRI/DL/mo6643/MSC/data/data_update_slack/data_splits/data_splits_train_merge/ground_truth/{dataset_ground_truth2}\")"
   ]
  },
  {
   "cell_type": "code",
   "execution_count": 91,
   "id": "c877ea49-dd15-49b0-b0ae-300b96b0910f",
   "metadata": {
    "tags": []
   },
   "outputs": [
    {
     "name": "stdout",
     "output_type": "stream",
     "text": [
      "\u001b[34mINFO    \u001b[0m Input AnnData not setup with scvi-tools. attempting to transfer AnnData setup                             \n"
     ]
    },
    {
     "name": "stderr",
     "output_type": "stream",
     "text": [
      "/d/hpc/home/mo6643/miniconda3/envs/msc1/lib/python3.10/site-packages/anndata/compat/_overloaded_dict.py:106: ImplicitModificationWarning: Trying to modify attribute `._uns` of view, initializing view as actual.\n",
      "  self.data[key] = value\n"
     ]
    },
    {
     "name": "stdout",
     "output_type": "stream",
     "text": [
      "\u001b[34mINFO    \u001b[0m Input AnnData not setup with scvi-tools. attempting to transfer AnnData setup                             \n"
     ]
    },
    {
     "name": "stderr",
     "output_type": "stream",
     "text": [
      "/d/hpc/home/mo6643/miniconda3/envs/msc1/lib/python3.10/site-packages/anndata/compat/_overloaded_dict.py:106: ImplicitModificationWarning: Trying to modify attribute `._uns` of view, initializing view as actual.\n",
      "  self.data[key] = value\n"
     ]
    }
   ],
   "source": [
    "adata_to_predict_h = adata_to_predict[adata_to_predict.obs.disease == \"healthy\"]\n",
    "adata_to_predict_OOD = adata_to_predict[adata_to_predict.obs.disease == \"T2D\"]\n",
    "\n",
    "preds_dbdb_h = model.translate(adata_to_predict_h, translate_dict={\"dataset\":\"db/db\", \"organism\": \"Mus musculus\"})\n",
    "preds_dbdb_OOD = model.translate(adata_to_predict_OOD, translate_dict={\"dataset\":\"db/db\", \"organism\": \"Mus musculus\"})\n",
    "\n",
    "dbdb_ground_truth_h = dbdb_ground_truth[dbdb_ground_truth.obs.disease == \"healthy\"]\n",
    "dbdb_ground_truth_OOD = dbdb_ground_truth[dbdb_ground_truth.obs.disease == \"T2D\"]\n",
    "\n",
    "preds_mSTZ_h = model.translate(adata_to_predict_h, translate_dict={\"dataset\":\"mSTZ\", \"organism\": \"Mus musculus\"})\n",
    "preds_mSTZ_OOD = model.translate(adata_to_predict_OOD, translate_dict={\"dataset\":\"mSTZ\", \"organism\": \"Mus musculus\"})\n",
    "\n",
    "mSTZ_ground_truth_h = mSTZ_ground_truth[mSTZ_ground_truth.obs.disease == \"healthy\"]\n",
    "mSTZ_ground_truth_OOD = mSTZ_ground_truth[mSTZ_ground_truth.obs.disease == \"T2D\"]"
   ]
  },
  {
   "cell_type": "code",
   "execution_count": null,
   "id": "2edb7739-885d-450f-9b45-aeddc34e20fc",
   "metadata": {},
   "outputs": [
    {
     "data": {
      "text/plain": [
       "AnnData object with n_obs × n_vars = 21012 × 3000\n",
       "    obs: 'disease', 'dataset', 'organism'\n",
       "    uns: 'covariate_orders', 'covariates_dict', '_scvi_uuid', '_scvi_manager_uuid'\n",
       "    obsm: 'covariates', 'covariates_embed'"
      ]
     },
     "execution_count": 95,
     "metadata": {},
     "output_type": "execute_result"
    }
   ],
   "source": [
    "adata_to_predict_h"
   ]
  },
  {
   "cell_type": "code",
   "execution_count": 100,
   "id": "a1d5a48d-ab84-49dc-9bbb-87a7ca9dbeac",
   "metadata": {
    "tags": []
   },
   "outputs": [],
   "source": [
    "def return_plot_datasets(preds, ground_truth):\n",
    "    # Convert to densdataset adata.X is sparse\n",
    "    ground_truth = ground_truth.X.toarray()\n",
    "    ground_truth = ground_truth.mean(axis = 0)\n",
    "    preds = preds.X.mean(axis = 0)\n",
    "    # Compute R2 score\n",
    "    return ground_truth, preds\n"
   ]
  },
  {
   "cell_type": "code",
   "execution_count": 102,
   "id": "b08d4317-0afd-42fd-8cb6-6bd46144e8c9",
   "metadata": {
    "tags": []
   },
   "outputs": [],
   "source": [
    "plot_gt, plot_preds = return_plot_datasets(preds_dbdb_h, mSTZ_ground_truth_h)"
   ]
  },
  {
   "cell_type": "code",
   "execution_count": 98,
   "id": "30522ca1-664d-4b6f-9e27-5b82ae65216c",
   "metadata": {
    "tags": []
   },
   "outputs": [],
   "source": [
    "import matplotlib.pyplot as plt"
   ]
  },
  {
   "cell_type": "code",
   "execution_count": 103,
   "id": "8ba68cb3-2ee3-48df-8f00-8a48683a8d76",
   "metadata": {
    "tags": []
   },
   "outputs": [
    {
     "data": {
      "text/plain": [
       "<matplotlib.collections.PathCollection at 0x1531e0cec790>"
      ]
     },
     "execution_count": 103,
     "metadata": {},
     "output_type": "execute_result"
    },
    {
     "data": {
      "image/png": "[encoded data removed]",
      "text/plain": [
       "<Figure size 640x480 with 1 Axes>"
      ]
     },
     "metadata": {},
     "output_type": "display_data"
    }
   ],
   "source": [
    "plt.scatter(plot_gt, plot_preds)"
   ]
  },
  {
   "cell_type": "code",
   "execution_count": 107,
   "id": "7043ea4e-d618-4b97-b3c5-0d39e041833d",
   "metadata": {
    "tags": []
   },
   "outputs": [],
   "source": [
    "from sklearn.metrics import r2_score"
   ]
  },
  {
   "cell_type": "code",
   "execution_count": 116,
   "id": "7ad926b1-a84b-4542-8844-216795c7c9de",
   "metadata": {
    "tags": []
   },
   "outputs": [],
   "source": [
    "def compute_r2_score(preds, ground_truth):\n",
    "    # Convert to densdataset adata.X is sparse\n",
    "    ground_truth = ground_truth.X.toarray()\n",
    "    ground_truth = ground_truth.mean(axis = 0)\n",
    "    preds = preds.X.mean(axis = 0)\n",
    "    # Compute R2 score\n",
    "    r2 = r2_score(ground_truth, preds)\n",
    "    return r2\n"
   ]
  },
  {
   "cell_type": "code",
   "execution_count": 117,
   "id": "19b70ffc-7390-4244-bd77-63aae879167f",
   "metadata": {
    "tags": []
   },
   "outputs": [
    {
     "data": {
      "text/plain": [
       "0.9054769498455834"
      ]
     },
     "execution_count": 117,
     "metadata": {},
     "output_type": "execute_result"
    }
   ],
   "source": [
    "compute_r2_score(preds_dbdb_h, mSTZ_ground_truth_h)"
   ]
  },
  {
   "cell_type": "markdown",
   "id": "81e43de5-b867-40c5-a360-3d5055fd3149",
   "metadata": {},
   "source": [
    "### OOD data"
   ]
  },
  {
   "cell_type": "code",
   "execution_count": 110,
   "id": "fa1e8fba-f864-4846-b1a6-87cb3eab766e",
   "metadata": {
    "tags": []
   },
   "outputs": [],
   "source": [
    "plot_gt, plot_preds = return_plot_datasets(preds_dbdb_OOD, mSTZ_ground_truth_OOD)"
   ]
  },
  {
   "cell_type": "code",
   "execution_count": 112,
   "id": "a7837f4d-284c-41cf-9309-f55a0fe17607",
   "metadata": {
    "tags": []
   },
   "outputs": [
    {
     "data": {
      "text/plain": [
       "<matplotlib.collections.PathCollection at 0x15338c596c80>"
      ]
     },
     "execution_count": 112,
     "metadata": {},
     "output_type": "execute_result"
    },
    {
     "data": {
      "image/png": "[encoded data removed]",
      "text/plain": [
       "<Figure size 640x480 with 1 Axes>"
      ]
     },
     "metadata": {},
     "output_type": "display_data"
    }
   ],
   "source": [
    "plt.scatter(plot_gt, plot_preds)"
   ]
  },
  {
   "cell_type": "code",
   "execution_count": 107,
   "id": "46135d46-c8cd-462d-8fcc-86e2bfe16e29",
   "metadata": {
    "tags": []
   },
   "outputs": [],
   "source": [
    "from sklearn.metrics import r2_score"
   ]
  },
  {
   "cell_type": "code",
   "execution_count": 108,
   "id": "d8a8e67d-0ce2-4577-8dfe-8eb352bd12ba",
   "metadata": {
    "tags": []
   },
   "outputs": [],
   "source": [
    "def compute_r2_score(preds, ground_truth):\n",
    "    # Convert to densdataset adata.X is sparse\n",
    "    ground_truth = ground_truth.X.toarray()\n",
    "    ground_truth = ground_truth.mean(axis = 0)\n",
    "    preds = preds.X.mean(axis = 0)\n",
    "    # Compute R2 score\n",
    "    r2 = r2_score(ground_truth, preds)\n",
    "    return r2\n"
   ]
  },
  {
   "cell_type": "code",
   "execution_count": 113,
   "id": "d46f1600-a002-48be-9ff7-9f16440ab430",
   "metadata": {
    "tags": []
   },
   "outputs": [
    {
     "data": {
      "text/plain": [
       "0.6908406335338835"
      ]
     },
     "execution_count": 113,
     "metadata": {},
     "output_type": "execute_result"
    }
   ],
   "source": [
    "compute_r2_score(preds_dbdb_OOD, mSTZ_ground_truth_OOD)"
   ]
  },
  {
   "cell_type": "code",
   "execution_count": 136,
   "id": "2eca4833-32f9-4afd-a12f-d7d37eee41fd",
   "metadata": {
    "tags": []
   },
   "outputs": [],
   "source": [
    "model.save(dir_path=\"./test_save\", save_anndata=True, overwrite=True)"
   ]
  },
  {
   "cell_type": "code",
   "execution_count": 120,
   "id": "7bb57db0-1c21-4300-82dd-4e95f6eab4eb",
   "metadata": {
    "tags": []
   },
   "outputs": [
    {
     "data": {
      "text/plain": [
       "AnnData object with n_obs × n_vars = 209722 × 3000\n",
       "    obs: 'disease', 'dataset', 'organism'\n",
       "    var: 'highly_variable', 'means', 'dispersions', 'dispersions_norm'\n",
       "    uns: 'hvg', 'covariate_orders', 'covariates_dict', '_scvi_uuid', '_scvi_manager_uuid'\n",
       "    obsm: 'covariates', 'covariates_embed'"
      ]
     },
     "execution_count": 120,
     "metadata": {},
     "output_type": "execute_result"
    }
   ],
   "source": [
    "model.adata"
   ]
  },
  {
   "cell_type": "code",
   "execution_count": 134,
   "id": "8ddf07c9-f284-43fc-b247-e563229e4e58",
   "metadata": {
    "tags": []
   },
   "outputs": [],
   "source": [
    "def ndarray_or_dataframe_to_list(data):\n",
    "    \"\"\"Converts numpy ndarray or pandas DataFrame to list.\"\"\"\n",
    "    if isinstance(data, np.ndarray):\n",
    "        return data.tolist()\n",
    "    elif isinstance(data, pd.DataFrame):\n",
    "        return data.values.tolist()\n",
    "    else:\n",
    "        raise ValueError(f\"Unsupported data type: {type(data)}\")\n",
    "\n",
    "def save_adata_to_json(adata, filename):\n",
    "    data = {}\n",
    "\n",
    "    # Convert .uns to JSON (some nested items might not be directly serializable)\n",
    "    data['uns'] = {}\n",
    "    for key, value in adata.uns.items():\n",
    "        if isinstance(value, (np.ndarray, pd.DataFrame)):\n",
    "            data['uns'][key] = ndarray_or_dataframe_to_list(value)\n",
    "        else:\n",
    "            data['uns'][key] = value\n",
    "\n",
    "    # Convert .obsm to JSON\n",
    "    data['obsm'] = {}\n",
    "    for key, value in adata.obsm.items():\n",
    "        data['obsm'][key] = ndarray_or_dataframe_to_list(value)\n",
    "\n",
    "    # Save to JSON file\n",
    "    with open(filename, 'w') as f:\n",
    "        json.dump(data, f)\n",
    "\n",
    "\n"
   ]
  },
  {
   "cell_type": "code",
   "execution_count": 128,
   "id": "8fe57647-ba10-4e91-852c-e1d6a26dfc81",
   "metadata": {
    "tags": []
   },
   "outputs": [],
   "source": [
    "import pandas as pd"
   ]
  },
  {
   "cell_type": "code",
   "execution_count": 135,
   "id": "90c42943-b58b-4b9c-94cc-fc6d0594db47",
   "metadata": {
    "tags": []
   },
   "outputs": [],
   "source": [
    "save_adata_to_json(model.adata, \"./test_save/model_adata_att.json\")"
   ]
  },
  {
   "cell_type": "markdown",
   "id": "2f15526d-9df4-47f8-b86e-76cb55f44920",
   "metadata": {
    "jp-MarkdownHeadingCollapsed": true,
    "tags": []
   },
   "source": [
    "### Traying to setup anndata"
   ]
  },
  {
   "cell_type": "code",
   "execution_count": 24,
   "id": "4c626bae-9312-4ca1-b035-fd4e867753da",
   "metadata": {
    "tags": []
   },
   "outputs": [],
   "source": [
    "import torch"
   ]
  },
  {
   "cell_type": "code",
   "execution_count": 28,
   "id": "41854f32-e7ee-4ef2-b572-6df15aa6b2dd",
   "metadata": {
    "tags": []
   },
   "outputs": [],
   "source": [
    "torch_test = model_dir + \"model.pt\""
   ]
  },
  {
   "cell_type": "code",
   "execution_count": 30,
   "id": "9583faf9-de86-476b-9f9b-aa8fbda88579",
   "metadata": {
    "tags": []
   },
   "outputs": [],
   "source": [
    "model_loaded = torch.load(torch_test)"
   ]
  },
  {
   "cell_type": "code",
   "execution_count": 32,
   "id": "84aeac34-0b7d-4379-b21c-7880102b1d58",
   "metadata": {
    "tags": []
   },
   "outputs": [
    {
     "data": {
      "text/plain": [
       "dict_keys(['model_state_dict', 'var_names', 'attr_dict'])"
      ]
     },
     "execution_count": 32,
     "metadata": {},
     "output_type": "execute_result"
    }
   ],
   "source": [
    "model_loaded.keys()"
   ]
  },
  {
   "cell_type": "code",
   "execution_count": 48,
   "id": "5b90ff1b-ce1f-49ab-94b1-37175cb0ef19",
   "metadata": {
    "tags": []
   },
   "outputs": [
    {
     "data": {
      "text/plain": [
       "array(['ENSMUSG00000000049', 'ENSMUSG00000000058', 'ENSMUSG00000000078',\n",
       "       ..., 'ENSMUSG00000115378', 'ENSMUSG00000117406',\n",
       "       'ENSMUSG00000117975'], dtype=object)"
      ]
     },
     "execution_count": 48,
     "metadata": {},
     "output_type": "execute_result"
    }
   ],
   "source": [
    "model_loaded[\"var_names\"]"
   ]
  },
  {
   "cell_type": "code",
   "execution_count": 70,
   "id": "2a788850-4fd2-490d-9b5e-7a823b447676",
   "metadata": {
    "tags": []
   },
   "outputs": [],
   "source": [
    "adata_train.uns[\"_scvi_uuid\"] = model_loaded[\"attr_dict\"][\"registry_\"][\"_scvi_uuid\"]"
   ]
  },
  {
   "cell_type": "code",
   "execution_count": 73,
   "id": "775a057f-8ebb-4e64-81b1-a882cf4d88b3",
   "metadata": {
    "tags": []
   },
   "outputs": [
    {
     "data": {
      "text/plain": [
       "array(['ENSMUSG00000000049', 'ENSMUSG00000000058', 'ENSMUSG00000000078',\n",
       "       ..., 'ENSMUSG00000115378', 'ENSMUSG00000117406',\n",
       "       'ENSMUSG00000117975'], dtype=object)"
      ]
     },
     "execution_count": 73,
     "metadata": {},
     "output_type": "execute_result"
    }
   ],
   "source": [
    "model_loaded[\"var_names\"]"
   ]
  },
  {
   "cell_type": "code",
   "execution_count": 65,
   "id": "796c2417-7ef8-49d0-ad9e-a19e4c9e5829",
   "metadata": {
    "tags": []
   },
   "outputs": [
    {
     "data": {
      "text/plain": [
       "{'scvi_version': '1.0.3',\n",
       " 'model_name': 'transVAE',\n",
       " 'setup_args': {'categorical_covariate_keys': ['organism'],\n",
       "  'categorical_covariate_embed_keys': ['dataset'],\n",
       "  'covariate_orders': {},\n",
       "  'copy': True,\n",
       "  'layer': None,\n",
       "  'covariates':                                       organism_Homo sapiens  \\\n",
       "  TAGACCATCAGAGGTG-1-G1-STZ                                 0   \n",
       "  GGCCGATTCAAAGTAG-1-mouse4-Fltp_adult                      0   \n",
       "  TACGGTAGTCCGTGAC-1-G1-STZ                                 0   \n",
       "  AGATTGCTCTTGTTTG-1-mouse1-Fltp_adult                      0   \n",
       "  ATTGTTCAGTCTCTGA-1-MUC13634-VSG                           0   \n",
       "  ...                                                     ...   \n",
       "  C0027_TTTGTTGGTGCTCCGT-1                                  1   \n",
       "  C0027_TTTGTTGGTGTGTCCC-1                                  1   \n",
       "  C0027_TTTGTTGGTTAGTGAT-1                                  1   \n",
       "  C0027_TTTGTTGGTTTCGCGC-1                                  1   \n",
       "  C0027_TTTGTTGGTTTGACCT-1                                  1   \n",
       "  \n",
       "                                        organism_Mus musculus  \n",
       "  TAGACCATCAGAGGTG-1-G1-STZ                                 1  \n",
       "  GGCCGATTCAAAGTAG-1-mouse4-Fltp_adult                      1  \n",
       "  TACGGTAGTCCGTGAC-1-G1-STZ                                 1  \n",
       "  AGATTGCTCTTGTTTG-1-mouse1-Fltp_adult                      1  \n",
       "  ATTGTTCAGTCTCTGA-1-MUC13634-VSG                           1  \n",
       "  ...                                                     ...  \n",
       "  C0027_TTTGTTGGTGCTCCGT-1                                  0  \n",
       "  C0027_TTTGTTGGTGTGTCCC-1                                  0  \n",
       "  C0027_TTTGTTGGTTAGTGAT-1                                  0  \n",
       "  C0027_TTTGTTGGTTTCGCGC-1                                  0  \n",
       "  C0027_TTTGTTGGTTTGACCT-1                                  0  \n",
       "  \n",
       "  [209722 rows x 2 columns],\n",
       "  'covariates_embed':                                      dataset\n",
       "  TAGACCATCAGAGGTG-1-G1-STZ                  4\n",
       "  GGCCGATTCAAAGTAG-1-mouse4-Fltp_adult       0\n",
       "  TACGGTAGTCCGTGAC-1-G1-STZ                  4\n",
       "  AGATTGCTCTTGTTTG-1-mouse1-Fltp_adult       0\n",
       "  ATTGTTCAGTCTCTGA-1-MUC13634-VSG            3\n",
       "  ...                                      ...\n",
       "  C0027_TTTGTTGGTGCTCCGT-1                   2\n",
       "  C0027_TTTGTTGGTGTGTCCC-1                   2\n",
       "  C0027_TTTGTTGGTTAGTGAT-1                   2\n",
       "  C0027_TTTGTTGGTTTCGCGC-1                   2\n",
       "  C0027_TTTGTTGGTTTGACCT-1                   2\n",
       "  \n",
       "  [209722 rows x 1 columns],\n",
       "  'orders_dict': {'organism': ['Homo sapiens', 'Mus musculus'],\n",
       "   'dataset': ['4m', 'Elgmal', 'Wang', 'db/db', 'mSTZ']},\n",
       "  'cov_dict': {'categorical': ['organism'],\n",
       "   'categorical_embed': ['dataset'],\n",
       "   'continuous': []}},\n",
       " 'field_registries': defaultdict(dict,\n",
       "             {'X': {'data_registry': {'attr_name': 'X', 'attr_key': None},\n",
       "               'state_registry': {'n_obs': 209722,\n",
       "                'n_vars': 3000,\n",
       "                'column_names': array(['ENSMUSG00000000049', 'ENSMUSG00000000058', 'ENSMUSG00000000078',\n",
       "                       ..., 'ENSMUSG00000115378', 'ENSMUSG00000117406',\n",
       "                       'ENSMUSG00000117975'], dtype=object)},\n",
       "               'summary_stats': {'n_vars': 3000, 'n_cells': 209722}},\n",
       "              'covariates': {'data_registry': {'attr_name': 'obsm',\n",
       "                'attr_key': 'covariates'},\n",
       "               'state_registry': {'column_names': ['organism_Homo sapiens',\n",
       "                 'organism_Mus musculus']},\n",
       "               'summary_stats': {'n_covariates': 2}},\n",
       "              'covariates_embed': {'data_registry': {'attr_name': 'obsm',\n",
       "                'attr_key': 'covariates_embed'},\n",
       "               'state_registry': {'column_names': ['dataset']},\n",
       "               'summary_stats': {'n_covariates_embed': 1}}}),\n",
       " 'setup_method_name': 'setup_anndata',\n",
       " '_scvi_uuid': 'f3954343-acee-45e5-99b4-e16757af3ef7'}"
      ]
     },
     "execution_count": 65,
     "metadata": {},
     "output_type": "execute_result"
    }
   ],
   "source": [
    "model_loaded[\"attr_dict\"][\"registry_\"]"
   ]
  },
  {
   "cell_type": "code",
   "execution_count": null,
   "id": "98c7a0d7-b633-44a1-ad11-3f789c1ff5de",
   "metadata": {},
   "outputs": [],
   "source": []
  }
 ],
 "metadata": {
  "kernelspec": {
   "display_name": "Python 3 (ipykernel)",
   "language": "python",
   "name": "python3"
  },
  "language_info": {
   "codemirror_mode": {
    "name": "ipython",
    "version": 3
   },
   "file_extension": ".py",
   "mimetype": "text/x-python",
   "name": "python",
   "nbconvert_exporter": "python",
   "pygments_lexer": "ipython3",
   "version": "3.10.9"
  }
 },
 "nbformat": 4,
 "nbformat_minor": 5
}
