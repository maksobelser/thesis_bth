{
 "cells": [
  {
   "cell_type": "code",
   "execution_count": 1,
   "id": "8b9c2088-13d1-4040-806b-73f26370ce21",
   "metadata": {
    "tags": []
   },
   "outputs": [
    {
     "name": "stderr",
     "output_type": "stream",
     "text": [
      "/d/hpc/home/mo6643/miniconda3/envs/msc1/lib/python3.10/site-packages/scvi/_settings.py:63: UserWarning: Since v1.0.0, scvi-tools no longer uses a random seed by default. Run `scvi.settings.seed = 0` to reproduce results from previous versions.\n",
      "  self.seed = seed\n",
      "/d/hpc/home/mo6643/miniconda3/envs/msc1/lib/python3.10/site-packages/scvi/_settings.py:70: UserWarning: Setting `dl_pin_memory_gpu_training` is deprecated in v1.0 and will be removed in v1.1. Please pass in `pin_memory` to the data loaders instead.\n",
      "  self.dl_pin_memory_gpu_training = (\n"
     ]
    }
   ],
   "source": [
    "import scanpy as sc\n",
    "from transVAE.model.transVAE import transVAE\n",
    "from transVAE.module._utils import check_adatas_var_index, compute_r2_score"
   ]
  },
  {
   "cell_type": "code",
   "execution_count": 4,
   "id": "9db26d50-d2d1-4fd9-a061-567cf6709c3b",
   "metadata": {
    "tags": []
   },
   "outputs": [],
   "source": [
    "# Fixed configurations\n",
    "max_epochs = 1\n",
    "dataset_to_predict = \"wang_to_predict_3000hvg.h5ad\"\n",
    "dataset_ground_truth1 = \"dbdb_ground_truth_3000hvg.h5ad\"\n",
    "dataset_ground_truth2 = \"mSTZ_ground_truth_3000hvg.h5ad\"\n",
    "cov_embed_dims = 10\n",
    "kl_weight = 0.005\n",
    "save_folder_name = \"save_test\"\n",
    "save_models = True\n",
    "learning_rate = 0.0001\n",
    "n_layers_fixed = 4\n",
    "n_latent = 512\n",
    "n_hidden = 1000\n",
    "\n",
    "# Grid configurations\n",
    "# Directly setting values from the options\n",
    "addl_dataset_train = \"embedding_top30_mouse_3000hvg.h5ad\"\n",
    "addl_dataset_train = \"None\"\n",
    "n_layers = 4\n",
    "dropout_rate = 0.2\n",
    "weight_decay = 0.0001\n",
    "seed = 42"
   ]
  },
  {
   "cell_type": "code",
   "execution_count": 3,
   "id": "9379adb6-ea5b-468a-b81c-965dec0a1eb2",
   "metadata": {
    "tags": []
   },
   "outputs": [
    {
     "name": "stdout",
     "output_type": "stream",
     "text": [
      "\u001b[34mINFO    \u001b[0m Using column names from columns of adata.obsm\u001b[1m[\u001b[0m\u001b[32m'covariates'\u001b[0m\u001b[1m]\u001b[0m                                               \n",
      "\u001b[34mINFO    \u001b[0m Using column names from columns of adata.obsm\u001b[1m[\u001b[0m\u001b[32m'covariates_embed'\u001b[0m\u001b[1m]\u001b[0m                                         \n"
     ]
    }
   ],
   "source": [
    "adata_baseline = sc.read_h5ad(f\"/d/hpc/projects/FRI/DL/mo6643/MSC/data/data_update_slack/data_splits/data_splits_train_merge/train_data/train_adata_baseline_3000hvg.h5ad\")\n",
    "\n",
    "if addl_dataset_train == \"None\":\n",
    "    adata_train = adata_baseline\n",
    "else:\n",
    "    adata_extra = sc.read_h5ad(f\"/d/hpc/projects/FRI/DL/mo6643/MSC/data/data_update_slack/data_splits/data_splits_train_merge/train_data/{addl_dataset_train}\")\n",
    "    adata_train = sc.concat([adata_baseline, adata_extra], join = \"inner\", axis = 0)\n",
    "\n",
    "adata_train = transVAE.setup_anndata(adata_train, categorical_covariate_embed_keys=[\"dataset\"], categorical_covariate_keys=[\"organism\"], copy = True)\n",
    "adata_to_predict = sc.read_h5ad(f\"/d/hpc/projects/FRI/DL/mo6643/MSC/data/data_update_slack/data_splits/data_splits_train_merge/data_to_predict/{dataset_to_predict}\")\n",
    "dbdb_ground_truth = sc.read_h5ad(f\"/d/hpc/projects/FRI/DL/mo6643/MSC/data/data_update_slack/data_splits/data_splits_train_merge/ground_truth/{dataset_ground_truth1}\")\n",
    "mSTZ_ground_truth = sc.read_h5ad(f\"/d/hpc/projects/FRI/DL/mo6643/MSC/data/data_update_slack/data_splits/data_splits_train_merge/ground_truth/{dataset_ground_truth2}\")"
   ]
  },
  {
   "cell_type": "code",
   "execution_count": 66,
   "id": "c672dcd1-daad-4651-b569-ac3aaa1b9d8e",
   "metadata": {
    "tags": []
   },
   "outputs": [
    {
     "data": {
      "text/plain": [
       "AnnData object with n_obs × n_vars = 204754 × 3000\n",
       "    obs: 'disease', 'dataset', 'organism', 'cell_type'\n",
       "    uns: 'covariate_orders', 'covariates_dict', '_scvi_uuid', '_scvi_manager_uuid'\n",
       "    obsm: 'covariates', 'covariates_embed'"
      ]
     },
     "execution_count": 66,
     "metadata": {},
     "output_type": "execute_result"
    }
   ],
   "source": [
    "adata_train"
   ]
  },
  {
   "cell_type": "code",
   "execution_count": 12,
   "id": "71193b3f-a2a2-4973-a2d6-0db95b8b14bd",
   "metadata": {
    "tags": []
   },
   "outputs": [
    {
     "data": {
      "text/plain": [
       "AnnData object with n_obs × n_vars = 204754 × 3000\n",
       "    obs: 'disease', 'dataset', 'organism', 'cell_type'"
      ]
     },
     "execution_count": 12,
     "metadata": {},
     "output_type": "execute_result"
    }
   ],
   "source": [
    "adata_baseline"
   ]
  },
  {
   "cell_type": "code",
   "execution_count": 13,
   "id": "0ef6a402-3188-43d0-8a11-f5ab892cd58d",
   "metadata": {
    "tags": []
   },
   "outputs": [
    {
     "data": {
      "text/plain": [
       "AnnData object with n_obs × n_vars = 96312 × 3000\n",
       "    obs: 'dataset', 'cell_type', 'disease', 'organism', 'n_counts'\n",
       "    uns: 'log1p'"
      ]
     },
     "execution_count": 13,
     "metadata": {},
     "output_type": "execute_result"
    }
   ],
   "source": [
    "adata_extra"
   ]
  },
  {
   "cell_type": "code",
   "execution_count": 14,
   "id": "60ceb4fd-826f-4db9-8d40-d360afbceff6",
   "metadata": {
    "tags": []
   },
   "outputs": [
    {
     "data": {
      "text/plain": [
       "AnnData object with n_obs × n_vars = 301066 × 3000\n",
       "    obs: 'disease', 'dataset', 'organism', 'cell_type'\n",
       "    uns: 'covariate_orders', 'covariates_dict', '_scvi_uuid', '_scvi_manager_uuid'\n",
       "    obsm: 'covariates', 'covariates_embed'"
      ]
     },
     "execution_count": 14,
     "metadata": {},
     "output_type": "execute_result"
    }
   ],
   "source": [
    "adata_train"
   ]
  },
  {
   "cell_type": "code",
   "execution_count": 5,
   "id": "dedf08bd-605b-4884-8e95-c4195c8f0400",
   "metadata": {
    "tags": []
   },
   "outputs": [
    {
     "name": "stderr",
     "output_type": "stream",
     "text": [
      "GPU available: True (cuda), used: True\n",
      "TPU available: False, using: 0 TPU cores\n",
      "IPU available: False, using: 0 IPUs\n",
      "HPU available: False, using: 0 HPUs\n",
      "LOCAL_RANK: 0 - CUDA_VISIBLE_DEVICES: [0,1]\n",
      "SLURM auto-requeueing enabled. Setting signal handlers.\n"
     ]
    },
    {
     "name": "stdout",
     "output_type": "stream",
     "text": [
      "Epoch 1/1: 100%|██████████| 1/1 [00:04<00:00,  4.92s/it, v_num=1, train_loss_step=221, train_loss_epoch=317]"
     ]
    },
    {
     "name": "stderr",
     "output_type": "stream",
     "text": [
      "`Trainer.fit` stopped: `max_epochs=1` reached.\n"
     ]
    },
    {
     "name": "stdout",
     "output_type": "stream",
     "text": [
      "Epoch 1/1: 100%|██████████| 1/1 [00:04<00:00,  4.94s/it, v_num=1, train_loss_step=221, train_loss_epoch=317]\n"
     ]
    }
   ],
   "source": [
    "# make the model\n",
    "model = transVAE(adata_train, \n",
    "                 n_hidden=n_hidden, \n",
    "                 n_latent=n_latent, \n",
    "                 n_layers=n_layers, \n",
    "                 dropout_rate=dropout_rate, \n",
    "                 cov_embed_dims = cov_embed_dims, \n",
    "                 kl_weight = kl_weight)\n",
    "\n",
    "# train the model\n",
    "model.train(batch_size=4096, max_epochs = max_epochs, train_size = 0.9, enable_progress_bar = True, \n",
    "            early_stopping = True, early_stopping_monitor = 'reconstruction_loss_validation', early_stopping_min_delta = 0.1, early_stopping_patience = 100,\n",
    "            plan_kwargs = {\"lr\": learning_rate, \n",
    "                           \"weight_decay\":weight_decay,\n",
    "                           \"reduce_lr_on_plateau\":True,\n",
    "                           \"lr_factor\":0.5,\n",
    "                           \"lr_patience\":50,\n",
    "                           \"lr_scheduler_metric\":\"reconstruction_loss_validation\"})"
   ]
  },
  {
   "cell_type": "code",
   "execution_count": 6,
   "id": "5d70d364-95c7-42eb-9918-d1048ddf2300",
   "metadata": {
    "tags": []
   },
   "outputs": [
    {
     "name": "stdout",
     "output_type": "stream",
     "text": [
      "\u001b[34mINFO    \u001b[0m Input AnnData not setup with scvi-tools. attempting to transfer AnnData setup                             \n"
     ]
    },
    {
     "name": "stderr",
     "output_type": "stream",
     "text": [
      "/d/hpc/home/mo6643/miniconda3/envs/msc1/lib/python3.10/site-packages/anndata/compat/_overloaded_dict.py:106: ImplicitModificationWarning: Trying to modify attribute `._uns` of view, initializing view as actual.\n",
      "  self.data[key] = value\n"
     ]
    },
    {
     "name": "stdout",
     "output_type": "stream",
     "text": [
      "\u001b[34mINFO    \u001b[0m Input AnnData not setup with scvi-tools. attempting to transfer AnnData setup                             \n"
     ]
    },
    {
     "name": "stderr",
     "output_type": "stream",
     "text": [
      "/d/hpc/home/mo6643/miniconda3/envs/msc1/lib/python3.10/site-packages/anndata/compat/_overloaded_dict.py:106: ImplicitModificationWarning: Trying to modify attribute `._uns` of view, initializing view as actual.\n",
      "  self.data[key] = value\n"
     ]
    }
   ],
   "source": [
    "    adata_to_predict_h = adata_to_predict[adata_to_predict.obs.disease == \"healthy\"]\n",
    "    adata_to_predict_OOD = adata_to_predict[adata_to_predict.obs.disease == \"T2D\"]\n",
    "\n",
    "    preds_dbdb_h = model.translate(adata_to_predict_h, translate_dict={\"dataset\":\"db/db\", \"organism\": \"Mus musculus\"})\n",
    "    preds_dbdb_OOD = model.translate(adata_to_predict_OOD, translate_dict={\"dataset\":\"db/db\", \"organism\": \"Mus musculus\"})\n",
    "\n",
    "    dbdb_ground_truth_h = dbdb_ground_truth[dbdb_ground_truth.obs.disease == \"healthy\"]\n",
    "    dbdb_ground_truth_OOD = dbdb_ground_truth[dbdb_ground_truth.obs.disease == \"T2D\"]\n",
    "    \n",
    "    preds_mSTZ_h = model.translate(adata_to_predict_h, translate_dict={\"dataset\":\"mSTZ\", \"organism\": \"Mus musculus\"})\n",
    "    preds_mSTZ_OOD = model.translate(adata_to_predict_OOD, translate_dict={\"dataset\":\"mSTZ\", \"organism\": \"Mus musculus\"})\n",
    "\n",
    "    mSTZ_ground_truth_h = mSTZ_ground_truth[mSTZ_ground_truth.obs.disease == \"healthy\"]\n",
    "    mSTZ_ground_truth_OOD = mSTZ_ground_truth[mSTZ_ground_truth.obs.disease == \"T2D\"]"
   ]
  },
  {
   "cell_type": "code",
   "execution_count": 9,
   "id": "fb2081c4-f1bc-4af4-a16c-87c386368ca6",
   "metadata": {
    "tags": []
   },
   "outputs": [],
   "source": [
    "from transVAE.module._utils import compare_de"
   ]
  },
  {
   "cell_type": "code",
   "execution_count": 23,
   "id": "1781c34b-9ceb-4c1e-a5fa-a025784262c3",
   "metadata": {
    "tags": []
   },
   "outputs": [
    {
     "name": "stdout",
     "output_type": "stream",
     "text": [
      "Help on function compare_de in module transVAE.module._utils:\n",
      "\n",
      "compare_de(X: numpy.ndarray, Y: numpy.ndarray, C: numpy.ndarray, shared_top: int = 100, **kwargs) -> dict\n",
      "    Compare DEG across real and simulated perturbations.\n",
      "    \n",
      "    Computes DEG for real and simulated perturbations vs. control and calculates\n",
      "    metrics to evaluate similarity of the results.\n",
      "    \n",
      "    Args:\n",
      "        X: Real perturbed data.\n",
      "        Y: Simulated perturbed data.\n",
      "        C: Control data\n",
      "        shared_top: The number of top DEG to compute the proportion of their intersection.\n",
      "        **kwargs: arguments for `scanpy.tl.rank_genes_groups`.\n",
      "\n"
     ]
    }
   ],
   "source": [
    "help(compare_de)"
   ]
  },
  {
   "cell_type": "code",
   "execution_count": 10,
   "id": "b83a012c-521c-411b-9cf7-fffd35d82759",
   "metadata": {
    "tags": []
   },
   "outputs": [],
   "source": [
    "    results = model.history\n",
    "\n",
    "    results[\"r2_dbdb_healthy\"] = compute_r2_score(preds_dbdb_h, dbdb_ground_truth_h)\n",
    "    results[\"r2_dbdb_OOD\"] = compute_r2_score(preds_dbdb_OOD, dbdb_ground_truth_OOD)\n",
    "    results[\"r2_mSTZ_healthy\"] = compute_r2_score(preds_mSTZ_h, mSTZ_ground_truth_h)\n",
    "    results[\"r2_mSTZ_OOD\"] = compute_r2_score(preds_mSTZ_OOD, mSTZ_ground_truth_OOD)"
   ]
  },
  {
   "cell_type": "code",
   "execution_count": 11,
   "id": "c73e6a6d-aeba-46a9-9c39-b867af369a86",
   "metadata": {
    "tags": []
   },
   "outputs": [
    {
     "name": "stdout",
     "output_type": "stream",
     "text": [
      "WARNING: Default of the method has been changed to 't-test' from 't-test_overestim_var'\n",
      "WARNING: Default of the method has been changed to 't-test' from 't-test_overestim_var'\n"
     ]
    },
    {
     "name": "stderr",
     "output_type": "stream",
     "text": [
      "/d/hpc/home/mo6643/miniconda3/envs/msc1/lib/python3.10/site-packages/scanpy/tools/_rank_genes_groups.py:420: RuntimeWarning: invalid value encountered in log2\n",
      "  self.stats[group_name, 'logfoldchanges'] = np.log2(\n"
     ]
    }
   ],
   "source": [
    "results_de_dbdb = compare_de(X=dbdb_ground_truth_OOD.X.todense(), Y=preds_dbdb_OOD.X, C=dbdb_ground_truth_h.X.todense())"
   ]
  },
  {
   "cell_type": "code",
   "execution_count": 13,
   "id": "8ca6c986-c942-4b05-8553-6d67d093d849",
   "metadata": {
    "tags": []
   },
   "outputs": [
    {
     "name": "stdout",
     "output_type": "stream",
     "text": [
      "WARNING: Default of the method has been changed to 't-test' from 't-test_overestim_var'\n",
      "WARNING: Default of the method has been changed to 't-test' from 't-test_overestim_var'\n"
     ]
    },
    {
     "name": "stderr",
     "output_type": "stream",
     "text": [
      "/d/hpc/home/mo6643/miniconda3/envs/msc1/lib/python3.10/site-packages/scanpy/tools/_rank_genes_groups.py:420: RuntimeWarning: invalid value encountered in log2\n",
      "  self.stats[group_name, 'logfoldchanges'] = np.log2(\n"
     ]
    }
   ],
   "source": [
    "results_de_mSTZ = compare_de(X=mSTZ_ground_truth_OOD.X.todense(), Y=preds_mSTZ_OOD.X, C=mSTZ_ground_truth_h.X.todense())"
   ]
  },
  {
   "cell_type": "code",
   "execution_count": 14,
   "id": "c745a883-eb34-453e-92ce-1fea502b10f9",
   "metadata": {
    "tags": []
   },
   "outputs": [],
   "source": [
    "for name, value in results_de_dbdb.items():\n",
    "    results[name + \"_dbdb\"] = value"
   ]
  },
  {
   "cell_type": "code",
   "execution_count": 15,
   "id": "1bf85cb0-c7e1-4ccf-97f7-86ccc5b256f6",
   "metadata": {
    "tags": []
   },
   "outputs": [],
   "source": [
    "for name, value in results_de_mSTZ.items():\n",
    "    results[name + \"_mSTZ\"] = value"
   ]
  },
  {
   "cell_type": "code",
   "execution_count": 17,
   "id": "cf1bf9b1-eac7-49fa-8cc3-0ba32bdcee25",
   "metadata": {
    "tags": []
   },
   "outputs": [
    {
     "data": {
      "text/plain": [
       "{'kl_weight':       kl_weight\n",
       " epoch          \n",
       " 0           0.0,\n",
       " 'train_loss_step':       train_loss_step\n",
       " epoch                \n",
       " 0          232.503235,\n",
       " 'validation_loss':       validation_loss\n",
       " epoch                \n",
       " 0          250.413864,\n",
       " 'elbo_validation':       elbo_validation\n",
       " epoch                \n",
       " 0          501.629791,\n",
       " 'reconstruction_loss_validation':       reconstruction_loss_validation\n",
       " epoch                               \n",
       " 0                           500.8237,\n",
       " 'kl_local_validation':       kl_local_validation\n",
       " epoch                    \n",
       " 0                  0.8061,\n",
       " 'kl_global_validation':       kl_global_validation\n",
       " epoch                     \n",
       " 0                      0.0,\n",
       " 'train_loss_epoch':       train_loss_epoch\n",
       " epoch                 \n",
       " 0           316.614014,\n",
       " 'elbo_train':         elbo_train\n",
       " epoch             \n",
       " 0      2086.447754,\n",
       " 'reconstruction_loss_train':       reconstruction_loss_train\n",
       " epoch                          \n",
       " 0                    625.925354,\n",
       " 'kl_local_train':       kl_local_train\n",
       " epoch               \n",
       " 0        1460.522461,\n",
       " 'kl_global_train':       kl_global_train\n",
       " epoch                \n",
       " 0                 0.0,\n",
       " 'r2_dbdb_healthy': -0.08179216007333623,\n",
       " 'r2_dbdb_OOD': -0.14349578621166703,\n",
       " 'r2_mSTZ_healthy': -0.0462478585193038,\n",
       " 'r2_mSTZ_OOD': -0.06984377738030267,\n",
       " 'shared_top_genes_dbdb': 0.0,\n",
       " 'scores_corr_dbdb': 0.09134687805382519,\n",
       " 'pvals_adj_corr_dbdb': -0.013507522079840404,\n",
       " 'scores_ranks_corr_dbdb': 0.17102910878101207,\n",
       " 'shared_top_genes_mSTZ': 0.01,\n",
       " 'scores_corr_mSTZ': 0.0627656084070218,\n",
       " 'pvals_adj_corr_mSTZ': -0.03298322288258583,\n",
       " 'scores_ranks_corr_mSTZ': 0.13257769206418799}"
      ]
     },
     "execution_count": 17,
     "metadata": {},
     "output_type": "execute_result"
    }
   ],
   "source": [
    "results"
   ]
  },
  {
   "cell_type": "code",
   "execution_count": 22,
   "id": "715a6f42-1f25-4c9d-8340-1fccb856865c",
   "metadata": {
    "tags": []
   },
   "outputs": [
    {
     "name": "stdout",
     "output_type": "stream",
     "text": [
      "WARNING: Default of the method has been changed to 't-test' from 't-test_overestim_var'\n",
      "WARNING: Default of the method has been changed to 't-test' from 't-test_overestim_var'\n"
     ]
    },
    {
     "name": "stderr",
     "output_type": "stream",
     "text": [
      "/d/hpc/home/mo6643/miniconda3/envs/msc1/lib/python3.10/site-packages/scanpy/tools/_rank_genes_groups.py:420: RuntimeWarning: invalid value encountered in log2\n",
      "  self.stats[group_name, 'logfoldchanges'] = np.log2(\n"
     ]
    }
   ],
   "source": [
    "X=mSTZ_ground_truth_OOD.X.todense()\n",
    "Y=preds_mSTZ_OOD.X\n",
    "C=mSTZ_ground_truth_h.X.todense()\n",
    "n_vars = X.shape[1]\n",
    "shared_top =100\n",
    "\n",
    "import numpy as np\n",
    "import anndata as ad\n",
    "import pandas as pd\n",
    "\n",
    "assert n_vars == Y.shape[1] == C.shape[1]\n",
    "\n",
    "shared_top = min(shared_top, n_vars)\n",
    "vars_ranks = np.arange(1, n_vars + 1)\n",
    "\n",
    "adatas_xy = {}\n",
    "adatas_xy[\"x\"] = ad.AnnData(X, obs={\"label\": \"comp\"})\n",
    "adatas_xy[\"y\"] = ad.AnnData(Y, obs={\"label\": \"comp\"})\n",
    "adata_c = ad.AnnData(C, obs={\"label\": \"ctrl\"})\n",
    "\n",
    "results = pd.DataFrame(index=adata_c.var_names)\n",
    "top_names = []\n",
    "for group in (\"x\", \"y\"):\n",
    "    adata_joint = ad.concat((adatas_xy[group], adata_c), index_unique=\"-\")\n",
    "\n",
    "    sc.tl.rank_genes_groups(adata_joint, groupby=\"label\", reference=\"ctrl\", key_added=\"de\")\n",
    "\n",
    "    srt_idx = np.argsort(adata_joint.uns[\"de\"][\"names\"][\"comp\"])\n",
    "    results[f\"scores_{group}\"] = adata_joint.uns[\"de\"][\"scores\"][\"comp\"][srt_idx]\n",
    "    results[f\"pvals_adj_{group}\"] = adata_joint.uns[\"de\"][\"pvals_adj\"][\"comp\"][srt_idx]\n",
    "    # needed to avoid checking rankby_abs\n",
    "    results[f\"ranks_{group}\"] = vars_ranks[srt_idx]\n",
    "\n",
    "    top_names.append(adata_joint.uns[\"de\"][\"names\"][\"comp\"][:shared_top])"
   ]
  },
  {
   "cell_type": "code",
   "execution_count": 45,
   "id": "6eaf0f24-ac98-40ae-abe4-08496e5c11d2",
   "metadata": {
    "tags": []
   },
   "outputs": [],
   "source": [
    "import os\n",
    "import numpy as np"
   ]
  },
  {
   "cell_type": "code",
   "execution_count": 51,
   "id": "d5e8b8f5-b3f9-4998-a53d-e1aaa2407894",
   "metadata": {
    "tags": []
   },
   "outputs": [],
   "source": [
    "if save_models:\n",
    "    save_dir = f\"/d/hpc/projects/FRI/DL/mo6643/MSC/cross_species_prediction_save/{save_folder_name}\"\n",
    "    if not os.path.exists(save_dir):\n",
    "        os.mkdir(save_dir)\n",
    "    save_dir = os.path.join(save_dir, f\"transVAE_train_{addl_dataset_train}_hid{n_hidden}_lat{n_latent}_lr{learning_rate}_cov{cov_embed_dims}_ep{max_epochs}_ly{n_layers}_dr{dropout_rate}_kl{kl_weight}_wd{weight_decay}_s{seed}\")\n",
    "    if not os.path.exists(save_dir):\n",
    "        os.mkdir(save_dir)\n",
    "    np.save(arr=preds_dbdb_h.X, file=os.path.join(save_dir,\"preds_dbdb_h.npy\"))\n",
    "    np.save(arr=preds_dbdb_OOD.X, file=os.path.join(save_dir,\"preds_dbdb_OOD.npy\"))\n",
    "    np.save(arr=preds_mSTZ_h.X, file=os.path.join(save_dir,\"preds_mSTZ_h.npy\"))\n",
    "    np.save(arr=preds_mSTZ_OOD.X, file=os.path.join(save_dir,\"preds_mSTZ_OOD.npy\"))"
   ]
  },
  {
   "cell_type": "code",
   "execution_count": 52,
   "id": "7159a89b-b5e6-4bfa-ad7d-6b0d7543affe",
   "metadata": {
    "tags": []
   },
   "outputs": [
    {
     "data": {
      "text/plain": [
       "'/d/hpc/projects/FRI/DL/mo6643/MSC/cross_species_prediction_save/save_test/transVAE_train_embedding_top30_mouse_3000hvg.h5ad_hid1000_lat512_lr0.0001_cov10_ep2000_ly4_dr0.2_kl0.005_wd0.0001_s42'"
      ]
     },
     "execution_count": 52,
     "metadata": {},
     "output_type": "execute_result"
    }
   ],
   "source": [
    "save_dir"
   ]
  },
  {
   "cell_type": "code",
   "execution_count": 56,
   "id": "52dec191-313b-4d46-b97a-409ddb705e8a",
   "metadata": {
    "tags": []
   },
   "outputs": [],
   "source": [
    "    import logging\n",
    "    logging.info(f'Received the following configuration for datasets train: {addl_dataset_train}, shape: {adata_train.shape}, baseline_shape: {adata_baseline.shape}')\n",
    "    logging.info(f'n_hidden: {n_hidden}, n_latent: {n_latent}, learning_rate: {learning_rate}, cov_embed_dims: {cov_embed_dims}, weight_decay {weight_decay}')\n",
    "    logging.info(f'max_epochs: {max_epochs}, n_layers: {n_layers}, dropout_rate: {dropout_rate}, kl_weight: {kl_weight}')"
   ]
  },
  {
   "cell_type": "code",
   "execution_count": 60,
   "id": "f59fdf41-fb5b-438a-9566-51b4cf6cd623",
   "metadata": {
    "tags": []
   },
   "outputs": [
    {
     "data": {
      "text/plain": [
       "(301066, 3000)"
      ]
     },
     "execution_count": 60,
     "metadata": {},
     "output_type": "execute_result"
    }
   ],
   "source": [
    "adata_train.shape"
   ]
  },
  {
   "cell_type": "code",
   "execution_count": 61,
   "id": "7a57bdc5-831a-4711-ae4b-462fa68c3bcf",
   "metadata": {
    "tags": []
   },
   "outputs": [
    {
     "data": {
      "text/plain": [
       "(204754, 3000)"
      ]
     },
     "execution_count": 61,
     "metadata": {},
     "output_type": "execute_result"
    }
   ],
   "source": [
    "adata_baseline.shape"
   ]
  },
  {
   "cell_type": "code",
   "execution_count": 36,
   "id": "2e2fcdb4-80e7-433c-acfe-5320c947bf80",
   "metadata": {
    "tags": []
   },
   "outputs": [],
   "source": [
    "Y[Y < 0] = 0"
   ]
  },
  {
   "cell_type": "code",
   "execution_count": 38,
   "id": "4295b63d-c2cf-4585-9348-6839cbf35e0e",
   "metadata": {
    "tags": []
   },
   "outputs": [
    {
     "data": {
      "text/plain": [
       "0.4185192063750203"
      ]
     },
     "execution_count": 38,
     "metadata": {},
     "output_type": "execute_result"
    }
   ],
   "source": [
    "np.mean(Y = 0)"
   ]
  },
  {
   "cell_type": "code",
   "execution_count": null,
   "id": "902dbbcd-475e-42ba-a18a-83174c3f7728",
   "metadata": {},
   "outputs": [],
   "source": [
    "def compare_logfold(X: np.ndarray, Y: np.ndarray, C: np.ndarray, **kwargs) -> dict:\n",
    "    \"\"\"Compare DEG across real and simulated perturbations.\n",
    "\n",
    "    Computes DEG for real and simulated perturbations vs. control and calculates\n",
    "    metrics to evaluate similarity of the results.\n",
    "\n",
    "    Args:\n",
    "        X: Real perturbed data.\n",
    "        Y: Simulated perturbed data.\n",
    "        C: Control data\n",
    "        shared_top: The number of top DEG to compute the proportion of their intersection.\n",
    "        **kwargs: arguments for `scanpy.tl.rank_genes_groups`.\n",
    "    \"\"\"\n",
    "    n_vars = X.shape[1]\n",
    "    assert n_vars == Y.shape[1] == C.shape[1]\n",
    "\n",
    "    prop_of_genes_set_to_0 = np.mean(Y < 0)\n",
    "    Y[Y < 0] = 0\n",
    "\n",
    "    adatas_xy = {}\n",
    "    adatas_xy[\"x\"] = ad.AnnData(X, obs={\"label\": \"comp\"})\n",
    "    adatas_xy[\"y\"] = ad.AnnData(Y, obs={\"label\": \"comp\"})\n",
    "    adata_c = ad.AnnData(C, obs={\"label\": \"ctrl\"})\n",
    "\n",
    "    results = pd.DataFrame(index=adata_c.var_names)\n",
    "    top_names = []\n",
    "    for group in (\"x\", \"y\"):\n",
    "        adata_joint = ad.concat((adatas_xy[group], adata_c), index_unique=\"-\")\n",
    "\n",
    "        sc.tl.rank_genes_groups(adata_joint, groupby=\"label\", reference=\"ctrl\", key_added=\"de\", **kwargs)\n",
    "        results[f\"logfold_{group}\"] = [elm[0] for elm in adata_joint.uns[\"de\"][\"logfoldchanges\"].tolist()]\n",
    "\n",
    "    metics = {}\n",
    "    metics[\"logfold_corr\"] = results[\"logfold_x\"].corr(results[\"logfold_y\"], method=\"pearson\")\n",
    "    metics[\"prop_of_genes_set_to_0\"] = prop_of_genes_set_to_0\n",
    "\n",
    "    return metics"
   ]
  },
  {
   "cell_type": "code",
   "execution_count": 44,
   "id": "686f9653-d8d9-46e4-80f0-db10cf9d28fa",
   "metadata": {
    "tags": []
   },
   "outputs": [
    {
     "data": {
      "text/plain": [
       "rec.array([(25.385717,), (25.294678,), (25.585024,), ..., (      nan,),\n",
       "           (      nan,), (      nan,)],\n",
       "          dtype=[('comp', '<f4')])"
      ]
     },
     "execution_count": 44,
     "metadata": {},
     "output_type": "execute_result"
    }
   ],
   "source": [
    "adata_joint.uns[\"de\"][\"logfoldchanges\"]"
   ]
  },
  {
   "cell_type": "code",
   "execution_count": 71,
   "id": "6aa06e7b-5db3-4817-9179-5512a9238903",
   "metadata": {
    "tags": []
   },
   "outputs": [
    {
     "name": "stdout",
     "output_type": "stream",
     "text": [
      "WARNING: Default of the method has been changed to 't-test' from 't-test_overestim_var'\n",
      "WARNING: Default of the method has been changed to 't-test' from 't-test_overestim_var'\n"
     ]
    },
    {
     "ename": "SyntaxError",
     "evalue": "'return' outside function (873779579.py, line 30)",
     "output_type": "error",
     "traceback": [
      "\u001b[0;36m  Cell \u001b[0;32mIn[71], line 30\u001b[0;36m\u001b[0m\n\u001b[0;31m    return metics\u001b[0m\n\u001b[0m    ^\u001b[0m\n\u001b[0;31mSyntaxError\u001b[0m\u001b[0;31m:\u001b[0m 'return' outside function\n"
     ]
    }
   ],
   "source": [
    "X=mSTZ_ground_truth_OOD.X.todense()\n",
    "Y=preds_mSTZ_OOD.X\n",
    "C=mSTZ_ground_truth_h.X.todense()\n",
    "n_vars = X.shape[1]\n",
    "shared_top =100\n",
    "\n",
    "n_vars = X.shape[1]\n",
    "assert n_vars == Y.shape[1] == C.shape[1]\n",
    "\n",
    "prop_of_genes_set_to_0 = np.mean(Y < 0)\n",
    "Y[Y < 0] = 0\n",
    "\n",
    "adatas_xy = {}\n",
    "adatas_xy[\"x\"] = ad.AnnData(X, obs={\"label\": \"comp\"})\n",
    "adatas_xy[\"y\"] = ad.AnnData(Y, obs={\"label\": \"comp\"})\n",
    "adata_c = ad.AnnData(C, obs={\"label\": \"ctrl\"})\n",
    "\n",
    "results = pd.DataFrame(index=adata_c.var_names)\n",
    "top_names = []\n",
    "for group in (\"x\", \"y\"):\n",
    "    adata_joint = ad.concat((adatas_xy[group], adata_c), index_unique=\"-\")\n",
    "\n",
    "    sc.tl.rank_genes_groups(adata_joint, groupby=\"label\", reference=\"ctrl\", key_added=\"de\")\n",
    "    results[f\"logfold_{group}\"] = [elm[0] for elm in adata_joint.uns[\"de\"][\"logfoldchanges\"].tolist()]\n",
    "\n",
    "metics = {}\n",
    "metics[\"logfold_corr\"] = results[\"logfold_x\"].corr(results[\"logfold_y\"], method=\"pearson\")\n",
    "metics[\"prop_of_genes_set_to_0\"] = prop_of_genes_set_to_0\n",
    "\n",
    "return metics"
   ]
  },
  {
   "cell_type": "code",
   "execution_count": 72,
   "id": "5f33cb61-ee1a-41a3-8ff8-cbd81134b314",
   "metadata": {
    "tags": []
   },
   "outputs": [
    {
     "data": {
      "text/plain": [
       "{'logfold_corr': 0.06261454502009242, 'prop_of_genes_set_to_0': 0.0}"
      ]
     },
     "execution_count": 72,
     "metadata": {},
     "output_type": "execute_result"
    }
   ],
   "source": [
    "metics"
   ]
  },
  {
   "cell_type": "code",
   "execution_count": 50,
   "id": "359e7a53-6f78-4cf2-afda-6c0f4068168f",
   "metadata": {
    "tags": []
   },
   "outputs": [
    {
     "data": {
      "text/plain": [
       "rec.array([( 25.385717,), ( 25.294678,), ( 25.585024,), ...,\n",
       "           ( -8.981566,), (-10.482617,), (-10.139835,)],\n",
       "          dtype=[('comp', '<f4')])"
      ]
     },
     "execution_count": 50,
     "metadata": {},
     "output_type": "execute_result"
    }
   ],
   "source": [
    "adata_joint.uns[\"de\"][\"logfoldchanges\"]"
   ]
  },
  {
   "cell_type": "code",
   "execution_count": 66,
   "id": "861d90d3-2b50-483f-a627-05a9000289f1",
   "metadata": {
    "tags": []
   },
   "outputs": [
    {
     "data": {
      "text/html": [
       "<div>\n",
       "<style scoped>\n",
       "    .dataframe tbody tr th:only-of-type {\n",
       "        vertical-align: middle;\n",
       "    }\n",
       "\n",
       "    .dataframe tbody tr th {\n",
       "        vertical-align: top;\n",
       "    }\n",
       "\n",
       "    .dataframe thead th {\n",
       "        text-align: right;\n",
       "    }\n",
       "</style>\n",
       "<table border=\"1\" class=\"dataframe\">\n",
       "  <thead>\n",
       "    <tr style=\"text-align: right;\">\n",
       "      <th></th>\n",
       "      <th>logfold_y</th>\n",
       "    </tr>\n",
       "  </thead>\n",
       "  <tbody>\n",
       "    <tr>\n",
       "      <th>0</th>\n",
       "      <td>25.385717</td>\n",
       "    </tr>\n",
       "    <tr>\n",
       "      <th>1</th>\n",
       "      <td>25.294678</td>\n",
       "    </tr>\n",
       "    <tr>\n",
       "      <th>2</th>\n",
       "      <td>25.585024</td>\n",
       "    </tr>\n",
       "    <tr>\n",
       "      <th>3</th>\n",
       "      <td>25.271259</td>\n",
       "    </tr>\n",
       "    <tr>\n",
       "      <th>4</th>\n",
       "      <td>25.970266</td>\n",
       "    </tr>\n",
       "    <tr>\n",
       "      <th>...</th>\n",
       "      <td>...</td>\n",
       "    </tr>\n",
       "    <tr>\n",
       "      <th>2995</th>\n",
       "      <td>-7.963964</td>\n",
       "    </tr>\n",
       "    <tr>\n",
       "      <th>2996</th>\n",
       "      <td>-8.841400</td>\n",
       "    </tr>\n",
       "    <tr>\n",
       "      <th>2997</th>\n",
       "      <td>-8.981566</td>\n",
       "    </tr>\n",
       "    <tr>\n",
       "      <th>2998</th>\n",
       "      <td>-10.482617</td>\n",
       "    </tr>\n",
       "    <tr>\n",
       "      <th>2999</th>\n",
       "      <td>-10.139835</td>\n",
       "    </tr>\n",
       "  </tbody>\n",
       "</table>\n",
       "<p>3000 rows × 1 columns</p>\n",
       "</div>"
      ],
      "text/plain": [
       "      logfold_y\n",
       "0     25.385717\n",
       "1     25.294678\n",
       "2     25.585024\n",
       "3     25.271259\n",
       "4     25.970266\n",
       "...         ...\n",
       "2995  -7.963964\n",
       "2996  -8.841400\n",
       "2997  -8.981566\n",
       "2998 -10.482617\n",
       "2999 -10.139835\n",
       "\n",
       "[3000 rows x 1 columns]"
      ]
     },
     "execution_count": 66,
     "metadata": {},
     "output_type": "execute_result"
    }
   ],
   "source": [
    "results = pd.DataFrame(index=adata_c.var_names)\n",
    "results[f\"logfold_{group}\"] = [elm[0] for elm in adata_joint.uns[\"de\"][\"logfoldchanges\"].tolist()]\n",
    "results"
   ]
  },
  {
   "cell_type": "code",
   "execution_count": 56,
   "id": "91e98003-ca78-44f7-a9fd-ada7d32aa4d0",
   "metadata": {
    "tags": []
   },
   "outputs": [],
   "source": [
    "results = pd.DataFrame(index=adata_c.var_names)\n"
   ]
  },
  {
   "cell_type": "code",
   "execution_count": 75,
   "id": "5e58d20e-db97-457e-bd8d-afdc38044e66",
   "metadata": {
    "tags": []
   },
   "outputs": [
    {
     "data": {
      "text/plain": [
       "True"
      ]
     },
     "execution_count": 75,
     "metadata": {},
     "output_type": "execute_result"
    }
   ],
   "source": [
    "addl_dataset_train == \"train_adata_baseline_3000hvg.h5ad\""
   ]
  },
  {
   "cell_type": "code",
   "execution_count": 74,
   "id": "ff550050-3509-410b-8683-7bcd060234d3",
   "metadata": {
    "tags": []
   },
   "outputs": [],
   "source": [
    "addl_dataset_train = \"train_adata_baseline_3000hvg.h5ad\""
   ]
  },
  {
   "cell_type": "code",
   "execution_count": null,
   "id": "3a2b514a-ecb7-493b-8123-6b800a6a74ff",
   "metadata": {},
   "outputs": [],
   "source": []
  }
 ],
 "metadata": {
  "kernelspec": {
   "display_name": "Python 3 (ipykernel)",
   "language": "python",
   "name": "python3"
  },
  "language_info": {
   "codemirror_mode": {
    "name": "ipython",
    "version": 3
   },
   "file_extension": ".py",
   "mimetype": "text/x-python",
   "name": "python",
   "nbconvert_exporter": "python",
   "pygments_lexer": "ipython3",
   "version": "3.10.9"
  }
 },
 "nbformat": 4,
 "nbformat_minor": 5
}
