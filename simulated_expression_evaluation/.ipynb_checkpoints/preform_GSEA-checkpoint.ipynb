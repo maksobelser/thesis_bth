{
 "cells": [
  {
   "cell_type": "code",
   "execution_count": 8,
   "id": "a065be6c-2249-4f25-acec-3cfc50f23923",
   "metadata": {
    "tags": []
   },
   "outputs": [],
   "source": [
    "import scanpy as sc\n",
    "import ast\n",
    "import pandas as pd\n",
    "import numpy as np"
   ]
  },
  {
   "cell_type": "code",
   "execution_count": 4,
   "id": "4d3eb69f-a64d-47fa-bc4f-e4cd7bf1b1a3",
   "metadata": {},
   "outputs": [],
   "source": [
    "kegg_final = pd.read_csv(\"KEGG_final.csv\")"
   ]
  },
  {
   "cell_type": "code",
   "execution_count": 44,
   "id": "f32d5d0a-719f-4eff-af8c-50d13e9b1e6b",
   "metadata": {},
   "outputs": [
    {
     "name": "stderr",
     "output_type": "stream",
     "text": [
      "/tmp/ipykernel_1134631/2275883622.py:10: SettingWithCopyWarning: \n",
      "A value is trying to be set on a copy of a slice from a DataFrame\n",
      "\n",
      "See the caveats in the documentation: https://pandas.pydata.org/pandas-docs/stable/user_guide/indexing.html#returning-a-view-versus-a-copy\n",
      "  kegg_final.associated_pathways[i] = [item]\n",
      "/tmp/ipykernel_1134631/2275883622.py:7: SettingWithCopyWarning: \n",
      "A value is trying to be set on a copy of a slice from a DataFrame\n",
      "\n",
      "See the caveats in the documentation: https://pandas.pydata.org/pandas-docs/stable/user_guide/indexing.html#returning-a-view-versus-a-copy\n",
      "  kegg_final.associated_pathways[i] = ast.literal_eval(item)\n"
     ]
    }
   ],
   "source": [
    "final_list = []\n",
    "for i, item in enumerate(kegg_final.associated_pathways):\n",
    "    if item is np.nan:\n",
    "        continue  # Skip np.nan values\n",
    "    try:\n",
    "        # Try converting string representations of lists to actual lists\n",
    "        kegg_final.associated_pathways[i] = ast.literal_eval(item)\n",
    "    except (ValueError, SyntaxError):\n",
    "        # If it's a normal string, convert it into a list\n",
    "        kegg_final.associated_pathways[i] = [item]\n"
   ]
  },
  {
   "cell_type": "code",
   "execution_count": 49,
   "id": "0f43c5bc-e552-434c-8d8f-3dcdf9604a9d",
   "metadata": {
    "tags": []
   },
   "outputs": [],
   "source": [
    "# List to store pathways and associated genes\n",
    "pathways_and_genes = []\n",
    "\n",
    "# Iterate through each gene and its associated pathways\n",
    "for index, row in kegg_final.iterrows():\n",
    "    gene_id = row['Ensembl Gene ID']  # Assuming 'gene_id' is the column name for gene IDs\n",
    "    if isinstance(row.associated_pathways, list):\n",
    "        for pathway in row.associated_pathways:\n",
    "            pathways_and_genes.append([pathway, gene_id])\n",
    "\n",
    "# Create a DataFrame from the list\n",
    "pathways_df = pd.DataFrame(pathways_and_genes, columns=['Pathway', 'Gene'])\n",
    "\n",
    "# Group by pathway and count unique genes\n",
    "pathway_counts = pathways_df.groupby('Pathway')['Gene'].nunique().reset_index(name='Gene Count')"
   ]
  },
  {
   "cell_type": "code",
   "execution_count": 52,
   "id": "386a7eac-a7bb-4539-ab6d-99ed78c77894",
   "metadata": {
    "tags": []
   },
   "outputs": [
    {
     "data": {
      "text/html": [
       "<div>\n",
       "<style scoped>\n",
       "    .dataframe tbody tr th:only-of-type {\n",
       "        vertical-align: middle;\n",
       "    }\n",
       "\n",
       "    .dataframe tbody tr th {\n",
       "        vertical-align: top;\n",
       "    }\n",
       "\n",
       "    .dataframe thead th {\n",
       "        text-align: right;\n",
       "    }\n",
       "</style>\n",
       "<table border=\"1\" class=\"dataframe\">\n",
       "  <thead>\n",
       "    <tr style=\"text-align: right;\">\n",
       "      <th></th>\n",
       "      <th>Pathway</th>\n",
       "      <th>Gene Count</th>\n",
       "    </tr>\n",
       "  </thead>\n",
       "  <tbody>\n",
       "    <tr>\n",
       "      <th>184</th>\n",
       "      <td>Metabolic pathways</td>\n",
       "      <td>220</td>\n",
       "    </tr>\n",
       "    <tr>\n",
       "      <th>227</th>\n",
       "      <td>Pathways in cancer</td>\n",
       "      <td>187</td>\n",
       "    </tr>\n",
       "    <tr>\n",
       "      <th>220</th>\n",
       "      <td>PI3K-Akt signaling pathway</td>\n",
       "      <td>139</td>\n",
       "    </tr>\n",
       "    <tr>\n",
       "      <th>79</th>\n",
       "      <td>Cytokine-cytokine receptor interaction</td>\n",
       "      <td>122</td>\n",
       "    </tr>\n",
       "    <tr>\n",
       "      <th>177</th>\n",
       "      <td>MAPK signaling pathway</td>\n",
       "      <td>109</td>\n",
       "    </tr>\n",
       "    <tr>\n",
       "      <th>...</th>\n",
       "      <td>...</td>\n",
       "      <td>...</td>\n",
       "    </tr>\n",
       "    <tr>\n",
       "      <th>45</th>\n",
       "      <td>Biotin metabolism</td>\n",
       "      <td>1</td>\n",
       "    </tr>\n",
       "    <tr>\n",
       "      <th>274</th>\n",
       "      <td>Ribosome biogenesis in eukaryotes</td>\n",
       "      <td>1</td>\n",
       "    </tr>\n",
       "    <tr>\n",
       "      <th>302</th>\n",
       "      <td>Thiamine metabolism</td>\n",
       "      <td>1</td>\n",
       "    </tr>\n",
       "    <tr>\n",
       "      <th>39</th>\n",
       "      <td>Basal transcription factors</td>\n",
       "      <td>1</td>\n",
       "    </tr>\n",
       "    <tr>\n",
       "      <th>248</th>\n",
       "      <td>Propanoate metabolism</td>\n",
       "      <td>1</td>\n",
       "    </tr>\n",
       "  </tbody>\n",
       "</table>\n",
       "<p>341 rows × 2 columns</p>\n",
       "</div>"
      ],
      "text/plain": [
       "                                    Pathway  Gene Count\n",
       "184                      Metabolic pathways         220\n",
       "227                      Pathways in cancer         187\n",
       "220              PI3K-Akt signaling pathway         139\n",
       "79   Cytokine-cytokine receptor interaction         122\n",
       "177                  MAPK signaling pathway         109\n",
       "..                                      ...         ...\n",
       "45                        Biotin metabolism           1\n",
       "274       Ribosome biogenesis in eukaryotes           1\n",
       "302                     Thiamine metabolism           1\n",
       "39              Basal transcription factors           1\n",
       "248                   Propanoate metabolism           1\n",
       "\n",
       "[341 rows x 2 columns]"
      ]
     },
     "execution_count": 52,
     "metadata": {},
     "output_type": "execute_result"
    }
   ],
   "source": [
    "pathway_counts.sort_values(\"Gene Count\", ascending=False)"
   ]
  },
  {
   "cell_type": "code",
   "execution_count": 53,
   "id": "caf32400-9107-4b59-aa14-db9bafff375d",
   "metadata": {
    "tags": []
   },
   "outputs": [],
   "source": [
    "import matplotlib.pyplot as plt"
   ]
  },
  {
   "cell_type": "code",
   "execution_count": 56,
   "id": "51d861a0-4539-405d-bbab-00325cac70ec",
   "metadata": {
    "tags": []
   },
   "outputs": [
    {
     "data": {
      "text/plain": [
       "(array([49., 22., 19., 21., 21., 18.,  9., 14., 12.,  6., 14., 11., 12.,\n",
       "         4.,  5., 17.,  8.,  6.,  6.,  9.,  8.,  9.,  8.,  5.,  2.,  3.,\n",
       "         1.,  1.,  2.,  2.,  0.,  2.,  3.,  0.,  1.,  0.,  1.,  2.,  0.,\n",
       "         0.,  1.,  1.,  0.,  0.,  0.,  0.,  0.,  0.,  0.,  2.,  0.,  0.,\n",
       "         0.,  0.,  0.,  1.,  0.,  0.,  0.,  0.,  0.,  0.,  0.,  1.,  0.,\n",
       "         0.,  0.,  0.,  0.,  0.,  0.,  0.,  0.,  0.,  0.,  0.,  0.,  0.,\n",
       "         0.,  0.,  0.,  0.,  0.,  0.,  1.,  0.,  0.,  0.,  0.,  0.,  0.,\n",
       "         0.,  0.,  0.,  0.,  0.,  0.,  0.,  0.,  1.]),\n",
       " array([  1.  ,   3.19,   5.38,   7.57,   9.76,  11.95,  14.14,  16.33,\n",
       "         18.52,  20.71,  22.9 ,  25.09,  27.28,  29.47,  31.66,  33.85,\n",
       "         36.04,  38.23,  40.42,  42.61,  44.8 ,  46.99,  49.18,  51.37,\n",
       "         53.56,  55.75,  57.94,  60.13,  62.32,  64.51,  66.7 ,  68.89,\n",
       "         71.08,  73.27,  75.46,  77.65,  79.84,  82.03,  84.22,  86.41,\n",
       "         88.6 ,  90.79,  92.98,  95.17,  97.36,  99.55, 101.74, 103.93,\n",
       "        106.12, 108.31, 110.5 , 112.69, 114.88, 117.07, 119.26, 121.45,\n",
       "        123.64, 125.83, 128.02, 130.21, 132.4 , 134.59, 136.78, 138.97,\n",
       "        141.16, 143.35, 145.54, 147.73, 149.92, 152.11, 154.3 , 156.49,\n",
       "        158.68, 160.87, 163.06, 165.25, 167.44, 169.63, 171.82, 174.01,\n",
       "        176.2 , 178.39, 180.58, 182.77, 184.96, 187.15, 189.34, 191.53,\n",
       "        193.72, 195.91, 198.1 , 200.29, 202.48, 204.67, 206.86, 209.05,\n",
       "        211.24, 213.43, 215.62, 217.81, 220.  ]),\n",
       " <BarContainer object of 100 artists>)"
      ]
     },
     "execution_count": 56,
     "metadata": {},
     "output_type": "execute_result"
    },
    {
     "data": {
      "image/png": "[encoded data removed]",
      "text/plain": [
       "<Figure size 640x480 with 1 Axes>"
      ]
     },
     "metadata": {},
     "output_type": "display_data"
    }
   ],
   "source": [
    "plt.hist(pathway_counts[\"Gene Count\"], bins=100)"
   ]
  },
  {
   "cell_type": "code",
   "execution_count": 65,
   "id": "25682b7f-14a2-40ad-a73b-c3679c312f00",
   "metadata": {
    "tags": []
   },
   "outputs": [
    {
     "data": {
      "text/plain": [
       "230"
      ]
     },
     "execution_count": 65,
     "metadata": {},
     "output_type": "execute_result"
    }
   ],
   "source": [
    "sum(pathway_counts['Gene Count'] >= 10)"
   ]
  },
  {
   "cell_type": "markdown",
   "id": "0e31260a-b2b0-45f6-9fb2-c762f8ac5117",
   "metadata": {},
   "source": [
    "https://gseapy.readthedocs.io/en/latest/singlecell_example.html#scRNA-seq-Example"
   ]
  },
  {
   "cell_type": "code",
   "execution_count": null,
   "id": "420decb6-1431-4dc0-92d3-8d356849fffe",
   "metadata": {},
   "outputs": [],
   "source": [
    "import gseapy as gp\n",
    "\n",
    "# Assuming 'gene_list' is your ranked list of genes from Scanpy\n",
    "# and 'gene_sets' is a dictionary or file with your gene sets\n",
    "\n",
    "enr = gp.enrichr(gene_list=gene_list,\n",
    "                 gene_sets=gene_sets,\n",
    "                 method='ks',  # specifying Kolmogorov-Smirnov test\n",
    "                 )\n",
    "\n",
    "# The result is a DataFrame with enrichment results\n",
    "print(enr.results)"
   ]
  },
  {
   "cell_type": "code",
   "execution_count": 1,
   "id": "de053dae-e506-4039-8898-3240779f2c76",
   "metadata": {
    "tags": []
   },
   "outputs": [],
   "source": [
    "import scanpy as sc\n",
    "import gseapy as gp"
   ]
  },
  {
   "cell_type": "code",
   "execution_count": null,
   "id": "4168e6a2-0977-4c4b-9872-9e97e69ee0c3",
   "metadata": {},
   "outputs": [],
   "source": [
    "preds_baseline = "
   ]
  }
 ],
 "metadata": {
  "kernelspec": {
   "display_name": "Python 3 (ipykernel)",
   "language": "python",
   "name": "python3"
  },
  "language_info": {
   "codemirror_mode": {
    "name": "ipython",
    "version": 3
   },
   "file_extension": ".py",
   "mimetype": "text/x-python",
   "name": "python",
   "nbconvert_exporter": "python",
   "pygments_lexer": "ipython3",
   "version": "3.10.9"
  }
 },
 "nbformat": 4,
 "nbformat_minor": 5
}
