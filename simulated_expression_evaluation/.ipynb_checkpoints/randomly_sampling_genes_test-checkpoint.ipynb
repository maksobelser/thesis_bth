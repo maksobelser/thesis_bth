{
 "cells": [
  {
   "cell_type": "code",
   "execution_count": null,
   "id": "0086fe60-197c-4491-9065-726b18b8548c",
   "metadata": {},
   "outputs": [],
   "source": [
    "randomply sampling test"
   ]
  }
 ],
 "metadata": {
  "kernelspec": {
   "display_name": "Python 3 (ipykernel)",
   "language": "python",
   "name": "python3"
  },
  "language_info": {
   "name": ""
  }
 },
 "nbformat": 4,
 "nbformat_minor": 5
}
